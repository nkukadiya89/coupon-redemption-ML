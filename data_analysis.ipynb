{
 "cells": [
  {
   "cell_type": "markdown",
   "metadata": {},
   "source": [
    "# Import all the libraries"
   ]
  },
  {
   "cell_type": "markdown",
   "metadata": {},
   "source": [
    "Basic"
   ]
  },
  {
   "cell_type": "code",
   "execution_count": 1,
   "metadata": {},
   "outputs": [],
   "source": [
    "import numpy as np         \n",
    "import pandas as pd  "
   ]
  },
  {
   "cell_type": "markdown",
   "metadata": {},
   "source": [
    "Visualization"
   ]
  },
  {
   "cell_type": "code",
   "execution_count": 2,
   "metadata": {},
   "outputs": [],
   "source": [
    "import matplotlib.pyplot as plt\n",
    "%matplotlib inline\n",
    "import seaborn as sns\n",
    "sns.set_style('darkgrid')"
   ]
  },
  {
   "cell_type": "markdown",
   "metadata": {},
   "source": [
    "Train Test split for training and testing of data"
   ]
  },
  {
   "cell_type": "code",
   "execution_count": 3,
   "metadata": {},
   "outputs": [],
   "source": [
    "from sklearn.model_selection import train_test_split"
   ]
  },
  {
   "cell_type": "markdown",
   "metadata": {},
   "source": [
    "Mathematics and Algorithms"
   ]
  },
  {
   "cell_type": "code",
   "execution_count": 4,
   "metadata": {},
   "outputs": [],
   "source": [
    "#function to get a mode of a dataset\n",
    "from statistics import mode\n",
    "\n",
    "#normalizing dataset\n",
    "from sklearn.preprocessing import StandardScaler\n",
    "from sklearn.ensemble import RandomForestClassifier\n",
    "from sklearn.model_selection import cross_val_score\n",
    "\n",
    "#For resampling process to change the ratio of imbalanced ratio of the classes testing various ratios\n",
    "from sklearn.metrics import roc_auc_score, roc_curve, auc\n",
    "from sklearn.linear_model import LogisticRegression\n",
    "\n",
    "#resampling\n",
    "from imblearn.over_sampling import SMOTE #Synthetic Minority Oversampling Technique"
   ]
  },
  {
   "cell_type": "markdown",
   "metadata": {},
   "source": [
    "# Importing All the CSV files"
   ]
  },
  {
   "cell_type": "code",
   "execution_count": 5,
   "metadata": {},
   "outputs": [],
   "source": [
    "train = pd.read_csv('train.csv')\n",
    "campaign = pd.read_csv('campaign_data.csv')\n",
    "coupon = pd.read_csv('coupon_item_mapping.csv')\n",
    "demograph = pd.read_csv('customer_demographics.csv')\n",
    "transaction = pd.read_csv('customer_transaction_data.csv')\n",
    "item = pd.read_csv('item_data.csv')"
   ]
  },
  {
   "cell_type": "markdown",
   "metadata": {},
   "source": [
    "Making the dictionary to save all the data \"To update data and save them easily, a dictionary is created.\""
   ]
  },
  {
   "cell_type": "code",
   "execution_count": 6,
   "metadata": {},
   "outputs": [],
   "source": [
    "tables_data = {}\n",
    "tables_data['train'] = train\n",
    "tables_data['campaign'] = campaign\n",
    "tables_data['coupon'] = coupon \n",
    "tables_data['demograph'] = demograph\n",
    "tables_data['transaction'] = transaction \n",
    "tables_data['item'] = item"
   ]
  },
  {
   "cell_type": "markdown",
   "metadata": {},
   "source": [
    "# Data Analysis"
   ]
  },
  {
   "cell_type": "markdown",
   "metadata": {},
   "source": [
    "Train data"
   ]
  },
  {
   "cell_type": "code",
   "execution_count": 7,
   "metadata": {},
   "outputs": [
    {
     "data": {
      "text/html": [
       "<div>\n",
       "<style scoped>\n",
       "    .dataframe tbody tr th:only-of-type {\n",
       "        vertical-align: middle;\n",
       "    }\n",
       "\n",
       "    .dataframe tbody tr th {\n",
       "        vertical-align: top;\n",
       "    }\n",
       "\n",
       "    .dataframe thead th {\n",
       "        text-align: right;\n",
       "    }\n",
       "</style>\n",
       "<table border=\"1\" class=\"dataframe\">\n",
       "  <thead>\n",
       "    <tr style=\"text-align: right;\">\n",
       "      <th></th>\n",
       "      <th>id</th>\n",
       "      <th>campaign_id</th>\n",
       "      <th>coupon_id</th>\n",
       "      <th>customer_id</th>\n",
       "      <th>redemption_status</th>\n",
       "    </tr>\n",
       "  </thead>\n",
       "  <tbody>\n",
       "    <tr>\n",
       "      <th>0</th>\n",
       "      <td>1</td>\n",
       "      <td>13</td>\n",
       "      <td>27</td>\n",
       "      <td>1053</td>\n",
       "      <td>0</td>\n",
       "    </tr>\n",
       "    <tr>\n",
       "      <th>1</th>\n",
       "      <td>2</td>\n",
       "      <td>13</td>\n",
       "      <td>116</td>\n",
       "      <td>48</td>\n",
       "      <td>0</td>\n",
       "    </tr>\n",
       "    <tr>\n",
       "      <th>2</th>\n",
       "      <td>6</td>\n",
       "      <td>9</td>\n",
       "      <td>635</td>\n",
       "      <td>205</td>\n",
       "      <td>0</td>\n",
       "    </tr>\n",
       "    <tr>\n",
       "      <th>3</th>\n",
       "      <td>7</td>\n",
       "      <td>13</td>\n",
       "      <td>644</td>\n",
       "      <td>1050</td>\n",
       "      <td>0</td>\n",
       "    </tr>\n",
       "    <tr>\n",
       "      <th>4</th>\n",
       "      <td>9</td>\n",
       "      <td>8</td>\n",
       "      <td>1017</td>\n",
       "      <td>1489</td>\n",
       "      <td>0</td>\n",
       "    </tr>\n",
       "    <tr>\n",
       "      <th>5</th>\n",
       "      <td>11</td>\n",
       "      <td>11</td>\n",
       "      <td>795</td>\n",
       "      <td>793</td>\n",
       "      <td>0</td>\n",
       "    </tr>\n",
       "    <tr>\n",
       "      <th>6</th>\n",
       "      <td>14</td>\n",
       "      <td>9</td>\n",
       "      <td>444</td>\n",
       "      <td>590</td>\n",
       "      <td>0</td>\n",
       "    </tr>\n",
       "    <tr>\n",
       "      <th>7</th>\n",
       "      <td>15</td>\n",
       "      <td>29</td>\n",
       "      <td>538</td>\n",
       "      <td>368</td>\n",
       "      <td>0</td>\n",
       "    </tr>\n",
       "    <tr>\n",
       "      <th>8</th>\n",
       "      <td>17</td>\n",
       "      <td>30</td>\n",
       "      <td>857</td>\n",
       "      <td>523</td>\n",
       "      <td>0</td>\n",
       "    </tr>\n",
       "    <tr>\n",
       "      <th>9</th>\n",
       "      <td>19</td>\n",
       "      <td>2</td>\n",
       "      <td>559</td>\n",
       "      <td>679</td>\n",
       "      <td>0</td>\n",
       "    </tr>\n",
       "    <tr>\n",
       "      <th>10</th>\n",
       "      <td>20</td>\n",
       "      <td>9</td>\n",
       "      <td>575</td>\n",
       "      <td>108</td>\n",
       "      <td>0</td>\n",
       "    </tr>\n",
       "  </tbody>\n",
       "</table>\n",
       "</div>"
      ],
      "text/plain": [
       "    id  campaign_id  coupon_id  customer_id  redemption_status\n",
       "0    1           13         27         1053                  0\n",
       "1    2           13        116           48                  0\n",
       "2    6            9        635          205                  0\n",
       "3    7           13        644         1050                  0\n",
       "4    9            8       1017         1489                  0\n",
       "5   11           11        795          793                  0\n",
       "6   14            9        444          590                  0\n",
       "7   15           29        538          368                  0\n",
       "8   17           30        857          523                  0\n",
       "9   19            2        559          679                  0\n",
       "10  20            9        575          108                  0"
      ]
     },
     "execution_count": 7,
     "metadata": {},
     "output_type": "execute_result"
    }
   ],
   "source": [
    "train.head(11) #Gives the first 10 values of data"
   ]
  },
  {
   "cell_type": "code",
   "execution_count": 8,
   "metadata": {},
   "outputs": [
    {
     "name": "stdout",
     "output_type": "stream",
     "text": [
      "<class 'pandas.core.frame.DataFrame'>\n",
      "RangeIndex: 78369 entries, 0 to 78368\n",
      "Data columns (total 5 columns):\n",
      " #   Column             Non-Null Count  Dtype\n",
      "---  ------             --------------  -----\n",
      " 0   id                 78369 non-null  int64\n",
      " 1   campaign_id        78369 non-null  int64\n",
      " 2   coupon_id          78369 non-null  int64\n",
      " 3   customer_id        78369 non-null  int64\n",
      " 4   redemption_status  78369 non-null  int64\n",
      "dtypes: int64(5)\n",
      "memory usage: 3.0 MB\n"
     ]
    }
   ],
   "source": [
    "train.info() #Gives the information about train_data"
   ]
  },
  {
   "cell_type": "code",
   "execution_count": 9,
   "metadata": {},
   "outputs": [
    {
     "data": {
      "text/plain": [
       "18"
      ]
     },
     "execution_count": 9,
     "metadata": {},
     "output_type": "execute_result"
    }
   ],
   "source": [
    "len(train.campaign_id.unique()) #collect all the id and give exect number and length"
   ]
  },
  {
   "cell_type": "code",
   "execution_count": 10,
   "metadata": {},
   "outputs": [
    {
     "data": {
      "text/plain": [
       "0    77640\n",
       "1      729\n",
       "Name: redemption_status, dtype: int64"
      ]
     },
     "execution_count": 10,
     "metadata": {},
     "output_type": "execute_result"
    }
   ],
   "source": [
    "D = train.redemption_status.value_counts() #Gives the count of 0's and 1's\n",
    "D"
   ]
  },
  {
   "cell_type": "code",
   "execution_count": 11,
   "metadata": {},
   "outputs": [
    {
     "data": {
      "text/plain": [
       "Text(0.5, 0, 'class')"
      ]
     },
     "execution_count": 11,
     "metadata": {},
     "output_type": "execute_result"
    },
    {
     "data": {
      "image/png": "[encoded data removed]",
      "text/plain": [
       "<Figure size 432x288 with 1 Axes>"
      ]
     },
     "metadata": {},
     "output_type": "display_data"
    }
   ],
   "source": [
    "D.plot.bar()  #Graph\n",
    "plt.title('redemption_status')\n",
    "plt.ylabel('Total Coupan count')\n",
    "plt.xlabel('class')"
   ]
  },
  {
   "cell_type": "code",
   "execution_count": 12,
   "metadata": {},
   "outputs": [
    {
     "data": {
      "text/plain": [
       "0.930214753282548"
      ]
     },
     "execution_count": 12,
     "metadata": {},
     "output_type": "execute_result"
    }
   ],
   "source": [
    "729/(78369)*100  #Getting Percentage of Redemption_status"
   ]
  },
  {
   "cell_type": "markdown",
   "metadata": {},
   "source": [
    "We get 0.93% of coupan redemption_status"
   ]
  },
  {
   "cell_type": "markdown",
   "metadata": {},
   "source": [
    "As we can see that data is havily tipped to one side we have to use either OVER or UNDER sampling"
   ]
  },
  {
   "cell_type": "markdown",
   "metadata": {},
   "source": [
    "if we have to make class 0 data as class 1 to fit the orignal data we use (Under Sampling)\n",
    "if we have to make class 1 data as class 0 to fit the orignal data we use (Over Sampling)"
   ]
  },
  {
   "cell_type": "markdown",
   "metadata": {},
   "source": [
    "Let us see each campaign have unique set of coupons or do coupons overlap in different campaigns"
   ]
  },
  {
   "cell_type": "code",
   "execution_count": 13,
   "metadata": {},
   "outputs": [],
   "source": [
    "coupon_use = {}\n",
    "for coupons in train.coupon_id.unique():\n",
    "    camp =  len(train[train.coupon_id==coupons].campaign_id.unique())  #camp = number of camp use the coupon\n",
    "    if camp in coupon_use.keys():        #collect coupon ids that were used camp times\n",
    "         coupon_use[camp].append(coupons)\n",
    "    else:\n",
    "         coupon_use[camp] = [coupons]"
   ]
  },
  {
   "cell_type": "code",
   "execution_count": 14,
   "metadata": {},
   "outputs": [
    {
     "data": {
      "image/png": "[encoded data removed]",
      "text/plain": [
       "<Figure size 432x288 with 1 Axes>"
      ]
     },
     "metadata": {},
     "output_type": "display_data"
    }
   ],
   "source": [
    "coupon_freq = {}  #coupon_frequency\n",
    "\n",
    "for camp in coupon_use.keys():\n",
    "    coupon_freq[camp]= len(coupon_use[camp])/len(train.coupon_id.unique())*100\n",
    "\n",
    "plt.bar(coupon_freq.keys(),coupon_freq.values())\n",
    "\n",
    "# Text on the top of each barplot\n",
    "label = [len(x) for x in coupon_use.values()]\n",
    "x_loc = np.array([x for x in coupon_freq.keys()])-0.2\n",
    "y_loc = np.array([x for x in coupon_freq.values()]) + 0.1\n",
    "for i in range(5):\n",
    "    plt.text(x = x_loc[i] , y = y_loc[i], s = label[i], size = 10)\n",
    "plt.title('The number of campagians that each coupon was used'.title())\n",
    "plt.ylabel('% of total coupons(coupon counts on each bar)'.title())\n",
    "plt.xlabel('number of campaigns'.title())\n",
    "plt.show()"
   ]
  },
  {
   "cell_type": "markdown",
   "metadata": {},
   "source": [
    "Campaign Data    "
   ]
  },
  {
   "cell_type": "code",
   "execution_count": 15,
   "metadata": {},
   "outputs": [
    {
     "data": {
      "text/html": [
       "<div>\n",
       "<style scoped>\n",
       "    .dataframe tbody tr th:only-of-type {\n",
       "        vertical-align: middle;\n",
       "    }\n",
       "\n",
       "    .dataframe tbody tr th {\n",
       "        vertical-align: top;\n",
       "    }\n",
       "\n",
       "    .dataframe thead th {\n",
       "        text-align: right;\n",
       "    }\n",
       "</style>\n",
       "<table border=\"1\" class=\"dataframe\">\n",
       "  <thead>\n",
       "    <tr style=\"text-align: right;\">\n",
       "      <th></th>\n",
       "      <th>campaign_id</th>\n",
       "      <th>campaign_type</th>\n",
       "      <th>start_date</th>\n",
       "      <th>end_date</th>\n",
       "    </tr>\n",
       "  </thead>\n",
       "  <tbody>\n",
       "    <tr>\n",
       "      <th>0</th>\n",
       "      <td>24</td>\n",
       "      <td>Y</td>\n",
       "      <td>21/10/13</td>\n",
       "      <td>20/12/13</td>\n",
       "    </tr>\n",
       "    <tr>\n",
       "      <th>1</th>\n",
       "      <td>25</td>\n",
       "      <td>Y</td>\n",
       "      <td>21/10/13</td>\n",
       "      <td>22/11/13</td>\n",
       "    </tr>\n",
       "    <tr>\n",
       "      <th>2</th>\n",
       "      <td>20</td>\n",
       "      <td>Y</td>\n",
       "      <td>07/09/13</td>\n",
       "      <td>16/11/13</td>\n",
       "    </tr>\n",
       "    <tr>\n",
       "      <th>3</th>\n",
       "      <td>23</td>\n",
       "      <td>Y</td>\n",
       "      <td>08/10/13</td>\n",
       "      <td>15/11/13</td>\n",
       "    </tr>\n",
       "    <tr>\n",
       "      <th>4</th>\n",
       "      <td>21</td>\n",
       "      <td>Y</td>\n",
       "      <td>16/09/13</td>\n",
       "      <td>18/10/13</td>\n",
       "    </tr>\n",
       "    <tr>\n",
       "      <th>5</th>\n",
       "      <td>22</td>\n",
       "      <td>X</td>\n",
       "      <td>16/09/13</td>\n",
       "      <td>18/10/13</td>\n",
       "    </tr>\n",
       "    <tr>\n",
       "      <th>6</th>\n",
       "      <td>18</td>\n",
       "      <td>X</td>\n",
       "      <td>10/08/13</td>\n",
       "      <td>04/10/13</td>\n",
       "    </tr>\n",
       "    <tr>\n",
       "      <th>7</th>\n",
       "      <td>19</td>\n",
       "      <td>Y</td>\n",
       "      <td>26/08/13</td>\n",
       "      <td>27/09/13</td>\n",
       "    </tr>\n",
       "    <tr>\n",
       "      <th>8</th>\n",
       "      <td>17</td>\n",
       "      <td>Y</td>\n",
       "      <td>29/07/13</td>\n",
       "      <td>30/08/13</td>\n",
       "    </tr>\n",
       "    <tr>\n",
       "      <th>9</th>\n",
       "      <td>16</td>\n",
       "      <td>Y</td>\n",
       "      <td>15/07/13</td>\n",
       "      <td>16/08/13</td>\n",
       "    </tr>\n",
       "    <tr>\n",
       "      <th>10</th>\n",
       "      <td>13</td>\n",
       "      <td>X</td>\n",
       "      <td>19/05/13</td>\n",
       "      <td>05/07/13</td>\n",
       "    </tr>\n",
       "  </tbody>\n",
       "</table>\n",
       "</div>"
      ],
      "text/plain": [
       "    campaign_id campaign_type start_date  end_date\n",
       "0            24             Y   21/10/13  20/12/13\n",
       "1            25             Y   21/10/13  22/11/13\n",
       "2            20             Y   07/09/13  16/11/13\n",
       "3            23             Y   08/10/13  15/11/13\n",
       "4            21             Y   16/09/13  18/10/13\n",
       "5            22             X   16/09/13  18/10/13\n",
       "6            18             X   10/08/13  04/10/13\n",
       "7            19             Y   26/08/13  27/09/13\n",
       "8            17             Y   29/07/13  30/08/13\n",
       "9            16             Y   15/07/13  16/08/13\n",
       "10           13             X   19/05/13  05/07/13"
      ]
     },
     "execution_count": 15,
     "metadata": {},
     "output_type": "execute_result"
    }
   ],
   "source": [
    "campaign.head(11) #Gives the first 10 values of data"
   ]
  },
  {
   "cell_type": "code",
   "execution_count": 16,
   "metadata": {},
   "outputs": [
    {
     "name": "stdout",
     "output_type": "stream",
     "text": [
      "<class 'pandas.core.frame.DataFrame'>\n",
      "RangeIndex: 28 entries, 0 to 27\n",
      "Data columns (total 4 columns):\n",
      " #   Column         Non-Null Count  Dtype \n",
      "---  ------         --------------  ----- \n",
      " 0   campaign_id    28 non-null     int64 \n",
      " 1   campaign_type  28 non-null     object\n",
      " 2   start_date     28 non-null     object\n",
      " 3   end_date       28 non-null     object\n",
      "dtypes: int64(1), object(3)\n",
      "memory usage: 1.0+ KB\n"
     ]
    }
   ],
   "source": [
    "campaign.info() #Gives information"
   ]
  },
  {
   "cell_type": "code",
   "execution_count": 17,
   "metadata": {},
   "outputs": [
    {
     "data": {
      "text/plain": [
       "28"
      ]
     },
     "execution_count": 17,
     "metadata": {},
     "output_type": "execute_result"
    }
   ],
   "source": [
    "len(campaign.campaign_id.unique()) #Gives all unoque values"
   ]
  },
  {
   "cell_type": "markdown",
   "metadata": {},
   "source": [
    "There are 28 campaign"
   ]
  },
  {
   "cell_type": "code",
   "execution_count": 18,
   "metadata": {},
   "outputs": [
    {
     "data": {
      "text/plain": [
       "Y    22\n",
       "X     6\n",
       "Name: campaign_type, dtype: int64"
      ]
     },
     "execution_count": 18,
     "metadata": {},
     "output_type": "execute_result"
    }
   ],
   "source": [
    "D = campaign.campaign_type.value_counts() #it counts X and Y values\n",
    "D"
   ]
  },
  {
   "cell_type": "code",
   "execution_count": 19,
   "metadata": {},
   "outputs": [
    {
     "data": {
      "text/plain": [
       "<matplotlib.axes._subplots.AxesSubplot at 0x7fe46fcb3250>"
      ]
     },
     "execution_count": 19,
     "metadata": {},
     "output_type": "execute_result"
    },
    {
     "data": {
      "image/png": "[encoded data removed]",
      "text/plain": [
       "<Figure size 432x288 with 1 Axes>"
      ]
     },
     "metadata": {},
     "output_type": "display_data"
    }
   ],
   "source": [
    "D.plot.pie() #graph"
   ]
  },
  {
   "cell_type": "markdown",
   "metadata": {},
   "source": [
    "Coupan Data"
   ]
  },
  {
   "cell_type": "code",
   "execution_count": 20,
   "metadata": {},
   "outputs": [
    {
     "data": {
      "text/html": [
       "<div>\n",
       "<style scoped>\n",
       "    .dataframe tbody tr th:only-of-type {\n",
       "        vertical-align: middle;\n",
       "    }\n",
       "\n",
       "    .dataframe tbody tr th {\n",
       "        vertical-align: top;\n",
       "    }\n",
       "\n",
       "    .dataframe thead th {\n",
       "        text-align: right;\n",
       "    }\n",
       "</style>\n",
       "<table border=\"1\" class=\"dataframe\">\n",
       "  <thead>\n",
       "    <tr style=\"text-align: right;\">\n",
       "      <th></th>\n",
       "      <th>coupon_id</th>\n",
       "      <th>item_id</th>\n",
       "    </tr>\n",
       "  </thead>\n",
       "  <tbody>\n",
       "    <tr>\n",
       "      <th>0</th>\n",
       "      <td>105</td>\n",
       "      <td>37</td>\n",
       "    </tr>\n",
       "    <tr>\n",
       "      <th>1</th>\n",
       "      <td>107</td>\n",
       "      <td>75</td>\n",
       "    </tr>\n",
       "    <tr>\n",
       "      <th>2</th>\n",
       "      <td>494</td>\n",
       "      <td>76</td>\n",
       "    </tr>\n",
       "    <tr>\n",
       "      <th>3</th>\n",
       "      <td>522</td>\n",
       "      <td>77</td>\n",
       "    </tr>\n",
       "    <tr>\n",
       "      <th>4</th>\n",
       "      <td>518</td>\n",
       "      <td>77</td>\n",
       "    </tr>\n",
       "    <tr>\n",
       "      <th>5</th>\n",
       "      <td>520</td>\n",
       "      <td>77</td>\n",
       "    </tr>\n",
       "    <tr>\n",
       "      <th>6</th>\n",
       "      <td>529</td>\n",
       "      <td>77</td>\n",
       "    </tr>\n",
       "    <tr>\n",
       "      <th>7</th>\n",
       "      <td>524</td>\n",
       "      <td>77</td>\n",
       "    </tr>\n",
       "    <tr>\n",
       "      <th>8</th>\n",
       "      <td>522</td>\n",
       "      <td>81</td>\n",
       "    </tr>\n",
       "    <tr>\n",
       "      <th>9</th>\n",
       "      <td>518</td>\n",
       "      <td>81</td>\n",
       "    </tr>\n",
       "    <tr>\n",
       "      <th>10</th>\n",
       "      <td>520</td>\n",
       "      <td>81</td>\n",
       "    </tr>\n",
       "  </tbody>\n",
       "</table>\n",
       "</div>"
      ],
      "text/plain": [
       "    coupon_id  item_id\n",
       "0         105       37\n",
       "1         107       75\n",
       "2         494       76\n",
       "3         522       77\n",
       "4         518       77\n",
       "5         520       77\n",
       "6         529       77\n",
       "7         524       77\n",
       "8         522       81\n",
       "9         518       81\n",
       "10        520       81"
      ]
     },
     "execution_count": 20,
     "metadata": {},
     "output_type": "execute_result"
    }
   ],
   "source": [
    "coupon.head(11)  #Gives the first 10 values of data"
   ]
  },
  {
   "cell_type": "code",
   "execution_count": 21,
   "metadata": {},
   "outputs": [
    {
     "name": "stdout",
     "output_type": "stream",
     "text": [
      "<class 'pandas.core.frame.DataFrame'>\n",
      "RangeIndex: 92663 entries, 0 to 92662\n",
      "Data columns (total 2 columns):\n",
      " #   Column     Non-Null Count  Dtype\n",
      "---  ------     --------------  -----\n",
      " 0   coupon_id  92663 non-null  int64\n",
      " 1   item_id    92663 non-null  int64\n",
      "dtypes: int64(2)\n",
      "memory usage: 1.4 MB\n"
     ]
    }
   ],
   "source": [
    "coupon.info() #it gives information"
   ]
  },
  {
   "cell_type": "code",
   "execution_count": 22,
   "metadata": {},
   "outputs": [
    {
     "data": {
      "text/plain": [
       "53          1\n",
       "929         1\n",
       "54          1\n",
       "1013        1\n",
       "1086        1\n",
       "        ...  \n",
       "33       4394\n",
       "31       4873\n",
       "22       4947\n",
       "23      11813\n",
       "32      11814\n",
       "Name: coupon_id, Length: 1116, dtype: int64"
      ]
     },
     "execution_count": 22,
     "metadata": {},
     "output_type": "execute_result"
    }
   ],
   "source": [
    "coupon.coupon_id.value_counts().sort_values() #it count all coupan id and make it unique and count number in ascending"
   ]
  },
  {
   "cell_type": "code",
   "execution_count": 23,
   "metadata": {},
   "outputs": [
    {
     "data": {
      "text/plain": [
       "36289"
      ]
     },
     "execution_count": 23,
     "metadata": {},
     "output_type": "execute_result"
    }
   ],
   "source": [
    "len(coupon.item_id.unique()) # find length of item_id"
   ]
  },
  {
   "cell_type": "code",
   "execution_count": 24,
   "metadata": {},
   "outputs": [
    {
     "data": {
      "text/plain": [
       "1116"
      ]
     },
     "execution_count": 24,
     "metadata": {},
     "output_type": "execute_result"
    }
   ],
   "source": [
    "len(coupon.coupon_id.unique()) # find length of coupon_id"
   ]
  },
  {
   "cell_type": "markdown",
   "metadata": {},
   "source": [
    "As we can see there are coupan that are used by multiple items."
   ]
  },
  {
   "cell_type": "markdown",
   "metadata": {},
   "source": [
    "Customer Demographics"
   ]
  },
  {
   "cell_type": "code",
   "execution_count": 25,
   "metadata": {},
   "outputs": [
    {
     "data": {
      "text/html": [
       "<div>\n",
       "<style scoped>\n",
       "    .dataframe tbody tr th:only-of-type {\n",
       "        vertical-align: middle;\n",
       "    }\n",
       "\n",
       "    .dataframe tbody tr th {\n",
       "        vertical-align: top;\n",
       "    }\n",
       "\n",
       "    .dataframe thead th {\n",
       "        text-align: right;\n",
       "    }\n",
       "</style>\n",
       "<table border=\"1\" class=\"dataframe\">\n",
       "  <thead>\n",
       "    <tr style=\"text-align: right;\">\n",
       "      <th></th>\n",
       "      <th>customer_id</th>\n",
       "      <th>age_range</th>\n",
       "      <th>marital_status</th>\n",
       "      <th>rented</th>\n",
       "      <th>family_size</th>\n",
       "      <th>no_of_children</th>\n",
       "      <th>income_bracket</th>\n",
       "    </tr>\n",
       "  </thead>\n",
       "  <tbody>\n",
       "    <tr>\n",
       "      <th>0</th>\n",
       "      <td>1</td>\n",
       "      <td>70+</td>\n",
       "      <td>Married</td>\n",
       "      <td>0</td>\n",
       "      <td>2</td>\n",
       "      <td>NaN</td>\n",
       "      <td>4</td>\n",
       "    </tr>\n",
       "    <tr>\n",
       "      <th>1</th>\n",
       "      <td>6</td>\n",
       "      <td>46-55</td>\n",
       "      <td>Married</td>\n",
       "      <td>0</td>\n",
       "      <td>2</td>\n",
       "      <td>NaN</td>\n",
       "      <td>5</td>\n",
       "    </tr>\n",
       "    <tr>\n",
       "      <th>2</th>\n",
       "      <td>7</td>\n",
       "      <td>26-35</td>\n",
       "      <td>NaN</td>\n",
       "      <td>0</td>\n",
       "      <td>3</td>\n",
       "      <td>1</td>\n",
       "      <td>3</td>\n",
       "    </tr>\n",
       "    <tr>\n",
       "      <th>3</th>\n",
       "      <td>8</td>\n",
       "      <td>26-35</td>\n",
       "      <td>NaN</td>\n",
       "      <td>0</td>\n",
       "      <td>4</td>\n",
       "      <td>2</td>\n",
       "      <td>6</td>\n",
       "    </tr>\n",
       "    <tr>\n",
       "      <th>4</th>\n",
       "      <td>10</td>\n",
       "      <td>46-55</td>\n",
       "      <td>Single</td>\n",
       "      <td>0</td>\n",
       "      <td>1</td>\n",
       "      <td>NaN</td>\n",
       "      <td>5</td>\n",
       "    </tr>\n",
       "    <tr>\n",
       "      <th>5</th>\n",
       "      <td>11</td>\n",
       "      <td>70+</td>\n",
       "      <td>Single</td>\n",
       "      <td>0</td>\n",
       "      <td>2</td>\n",
       "      <td>NaN</td>\n",
       "      <td>1</td>\n",
       "    </tr>\n",
       "    <tr>\n",
       "      <th>6</th>\n",
       "      <td>12</td>\n",
       "      <td>46-55</td>\n",
       "      <td>Married</td>\n",
       "      <td>0</td>\n",
       "      <td>2</td>\n",
       "      <td>NaN</td>\n",
       "      <td>7</td>\n",
       "    </tr>\n",
       "    <tr>\n",
       "      <th>7</th>\n",
       "      <td>13</td>\n",
       "      <td>36-45</td>\n",
       "      <td>Single</td>\n",
       "      <td>0</td>\n",
       "      <td>1</td>\n",
       "      <td>NaN</td>\n",
       "      <td>2</td>\n",
       "    </tr>\n",
       "    <tr>\n",
       "      <th>8</th>\n",
       "      <td>14</td>\n",
       "      <td>26-35</td>\n",
       "      <td>Married</td>\n",
       "      <td>1</td>\n",
       "      <td>2</td>\n",
       "      <td>NaN</td>\n",
       "      <td>6</td>\n",
       "    </tr>\n",
       "    <tr>\n",
       "      <th>9</th>\n",
       "      <td>15</td>\n",
       "      <td>46-55</td>\n",
       "      <td>Married</td>\n",
       "      <td>0</td>\n",
       "      <td>2</td>\n",
       "      <td>NaN</td>\n",
       "      <td>6</td>\n",
       "    </tr>\n",
       "    <tr>\n",
       "      <th>10</th>\n",
       "      <td>17</td>\n",
       "      <td>36-45</td>\n",
       "      <td>NaN</td>\n",
       "      <td>0</td>\n",
       "      <td>1</td>\n",
       "      <td>NaN</td>\n",
       "      <td>5</td>\n",
       "    </tr>\n",
       "  </tbody>\n",
       "</table>\n",
       "</div>"
      ],
      "text/plain": [
       "    customer_id age_range marital_status  rented family_size no_of_children  \\\n",
       "0             1       70+        Married       0           2            NaN   \n",
       "1             6     46-55        Married       0           2            NaN   \n",
       "2             7     26-35            NaN       0           3              1   \n",
       "3             8     26-35            NaN       0           4              2   \n",
       "4            10     46-55         Single       0           1            NaN   \n",
       "5            11       70+         Single       0           2            NaN   \n",
       "6            12     46-55        Married       0           2            NaN   \n",
       "7            13     36-45         Single       0           1            NaN   \n",
       "8            14     26-35        Married       1           2            NaN   \n",
       "9            15     46-55        Married       0           2            NaN   \n",
       "10           17     36-45            NaN       0           1            NaN   \n",
       "\n",
       "    income_bracket  \n",
       "0                4  \n",
       "1                5  \n",
       "2                3  \n",
       "3                6  \n",
       "4                5  \n",
       "5                1  \n",
       "6                7  \n",
       "7                2  \n",
       "8                6  \n",
       "9                6  \n",
       "10               5  "
      ]
     },
     "execution_count": 25,
     "metadata": {},
     "output_type": "execute_result"
    }
   ],
   "source": [
    "demograph.head(11)  #Gives the first 10 values of data"
   ]
  },
  {
   "cell_type": "code",
   "execution_count": 26,
   "metadata": {},
   "outputs": [
    {
     "name": "stdout",
     "output_type": "stream",
     "text": [
      "<class 'pandas.core.frame.DataFrame'>\n",
      "RangeIndex: 760 entries, 0 to 759\n",
      "Data columns (total 7 columns):\n",
      " #   Column          Non-Null Count  Dtype \n",
      "---  ------          --------------  ----- \n",
      " 0   customer_id     760 non-null    int64 \n",
      " 1   age_range       760 non-null    object\n",
      " 2   marital_status  431 non-null    object\n",
      " 3   rented          760 non-null    int64 \n",
      " 4   family_size     760 non-null    object\n",
      " 5   no_of_children  222 non-null    object\n",
      " 6   income_bracket  760 non-null    int64 \n",
      "dtypes: int64(3), object(4)\n",
      "memory usage: 41.7+ KB\n"
     ]
    }
   ],
   "source": [
    "demograph.info()"
   ]
  },
  {
   "cell_type": "code",
   "execution_count": 27,
   "metadata": {},
   "outputs": [
    {
     "data": {
      "text/plain": [
       "2     303\n",
       "1     248\n",
       "3     104\n",
       "5+     57\n",
       "4      48\n",
       "Name: family_size, dtype: int64"
      ]
     },
     "execution_count": 27,
     "metadata": {},
     "output_type": "execute_result"
    }
   ],
   "source": [
    "demograph.family_size.value_counts() #count the size of family"
   ]
  },
  {
   "cell_type": "code",
   "execution_count": 28,
   "metadata": {},
   "outputs": [
    {
     "data": {
      "text/plain": [
       "Married    317\n",
       "Single     114\n",
       "Name: marital_status, dtype: int64"
      ]
     },
     "execution_count": 28,
     "metadata": {},
     "output_type": "execute_result"
    }
   ],
   "source": [
    "demograph.marital_status.value_counts() #count number of married and single customer"
   ]
  },
  {
   "cell_type": "code",
   "execution_count": 29,
   "metadata": {},
   "outputs": [
    {
     "data": {
      "text/plain": [
       "1     107\n",
       "3+     60\n",
       "2      55\n",
       "Name: no_of_children, dtype: int64"
      ]
     },
     "execution_count": 29,
     "metadata": {},
     "output_type": "execute_result"
    }
   ],
   "source": [
    "demograph.no_of_children.value_counts() #count the number of children "
   ]
  },
  {
   "cell_type": "markdown",
   "metadata": {},
   "source": [
    "Customer Transaction Data"
   ]
  },
  {
   "cell_type": "code",
   "execution_count": 30,
   "metadata": {},
   "outputs": [
    {
     "data": {
      "text/html": [
       "<div>\n",
       "<style scoped>\n",
       "    .dataframe tbody tr th:only-of-type {\n",
       "        vertical-align: middle;\n",
       "    }\n",
       "\n",
       "    .dataframe tbody tr th {\n",
       "        vertical-align: top;\n",
       "    }\n",
       "\n",
       "    .dataframe thead th {\n",
       "        text-align: right;\n",
       "    }\n",
       "</style>\n",
       "<table border=\"1\" class=\"dataframe\">\n",
       "  <thead>\n",
       "    <tr style=\"text-align: right;\">\n",
       "      <th></th>\n",
       "      <th>date</th>\n",
       "      <th>customer_id</th>\n",
       "      <th>item_id</th>\n",
       "      <th>quantity</th>\n",
       "      <th>selling_price</th>\n",
       "      <th>other_discount</th>\n",
       "      <th>coupon_discount</th>\n",
       "    </tr>\n",
       "  </thead>\n",
       "  <tbody>\n",
       "    <tr>\n",
       "      <th>0</th>\n",
       "      <td>2012-01-02</td>\n",
       "      <td>1501</td>\n",
       "      <td>26830</td>\n",
       "      <td>1</td>\n",
       "      <td>35.26</td>\n",
       "      <td>-10.69</td>\n",
       "      <td>0.0</td>\n",
       "    </tr>\n",
       "    <tr>\n",
       "      <th>1</th>\n",
       "      <td>2012-01-02</td>\n",
       "      <td>1501</td>\n",
       "      <td>54253</td>\n",
       "      <td>1</td>\n",
       "      <td>53.43</td>\n",
       "      <td>-13.89</td>\n",
       "      <td>0.0</td>\n",
       "    </tr>\n",
       "    <tr>\n",
       "      <th>2</th>\n",
       "      <td>2012-01-02</td>\n",
       "      <td>1501</td>\n",
       "      <td>31962</td>\n",
       "      <td>1</td>\n",
       "      <td>106.50</td>\n",
       "      <td>-14.25</td>\n",
       "      <td>0.0</td>\n",
       "    </tr>\n",
       "    <tr>\n",
       "      <th>3</th>\n",
       "      <td>2012-01-02</td>\n",
       "      <td>1501</td>\n",
       "      <td>33647</td>\n",
       "      <td>1</td>\n",
       "      <td>67.32</td>\n",
       "      <td>0.00</td>\n",
       "      <td>0.0</td>\n",
       "    </tr>\n",
       "    <tr>\n",
       "      <th>4</th>\n",
       "      <td>2012-01-02</td>\n",
       "      <td>1501</td>\n",
       "      <td>48199</td>\n",
       "      <td>1</td>\n",
       "      <td>71.24</td>\n",
       "      <td>-28.14</td>\n",
       "      <td>0.0</td>\n",
       "    </tr>\n",
       "    <tr>\n",
       "      <th>5</th>\n",
       "      <td>2012-01-02</td>\n",
       "      <td>1501</td>\n",
       "      <td>57397</td>\n",
       "      <td>1</td>\n",
       "      <td>71.24</td>\n",
       "      <td>-28.14</td>\n",
       "      <td>0.0</td>\n",
       "    </tr>\n",
       "    <tr>\n",
       "      <th>6</th>\n",
       "      <td>2012-01-02</td>\n",
       "      <td>857</td>\n",
       "      <td>12424</td>\n",
       "      <td>1</td>\n",
       "      <td>106.50</td>\n",
       "      <td>-14.25</td>\n",
       "      <td>0.0</td>\n",
       "    </tr>\n",
       "    <tr>\n",
       "      <th>7</th>\n",
       "      <td>2012-01-02</td>\n",
       "      <td>857</td>\n",
       "      <td>14930</td>\n",
       "      <td>1</td>\n",
       "      <td>110.07</td>\n",
       "      <td>0.00</td>\n",
       "      <td>0.0</td>\n",
       "    </tr>\n",
       "    <tr>\n",
       "      <th>8</th>\n",
       "      <td>2012-01-02</td>\n",
       "      <td>857</td>\n",
       "      <td>16657</td>\n",
       "      <td>1</td>\n",
       "      <td>89.05</td>\n",
       "      <td>-35.26</td>\n",
       "      <td>0.0</td>\n",
       "    </tr>\n",
       "    <tr>\n",
       "      <th>9</th>\n",
       "      <td>2012-01-02</td>\n",
       "      <td>67</td>\n",
       "      <td>10537</td>\n",
       "      <td>3</td>\n",
       "      <td>32.06</td>\n",
       "      <td>0.00</td>\n",
       "      <td>0.0</td>\n",
       "    </tr>\n",
       "    <tr>\n",
       "      <th>10</th>\n",
       "      <td>2012-01-02</td>\n",
       "      <td>67</td>\n",
       "      <td>19560</td>\n",
       "      <td>2</td>\n",
       "      <td>106.86</td>\n",
       "      <td>-2.85</td>\n",
       "      <td>0.0</td>\n",
       "    </tr>\n",
       "  </tbody>\n",
       "</table>\n",
       "</div>"
      ],
      "text/plain": [
       "          date  customer_id  item_id  quantity  selling_price  other_discount  \\\n",
       "0   2012-01-02         1501    26830         1          35.26          -10.69   \n",
       "1   2012-01-02         1501    54253         1          53.43          -13.89   \n",
       "2   2012-01-02         1501    31962         1         106.50          -14.25   \n",
       "3   2012-01-02         1501    33647         1          67.32            0.00   \n",
       "4   2012-01-02         1501    48199         1          71.24          -28.14   \n",
       "5   2012-01-02         1501    57397         1          71.24          -28.14   \n",
       "6   2012-01-02          857    12424         1         106.50          -14.25   \n",
       "7   2012-01-02          857    14930         1         110.07            0.00   \n",
       "8   2012-01-02          857    16657         1          89.05          -35.26   \n",
       "9   2012-01-02           67    10537         3          32.06            0.00   \n",
       "10  2012-01-02           67    19560         2         106.86           -2.85   \n",
       "\n",
       "    coupon_discount  \n",
       "0               0.0  \n",
       "1               0.0  \n",
       "2               0.0  \n",
       "3               0.0  \n",
       "4               0.0  \n",
       "5               0.0  \n",
       "6               0.0  \n",
       "7               0.0  \n",
       "8               0.0  \n",
       "9               0.0  \n",
       "10              0.0  "
      ]
     },
     "execution_count": 30,
     "metadata": {},
     "output_type": "execute_result"
    }
   ],
   "source": [
    "transaction.head(11)  #Gives the first 10 values of data"
   ]
  },
  {
   "cell_type": "code",
   "execution_count": 31,
   "metadata": {},
   "outputs": [
    {
     "name": "stdout",
     "output_type": "stream",
     "text": [
      "<class 'pandas.core.frame.DataFrame'>\n",
      "RangeIndex: 1324566 entries, 0 to 1324565\n",
      "Data columns (total 7 columns):\n",
      " #   Column           Non-Null Count    Dtype  \n",
      "---  ------           --------------    -----  \n",
      " 0   date             1324566 non-null  object \n",
      " 1   customer_id      1324566 non-null  int64  \n",
      " 2   item_id          1324566 non-null  int64  \n",
      " 3   quantity         1324566 non-null  int64  \n",
      " 4   selling_price    1324566 non-null  float64\n",
      " 5   other_discount   1324566 non-null  float64\n",
      " 6   coupon_discount  1324566 non-null  float64\n",
      "dtypes: float64(3), int64(3), object(1)\n",
      "memory usage: 70.7+ MB\n"
     ]
    }
   ],
   "source": [
    "transaction.info() #gives the information"
   ]
  },
  {
   "cell_type": "code",
   "execution_count": 32,
   "metadata": {},
   "outputs": [
    {
     "data": {
      "text/plain": [
       "1555    4522\n",
       "711     4173\n",
       "464     4134\n",
       "1475    3945\n",
       "1011    3862\n",
       "        ... \n",
       "1150      87\n",
       "406       83\n",
       "1180      83\n",
       "907       80\n",
       "1326      79\n",
       "Name: customer_id, Length: 1582, dtype: int64"
      ]
     },
     "execution_count": 32,
     "metadata": {},
     "output_type": "execute_result"
    }
   ],
   "source": [
    "transaction.customer_id.value_counts() #count customer_id same number "
   ]
  },
  {
   "cell_type": "code",
   "execution_count": 33,
   "metadata": {},
   "outputs": [
    {
     "data": {
      "text/plain": [
       "1        1054059\n",
       "2         188907\n",
       "3          33094\n",
       "4          18745\n",
       "5           5382\n",
       "          ...   \n",
       "25030          1\n",
       "4552           1\n",
       "17208          1\n",
       "8654           1\n",
       "6147           1\n",
       "Name: quantity, Length: 9252, dtype: int64"
      ]
     },
     "execution_count": 33,
     "metadata": {},
     "output_type": "execute_result"
    }
   ],
   "source": [
    "transaction.quantity.value_counts() # count the quantity of transection"
   ]
  },
  {
   "cell_type": "code",
   "execution_count": 34,
   "metadata": {},
   "outputs": [
    {
     "data": {
      "text/plain": [
       "21286"
      ]
     },
     "execution_count": 34,
     "metadata": {},
     "output_type": "execute_result"
    }
   ],
   "source": [
    "len(transaction[transaction.coupon_discount<0]) # gives the discount number "
   ]
  },
  {
   "cell_type": "code",
   "execution_count": 35,
   "metadata": {},
   "outputs": [
    {
     "data": {
      "text/plain": [
       "1.607016939888235"
      ]
     },
     "execution_count": 35,
     "metadata": {},
     "output_type": "execute_result"
    }
   ],
   "source": [
    "21286/1324566*100 #percentage"
   ]
  },
  {
   "cell_type": "markdown",
   "metadata": {},
   "source": [
    "There are 1.6% of transactions that received coupon discounts."
   ]
  },
  {
   "cell_type": "code",
   "execution_count": 36,
   "metadata": {},
   "outputs": [],
   "source": [
    "#Inserting a new column to know if the coupon was used or not\n",
    "transaction['coupon_used'] = transaction.coupon_discount.apply(lambda x: 1 if x !=0 else 0)"
   ]
  },
  {
   "cell_type": "code",
   "execution_count": 37,
   "metadata": {
    "scrolled": false
   },
   "outputs": [
    {
     "data": {
      "text/html": [
       "<div>\n",
       "<style scoped>\n",
       "    .dataframe tbody tr th:only-of-type {\n",
       "        vertical-align: middle;\n",
       "    }\n",
       "\n",
       "    .dataframe tbody tr th {\n",
       "        vertical-align: top;\n",
       "    }\n",
       "\n",
       "    .dataframe thead th {\n",
       "        text-align: right;\n",
       "    }\n",
       "</style>\n",
       "<table border=\"1\" class=\"dataframe\">\n",
       "  <thead>\n",
       "    <tr style=\"text-align: right;\">\n",
       "      <th></th>\n",
       "      <th>date</th>\n",
       "      <th>customer_id</th>\n",
       "      <th>item_id</th>\n",
       "      <th>quantity</th>\n",
       "      <th>selling_price</th>\n",
       "      <th>other_discount</th>\n",
       "      <th>coupon_discount</th>\n",
       "      <th>coupon_used</th>\n",
       "    </tr>\n",
       "  </thead>\n",
       "  <tbody>\n",
       "    <tr>\n",
       "      <th>0</th>\n",
       "      <td>2012-01-02</td>\n",
       "      <td>1501</td>\n",
       "      <td>26830</td>\n",
       "      <td>1</td>\n",
       "      <td>35.26</td>\n",
       "      <td>-10.69</td>\n",
       "      <td>0.0</td>\n",
       "      <td>0</td>\n",
       "    </tr>\n",
       "    <tr>\n",
       "      <th>1</th>\n",
       "      <td>2012-01-02</td>\n",
       "      <td>1501</td>\n",
       "      <td>54253</td>\n",
       "      <td>1</td>\n",
       "      <td>53.43</td>\n",
       "      <td>-13.89</td>\n",
       "      <td>0.0</td>\n",
       "      <td>0</td>\n",
       "    </tr>\n",
       "    <tr>\n",
       "      <th>2</th>\n",
       "      <td>2012-01-02</td>\n",
       "      <td>1501</td>\n",
       "      <td>31962</td>\n",
       "      <td>1</td>\n",
       "      <td>106.50</td>\n",
       "      <td>-14.25</td>\n",
       "      <td>0.0</td>\n",
       "      <td>0</td>\n",
       "    </tr>\n",
       "    <tr>\n",
       "      <th>3</th>\n",
       "      <td>2012-01-02</td>\n",
       "      <td>1501</td>\n",
       "      <td>33647</td>\n",
       "      <td>1</td>\n",
       "      <td>67.32</td>\n",
       "      <td>0.00</td>\n",
       "      <td>0.0</td>\n",
       "      <td>0</td>\n",
       "    </tr>\n",
       "    <tr>\n",
       "      <th>4</th>\n",
       "      <td>2012-01-02</td>\n",
       "      <td>1501</td>\n",
       "      <td>48199</td>\n",
       "      <td>1</td>\n",
       "      <td>71.24</td>\n",
       "      <td>-28.14</td>\n",
       "      <td>0.0</td>\n",
       "      <td>0</td>\n",
       "    </tr>\n",
       "  </tbody>\n",
       "</table>\n",
       "</div>"
      ],
      "text/plain": [
       "         date  customer_id  item_id  quantity  selling_price  other_discount  \\\n",
       "0  2012-01-02         1501    26830         1          35.26          -10.69   \n",
       "1  2012-01-02         1501    54253         1          53.43          -13.89   \n",
       "2  2012-01-02         1501    31962         1         106.50          -14.25   \n",
       "3  2012-01-02         1501    33647         1          67.32            0.00   \n",
       "4  2012-01-02         1501    48199         1          71.24          -28.14   \n",
       "\n",
       "   coupon_discount  coupon_used  \n",
       "0              0.0            0  \n",
       "1              0.0            0  \n",
       "2              0.0            0  \n",
       "3              0.0            0  \n",
       "4              0.0            0  "
      ]
     },
     "execution_count": 37,
     "metadata": {},
     "output_type": "execute_result"
    }
   ],
   "source": [
    "transaction.head()"
   ]
  },
  {
   "cell_type": "code",
   "execution_count": 38,
   "metadata": {},
   "outputs": [],
   "source": [
    "#Converting the date column into date time\n",
    "#Reset the index of the DataFrame, and use the default one instead.\n",
    "transaction['date'] = pd.to_datetime(transaction['date'])\n",
    "transaction = transaction.sort_values('date').reset_index(drop=True)"
   ]
  },
  {
   "cell_type": "code",
   "execution_count": 39,
   "metadata": {},
   "outputs": [],
   "source": [
    "#Creating 3 new columns from the date column\n",
    "transaction['day'] = transaction[\"date\"].apply(lambda x: x.day)\n",
    "transaction['dow'] = transaction[\"date\"].apply(lambda x: x.weekday())\n",
    "transaction['month'] = transaction[\"date\"].apply(lambda x: x.month)"
   ]
  },
  {
   "cell_type": "code",
   "execution_count": 40,
   "metadata": {},
   "outputs": [
    {
     "data": {
      "text/html": [
       "<div>\n",
       "<style scoped>\n",
       "    .dataframe tbody tr th:only-of-type {\n",
       "        vertical-align: middle;\n",
       "    }\n",
       "\n",
       "    .dataframe tbody tr th {\n",
       "        vertical-align: top;\n",
       "    }\n",
       "\n",
       "    .dataframe thead th {\n",
       "        text-align: right;\n",
       "    }\n",
       "</style>\n",
       "<table border=\"1\" class=\"dataframe\">\n",
       "  <thead>\n",
       "    <tr style=\"text-align: right;\">\n",
       "      <th></th>\n",
       "      <th>date</th>\n",
       "      <th>customer_id</th>\n",
       "      <th>item_id</th>\n",
       "      <th>quantity</th>\n",
       "      <th>selling_price</th>\n",
       "      <th>other_discount</th>\n",
       "      <th>coupon_discount</th>\n",
       "      <th>coupon_used</th>\n",
       "      <th>day</th>\n",
       "      <th>dow</th>\n",
       "      <th>month</th>\n",
       "    </tr>\n",
       "  </thead>\n",
       "  <tbody>\n",
       "    <tr>\n",
       "      <th>0</th>\n",
       "      <td>2012-01-02</td>\n",
       "      <td>1501</td>\n",
       "      <td>26830</td>\n",
       "      <td>1</td>\n",
       "      <td>35.26</td>\n",
       "      <td>-10.69</td>\n",
       "      <td>0.00</td>\n",
       "      <td>0</td>\n",
       "      <td>2</td>\n",
       "      <td>0</td>\n",
       "      <td>1</td>\n",
       "    </tr>\n",
       "    <tr>\n",
       "      <th>1</th>\n",
       "      <td>2012-01-02</td>\n",
       "      <td>464</td>\n",
       "      <td>20697</td>\n",
       "      <td>1</td>\n",
       "      <td>92.26</td>\n",
       "      <td>-21.37</td>\n",
       "      <td>-35.62</td>\n",
       "      <td>1</td>\n",
       "      <td>2</td>\n",
       "      <td>0</td>\n",
       "      <td>1</td>\n",
       "    </tr>\n",
       "    <tr>\n",
       "      <th>2</th>\n",
       "      <td>2012-01-02</td>\n",
       "      <td>464</td>\n",
       "      <td>20717</td>\n",
       "      <td>2</td>\n",
       "      <td>28.50</td>\n",
       "      <td>-27.78</td>\n",
       "      <td>0.00</td>\n",
       "      <td>0</td>\n",
       "      <td>2</td>\n",
       "      <td>0</td>\n",
       "      <td>1</td>\n",
       "    </tr>\n",
       "    <tr>\n",
       "      <th>3</th>\n",
       "      <td>2012-01-02</td>\n",
       "      <td>464</td>\n",
       "      <td>21008</td>\n",
       "      <td>1</td>\n",
       "      <td>35.26</td>\n",
       "      <td>-17.81</td>\n",
       "      <td>0.00</td>\n",
       "      <td>0</td>\n",
       "      <td>2</td>\n",
       "      <td>0</td>\n",
       "      <td>1</td>\n",
       "    </tr>\n",
       "    <tr>\n",
       "      <th>4</th>\n",
       "      <td>2012-01-02</td>\n",
       "      <td>464</td>\n",
       "      <td>22243</td>\n",
       "      <td>2</td>\n",
       "      <td>118.97</td>\n",
       "      <td>-22.80</td>\n",
       "      <td>0.00</td>\n",
       "      <td>0</td>\n",
       "      <td>2</td>\n",
       "      <td>0</td>\n",
       "      <td>1</td>\n",
       "    </tr>\n",
       "  </tbody>\n",
       "</table>\n",
       "</div>"
      ],
      "text/plain": [
       "        date  customer_id  item_id  quantity  selling_price  other_discount  \\\n",
       "0 2012-01-02         1501    26830         1          35.26          -10.69   \n",
       "1 2012-01-02          464    20697         1          92.26          -21.37   \n",
       "2 2012-01-02          464    20717         2          28.50          -27.78   \n",
       "3 2012-01-02          464    21008         1          35.26          -17.81   \n",
       "4 2012-01-02          464    22243         2         118.97          -22.80   \n",
       "\n",
       "   coupon_discount  coupon_used  day  dow  month  \n",
       "0             0.00            0    2    0      1  \n",
       "1           -35.62            1    2    0      1  \n",
       "2             0.00            0    2    0      1  \n",
       "3             0.00            0    2    0      1  \n",
       "4             0.00            0    2    0      1  "
      ]
     },
     "execution_count": 40,
     "metadata": {},
     "output_type": "execute_result"
    }
   ],
   "source": [
    "transaction.head()"
   ]
  },
  {
   "cell_type": "code",
   "execution_count": 41,
   "metadata": {
    "scrolled": true
   },
   "outputs": [
    {
     "data": {
      "text/plain": [
       "0    1303280\n",
       "1      21286\n",
       "Name: coupon_used, dtype: int64"
      ]
     },
     "execution_count": 41,
     "metadata": {},
     "output_type": "execute_result"
    }
   ],
   "source": [
    "transaction.coupon_used.value_counts()"
   ]
  },
  {
   "cell_type": "code",
   "execution_count": 42,
   "metadata": {},
   "outputs": [
    {
     "data": {
      "text/plain": [
       "array([    0.  ,   -35.62,   -14.25,   -26.71,   -21.02,   -19.59,\n",
       "         -80.14,    -8.9 ,   -17.81,  -102.94,   -10.69,   -21.37,\n",
       "         -71.24,   -12.47,  -178.1 ,  -106.86,   -53.43,   -35.26,\n",
       "         -12.11,  -213.72,   -56.64,   -28.14,  -569.92,   -44.52,\n",
       "         -62.33,   -49.87,   -53.07,   -37.4 ,   -32.06,   -24.93,\n",
       "        -213.36,   -17.45,  -355.84,  -142.12,   -39.18,   -40.96,\n",
       "        -109.71,  -142.48,    -7.12,   -88.69,  -427.44,   -45.95,\n",
       "         -89.05,   -16.03,  -113.63,  -106.5 ,   -70.53,   -31.35,\n",
       "        -117.55,   -58.77,   -60.2 ,   -78.36,  -128.23,   -23.51,\n",
       "         -79.79,   -28.5 ,   -92.26,  -177.74,   -47.73,  -554.96,\n",
       "         -27.07,    -5.34,  -108.64,   -95.11,  -319.87,   -90.83,\n",
       "        -498.32,   -30.28,  -284.6 ,   -70.88,  -124.67,  -152.81,\n",
       "         -60.55,   -91.9 ,  -356.2 ,  -512.57,  -184.16,  -113.27,\n",
       "        -117.19,  -184.87,  -160.29,  -249.34,   -95.82,   -55.21,\n",
       "         -42.74,  -195.55,   -94.39,   -97.96,   -23.15,   -27.78,\n",
       "        -110.42,   -42.39,  -127.88,   -30.63,  -277.48,   -69.1 ,\n",
       "         -78.01,  -199.12,  -248.98,   -23.87,   -64.12,   -41.32,\n",
       "         -38.47,   -43.46,   -89.41,  -211.23,  -169.91,  -111.85,\n",
       "         -48.09,   -82.64,  -284.96,  -177.39,   -47.37,  -134.64,\n",
       "         -46.31, -1068.24,   -63.76,  -320.22,   -49.51,   -67.32,\n",
       "        -120.75,  -103.3 ,   -59.49,  -334.12,  -234.38,   -38.83,\n",
       "         -42.03,  -712.4 ,  -641.16,  -509.01,  -102.59,  -266.79,\n",
       "        -135.  ,  -124.31,  -426.73,  -227.26,   -47.02,  -115.76,\n",
       "         -83.35,   -81.57,  -534.3 ,  -519.34,  -101.16,   -24.58,\n",
       "        -118.97,   -84.78,   -99.74,   -99.38,  -154.59,  -712.04,\n",
       "        -120.4 ,   -82.99,  -237.23,   -74.45,  -163.14,   -80.5 ,\n",
       "        -131.44,  -176.32,   -84.42,  -142.84,  -159.93,  -133.57,\n",
       "         -85.13,   -99.02,  -167.06,  -284.25,   -85.49, -1992.23,\n",
       "        -213.01,  -191.64,   -72.31,   -52.36,   -89.76,   -26.36,\n",
       "        -427.08,  -106.15,   -65.54,  -533.59,  -604.83,  -163.5 ,\n",
       "        -245.07,  -202.68,   -33.84,  -509.37,  -208.38,  -354.42,\n",
       "        -283.54,  -141.77,   -95.46,   -39.89,  -170.62,  -462.7 ,\n",
       "        -137.14,   -65.9 ,   -11.75,   -66.97,  -126.09,   -63.05,\n",
       "         -56.28,  -149.25,  -391.46,  -259.67,  -215.5 ,  -235.09,\n",
       "        -122.89,   -43.1 ,  -195.91,    -3.56,  -238.3 ,  -191.99,\n",
       "       -1211.08,   -62.69,  -267.15,   -44.88,  -298.85,   -70.17,\n",
       "        -320.58,  -219.42,  -366.53,   -13.89,   -24.22,  -236.87,\n",
       "        -747.66,  -125.38,  -102.23,  -179.52,  -206.6 ,  -136.78,\n",
       "        -105.79,  -112.92,   -96.17,   -31.7 ])"
      ]
     },
     "execution_count": 42,
     "metadata": {},
     "output_type": "execute_result"
    }
   ],
   "source": [
    "transaction.coupon_discount.unique()"
   ]
  },
  {
   "cell_type": "code",
   "execution_count": 43,
   "metadata": {},
   "outputs": [
    {
     "data": {
      "text/html": [
       "<div>\n",
       "<style scoped>\n",
       "    .dataframe tbody tr th:only-of-type {\n",
       "        vertical-align: middle;\n",
       "    }\n",
       "\n",
       "    .dataframe tbody tr th {\n",
       "        vertical-align: top;\n",
       "    }\n",
       "\n",
       "    .dataframe thead th {\n",
       "        text-align: right;\n",
       "    }\n",
       "</style>\n",
       "<table border=\"1\" class=\"dataframe\">\n",
       "  <thead>\n",
       "    <tr style=\"text-align: right;\">\n",
       "      <th></th>\n",
       "      <th>count</th>\n",
       "      <th>mean</th>\n",
       "      <th>std</th>\n",
       "      <th>min</th>\n",
       "      <th>25%</th>\n",
       "      <th>50%</th>\n",
       "      <th>75%</th>\n",
       "      <th>max</th>\n",
       "    </tr>\n",
       "  </thead>\n",
       "  <tbody>\n",
       "    <tr>\n",
       "      <th>customer_id</th>\n",
       "      <td>1324566.0</td>\n",
       "      <td>804.001972</td>\n",
       "      <td>457.336313</td>\n",
       "      <td>1.00</td>\n",
       "      <td>418.00</td>\n",
       "      <td>801.00</td>\n",
       "      <td>1198.00</td>\n",
       "      <td>1582.00</td>\n",
       "    </tr>\n",
       "    <tr>\n",
       "      <th>item_id</th>\n",
       "      <td>1324566.0</td>\n",
       "      <td>29519.030160</td>\n",
       "      <td>17908.064406</td>\n",
       "      <td>1.00</td>\n",
       "      <td>14684.00</td>\n",
       "      <td>26597.00</td>\n",
       "      <td>42405.75</td>\n",
       "      <td>74066.00</td>\n",
       "    </tr>\n",
       "    <tr>\n",
       "      <th>quantity</th>\n",
       "      <td>1324566.0</td>\n",
       "      <td>130.663340</td>\n",
       "      <td>1311.545447</td>\n",
       "      <td>1.00</td>\n",
       "      <td>1.00</td>\n",
       "      <td>1.00</td>\n",
       "      <td>1.00</td>\n",
       "      <td>89638.00</td>\n",
       "    </tr>\n",
       "    <tr>\n",
       "      <th>selling_price</th>\n",
       "      <td>1324566.0</td>\n",
       "      <td>114.603633</td>\n",
       "      <td>152.905303</td>\n",
       "      <td>0.36</td>\n",
       "      <td>49.16</td>\n",
       "      <td>78.01</td>\n",
       "      <td>124.31</td>\n",
       "      <td>17809.64</td>\n",
       "    </tr>\n",
       "    <tr>\n",
       "      <th>other_discount</th>\n",
       "      <td>1324566.0</td>\n",
       "      <td>-17.768707</td>\n",
       "      <td>37.888674</td>\n",
       "      <td>-3120.31</td>\n",
       "      <td>-23.15</td>\n",
       "      <td>-1.78</td>\n",
       "      <td>0.00</td>\n",
       "      <td>0.00</td>\n",
       "    </tr>\n",
       "    <tr>\n",
       "      <th>coupon_discount</th>\n",
       "      <td>1324566.0</td>\n",
       "      <td>-0.594898</td>\n",
       "      <td>7.069367</td>\n",
       "      <td>-1992.23</td>\n",
       "      <td>0.00</td>\n",
       "      <td>0.00</td>\n",
       "      <td>0.00</td>\n",
       "      <td>0.00</td>\n",
       "    </tr>\n",
       "    <tr>\n",
       "      <th>coupon_used</th>\n",
       "      <td>1324566.0</td>\n",
       "      <td>0.016070</td>\n",
       "      <td>0.125746</td>\n",
       "      <td>0.00</td>\n",
       "      <td>0.00</td>\n",
       "      <td>0.00</td>\n",
       "      <td>0.00</td>\n",
       "      <td>1.00</td>\n",
       "    </tr>\n",
       "    <tr>\n",
       "      <th>day</th>\n",
       "      <td>1324566.0</td>\n",
       "      <td>15.807896</td>\n",
       "      <td>8.706072</td>\n",
       "      <td>1.00</td>\n",
       "      <td>9.00</td>\n",
       "      <td>16.00</td>\n",
       "      <td>23.00</td>\n",
       "      <td>31.00</td>\n",
       "    </tr>\n",
       "    <tr>\n",
       "      <th>dow</th>\n",
       "      <td>1324566.0</td>\n",
       "      <td>3.067426</td>\n",
       "      <td>1.916515</td>\n",
       "      <td>0.00</td>\n",
       "      <td>1.00</td>\n",
       "      <td>3.00</td>\n",
       "      <td>5.00</td>\n",
       "      <td>6.00</td>\n",
       "    </tr>\n",
       "    <tr>\n",
       "      <th>month</th>\n",
       "      <td>1324566.0</td>\n",
       "      <td>6.040570</td>\n",
       "      <td>3.249643</td>\n",
       "      <td>1.00</td>\n",
       "      <td>3.00</td>\n",
       "      <td>6.00</td>\n",
       "      <td>9.00</td>\n",
       "      <td>12.00</td>\n",
       "    </tr>\n",
       "  </tbody>\n",
       "</table>\n",
       "</div>"
      ],
      "text/plain": [
       "                     count          mean           std      min       25%  \\\n",
       "customer_id      1324566.0    804.001972    457.336313     1.00    418.00   \n",
       "item_id          1324566.0  29519.030160  17908.064406     1.00  14684.00   \n",
       "quantity         1324566.0    130.663340   1311.545447     1.00      1.00   \n",
       "selling_price    1324566.0    114.603633    152.905303     0.36     49.16   \n",
       "other_discount   1324566.0    -17.768707     37.888674 -3120.31    -23.15   \n",
       "coupon_discount  1324566.0     -0.594898      7.069367 -1992.23      0.00   \n",
       "coupon_used      1324566.0      0.016070      0.125746     0.00      0.00   \n",
       "day              1324566.0     15.807896      8.706072     1.00      9.00   \n",
       "dow              1324566.0      3.067426      1.916515     0.00      1.00   \n",
       "month            1324566.0      6.040570      3.249643     1.00      3.00   \n",
       "\n",
       "                      50%       75%       max  \n",
       "customer_id        801.00   1198.00   1582.00  \n",
       "item_id          26597.00  42405.75  74066.00  \n",
       "quantity             1.00      1.00  89638.00  \n",
       "selling_price       78.01    124.31  17809.64  \n",
       "other_discount      -1.78      0.00      0.00  \n",
       "coupon_discount      0.00      0.00      0.00  \n",
       "coupon_used          0.00      0.00      1.00  \n",
       "day                 16.00     23.00     31.00  \n",
       "dow                  3.00      5.00      6.00  \n",
       "month                6.00      9.00     12.00  "
      ]
     },
     "execution_count": 43,
     "metadata": {},
     "output_type": "execute_result"
    }
   ],
   "source": [
    "transaction.describe().transpose()"
   ]
  },
  {
   "cell_type": "markdown",
   "metadata": {},
   "source": [
    "Item data"
   ]
  },
  {
   "cell_type": "code",
   "execution_count": 44,
   "metadata": {},
   "outputs": [
    {
     "data": {
      "text/html": [
       "<div>\n",
       "<style scoped>\n",
       "    .dataframe tbody tr th:only-of-type {\n",
       "        vertical-align: middle;\n",
       "    }\n",
       "\n",
       "    .dataframe tbody tr th {\n",
       "        vertical-align: top;\n",
       "    }\n",
       "\n",
       "    .dataframe thead th {\n",
       "        text-align: right;\n",
       "    }\n",
       "</style>\n",
       "<table border=\"1\" class=\"dataframe\">\n",
       "  <thead>\n",
       "    <tr style=\"text-align: right;\">\n",
       "      <th></th>\n",
       "      <th>item_id</th>\n",
       "      <th>brand</th>\n",
       "      <th>brand_type</th>\n",
       "      <th>category</th>\n",
       "    </tr>\n",
       "  </thead>\n",
       "  <tbody>\n",
       "    <tr>\n",
       "      <th>0</th>\n",
       "      <td>1</td>\n",
       "      <td>1</td>\n",
       "      <td>Established</td>\n",
       "      <td>Grocery</td>\n",
       "    </tr>\n",
       "    <tr>\n",
       "      <th>1</th>\n",
       "      <td>2</td>\n",
       "      <td>1</td>\n",
       "      <td>Established</td>\n",
       "      <td>Miscellaneous</td>\n",
       "    </tr>\n",
       "    <tr>\n",
       "      <th>2</th>\n",
       "      <td>3</td>\n",
       "      <td>56</td>\n",
       "      <td>Local</td>\n",
       "      <td>Bakery</td>\n",
       "    </tr>\n",
       "    <tr>\n",
       "      <th>3</th>\n",
       "      <td>4</td>\n",
       "      <td>56</td>\n",
       "      <td>Local</td>\n",
       "      <td>Grocery</td>\n",
       "    </tr>\n",
       "    <tr>\n",
       "      <th>4</th>\n",
       "      <td>5</td>\n",
       "      <td>56</td>\n",
       "      <td>Local</td>\n",
       "      <td>Grocery</td>\n",
       "    </tr>\n",
       "    <tr>\n",
       "      <th>5</th>\n",
       "      <td>6</td>\n",
       "      <td>56</td>\n",
       "      <td>Local</td>\n",
       "      <td>Grocery</td>\n",
       "    </tr>\n",
       "    <tr>\n",
       "      <th>6</th>\n",
       "      <td>7</td>\n",
       "      <td>56</td>\n",
       "      <td>Local</td>\n",
       "      <td>Pharmaceutical</td>\n",
       "    </tr>\n",
       "    <tr>\n",
       "      <th>7</th>\n",
       "      <td>8</td>\n",
       "      <td>56</td>\n",
       "      <td>Local</td>\n",
       "      <td>Bakery</td>\n",
       "    </tr>\n",
       "    <tr>\n",
       "      <th>8</th>\n",
       "      <td>9</td>\n",
       "      <td>11</td>\n",
       "      <td>Local</td>\n",
       "      <td>Grocery</td>\n",
       "    </tr>\n",
       "    <tr>\n",
       "      <th>9</th>\n",
       "      <td>10</td>\n",
       "      <td>56</td>\n",
       "      <td>Local</td>\n",
       "      <td>Grocery</td>\n",
       "    </tr>\n",
       "    <tr>\n",
       "      <th>10</th>\n",
       "      <td>11</td>\n",
       "      <td>21</td>\n",
       "      <td>Established</td>\n",
       "      <td>Pharmaceutical</td>\n",
       "    </tr>\n",
       "  </tbody>\n",
       "</table>\n",
       "</div>"
      ],
      "text/plain": [
       "    item_id  brand   brand_type        category\n",
       "0         1      1  Established         Grocery\n",
       "1         2      1  Established   Miscellaneous\n",
       "2         3     56        Local          Bakery\n",
       "3         4     56        Local         Grocery\n",
       "4         5     56        Local         Grocery\n",
       "5         6     56        Local         Grocery\n",
       "6         7     56        Local  Pharmaceutical\n",
       "7         8     56        Local          Bakery\n",
       "8         9     11        Local         Grocery\n",
       "9        10     56        Local         Grocery\n",
       "10       11     21  Established  Pharmaceutical"
      ]
     },
     "execution_count": 44,
     "metadata": {},
     "output_type": "execute_result"
    }
   ],
   "source": [
    "item.head(11)   #gives the first 10 data of item"
   ]
  },
  {
   "cell_type": "code",
   "execution_count": 45,
   "metadata": {},
   "outputs": [
    {
     "name": "stdout",
     "output_type": "stream",
     "text": [
      "<class 'pandas.core.frame.DataFrame'>\n",
      "RangeIndex: 74066 entries, 0 to 74065\n",
      "Data columns (total 4 columns):\n",
      " #   Column      Non-Null Count  Dtype \n",
      "---  ------      --------------  ----- \n",
      " 0   item_id     74066 non-null  int64 \n",
      " 1   brand       74066 non-null  int64 \n",
      " 2   brand_type  74066 non-null  object\n",
      " 3   category    74066 non-null  object\n",
      "dtypes: int64(2), object(2)\n",
      "memory usage: 2.3+ MB\n"
     ]
    }
   ],
   "source": [
    "item.info() #gives the information of item"
   ]
  },
  {
   "cell_type": "code",
   "execution_count": 46,
   "metadata": {},
   "outputs": [
    {
     "data": {
      "text/plain": [
       "Grocery                   32448\n",
       "Pharmaceutical            24471\n",
       "Natural Products           2533\n",
       "Dairy, Juices & Snacks     2425\n",
       "Skin & Hair Care           2244\n",
       "Meat                       2080\n",
       "Packaged Meat              1966\n",
       "Prepared Food              1880\n",
       "Bakery                     1679\n",
       "Seafood                     728\n",
       "Flowers & Plants            664\n",
       "Miscellaneous               385\n",
       "Alcohol                     303\n",
       "Garden                      102\n",
       "Restauarant                  78\n",
       "Salads                       40\n",
       "Travel                       19\n",
       "Fuel                         14\n",
       "Vegetables (cut)              7\n",
       "Name: category, dtype: int64"
      ]
     },
     "execution_count": 46,
     "metadata": {},
     "output_type": "execute_result"
    }
   ],
   "source": [
    "item.category.value_counts() #Count the number of category"
   ]
  },
  {
   "cell_type": "code",
   "execution_count": 47,
   "metadata": {},
   "outputs": [
    {
     "data": {
      "text/plain": [
       "Established    62842\n",
       "Local          11224\n",
       "Name: brand_type, dtype: int64"
      ]
     },
     "execution_count": 47,
     "metadata": {},
     "output_type": "execute_result"
    }
   ],
   "source": [
    "item.brand_type.value_counts()  #count the number of brand"
   ]
  },
  {
   "cell_type": "code",
   "execution_count": null,
   "metadata": {},
   "outputs": [],
   "source": []
  },
  {
   "cell_type": "markdown",
   "metadata": {},
   "source": [
    "# Data Preparation"
   ]
  },
  {
   "cell_type": "markdown",
   "metadata": {},
   "source": [
    "Now we can Start with Merging the Data Frames As all the Dataframes have data in the proper format and find the missing values and formet it"
   ]
  },
  {
   "cell_type": "markdown",
   "metadata": {},
   "source": [
    "Finding Missing values"
   ]
  },
  {
   "cell_type": "markdown",
   "metadata": {},
   "source": [
    "1) For train Data"
   ]
  },
  {
   "cell_type": "code",
   "execution_count": 7,
   "metadata": {},
   "outputs": [
    {
     "name": "stdout",
     "output_type": "stream",
     "text": [
      "id \n",
      "\n",
      "[     1      2      6 ... 128590 128592 128595] \n",
      "\n",
      "campaign_id \n",
      "\n",
      "[13  9  8 11 29 30  2  5 12 26  3  4 10  7 28 27  6  1] \n",
      "\n",
      "coupon_id \n",
      "\n",
      "[  27  116  635  644 1017  795  444  538  857  559  575 1028  705  517\n",
      "  893  796  506  689  268    8  674  320  109  278 1031  326  363  911\n",
      "  383  482  813  118  663  332  500  757 1067   87  905 1114  152   57\n",
      "  271  413  582  333  485  256  980  700  628  136  750  854  761  828\n",
      "  881  129  867  709  169 1083  530  822  126  917   22  960   24  772\n",
      "  603  982  510  132   60 1063  166  679  839  459  658  106  168  473\n",
      "  627  145    7  667  924  621  467  985  171 1056  890  920  279  948\n",
      "  368  107   19  800  420  756  783  687  913  725  483  275  788  170\n",
      "   14  416   54  113  125  902  526  144  554  936  971  872  873  643\n",
      "  433  131  591  608  723   76  696  544  148   97  819  673  123  490\n",
      "   55  989   83  437  836  806  891  870  542   64  646  566  520  910\n",
      "  581  537  656  996 1012  759 1044  616  883  754  430  786  694  119\n",
      "  481  940  916  348  855  792  968  625  105  470  283  161    6  466\n",
      " 1036  742  598 1112  797  744  480   63  556  909  734 1085 1050  153\n",
      "  949 1057 1018  257  327  641 1029  617  111  468  868   68   81 1045\n",
      "  531 1065  434  888  265  418 1040  432  769  912   11   46   88  682\n",
      "  733  807  571  951  511 1058  324  492  529  601  262  925  293  844\n",
      "  889  726  281   21   16  780 1075  746  793 1015  724 1025  672  860\n",
      "  955  155  896  280   56  983  135  532  810  139   99  563  285  301\n",
      "  919  508   49   75  167  683  620  284  504  817  986  367  247 1043\n",
      "  885  294  296  773   66   26  514  465  865  737  454  779  586  954\n",
      "  162  303  824  261  305  740  260  907  249  945  882  386  408   58\n",
      "  669  732  755   52  852  610   13  711   73  934  884  937  818  422\n",
      "  494  443  751  424  354  677  714  670 1000  362  803  158  502  588\n",
      "  681  341  979  513  653  745  812  535  458 1027   23  457  351  407\n",
      "   25  578  141  752    2  344  159   48   69  685  946  763 1108  778\n",
      "  310  928  410  370  970  787  675  440  447  964  561  606  821  134\n",
      "   84  984  748 1102  449  110  292  151  101 1070  879 1059 1024  140\n",
      "  898  922  604  775    3 1006  150  766   93   90  248  451  515   59\n",
      "  306  770  583  541  579  108  731  516  501  659  995 1099  287  379\n",
      "  474 1086 1100  776  358  977  392  997 1062  479 1081  901   98  791\n",
      "  981  343  715   18  276  525  138  512  475  389  584  943 1046  455\n",
      "  381  428  154  124 1074  375  288  808  654  741 1026  137   62  378\n",
      "  735  453   10  906  651  992  519 1020  269 1103 1007  630  853  130\n",
      " 1033 1073 1098  441  164   82  921  747  273  613  866   50   51  642\n",
      "  707  804  939  634  942   77  668  607  636   65 1110  691  431  914\n",
      "  666  569  623  322   92 1115  360 1021  307  961  915  758  749  727\n",
      "  975  974  944  850  120  738  117  489  121  567  619   53  157  319\n",
      "  476   72  321  244  439   80  719 1032  350 1002 1105    4  102   86\n",
      "  650  894  355  112  277  143 1001  423  369   17  338  464  785 1019\n",
      "  815 1087  165  692  308  798  805  142  448  486  660  597   94  246\n",
      " 1047  426  114  710  638  146  156   85  967  160  376  374  491  851\n",
      "   20   12 1039  442    1  128  509   15  892    9   71  356  472  445\n",
      "  662  611  574  624  409  323  478  764 1090  990   79  820  243  436\n",
      "  425  147   78  133  661  316   89  406  771  359   45  253   96  336\n",
      "  471  552  250  361  302  550  315  823  615 1048 1055  631 1072  782\n",
      "  325  100  558 1084  330  862  998  403  364 1104  127  602  933  115\n",
      "  987  427  935  380  496  686    5 1009 1092  931  645  331  347  399\n",
      "  875  314  371  524  391  594  647   95   61  897  814  622  299  703\n",
      "  790  103  318  346  438  886 1053   70  712 1049  163   47 1107  702\n",
      "   91 1011  450  572  830  585  593  536  972  639  895  794  122 1023\n",
      "  414  373  298  446  609  528  412  334  678  829  460  762 1101  484\n",
      "  365  825   67  827  665  345  353  926  395  722  576 1089  149  400\n",
      "  704 1035  534  706  352  846  398  349 1080  900 1051  329  626  729\n",
      " 1076  863  382 1013  589  172  312  993  104 1071  739  565  523 1004\n",
      "  767  435 1082  340  864  676 1030  309 1093 1106  421  317  546 1041\n",
      "  838  859  918   74  930  947 1061  564  965  858  384  366 1003  297\n",
      "  614  963  429  304  716  876  522  337  335 1068  849  595  908  587\n",
      "  313  328  695  994  401  991  357  342  282  545  402  871  605  372\n",
      "  847  784  547  831  311 1095  718  568  629  300  404  923  551  377\n",
      "  394 1091  339  263 1088  743 1097  405  649  973  671  835  291  708\n",
      " 1096  521  832  393  826  904  264  397  837  728  385  562] \n",
      "\n",
      "customer_id \n",
      "\n",
      "[1053   48  205 ...  160 1508  472] \n",
      "\n",
      "redemption_status \n",
      "\n",
      "[0 1] \n",
      "\n"
     ]
    }
   ],
   "source": [
    "for i in range(len(train.columns)):\n",
    "    print(train.columns[i],'\\n')\n",
    "    print(train[train.columns[i]].unique(),'\\n')\n"
   ]
  },
  {
   "cell_type": "markdown",
   "metadata": {},
   "source": [
    "2) For campaign data"
   ]
  },
  {
   "cell_type": "code",
   "execution_count": 8,
   "metadata": {},
   "outputs": [
    {
     "name": "stdout",
     "output_type": "stream",
     "text": [
      "campaign_id \n",
      "\n",
      "[24 25 20 23 21 22 18 19 17 16 13 11 12 10  9  8  7  6  3  5  4  1  2 30\n",
      " 29 28 27 26] \n",
      "\n",
      "campaign_type \n",
      "\n",
      "['Y' 'X'] \n",
      "\n",
      "start_date \n",
      "\n",
      "['21/10/13' '07/09/13' '08/10/13' '16/09/13' '10/08/13' '26/08/13'\n",
      " '29/07/13' '15/07/13' '19/05/13' '22/04/13' '08/04/13' '11/03/13'\n",
      " '16/02/13' '02/02/13' '28/01/13' '22/12/12' '12/01/13' '07/01/13'\n",
      " '12/12/12' '17/12/12' '19/11/12' '08/10/12' '16/09/12' '25/08/12'\n",
      " '12/08/12'] \n",
      "\n",
      "end_date \n",
      "\n",
      "['20/12/13' '22/11/13' '16/11/13' '15/11/13' '18/10/13' '04/10/13'\n",
      " '27/09/13' '30/08/13' '16/08/13' '05/07/13' '07/06/13' '24/05/13'\n",
      " '10/05/13' '12/04/13' '05/04/13' '08/03/13' '01/03/13' '16/02/13'\n",
      " '15/02/13' '08/02/13' '18/01/13' '04/01/13' '30/11/12' '16/11/12'\n",
      " '27/10/12' '21/09/12'] \n",
      "\n"
     ]
    }
   ],
   "source": [
    "for i in range(len(campaign.columns)):\n",
    "    print(campaign.columns[i],'\\n')\n",
    "    print(campaign[campaign.columns[i]].unique(),'\\n')\n"
   ]
  },
  {
   "cell_type": "markdown",
   "metadata": {},
   "source": [
    "3) For Coupon data"
   ]
  },
  {
   "cell_type": "code",
   "execution_count": 9,
   "metadata": {},
   "outputs": [
    {
     "name": "stdout",
     "output_type": "stream",
     "text": [
      "coupon_id \n",
      "\n",
      "[105 107 494 ... 217 218 219] \n",
      "\n",
      "item_id \n",
      "\n",
      "[   37    75    76 ... 71965 67815 68920] \n",
      "\n"
     ]
    }
   ],
   "source": [
    "for i in range(len(coupon.columns)):\n",
    "    print(coupon.columns[i],'\\n')\n",
    "    print(coupon[coupon.columns[i]].unique(),'\\n')\n"
   ]
  },
  {
   "cell_type": "markdown",
   "metadata": {},
   "source": [
    "4) For item data"
   ]
  },
  {
   "cell_type": "code",
   "execution_count": 10,
   "metadata": {},
   "outputs": [
    {
     "name": "stdout",
     "output_type": "stream",
     "text": [
      "item_id \n",
      "\n",
      "[    1     2     3 ... 74064 74065 74066] \n",
      "\n",
      "brand \n",
      "\n",
      "[   1   56   11 ... 5463 2997 3360] \n",
      "\n",
      "brand_type \n",
      "\n",
      "['Established' 'Local'] \n",
      "\n",
      "category \n",
      "\n",
      "['Grocery' 'Miscellaneous' 'Bakery' 'Pharmaceutical' 'Packaged Meat'\n",
      " 'Seafood' 'Natural Products' 'Dairy, Juices & Snacks' 'Prepared Food'\n",
      " 'Skin & Hair Care' 'Meat' 'Travel' 'Flowers & Plants' 'Fuel' 'Salads'\n",
      " 'Alcohol' 'Garden' 'Restauarant' 'Vegetables (cut)'] \n",
      "\n"
     ]
    }
   ],
   "source": [
    "for i in range(len(item.columns)):\n",
    "    print(item.columns[i],'\\n')\n",
    "    print(item[item.columns[i]].unique(),'\\n')"
   ]
  },
  {
   "cell_type": "markdown",
   "metadata": {},
   "source": [
    "5) For demograph data"
   ]
  },
  {
   "cell_type": "code",
   "execution_count": 11,
   "metadata": {},
   "outputs": [
    {
     "name": "stdout",
     "output_type": "stream",
     "text": [
      "customer_id \n",
      "\n",
      "[   1    6    7    8   10   11   12   13   14   15   17   19   22   27\n",
      "   28   30   31   33   35   36   38   39   40   41   42   45   48   51\n",
      "   52   53   55   58   59   66   67   69   71   72   74   75   78   79\n",
      "   82   83   84   85   87   89   90   92   93   94   97  103  105  107\n",
      "  108  110  112  113  114  119  123  124  128  131  132  134  135  136\n",
      "  138  140  141  142  143  144  149  150  151  153  154  155  158  159\n",
      "  161  162  163  167  168  174  178  179  180  185  186  189  191  192\n",
      "  193  195  197  201  202  204  205  207  209  212  214  223  225  226\n",
      "  227  228  230  231  232  235  238  239  242  243  245  246  248  249\n",
      "  250  251  252  253  259  262  265  266  267  268  269  271  276  277\n",
      "  279  281  283  284  286  287  288  292  293  294  295  297  298  300\n",
      "  303  306  313  314  315  316  317  318  319  320  327  329  333  336\n",
      "  338  339  343  347  348  349  352  353  355  357  361  363  367  368\n",
      "  369  371  374  375  377  378  381  382  383  384  386  389  390  391\n",
      "  392  393  395  397  398  399  400  401  402  414  416  421  422  427\n",
      "  428  429  431  434  436  438  440  441  443  444  446  447  450  455\n",
      "  456  457  460  461  462  463  464  466  467  473  474  475  479  480\n",
      "  481  486  488  490  494  495  497  498  499  501  504  506  507  508\n",
      "  509  510  511  514  515  516  517  520  522  524  525  527  528  530\n",
      "  533  536  537  540  541  544  545  546  549  550  551  552  553  557\n",
      "  558  560  561  564  565  566  569  571  572  574  575  577  579  581\n",
      "  585  586  590  593  595  596  600  602  606  607  608  612  613  615\n",
      "  619  620  622  624  626  627  628  630  634  636  637  641  642  643\n",
      "  648  649  650  653  655  656  657  660  663  665  666  667  668  674\n",
      "  677  679  681  684  686  687  691  693  695  696  698  703  704  708\n",
      "  712  716  719  724  725  726  731  732  735  737  738  740  742  743\n",
      "  744  745  746  748  749  750  751  752  753  754  755  760  762  763\n",
      "  766  774  775  776  779  781  782  784  785  789  792  793  795  796\n",
      "  797  799  800  801  802  806  808  813  817  821  822  823  824  828\n",
      "  829  833  835  837  839  842  844  851  853  855  856  857  859  860\n",
      "  861  864  865  867  871  872  874  876  877  878  879  880  886  888\n",
      "  889  891  892  894  896  897  898  901  902  904  905  909  910  911\n",
      "  912  917  918  921  922  923  925  926  928  929  930  931  932  933\n",
      "  936  937  939  941  944  947  952  955  957  958  959  962  964  965\n",
      "  966  967  970  974  977  978  980  981  982  983  985  988  990  994\n",
      "  997  999 1003 1008 1011 1015 1021 1023 1025 1026 1031 1033 1036 1045\n",
      " 1046 1047 1051 1053 1054 1055 1056 1057 1058 1061 1062 1063 1064 1067\n",
      " 1068 1070 1076 1079 1082 1083 1085 1089 1091 1093 1094 1103 1104 1108\n",
      " 1109 1111 1115 1116 1117 1119 1120 1121 1122 1128 1129 1130 1131 1133\n",
      " 1135 1136 1141 1142 1144 1145 1151 1152 1153 1154 1156 1161 1164 1166\n",
      " 1167 1168 1170 1172 1178 1179 1181 1182 1184 1187 1188 1190 1192 1194\n",
      " 1195 1196 1198 1201 1202 1203 1205 1208 1210 1211 1216 1217 1219 1220\n",
      " 1222 1224 1228 1230 1231 1239 1240 1242 1243 1245 1246 1249 1250 1252\n",
      " 1254 1256 1257 1258 1259 1262 1263 1264 1268 1269 1271 1273 1276 1284\n",
      " 1290 1292 1295 1296 1298 1299 1300 1303 1304 1305 1309 1314 1316 1317\n",
      " 1318 1319 1320 1321 1322 1324 1327 1328 1329 1332 1333 1334 1336 1337\n",
      " 1339 1340 1341 1343 1344 1346 1347 1356 1357 1359 1360 1361 1364 1367\n",
      " 1370 1373 1374 1375 1376 1377 1378 1379 1381 1382 1383 1384 1385 1386\n",
      " 1387 1388 1392 1393 1398 1399 1402 1407 1408 1409 1410 1412 1417 1422\n",
      " 1424 1425 1427 1431 1432 1433 1440 1441 1443 1444 1449 1450 1451 1452\n",
      " 1453 1455 1457 1458 1460 1461 1463 1464 1466 1467 1469 1471 1472 1473\n",
      " 1475 1477 1478 1479 1483 1485 1489 1490 1491 1492 1494 1496 1500 1502\n",
      " 1504 1506 1512 1514 1518 1519 1520 1521 1523 1528 1529 1533 1534 1537\n",
      " 1538 1544 1545 1546 1547 1551 1552 1558 1566 1569 1572 1573 1574 1577\n",
      " 1578 1579 1580 1581] \n",
      "\n",
      "age_range \n",
      "\n",
      "['70+' '46-55' '26-35' '36-45' '18-25' '56-70'] \n",
      "\n",
      "marital_status \n",
      "\n",
      "['Married' nan 'Single'] \n",
      "\n",
      "rented \n",
      "\n",
      "[0 1] \n",
      "\n",
      "family_size \n",
      "\n",
      "['2' '3' '4' '1' '5+'] \n",
      "\n",
      "no_of_children \n",
      "\n",
      "[nan '1' '2' '3+'] \n",
      "\n",
      "income_bracket \n",
      "\n",
      "[ 4  5  3  6  1  7  2  8  9 12 10 11] \n",
      "\n"
     ]
    }
   ],
   "source": [
    "for i in range(len(demograph.columns)):\n",
    "    print(demograph.columns[i],'\\n')\n",
    "    print(demograph[demograph.columns[i]].unique(),'\\n')"
   ]
  },
  {
   "cell_type": "markdown",
   "metadata": {},
   "source": [
    "6) For Transection data"
   ]
  },
  {
   "cell_type": "code",
   "execution_count": 12,
   "metadata": {},
   "outputs": [
    {
     "name": "stdout",
     "output_type": "stream",
     "text": [
      "date \n",
      "\n",
      "['2012-01-02' '2012-01-03' '2012-01-04' '2012-01-05' '2012-01-06'\n",
      " '2012-01-07' '2012-01-08' '2012-01-09' '2012-01-10' '2012-01-11'\n",
      " '2012-01-12' '2012-01-13' '2012-01-14' '2012-01-15' '2012-01-16'\n",
      " '2012-01-17' '2012-01-18' '2012-01-19' '2012-01-20' '2012-01-21'\n",
      " '2012-01-22' '2012-01-23' '2012-01-24' '2012-01-25' '2012-01-26'\n",
      " '2012-01-27' '2012-01-28' '2012-01-29' '2012-01-30' '2012-01-31'\n",
      " '2012-02-01' '2012-02-02' '2012-02-03' '2012-02-04' '2012-02-05'\n",
      " '2012-02-06' '2012-02-07' '2012-02-08' '2012-02-09' '2012-02-10'\n",
      " '2012-02-11' '2012-02-12' '2012-02-13' '2012-02-14' '2012-02-15'\n",
      " '2012-02-16' '2012-02-17' '2012-02-18' '2012-02-19' '2012-02-20'\n",
      " '2012-02-21' '2012-02-22' '2012-02-23' '2012-02-24' '2012-02-25'\n",
      " '2012-02-26' '2012-02-27' '2012-02-28' '2012-02-29' '2012-03-01'\n",
      " '2012-03-02' '2012-03-03' '2012-03-04' '2012-03-05' '2012-03-06'\n",
      " '2012-03-07' '2012-03-08' '2012-03-09' '2012-03-10' '2012-03-11'\n",
      " '2012-03-12' '2012-03-13' '2012-03-14' '2012-03-15' '2012-03-16'\n",
      " '2012-03-17' '2012-03-18' '2012-03-19' '2012-03-20' '2012-03-21'\n",
      " '2012-03-22' '2012-03-23' '2012-03-24' '2012-03-25' '2012-03-26'\n",
      " '2012-03-27' '2012-03-28' '2012-03-29' '2012-03-30' '2012-03-31'\n",
      " '2012-04-01' '2012-04-02' '2012-04-03' '2012-04-04' '2012-04-05'\n",
      " '2012-04-06' '2012-04-07' '2012-04-08' '2012-04-09' '2012-04-10'\n",
      " '2012-04-11' '2012-04-12' '2012-04-13' '2012-04-14' '2012-04-15'\n",
      " '2012-04-16' '2012-04-17' '2012-04-18' '2012-04-19' '2012-04-20'\n",
      " '2012-04-21' '2012-04-22' '2012-04-23' '2012-04-24' '2012-04-25'\n",
      " '2012-04-26' '2012-04-27' '2012-04-28' '2012-04-29' '2012-04-30'\n",
      " '2012-05-01' '2012-05-02' '2012-05-03' '2012-05-04' '2012-05-05'\n",
      " '2012-05-06' '2012-05-07' '2012-05-08' '2012-05-09' '2012-05-10'\n",
      " '2012-05-11' '2012-05-12' '2012-05-13' '2012-05-14' '2012-05-15'\n",
      " '2012-05-16' '2012-05-17' '2012-05-18' '2012-05-19' '2012-05-20'\n",
      " '2012-05-21' '2012-05-22' '2012-05-23' '2012-05-24' '2012-05-25'\n",
      " '2012-05-26' '2012-05-27' '2012-05-28' '2012-05-29' '2012-05-30'\n",
      " '2012-05-31' '2012-06-01' '2012-06-02' '2012-06-03' '2012-06-04'\n",
      " '2012-06-05' '2012-06-06' '2012-06-07' '2012-06-08' '2012-06-09'\n",
      " '2012-06-10' '2012-06-11' '2012-06-12' '2012-06-13' '2012-06-14'\n",
      " '2012-06-15' '2012-06-16' '2012-06-17' '2012-06-18' '2012-06-19'\n",
      " '2012-06-20' '2012-06-21' '2012-06-22' '2012-06-23' '2012-06-24'\n",
      " '2012-06-25' '2012-06-26' '2012-06-27' '2012-06-28' '2012-06-29'\n",
      " '2012-06-30' '2012-07-01' '2012-07-02' '2012-07-03' '2012-07-04'\n",
      " '2012-07-05' '2012-07-06' '2012-07-07' '2012-07-08' '2012-07-09'\n",
      " '2012-07-10' '2012-07-11' '2012-07-12' '2012-07-13' '2012-07-14'\n",
      " '2012-07-15' '2012-07-16' '2012-07-17' '2012-07-18' '2012-07-19'\n",
      " '2012-07-20' '2012-07-22' '2012-07-21' '2012-07-23' '2012-07-24'\n",
      " '2012-07-25' '2012-07-26' '2012-07-27' '2012-07-28' '2012-07-29'\n",
      " '2012-07-30' '2012-07-31' '2012-08-01' '2012-08-02' '2012-08-03'\n",
      " '2012-08-04' '2012-08-05' '2012-08-06' '2012-08-07' '2012-08-08'\n",
      " '2012-08-09' '2012-08-10' '2012-08-11' '2012-08-12' '2012-08-13'\n",
      " '2012-08-14' '2012-08-15' '2012-08-16' '2012-08-27' '2012-08-26'\n",
      " '2012-08-28' '2012-08-17' '2012-08-18' '2012-08-20' '2012-08-19'\n",
      " '2012-08-21' '2012-08-22' '2012-08-23' '2012-08-24' '2012-08-25'\n",
      " '2012-08-29' '2012-08-30' '2012-08-31' '2012-09-01' '2012-09-02'\n",
      " '2012-09-03' '2012-09-04' '2012-09-05' '2012-09-06' '2012-09-07'\n",
      " '2012-09-08' '2012-09-09' '2012-09-10' '2012-09-11' '2012-09-12'\n",
      " '2012-09-13' '2012-09-14' '2012-09-15' '2012-09-16' '2012-09-17'\n",
      " '2012-09-18' '2012-09-19' '2012-09-20' '2012-09-21' '2012-09-22'\n",
      " '2012-09-23' '2012-09-24' '2012-09-25' '2012-09-26' '2012-09-27'\n",
      " '2012-09-28' '2012-09-29' '2012-09-30' '2012-10-01' '2012-10-02'\n",
      " '2012-10-03' '2012-10-04' '2012-10-05' '2012-10-06' '2012-10-07'\n",
      " '2012-10-08' '2012-10-09' '2012-10-10' '2012-10-11' '2012-10-12'\n",
      " '2012-10-13' '2012-10-14' '2012-10-15' '2012-10-16' '2012-10-17'\n",
      " '2012-10-18' '2012-10-19' '2012-10-20' '2012-10-21' '2012-10-22'\n",
      " '2012-10-23' '2012-10-24' '2012-10-25' '2012-10-26' '2012-10-27'\n",
      " '2012-10-28' '2012-10-29' '2012-10-30' '2012-11-01' '2012-10-31'\n",
      " '2012-11-02' '2012-11-03' '2012-11-04' '2012-11-05' '2012-11-06'\n",
      " '2012-11-07' '2012-11-08' '2012-11-09' '2012-11-10' '2012-11-11'\n",
      " '2012-11-12' '2012-11-13' '2012-11-14' '2012-11-15' '2012-11-16'\n",
      " '2012-11-17' '2012-11-18' '2012-11-19' '2012-11-20' '2012-11-21'\n",
      " '2012-11-22' '2012-11-23' '2012-11-24' '2012-11-25' '2012-11-26'\n",
      " '2012-11-27' '2012-11-28' '2012-11-29' '2012-11-30' '2012-12-01'\n",
      " '2012-12-02' '2012-12-03' '2012-12-04' '2012-12-05' '2012-12-06'\n",
      " '2012-12-07' '2012-12-08' '2012-12-09' '2012-12-10' '2012-12-11'\n",
      " '2012-12-12' '2012-12-13' '2012-12-14' '2012-12-15' '2012-12-16'\n",
      " '2012-12-17' '2012-12-18' '2012-12-19' '2012-12-20' '2012-12-21'\n",
      " '2012-12-22' '2012-12-23' '2012-12-24' '2012-12-25' '2012-12-26'\n",
      " '2012-12-27' '2012-12-28' '2012-12-29' '2012-12-30' '2012-12-31'\n",
      " '2013-01-01' '2013-01-02' '2013-01-03' '2013-01-04' '2013-01-05'\n",
      " '2013-01-06' '2013-01-07' '2013-01-08' '2013-01-09' '2013-01-10'\n",
      " '2013-01-11' '2013-01-12' '2013-01-13' '2013-01-14' '2013-01-15'\n",
      " '2013-01-16' '2013-01-17' '2013-01-18' '2013-01-19' '2013-01-20'\n",
      " '2013-01-21' '2013-01-22' '2013-01-23' '2013-01-24' '2013-01-25'\n",
      " '2013-01-26' '2013-01-27' '2013-01-28' '2013-01-29' '2013-01-30'\n",
      " '2013-01-31' '2013-02-01' '2013-02-02' '2013-02-03' '2013-02-04'\n",
      " '2013-02-05' '2013-02-06' '2013-02-07' '2013-02-08' '2013-02-09'\n",
      " '2013-02-10' '2013-02-11' '2013-02-12' '2013-02-13' '2013-02-14'\n",
      " '2013-02-15' '2013-02-16' '2013-02-17' '2013-02-18' '2013-02-19'\n",
      " '2013-02-20' '2013-02-21' '2013-02-22' '2013-02-23' '2013-02-24'\n",
      " '2013-02-25' '2013-02-26' '2013-02-27' '2013-02-28' '2013-03-01'\n",
      " '2013-03-02' '2013-03-03' '2013-03-04' '2013-03-05' '2013-03-06'\n",
      " '2013-03-07' '2013-03-08' '2013-03-09' '2013-03-10' '2013-03-11'\n",
      " '2013-03-12' '2013-03-13' '2013-03-14' '2013-03-15' '2013-03-16'\n",
      " '2013-03-17' '2013-03-18' '2013-03-19' '2013-03-20' '2013-03-21'\n",
      " '2013-03-22' '2013-03-25' '2013-03-29' '2013-03-23' '2013-03-24'\n",
      " '2013-03-26' '2013-03-27' '2013-03-28' '2013-03-30' '2013-03-31'\n",
      " '2013-04-02' '2013-04-03' '2013-04-01' '2013-04-04' '2013-04-05'\n",
      " '2013-04-06' '2013-04-07' '2013-04-08' '2013-04-09' '2013-04-10'\n",
      " '2013-04-11' '2013-04-12' '2013-04-13' '2013-04-14' '2013-04-15'\n",
      " '2013-04-16' '2013-04-17' '2013-04-18' '2013-04-19' '2013-04-20'\n",
      " '2013-04-21' '2013-04-22' '2013-04-23' '2013-04-24' '2013-04-25'\n",
      " '2013-04-26' '2013-04-27' '2013-04-28' '2013-04-29' '2013-04-30'\n",
      " '2013-05-01' '2013-05-02' '2013-05-03' '2013-05-04' '2013-05-05'\n",
      " '2013-05-06' '2013-05-07' '2013-05-08' '2013-05-09' '2013-05-10'\n",
      " '2013-05-11' '2013-05-12' '2013-05-13' '2013-05-14' '2013-05-15'\n",
      " '2013-05-16' '2013-05-17' '2013-05-18' '2013-05-19' '2013-05-20'\n",
      " '2013-05-21' '2013-05-22' '2013-05-23' '2013-05-24' '2013-05-25'\n",
      " '2013-05-26' '2013-05-27' '2013-05-28' '2013-05-29' '2013-05-30'\n",
      " '2013-05-31' '2013-06-01' '2013-06-02' '2013-06-03' '2013-06-04'\n",
      " '2013-06-05' '2013-06-06' '2013-06-07' '2013-06-08' '2013-06-09'\n",
      " '2013-06-10' '2013-06-11' '2013-06-12' '2013-06-13' '2013-06-14'\n",
      " '2013-06-15' '2013-06-16' '2013-06-17' '2013-06-18' '2013-06-19'\n",
      " '2013-06-20' '2013-06-21' '2013-06-22' '2013-06-23' '2013-06-24'\n",
      " '2013-06-25' '2013-06-26' '2013-06-27' '2013-06-28' '2013-06-29'\n",
      " '2013-06-30' '2013-07-01' '2013-07-02' '2013-07-03'] \n",
      "\n",
      "customer_id \n",
      "\n",
      "[1501  857   67 ...  405 1569  991] \n",
      "\n",
      "item_id \n",
      "\n",
      "[26830 54253 31962 ...  2777  2953  2971] \n",
      "\n",
      "quantity \n",
      "\n",
      "[    1     3     2 ... 15853 21837 19364] \n",
      "\n",
      "selling_price \n",
      "\n",
      "[  35.26   53.43  106.5  ... 1170.12 1338.6  1623.92] \n",
      "\n",
      "other_discount \n",
      "\n",
      "[  -10.69   -13.89   -14.25 ...  -720.95 -1141.98  -323.07] \n",
      "\n",
      "coupon_discount \n",
      "\n",
      "[    0.     -35.62   -14.25   -26.71   -21.02   -19.59   -80.14   -17.81\n",
      "    -8.9   -102.94   -71.24   -21.37   -10.69   -12.47  -178.1   -106.86\n",
      "   -53.43   -35.26   -12.11  -213.72   -56.64   -28.14   -44.52  -569.92\n",
      "   -53.07   -62.33   -49.87   -37.4    -24.93   -32.06  -213.36  -355.84\n",
      "  -142.12   -17.45   -39.18   -40.96  -142.48  -109.71    -7.12   -88.69\n",
      "  -427.44   -45.95   -89.05   -16.03  -113.63  -106.5    -70.53   -31.35\n",
      "   -58.77  -117.55   -60.2    -78.36  -128.23   -23.51   -79.79   -28.5\n",
      "   -92.26  -177.74   -47.73  -554.96   -27.07    -5.34  -498.32   -90.83\n",
      "  -108.64   -95.11  -319.87   -30.28  -284.6    -70.88  -124.67  -152.81\n",
      "   -60.55  -356.2    -91.9   -512.57  -113.27  -184.16  -117.19  -160.29\n",
      "  -184.87  -249.34   -55.21   -95.82   -42.74  -195.55   -97.96   -94.39\n",
      "   -23.15   -27.78  -110.42   -42.39  -127.88   -30.63  -277.48   -69.1\n",
      "   -78.01  -199.12  -248.98   -23.87   -43.46   -89.41   -64.12  -211.23\n",
      "   -38.47   -41.32  -169.91  -111.85   -48.09   -82.64  -284.96  -177.39\n",
      "  -134.64   -47.37   -46.31 -1068.24   -63.76  -320.22  -103.3    -49.51\n",
      "  -120.75   -67.32   -59.49  -334.12   -38.83  -234.38  -509.01   -42.03\n",
      "  -641.16  -712.4   -102.59  -266.79  -135.    -124.31  -426.73  -227.26\n",
      "   -47.02  -115.76   -83.35  -534.3    -81.57  -519.34  -101.16   -24.58\n",
      "  -118.97   -84.78   -99.74   -99.38  -712.04  -154.59  -120.4    -82.99\n",
      "  -237.23   -74.45   -80.5   -163.14  -131.44  -176.32   -84.42  -142.84\n",
      "  -159.93  -133.57   -85.13  -284.25  -167.06   -99.02   -85.49 -1992.23\n",
      "  -213.01   -72.31   -52.36  -191.64   -26.36   -89.76  -427.08  -106.15\n",
      "   -65.54  -533.59  -604.83  -163.5   -245.07  -202.68   -33.84  -509.37\n",
      "  -208.38  -354.42  -283.54  -141.77   -95.46   -39.89  -170.62  -462.7\n",
      "   -65.9   -137.14   -11.75   -66.97  -126.09   -63.05   -56.28  -149.25\n",
      "  -391.46  -259.67  -215.5   -235.09  -122.89   -43.1   -195.91    -3.56\n",
      "  -238.3   -191.99   -62.69 -1211.08  -267.15   -44.88  -298.85   -70.17\n",
      "  -320.58  -219.42   -13.89   -24.22  -366.53  -236.87  -747.66  -125.38\n",
      "  -102.23  -179.52  -136.78  -206.6   -105.79  -112.92   -96.17   -31.7 ] \n",
      "\n"
     ]
    }
   ],
   "source": [
    "for i in range(len(transaction.columns)):\n",
    "    print(transaction.columns[i],'\\n')\n",
    "    print(transaction[transaction.columns[i]].unique(),'\\n')"
   ]
  },
  {
   "cell_type": "markdown",
   "metadata": {},
   "source": [
    "Sometimes, missing data values are filled with values that do not make sense as place holders instead of NaN. For example, we can check if there are positive value for discounts in transactions."
   ]
  },
  {
   "cell_type": "code",
   "execution_count": 13,
   "metadata": {},
   "outputs": [
    {
     "data": {
      "text/plain": [
       "Index(['date', 'customer_id', 'item_id', 'quantity', 'selling_price',\n",
       "       'other_discount', 'coupon_discount'],\n",
       "      dtype='object')"
      ]
     },
     "execution_count": 13,
     "metadata": {},
     "output_type": "execute_result"
    }
   ],
   "source": [
    "transaction.columns"
   ]
  },
  {
   "cell_type": "code",
   "execution_count": 15,
   "metadata": {},
   "outputs": [
    {
     "data": {
      "text/plain": [
       "False"
      ]
     },
     "execution_count": 15,
     "metadata": {},
     "output_type": "execute_result"
    }
   ],
   "source": [
    "any(transaction.coupon_discount>0)"
   ]
  },
  {
   "cell_type": "code",
   "execution_count": 16,
   "metadata": {},
   "outputs": [
    {
     "data": {
      "text/plain": [
       "False"
      ]
     },
     "execution_count": 16,
     "metadata": {},
     "output_type": "execute_result"
    }
   ],
   "source": [
    "any(transaction.other_discount>0)"
   ]
  },
  {
   "cell_type": "code",
   "execution_count": 17,
   "metadata": {},
   "outputs": [
    {
     "data": {
      "text/plain": [
       "False"
      ]
     },
     "execution_count": 17,
     "metadata": {},
     "output_type": "execute_result"
    }
   ],
   "source": [
    "any(transaction.selling_price<0)"
   ]
  },
  {
   "cell_type": "markdown",
   "metadata": {},
   "source": [
    "Hear we can see all are false if true come then we can say that there is missing values"
   ]
  },
  {
   "cell_type": "markdown",
   "metadata": {},
   "source": [
    "After careful examinations, only table that we need to work on missing values is demograph."
   ]
  },
  {
   "cell_type": "code",
   "execution_count": null,
   "metadata": {},
   "outputs": [],
   "source": []
  }
 ],
 "metadata": {
  "kernelspec": {
   "display_name": "Python 3",
   "language": "python",
   "name": "python3"
  },
  "language_info": {
   "codemirror_mode": {
    "name": "ipython",
    "version": 3
   },
   "file_extension": ".py",
   "mimetype": "text/x-python",
   "name": "python",
   "nbconvert_exporter": "python",
   "pygments_lexer": "ipython3",
   "version": "3.8.3"
  }
 },
 "nbformat": 4,
 "nbformat_minor": 4
}
