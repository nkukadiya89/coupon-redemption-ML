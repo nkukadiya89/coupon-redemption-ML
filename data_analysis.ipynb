{
 "cells": [
  {
   "cell_type": "markdown",
   "metadata": {},
   "source": [
    "# Import all the libraries"
   ]
  },
  {
   "cell_type": "markdown",
   "metadata": {},
   "source": [
    "Basic"
   ]
  },
  {
   "cell_type": "code",
   "execution_count": 1,
   "metadata": {},
   "outputs": [],
   "source": [
    "import numpy as np      #Arrays purpose \n",
    "import pandas as pd     #Data analysis and manipulation\n",
    "import re               #Regular expression"
   ]
  },
  {
   "cell_type": "markdown",
   "metadata": {},
   "source": [
    "Visualization"
   ]
  },
  {
   "cell_type": "code",
   "execution_count": 2,
   "metadata": {},
   "outputs": [],
   "source": [
    "import matplotlib.pyplot as plt\n",
    "%matplotlib inline\n",
    "import seaborn as sns\n",
    "sns.set_style('darkgrid')  #Visualization"
   ]
  },
  {
   "cell_type": "markdown",
   "metadata": {},
   "source": [
    "Train Test split for training and testing of data"
   ]
  },
  {
   "cell_type": "code",
   "execution_count": 3,
   "metadata": {},
   "outputs": [],
   "source": [
    "from sklearn.model_selection import train_test_split #Train and Test data"
   ]
  },
  {
   "cell_type": "markdown",
   "metadata": {},
   "source": [
    "Mathematics and Algorithms"
   ]
  },
  {
   "cell_type": "code",
   "execution_count": 4,
   "metadata": {},
   "outputs": [],
   "source": [
    "#function to get a mode of a dataset\n",
    "from statistics import mode\n",
    "\n",
    "#normalizing dataset\n",
    "from sklearn.preprocessing import StandardScaler\n",
    "from sklearn.ensemble import RandomForestClassifier\n",
    "from sklearn.model_selection import cross_val_score\n",
    "from sklearn.preprocessing import LabelEncoder\n",
    "encoder = LabelEncoder()\n",
    "\n",
    "\n",
    "#For resampling process to change the ratio of imbalanced ratio of the classes testing various ratios\n",
    "from sklearn.metrics import roc_auc_score, roc_curve, auc\n",
    "from sklearn.metrics import classification_report\n",
    "from sklearn.linear_model import LogisticRegression\n",
    "from sklearn.metrics import confusion_matrix\n",
    "\n",
    "#resampling\n",
    "from imblearn.over_sampling import SMOTE #Synthetic Minority Oversampling Technique"
   ]
  },
  {
   "cell_type": "markdown",
   "metadata": {},
   "source": [
    "# Importing All the CSV files"
   ]
  },
  {
   "cell_type": "code",
   "execution_count": 5,
   "metadata": {},
   "outputs": [],
   "source": [
    "train = pd.read_csv('train.csv')\n",
    "campaign = pd.read_csv('campaign_data.csv')\n",
    "coupon = pd.read_csv('coupon_item_mapping.csv')\n",
    "demograph = pd.read_csv('customer_demographics.csv')\n",
    "transaction = pd.read_csv('customer_transaction_data.csv')\n",
    "item = pd.read_csv('item_data.csv')\n",
    "test = pd.read_csv('test.csv')"
   ]
  },
  {
   "cell_type": "markdown",
   "metadata": {},
   "source": [
    "Making the dictionary to save all the data \"To update data and save them easily, a dictionary is created.\""
   ]
  },
  {
   "cell_type": "code",
   "execution_count": 6,
   "metadata": {},
   "outputs": [],
   "source": [
    "tables_data = {}\n",
    "tables_data['train'] = train\n",
    "tables_data['campaign'] = campaign\n",
    "tables_data['coupon'] = coupon \n",
    "tables_data['demograph'] = demograph\n",
    "tables_data['transaction'] = transaction \n",
    "tables_data['item'] = item"
   ]
  },
  {
   "cell_type": "markdown",
   "metadata": {},
   "source": [
    "# Data Analysis"
   ]
  },
  {
   "cell_type": "markdown",
   "metadata": {},
   "source": [
    "Train data"
   ]
  },
  {
   "cell_type": "code",
   "execution_count": 7,
   "metadata": {},
   "outputs": [
    {
     "data": {
      "text/html": [
       "<div>\n",
       "<style scoped>\n",
       "    .dataframe tbody tr th:only-of-type {\n",
       "        vertical-align: middle;\n",
       "    }\n",
       "\n",
       "    .dataframe tbody tr th {\n",
       "        vertical-align: top;\n",
       "    }\n",
       "\n",
       "    .dataframe thead th {\n",
       "        text-align: right;\n",
       "    }\n",
       "</style>\n",
       "<table border=\"1\" class=\"dataframe\">\n",
       "  <thead>\n",
       "    <tr style=\"text-align: right;\">\n",
       "      <th></th>\n",
       "      <th>id</th>\n",
       "      <th>campaign_id</th>\n",
       "      <th>coupon_id</th>\n",
       "      <th>customer_id</th>\n",
       "      <th>redemption_status</th>\n",
       "    </tr>\n",
       "  </thead>\n",
       "  <tbody>\n",
       "    <tr>\n",
       "      <th>0</th>\n",
       "      <td>1</td>\n",
       "      <td>13</td>\n",
       "      <td>27</td>\n",
       "      <td>1053</td>\n",
       "      <td>0</td>\n",
       "    </tr>\n",
       "    <tr>\n",
       "      <th>1</th>\n",
       "      <td>2</td>\n",
       "      <td>13</td>\n",
       "      <td>116</td>\n",
       "      <td>48</td>\n",
       "      <td>0</td>\n",
       "    </tr>\n",
       "    <tr>\n",
       "      <th>2</th>\n",
       "      <td>6</td>\n",
       "      <td>9</td>\n",
       "      <td>635</td>\n",
       "      <td>205</td>\n",
       "      <td>0</td>\n",
       "    </tr>\n",
       "    <tr>\n",
       "      <th>3</th>\n",
       "      <td>7</td>\n",
       "      <td>13</td>\n",
       "      <td>644</td>\n",
       "      <td>1050</td>\n",
       "      <td>0</td>\n",
       "    </tr>\n",
       "    <tr>\n",
       "      <th>4</th>\n",
       "      <td>9</td>\n",
       "      <td>8</td>\n",
       "      <td>1017</td>\n",
       "      <td>1489</td>\n",
       "      <td>0</td>\n",
       "    </tr>\n",
       "    <tr>\n",
       "      <th>5</th>\n",
       "      <td>11</td>\n",
       "      <td>11</td>\n",
       "      <td>795</td>\n",
       "      <td>793</td>\n",
       "      <td>0</td>\n",
       "    </tr>\n",
       "    <tr>\n",
       "      <th>6</th>\n",
       "      <td>14</td>\n",
       "      <td>9</td>\n",
       "      <td>444</td>\n",
       "      <td>590</td>\n",
       "      <td>0</td>\n",
       "    </tr>\n",
       "    <tr>\n",
       "      <th>7</th>\n",
       "      <td>15</td>\n",
       "      <td>29</td>\n",
       "      <td>538</td>\n",
       "      <td>368</td>\n",
       "      <td>0</td>\n",
       "    </tr>\n",
       "    <tr>\n",
       "      <th>8</th>\n",
       "      <td>17</td>\n",
       "      <td>30</td>\n",
       "      <td>857</td>\n",
       "      <td>523</td>\n",
       "      <td>0</td>\n",
       "    </tr>\n",
       "    <tr>\n",
       "      <th>9</th>\n",
       "      <td>19</td>\n",
       "      <td>2</td>\n",
       "      <td>559</td>\n",
       "      <td>679</td>\n",
       "      <td>0</td>\n",
       "    </tr>\n",
       "    <tr>\n",
       "      <th>10</th>\n",
       "      <td>20</td>\n",
       "      <td>9</td>\n",
       "      <td>575</td>\n",
       "      <td>108</td>\n",
       "      <td>0</td>\n",
       "    </tr>\n",
       "  </tbody>\n",
       "</table>\n",
       "</div>"
      ],
      "text/plain": [
       "    id  campaign_id  coupon_id  customer_id  redemption_status\n",
       "0    1           13         27         1053                  0\n",
       "1    2           13        116           48                  0\n",
       "2    6            9        635          205                  0\n",
       "3    7           13        644         1050                  0\n",
       "4    9            8       1017         1489                  0\n",
       "5   11           11        795          793                  0\n",
       "6   14            9        444          590                  0\n",
       "7   15           29        538          368                  0\n",
       "8   17           30        857          523                  0\n",
       "9   19            2        559          679                  0\n",
       "10  20            9        575          108                  0"
      ]
     },
     "execution_count": 7,
     "metadata": {},
     "output_type": "execute_result"
    }
   ],
   "source": [
    "train.head(11) #Gives the first 10 values of data"
   ]
  },
  {
   "cell_type": "code",
   "execution_count": 8,
   "metadata": {},
   "outputs": [
    {
     "name": "stdout",
     "output_type": "stream",
     "text": [
      "<class 'pandas.core.frame.DataFrame'>\n",
      "RangeIndex: 78369 entries, 0 to 78368\n",
      "Data columns (total 5 columns):\n",
      " #   Column             Non-Null Count  Dtype\n",
      "---  ------             --------------  -----\n",
      " 0   id                 78369 non-null  int64\n",
      " 1   campaign_id        78369 non-null  int64\n",
      " 2   coupon_id          78369 non-null  int64\n",
      " 3   customer_id        78369 non-null  int64\n",
      " 4   redemption_status  78369 non-null  int64\n",
      "dtypes: int64(5)\n",
      "memory usage: 3.0 MB\n"
     ]
    }
   ],
   "source": [
    "train.info() #Gives the information about train_data"
   ]
  },
  {
   "cell_type": "code",
   "execution_count": 9,
   "metadata": {},
   "outputs": [
    {
     "data": {
      "text/plain": [
       "18"
      ]
     },
     "execution_count": 9,
     "metadata": {},
     "output_type": "execute_result"
    }
   ],
   "source": [
    "len(train.campaign_id.unique()) #collect all the id and give exect number and length"
   ]
  },
  {
   "cell_type": "code",
   "execution_count": 10,
   "metadata": {},
   "outputs": [],
   "source": [
    "D=train.redemption_status.value_counts() #Gives the count of 0's and 1's"
   ]
  },
  {
   "cell_type": "code",
   "execution_count": 11,
   "metadata": {},
   "outputs": [
    {
     "data": {
      "text/plain": [
       "0    77640\n",
       "1      729\n",
       "Name: redemption_status, dtype: int64"
      ]
     },
     "execution_count": 11,
     "metadata": {},
     "output_type": "execute_result"
    }
   ],
   "source": [
    "D"
   ]
  },
  {
   "cell_type": "code",
   "execution_count": 12,
   "metadata": {
    "scrolled": true
   },
   "outputs": [
    {
     "data": {
      "text/plain": [
       "Text(0.5, 0, 'class')"
      ]
     },
     "execution_count": 12,
     "metadata": {},
     "output_type": "execute_result"
    },
    {
     "data": {
      "image/png": "[encoded data removed]",
      "text/plain": [
       "<Figure size 432x288 with 1 Axes>"
      ]
     },
     "metadata": {},
     "output_type": "display_data"
    }
   ],
   "source": [
    "D.plot.bar()  #Graph\n",
    "plt.title('redemption_status')\n",
    "plt.ylabel('Total Coupan count')\n",
    "plt.xlabel('class')"
   ]
  },
  {
   "cell_type": "code",
   "execution_count": 13,
   "metadata": {},
   "outputs": [
    {
     "data": {
      "text/plain": [
       "0.930214753282548"
      ]
     },
     "execution_count": 13,
     "metadata": {},
     "output_type": "execute_result"
    }
   ],
   "source": [
    "729/(78369)*100  #Getting Percentage of Redemption_status"
   ]
  },
  {
   "cell_type": "markdown",
   "metadata": {},
   "source": [
    "We get 0.93% of coupan redemption_status"
   ]
  },
  {
   "cell_type": "markdown",
   "metadata": {},
   "source": [
    "As we can see that data is havily tipped to one side we have to use either OVER or UNDER sampling"
   ]
  },
  {
   "cell_type": "markdown",
   "metadata": {},
   "source": [
    "if we have to make class 0 data as class 1 to fit the orignal data we use (Under Sampling)\n",
    "if we have to make class 1 data as class 0 to fit the orignal data we use (Over Sampling)"
   ]
  },
  {
   "cell_type": "markdown",
   "metadata": {},
   "source": [
    "Let us see each campaign have unique set of coupons or do coupons overlap in different campaigns"
   ]
  },
  {
   "cell_type": "code",
   "execution_count": 14,
   "metadata": {},
   "outputs": [],
   "source": [
    "coupon_use = {}\n",
    "for coupons in train.coupon_id.unique():\n",
    "    camp =  len(train[train.coupon_id==coupons].campaign_id.unique())  #camp = number of camp use the coupon\n",
    "    if camp in coupon_use.keys():        #collect coupon ids that were used camp times\n",
    "         coupon_use[camp].append(coupons)\n",
    "    else:\n",
    "         coupon_use[camp] = [coupons]"
   ]
  },
  {
   "cell_type": "code",
   "execution_count": 15,
   "metadata": {},
   "outputs": [
    {
     "data": {
      "image/png": "[encoded data removed]",
      "text/plain": [
       "<Figure size 432x288 with 1 Axes>"
      ]
     },
     "metadata": {},
     "output_type": "display_data"
    }
   ],
   "source": [
    "coupon_freq = {}  #coupon_frequency\n",
    "\n",
    "for camp in coupon_use.keys():\n",
    "    coupon_freq[camp]= len(coupon_use[camp])/len(train.coupon_id.unique())*100\n",
    "\n",
    "plt.bar(coupon_freq.keys(),coupon_freq.values())\n",
    "\n",
    "# Text on the top of each barplot\n",
    "label = [len(x) for x in coupon_use.values()]\n",
    "x_loc = np.array([x for x in coupon_freq.keys()])-0.2\n",
    "y_loc = np.array([x for x in coupon_freq.values()]) + 0.1\n",
    "for i in range(5):\n",
    "    plt.text(x = x_loc[i] , y = y_loc[i], s = label[i], size = 10)\n",
    "plt.title('The number of campagians that each coupon was used'.title())\n",
    "plt.ylabel('% of total coupons(coupon counts on each bar)'.title())\n",
    "plt.xlabel('number of campaigns'.title())\n",
    "plt.show()"
   ]
  },
  {
   "cell_type": "markdown",
   "metadata": {},
   "source": [
    "Campaign Data    "
   ]
  },
  {
   "cell_type": "code",
   "execution_count": 16,
   "metadata": {
    "scrolled": true
   },
   "outputs": [
    {
     "data": {
      "text/html": [
       "<div>\n",
       "<style scoped>\n",
       "    .dataframe tbody tr th:only-of-type {\n",
       "        vertical-align: middle;\n",
       "    }\n",
       "\n",
       "    .dataframe tbody tr th {\n",
       "        vertical-align: top;\n",
       "    }\n",
       "\n",
       "    .dataframe thead th {\n",
       "        text-align: right;\n",
       "    }\n",
       "</style>\n",
       "<table border=\"1\" class=\"dataframe\">\n",
       "  <thead>\n",
       "    <tr style=\"text-align: right;\">\n",
       "      <th></th>\n",
       "      <th>campaign_id</th>\n",
       "      <th>campaign_type</th>\n",
       "      <th>start_date</th>\n",
       "      <th>end_date</th>\n",
       "    </tr>\n",
       "  </thead>\n",
       "  <tbody>\n",
       "    <tr>\n",
       "      <th>0</th>\n",
       "      <td>24</td>\n",
       "      <td>Y</td>\n",
       "      <td>21/10/13</td>\n",
       "      <td>20/12/13</td>\n",
       "    </tr>\n",
       "    <tr>\n",
       "      <th>1</th>\n",
       "      <td>25</td>\n",
       "      <td>Y</td>\n",
       "      <td>21/10/13</td>\n",
       "      <td>22/11/13</td>\n",
       "    </tr>\n",
       "    <tr>\n",
       "      <th>2</th>\n",
       "      <td>20</td>\n",
       "      <td>Y</td>\n",
       "      <td>07/09/13</td>\n",
       "      <td>16/11/13</td>\n",
       "    </tr>\n",
       "    <tr>\n",
       "      <th>3</th>\n",
       "      <td>23</td>\n",
       "      <td>Y</td>\n",
       "      <td>08/10/13</td>\n",
       "      <td>15/11/13</td>\n",
       "    </tr>\n",
       "    <tr>\n",
       "      <th>4</th>\n",
       "      <td>21</td>\n",
       "      <td>Y</td>\n",
       "      <td>16/09/13</td>\n",
       "      <td>18/10/13</td>\n",
       "    </tr>\n",
       "    <tr>\n",
       "      <th>5</th>\n",
       "      <td>22</td>\n",
       "      <td>X</td>\n",
       "      <td>16/09/13</td>\n",
       "      <td>18/10/13</td>\n",
       "    </tr>\n",
       "    <tr>\n",
       "      <th>6</th>\n",
       "      <td>18</td>\n",
       "      <td>X</td>\n",
       "      <td>10/08/13</td>\n",
       "      <td>04/10/13</td>\n",
       "    </tr>\n",
       "    <tr>\n",
       "      <th>7</th>\n",
       "      <td>19</td>\n",
       "      <td>Y</td>\n",
       "      <td>26/08/13</td>\n",
       "      <td>27/09/13</td>\n",
       "    </tr>\n",
       "    <tr>\n",
       "      <th>8</th>\n",
       "      <td>17</td>\n",
       "      <td>Y</td>\n",
       "      <td>29/07/13</td>\n",
       "      <td>30/08/13</td>\n",
       "    </tr>\n",
       "    <tr>\n",
       "      <th>9</th>\n",
       "      <td>16</td>\n",
       "      <td>Y</td>\n",
       "      <td>15/07/13</td>\n",
       "      <td>16/08/13</td>\n",
       "    </tr>\n",
       "    <tr>\n",
       "      <th>10</th>\n",
       "      <td>13</td>\n",
       "      <td>X</td>\n",
       "      <td>19/05/13</td>\n",
       "      <td>05/07/13</td>\n",
       "    </tr>\n",
       "  </tbody>\n",
       "</table>\n",
       "</div>"
      ],
      "text/plain": [
       "    campaign_id campaign_type start_date  end_date\n",
       "0            24             Y   21/10/13  20/12/13\n",
       "1            25             Y   21/10/13  22/11/13\n",
       "2            20             Y   07/09/13  16/11/13\n",
       "3            23             Y   08/10/13  15/11/13\n",
       "4            21             Y   16/09/13  18/10/13\n",
       "5            22             X   16/09/13  18/10/13\n",
       "6            18             X   10/08/13  04/10/13\n",
       "7            19             Y   26/08/13  27/09/13\n",
       "8            17             Y   29/07/13  30/08/13\n",
       "9            16             Y   15/07/13  16/08/13\n",
       "10           13             X   19/05/13  05/07/13"
      ]
     },
     "execution_count": 16,
     "metadata": {},
     "output_type": "execute_result"
    }
   ],
   "source": [
    "campaign.head(11) #Gives the first 10 values of data"
   ]
  },
  {
   "cell_type": "code",
   "execution_count": 17,
   "metadata": {},
   "outputs": [
    {
     "name": "stdout",
     "output_type": "stream",
     "text": [
      "<class 'pandas.core.frame.DataFrame'>\n",
      "RangeIndex: 28 entries, 0 to 27\n",
      "Data columns (total 4 columns):\n",
      " #   Column         Non-Null Count  Dtype \n",
      "---  ------         --------------  ----- \n",
      " 0   campaign_id    28 non-null     int64 \n",
      " 1   campaign_type  28 non-null     object\n",
      " 2   start_date     28 non-null     object\n",
      " 3   end_date       28 non-null     object\n",
      "dtypes: int64(1), object(3)\n",
      "memory usage: 1.0+ KB\n"
     ]
    }
   ],
   "source": [
    "campaign.info() #Gives information"
   ]
  },
  {
   "cell_type": "code",
   "execution_count": 18,
   "metadata": {},
   "outputs": [
    {
     "data": {
      "text/plain": [
       "28"
      ]
     },
     "execution_count": 18,
     "metadata": {},
     "output_type": "execute_result"
    }
   ],
   "source": [
    "len(campaign.campaign_id.unique()) #Gives all unoque values"
   ]
  },
  {
   "cell_type": "markdown",
   "metadata": {},
   "source": [
    "There are 28 campaign"
   ]
  },
  {
   "cell_type": "code",
   "execution_count": 19,
   "metadata": {},
   "outputs": [
    {
     "data": {
      "text/plain": [
       "Y    22\n",
       "X     6\n",
       "Name: campaign_type, dtype: int64"
      ]
     },
     "execution_count": 19,
     "metadata": {},
     "output_type": "execute_result"
    }
   ],
   "source": [
    "D = campaign.campaign_type.value_counts() #it counts X and Y values\n",
    "D"
   ]
  },
  {
   "cell_type": "code",
   "execution_count": 20,
   "metadata": {},
   "outputs": [
    {
     "data": {
      "text/plain": [
       "<matplotlib.axes._subplots.AxesSubplot at 0x7f400d110eb0>"
      ]
     },
     "execution_count": 20,
     "metadata": {},
     "output_type": "execute_result"
    },
    {
     "data": {
      "image/png": "[encoded data removed]",
      "text/plain": [
       "<Figure size 432x288 with 1 Axes>"
      ]
     },
     "metadata": {},
     "output_type": "display_data"
    }
   ],
   "source": [
    "D.plot.pie() #graph"
   ]
  },
  {
   "cell_type": "markdown",
   "metadata": {},
   "source": [
    "Coupan Data"
   ]
  },
  {
   "cell_type": "code",
   "execution_count": 21,
   "metadata": {},
   "outputs": [
    {
     "data": {
      "text/html": [
       "<div>\n",
       "<style scoped>\n",
       "    .dataframe tbody tr th:only-of-type {\n",
       "        vertical-align: middle;\n",
       "    }\n",
       "\n",
       "    .dataframe tbody tr th {\n",
       "        vertical-align: top;\n",
       "    }\n",
       "\n",
       "    .dataframe thead th {\n",
       "        text-align: right;\n",
       "    }\n",
       "</style>\n",
       "<table border=\"1\" class=\"dataframe\">\n",
       "  <thead>\n",
       "    <tr style=\"text-align: right;\">\n",
       "      <th></th>\n",
       "      <th>coupon_id</th>\n",
       "      <th>item_id</th>\n",
       "    </tr>\n",
       "  </thead>\n",
       "  <tbody>\n",
       "    <tr>\n",
       "      <th>0</th>\n",
       "      <td>105</td>\n",
       "      <td>37</td>\n",
       "    </tr>\n",
       "    <tr>\n",
       "      <th>1</th>\n",
       "      <td>107</td>\n",
       "      <td>75</td>\n",
       "    </tr>\n",
       "    <tr>\n",
       "      <th>2</th>\n",
       "      <td>494</td>\n",
       "      <td>76</td>\n",
       "    </tr>\n",
       "    <tr>\n",
       "      <th>3</th>\n",
       "      <td>522</td>\n",
       "      <td>77</td>\n",
       "    </tr>\n",
       "    <tr>\n",
       "      <th>4</th>\n",
       "      <td>518</td>\n",
       "      <td>77</td>\n",
       "    </tr>\n",
       "    <tr>\n",
       "      <th>5</th>\n",
       "      <td>520</td>\n",
       "      <td>77</td>\n",
       "    </tr>\n",
       "    <tr>\n",
       "      <th>6</th>\n",
       "      <td>529</td>\n",
       "      <td>77</td>\n",
       "    </tr>\n",
       "    <tr>\n",
       "      <th>7</th>\n",
       "      <td>524</td>\n",
       "      <td>77</td>\n",
       "    </tr>\n",
       "    <tr>\n",
       "      <th>8</th>\n",
       "      <td>522</td>\n",
       "      <td>81</td>\n",
       "    </tr>\n",
       "    <tr>\n",
       "      <th>9</th>\n",
       "      <td>518</td>\n",
       "      <td>81</td>\n",
       "    </tr>\n",
       "    <tr>\n",
       "      <th>10</th>\n",
       "      <td>520</td>\n",
       "      <td>81</td>\n",
       "    </tr>\n",
       "  </tbody>\n",
       "</table>\n",
       "</div>"
      ],
      "text/plain": [
       "    coupon_id  item_id\n",
       "0         105       37\n",
       "1         107       75\n",
       "2         494       76\n",
       "3         522       77\n",
       "4         518       77\n",
       "5         520       77\n",
       "6         529       77\n",
       "7         524       77\n",
       "8         522       81\n",
       "9         518       81\n",
       "10        520       81"
      ]
     },
     "execution_count": 21,
     "metadata": {},
     "output_type": "execute_result"
    }
   ],
   "source": [
    "coupon.head(11)  #Gives the first 10 values of data"
   ]
  },
  {
   "cell_type": "code",
   "execution_count": 22,
   "metadata": {},
   "outputs": [
    {
     "name": "stdout",
     "output_type": "stream",
     "text": [
      "<class 'pandas.core.frame.DataFrame'>\n",
      "RangeIndex: 92663 entries, 0 to 92662\n",
      "Data columns (total 2 columns):\n",
      " #   Column     Non-Null Count  Dtype\n",
      "---  ------     --------------  -----\n",
      " 0   coupon_id  92663 non-null  int64\n",
      " 1   item_id    92663 non-null  int64\n",
      "dtypes: int64(2)\n",
      "memory usage: 1.4 MB\n"
     ]
    }
   ],
   "source": [
    "coupon.info() #it gives information"
   ]
  },
  {
   "cell_type": "code",
   "execution_count": 23,
   "metadata": {},
   "outputs": [
    {
     "data": {
      "text/plain": [
       "53          1\n",
       "929         1\n",
       "54          1\n",
       "1013        1\n",
       "1086        1\n",
       "        ...  \n",
       "33       4394\n",
       "31       4873\n",
       "22       4947\n",
       "23      11813\n",
       "32      11814\n",
       "Name: coupon_id, Length: 1116, dtype: int64"
      ]
     },
     "execution_count": 23,
     "metadata": {},
     "output_type": "execute_result"
    }
   ],
   "source": [
    "coupon.coupon_id.value_counts().sort_values() \n",
    "#it count all coupan id and make it unique and count number in ascending"
   ]
  },
  {
   "cell_type": "code",
   "execution_count": 24,
   "metadata": {},
   "outputs": [
    {
     "data": {
      "text/plain": [
       "36289"
      ]
     },
     "execution_count": 24,
     "metadata": {},
     "output_type": "execute_result"
    }
   ],
   "source": [
    "len(coupon.item_id.unique()) # find length of item_id"
   ]
  },
  {
   "cell_type": "code",
   "execution_count": 25,
   "metadata": {},
   "outputs": [
    {
     "data": {
      "text/plain": [
       "1116"
      ]
     },
     "execution_count": 25,
     "metadata": {},
     "output_type": "execute_result"
    }
   ],
   "source": [
    "len(coupon.coupon_id.unique()) # find length of coupon_id"
   ]
  },
  {
   "cell_type": "markdown",
   "metadata": {},
   "source": [
    "As we can see there are coupan that are used by multiple items."
   ]
  },
  {
   "cell_type": "markdown",
   "metadata": {},
   "source": [
    "Customer Demographics"
   ]
  },
  {
   "cell_type": "code",
   "execution_count": 26,
   "metadata": {},
   "outputs": [
    {
     "data": {
      "text/html": [
       "<div>\n",
       "<style scoped>\n",
       "    .dataframe tbody tr th:only-of-type {\n",
       "        vertical-align: middle;\n",
       "    }\n",
       "\n",
       "    .dataframe tbody tr th {\n",
       "        vertical-align: top;\n",
       "    }\n",
       "\n",
       "    .dataframe thead th {\n",
       "        text-align: right;\n",
       "    }\n",
       "</style>\n",
       "<table border=\"1\" class=\"dataframe\">\n",
       "  <thead>\n",
       "    <tr style=\"text-align: right;\">\n",
       "      <th></th>\n",
       "      <th>customer_id</th>\n",
       "      <th>age_range</th>\n",
       "      <th>marital_status</th>\n",
       "      <th>rented</th>\n",
       "      <th>family_size</th>\n",
       "      <th>no_of_children</th>\n",
       "      <th>income_bracket</th>\n",
       "    </tr>\n",
       "  </thead>\n",
       "  <tbody>\n",
       "    <tr>\n",
       "      <th>0</th>\n",
       "      <td>1</td>\n",
       "      <td>70+</td>\n",
       "      <td>Married</td>\n",
       "      <td>0</td>\n",
       "      <td>2</td>\n",
       "      <td>NaN</td>\n",
       "      <td>4</td>\n",
       "    </tr>\n",
       "    <tr>\n",
       "      <th>1</th>\n",
       "      <td>6</td>\n",
       "      <td>46-55</td>\n",
       "      <td>Married</td>\n",
       "      <td>0</td>\n",
       "      <td>2</td>\n",
       "      <td>NaN</td>\n",
       "      <td>5</td>\n",
       "    </tr>\n",
       "    <tr>\n",
       "      <th>2</th>\n",
       "      <td>7</td>\n",
       "      <td>26-35</td>\n",
       "      <td>NaN</td>\n",
       "      <td>0</td>\n",
       "      <td>3</td>\n",
       "      <td>1</td>\n",
       "      <td>3</td>\n",
       "    </tr>\n",
       "    <tr>\n",
       "      <th>3</th>\n",
       "      <td>8</td>\n",
       "      <td>26-35</td>\n",
       "      <td>NaN</td>\n",
       "      <td>0</td>\n",
       "      <td>4</td>\n",
       "      <td>2</td>\n",
       "      <td>6</td>\n",
       "    </tr>\n",
       "    <tr>\n",
       "      <th>4</th>\n",
       "      <td>10</td>\n",
       "      <td>46-55</td>\n",
       "      <td>Single</td>\n",
       "      <td>0</td>\n",
       "      <td>1</td>\n",
       "      <td>NaN</td>\n",
       "      <td>5</td>\n",
       "    </tr>\n",
       "    <tr>\n",
       "      <th>5</th>\n",
       "      <td>11</td>\n",
       "      <td>70+</td>\n",
       "      <td>Single</td>\n",
       "      <td>0</td>\n",
       "      <td>2</td>\n",
       "      <td>NaN</td>\n",
       "      <td>1</td>\n",
       "    </tr>\n",
       "    <tr>\n",
       "      <th>6</th>\n",
       "      <td>12</td>\n",
       "      <td>46-55</td>\n",
       "      <td>Married</td>\n",
       "      <td>0</td>\n",
       "      <td>2</td>\n",
       "      <td>NaN</td>\n",
       "      <td>7</td>\n",
       "    </tr>\n",
       "    <tr>\n",
       "      <th>7</th>\n",
       "      <td>13</td>\n",
       "      <td>36-45</td>\n",
       "      <td>Single</td>\n",
       "      <td>0</td>\n",
       "      <td>1</td>\n",
       "      <td>NaN</td>\n",
       "      <td>2</td>\n",
       "    </tr>\n",
       "    <tr>\n",
       "      <th>8</th>\n",
       "      <td>14</td>\n",
       "      <td>26-35</td>\n",
       "      <td>Married</td>\n",
       "      <td>1</td>\n",
       "      <td>2</td>\n",
       "      <td>NaN</td>\n",
       "      <td>6</td>\n",
       "    </tr>\n",
       "    <tr>\n",
       "      <th>9</th>\n",
       "      <td>15</td>\n",
       "      <td>46-55</td>\n",
       "      <td>Married</td>\n",
       "      <td>0</td>\n",
       "      <td>2</td>\n",
       "      <td>NaN</td>\n",
       "      <td>6</td>\n",
       "    </tr>\n",
       "    <tr>\n",
       "      <th>10</th>\n",
       "      <td>17</td>\n",
       "      <td>36-45</td>\n",
       "      <td>NaN</td>\n",
       "      <td>0</td>\n",
       "      <td>1</td>\n",
       "      <td>NaN</td>\n",
       "      <td>5</td>\n",
       "    </tr>\n",
       "  </tbody>\n",
       "</table>\n",
       "</div>"
      ],
      "text/plain": [
       "    customer_id age_range marital_status  rented family_size no_of_children  \\\n",
       "0             1       70+        Married       0           2            NaN   \n",
       "1             6     46-55        Married       0           2            NaN   \n",
       "2             7     26-35            NaN       0           3              1   \n",
       "3             8     26-35            NaN       0           4              2   \n",
       "4            10     46-55         Single       0           1            NaN   \n",
       "5            11       70+         Single       0           2            NaN   \n",
       "6            12     46-55        Married       0           2            NaN   \n",
       "7            13     36-45         Single       0           1            NaN   \n",
       "8            14     26-35        Married       1           2            NaN   \n",
       "9            15     46-55        Married       0           2            NaN   \n",
       "10           17     36-45            NaN       0           1            NaN   \n",
       "\n",
       "    income_bracket  \n",
       "0                4  \n",
       "1                5  \n",
       "2                3  \n",
       "3                6  \n",
       "4                5  \n",
       "5                1  \n",
       "6                7  \n",
       "7                2  \n",
       "8                6  \n",
       "9                6  \n",
       "10               5  "
      ]
     },
     "execution_count": 26,
     "metadata": {},
     "output_type": "execute_result"
    }
   ],
   "source": [
    "demograph.head(11)  #Gives the first 10 values of data"
   ]
  },
  {
   "cell_type": "code",
   "execution_count": 27,
   "metadata": {},
   "outputs": [
    {
     "name": "stdout",
     "output_type": "stream",
     "text": [
      "<class 'pandas.core.frame.DataFrame'>\n",
      "RangeIndex: 760 entries, 0 to 759\n",
      "Data columns (total 7 columns):\n",
      " #   Column          Non-Null Count  Dtype \n",
      "---  ------          --------------  ----- \n",
      " 0   customer_id     760 non-null    int64 \n",
      " 1   age_range       760 non-null    object\n",
      " 2   marital_status  431 non-null    object\n",
      " 3   rented          760 non-null    int64 \n",
      " 4   family_size     760 non-null    object\n",
      " 5   no_of_children  222 non-null    object\n",
      " 6   income_bracket  760 non-null    int64 \n",
      "dtypes: int64(3), object(4)\n",
      "memory usage: 41.7+ KB\n"
     ]
    }
   ],
   "source": [
    "demograph.info()"
   ]
  },
  {
   "cell_type": "code",
   "execution_count": 28,
   "metadata": {},
   "outputs": [
    {
     "data": {
      "text/plain": [
       "4      48\n",
       "5+     57\n",
       "3     104\n",
       "1     248\n",
       "2     303\n",
       "Name: family_size, dtype: int64"
      ]
     },
     "execution_count": 28,
     "metadata": {},
     "output_type": "execute_result"
    }
   ],
   "source": [
    "demograph.family_size.value_counts().sort_values() #count the size of family"
   ]
  },
  {
   "cell_type": "code",
   "execution_count": 29,
   "metadata": {},
   "outputs": [
    {
     "data": {
      "text/plain": [
       "Married    317\n",
       "Single     114\n",
       "Name: marital_status, dtype: int64"
      ]
     },
     "execution_count": 29,
     "metadata": {},
     "output_type": "execute_result"
    }
   ],
   "source": [
    "demograph.marital_status.value_counts() #count number of married and single customer"
   ]
  },
  {
   "cell_type": "code",
   "execution_count": 30,
   "metadata": {},
   "outputs": [
    {
     "data": {
      "text/plain": [
       "1     107\n",
       "3+     60\n",
       "2      55\n",
       "Name: no_of_children, dtype: int64"
      ]
     },
     "execution_count": 30,
     "metadata": {},
     "output_type": "execute_result"
    }
   ],
   "source": [
    "demograph.no_of_children.value_counts() #count the number of children "
   ]
  },
  {
   "cell_type": "markdown",
   "metadata": {},
   "source": [
    "Customer Transaction Data"
   ]
  },
  {
   "cell_type": "code",
   "execution_count": 31,
   "metadata": {},
   "outputs": [
    {
     "data": {
      "text/html": [
       "<div>\n",
       "<style scoped>\n",
       "    .dataframe tbody tr th:only-of-type {\n",
       "        vertical-align: middle;\n",
       "    }\n",
       "\n",
       "    .dataframe tbody tr th {\n",
       "        vertical-align: top;\n",
       "    }\n",
       "\n",
       "    .dataframe thead th {\n",
       "        text-align: right;\n",
       "    }\n",
       "</style>\n",
       "<table border=\"1\" class=\"dataframe\">\n",
       "  <thead>\n",
       "    <tr style=\"text-align: right;\">\n",
       "      <th></th>\n",
       "      <th>date</th>\n",
       "      <th>customer_id</th>\n",
       "      <th>item_id</th>\n",
       "      <th>quantity</th>\n",
       "      <th>selling_price</th>\n",
       "      <th>other_discount</th>\n",
       "      <th>coupon_discount</th>\n",
       "    </tr>\n",
       "  </thead>\n",
       "  <tbody>\n",
       "    <tr>\n",
       "      <th>0</th>\n",
       "      <td>2012-01-02</td>\n",
       "      <td>1501</td>\n",
       "      <td>26830</td>\n",
       "      <td>1</td>\n",
       "      <td>35.26</td>\n",
       "      <td>-10.69</td>\n",
       "      <td>0.0</td>\n",
       "    </tr>\n",
       "    <tr>\n",
       "      <th>1</th>\n",
       "      <td>2012-01-02</td>\n",
       "      <td>1501</td>\n",
       "      <td>54253</td>\n",
       "      <td>1</td>\n",
       "      <td>53.43</td>\n",
       "      <td>-13.89</td>\n",
       "      <td>0.0</td>\n",
       "    </tr>\n",
       "    <tr>\n",
       "      <th>2</th>\n",
       "      <td>2012-01-02</td>\n",
       "      <td>1501</td>\n",
       "      <td>31962</td>\n",
       "      <td>1</td>\n",
       "      <td>106.50</td>\n",
       "      <td>-14.25</td>\n",
       "      <td>0.0</td>\n",
       "    </tr>\n",
       "    <tr>\n",
       "      <th>3</th>\n",
       "      <td>2012-01-02</td>\n",
       "      <td>1501</td>\n",
       "      <td>33647</td>\n",
       "      <td>1</td>\n",
       "      <td>67.32</td>\n",
       "      <td>0.00</td>\n",
       "      <td>0.0</td>\n",
       "    </tr>\n",
       "    <tr>\n",
       "      <th>4</th>\n",
       "      <td>2012-01-02</td>\n",
       "      <td>1501</td>\n",
       "      <td>48199</td>\n",
       "      <td>1</td>\n",
       "      <td>71.24</td>\n",
       "      <td>-28.14</td>\n",
       "      <td>0.0</td>\n",
       "    </tr>\n",
       "    <tr>\n",
       "      <th>5</th>\n",
       "      <td>2012-01-02</td>\n",
       "      <td>1501</td>\n",
       "      <td>57397</td>\n",
       "      <td>1</td>\n",
       "      <td>71.24</td>\n",
       "      <td>-28.14</td>\n",
       "      <td>0.0</td>\n",
       "    </tr>\n",
       "    <tr>\n",
       "      <th>6</th>\n",
       "      <td>2012-01-02</td>\n",
       "      <td>857</td>\n",
       "      <td>12424</td>\n",
       "      <td>1</td>\n",
       "      <td>106.50</td>\n",
       "      <td>-14.25</td>\n",
       "      <td>0.0</td>\n",
       "    </tr>\n",
       "    <tr>\n",
       "      <th>7</th>\n",
       "      <td>2012-01-02</td>\n",
       "      <td>857</td>\n",
       "      <td>14930</td>\n",
       "      <td>1</td>\n",
       "      <td>110.07</td>\n",
       "      <td>0.00</td>\n",
       "      <td>0.0</td>\n",
       "    </tr>\n",
       "    <tr>\n",
       "      <th>8</th>\n",
       "      <td>2012-01-02</td>\n",
       "      <td>857</td>\n",
       "      <td>16657</td>\n",
       "      <td>1</td>\n",
       "      <td>89.05</td>\n",
       "      <td>-35.26</td>\n",
       "      <td>0.0</td>\n",
       "    </tr>\n",
       "    <tr>\n",
       "      <th>9</th>\n",
       "      <td>2012-01-02</td>\n",
       "      <td>67</td>\n",
       "      <td>10537</td>\n",
       "      <td>3</td>\n",
       "      <td>32.06</td>\n",
       "      <td>0.00</td>\n",
       "      <td>0.0</td>\n",
       "    </tr>\n",
       "    <tr>\n",
       "      <th>10</th>\n",
       "      <td>2012-01-02</td>\n",
       "      <td>67</td>\n",
       "      <td>19560</td>\n",
       "      <td>2</td>\n",
       "      <td>106.86</td>\n",
       "      <td>-2.85</td>\n",
       "      <td>0.0</td>\n",
       "    </tr>\n",
       "  </tbody>\n",
       "</table>\n",
       "</div>"
      ],
      "text/plain": [
       "          date  customer_id  item_id  quantity  selling_price  other_discount  \\\n",
       "0   2012-01-02         1501    26830         1          35.26          -10.69   \n",
       "1   2012-01-02         1501    54253         1          53.43          -13.89   \n",
       "2   2012-01-02         1501    31962         1         106.50          -14.25   \n",
       "3   2012-01-02         1501    33647         1          67.32            0.00   \n",
       "4   2012-01-02         1501    48199         1          71.24          -28.14   \n",
       "5   2012-01-02         1501    57397         1          71.24          -28.14   \n",
       "6   2012-01-02          857    12424         1         106.50          -14.25   \n",
       "7   2012-01-02          857    14930         1         110.07            0.00   \n",
       "8   2012-01-02          857    16657         1          89.05          -35.26   \n",
       "9   2012-01-02           67    10537         3          32.06            0.00   \n",
       "10  2012-01-02           67    19560         2         106.86           -2.85   \n",
       "\n",
       "    coupon_discount  \n",
       "0               0.0  \n",
       "1               0.0  \n",
       "2               0.0  \n",
       "3               0.0  \n",
       "4               0.0  \n",
       "5               0.0  \n",
       "6               0.0  \n",
       "7               0.0  \n",
       "8               0.0  \n",
       "9               0.0  \n",
       "10              0.0  "
      ]
     },
     "execution_count": 31,
     "metadata": {},
     "output_type": "execute_result"
    }
   ],
   "source": [
    "transaction.head(11)  #Gives the first 10 values of data"
   ]
  },
  {
   "cell_type": "code",
   "execution_count": 32,
   "metadata": {},
   "outputs": [
    {
     "name": "stdout",
     "output_type": "stream",
     "text": [
      "<class 'pandas.core.frame.DataFrame'>\n",
      "RangeIndex: 1324566 entries, 0 to 1324565\n",
      "Data columns (total 7 columns):\n",
      " #   Column           Non-Null Count    Dtype  \n",
      "---  ------           --------------    -----  \n",
      " 0   date             1324566 non-null  object \n",
      " 1   customer_id      1324566 non-null  int64  \n",
      " 2   item_id          1324566 non-null  int64  \n",
      " 3   quantity         1324566 non-null  int64  \n",
      " 4   selling_price    1324566 non-null  float64\n",
      " 5   other_discount   1324566 non-null  float64\n",
      " 6   coupon_discount  1324566 non-null  float64\n",
      "dtypes: float64(3), int64(3), object(1)\n",
      "memory usage: 70.7+ MB\n"
     ]
    }
   ],
   "source": [
    "transaction.info() #gives the information"
   ]
  },
  {
   "cell_type": "code",
   "execution_count": 33,
   "metadata": {},
   "outputs": [
    {
     "data": {
      "text/plain": [
       "1326      79\n",
       "907       80\n",
       "406       83\n",
       "1180      83\n",
       "1150      87\n",
       "        ... \n",
       "1011    3862\n",
       "1475    3945\n",
       "464     4134\n",
       "711     4173\n",
       "1555    4522\n",
       "Name: customer_id, Length: 1582, dtype: int64"
      ]
     },
     "execution_count": 33,
     "metadata": {},
     "output_type": "execute_result"
    }
   ],
   "source": [
    "transaction.customer_id.value_counts().sort_values() #count customer_id same number "
   ]
  },
  {
   "cell_type": "code",
   "execution_count": 34,
   "metadata": {},
   "outputs": [
    {
     "data": {
      "text/plain": [
       "6425           1\n",
       "8303           1\n",
       "17507          1\n",
       "7272           1\n",
       "22471          1\n",
       "          ...   \n",
       "5           5382\n",
       "4          18745\n",
       "3          33094\n",
       "2         188907\n",
       "1        1054059\n",
       "Name: quantity, Length: 9252, dtype: int64"
      ]
     },
     "execution_count": 34,
     "metadata": {},
     "output_type": "execute_result"
    }
   ],
   "source": [
    "transaction.quantity.value_counts().sort_values() # count the quantity of transection"
   ]
  },
  {
   "cell_type": "code",
   "execution_count": 35,
   "metadata": {},
   "outputs": [
    {
     "data": {
      "text/plain": [
       "21286"
      ]
     },
     "execution_count": 35,
     "metadata": {},
     "output_type": "execute_result"
    }
   ],
   "source": [
    "len(transaction[transaction.coupon_discount<0]) # gives the discount number "
   ]
  },
  {
   "cell_type": "code",
   "execution_count": 36,
   "metadata": {},
   "outputs": [
    {
     "data": {
      "text/plain": [
       "1.607016939888235"
      ]
     },
     "execution_count": 36,
     "metadata": {},
     "output_type": "execute_result"
    }
   ],
   "source": [
    "21286/1324566*100 #percentage"
   ]
  },
  {
   "cell_type": "markdown",
   "metadata": {},
   "source": [
    "There are 1.6% of transactions that received coupon discounts."
   ]
  },
  {
   "cell_type": "code",
   "execution_count": 37,
   "metadata": {},
   "outputs": [
    {
     "data": {
      "text/plain": [
       "array([    0.  ,   -35.62,   -14.25,   -26.71,   -21.02,   -19.59,\n",
       "         -80.14,   -17.81,    -8.9 ,  -102.94,   -71.24,   -21.37,\n",
       "         -10.69,   -12.47,  -178.1 ,  -106.86,   -53.43,   -35.26,\n",
       "         -12.11,  -213.72,   -56.64,   -28.14,   -44.52,  -569.92,\n",
       "         -53.07,   -62.33,   -49.87,   -37.4 ,   -24.93,   -32.06,\n",
       "        -213.36,  -355.84,  -142.12,   -17.45,   -39.18,   -40.96,\n",
       "        -142.48,  -109.71,    -7.12,   -88.69,  -427.44,   -45.95,\n",
       "         -89.05,   -16.03,  -113.63,  -106.5 ,   -70.53,   -31.35,\n",
       "         -58.77,  -117.55,   -60.2 ,   -78.36,  -128.23,   -23.51,\n",
       "         -79.79,   -28.5 ,   -92.26,  -177.74,   -47.73,  -554.96,\n",
       "         -27.07,    -5.34,  -498.32,   -90.83,  -108.64,   -95.11,\n",
       "        -319.87,   -30.28,  -284.6 ,   -70.88,  -124.67,  -152.81,\n",
       "         -60.55,  -356.2 ,   -91.9 ,  -512.57,  -113.27,  -184.16,\n",
       "        -117.19,  -160.29,  -184.87,  -249.34,   -55.21,   -95.82,\n",
       "         -42.74,  -195.55,   -97.96,   -94.39,   -23.15,   -27.78,\n",
       "        -110.42,   -42.39,  -127.88,   -30.63,  -277.48,   -69.1 ,\n",
       "         -78.01,  -199.12,  -248.98,   -23.87,   -43.46,   -89.41,\n",
       "         -64.12,  -211.23,   -38.47,   -41.32,  -169.91,  -111.85,\n",
       "         -48.09,   -82.64,  -284.96,  -177.39,  -134.64,   -47.37,\n",
       "         -46.31, -1068.24,   -63.76,  -320.22,  -103.3 ,   -49.51,\n",
       "        -120.75,   -67.32,   -59.49,  -334.12,   -38.83,  -234.38,\n",
       "        -509.01,   -42.03,  -641.16,  -712.4 ,  -102.59,  -266.79,\n",
       "        -135.  ,  -124.31,  -426.73,  -227.26,   -47.02,  -115.76,\n",
       "         -83.35,  -534.3 ,   -81.57,  -519.34,  -101.16,   -24.58,\n",
       "        -118.97,   -84.78,   -99.74,   -99.38,  -712.04,  -154.59,\n",
       "        -120.4 ,   -82.99,  -237.23,   -74.45,   -80.5 ,  -163.14,\n",
       "        -131.44,  -176.32,   -84.42,  -142.84,  -159.93,  -133.57,\n",
       "         -85.13,  -284.25,  -167.06,   -99.02,   -85.49, -1992.23,\n",
       "        -213.01,   -72.31,   -52.36,  -191.64,   -26.36,   -89.76,\n",
       "        -427.08,  -106.15,   -65.54,  -533.59,  -604.83,  -163.5 ,\n",
       "        -245.07,  -202.68,   -33.84,  -509.37,  -208.38,  -354.42,\n",
       "        -283.54,  -141.77,   -95.46,   -39.89,  -170.62,  -462.7 ,\n",
       "         -65.9 ,  -137.14,   -11.75,   -66.97,  -126.09,   -63.05,\n",
       "         -56.28,  -149.25,  -391.46,  -259.67,  -215.5 ,  -235.09,\n",
       "        -122.89,   -43.1 ,  -195.91,    -3.56,  -238.3 ,  -191.99,\n",
       "         -62.69, -1211.08,  -267.15,   -44.88,  -298.85,   -70.17,\n",
       "        -320.58,  -219.42,   -13.89,   -24.22,  -366.53,  -236.87,\n",
       "        -747.66,  -125.38,  -102.23,  -179.52,  -136.78,  -206.6 ,\n",
       "        -105.79,  -112.92,   -96.17,   -31.7 ])"
      ]
     },
     "execution_count": 37,
     "metadata": {},
     "output_type": "execute_result"
    }
   ],
   "source": [
    "transaction.coupon_discount.unique()"
   ]
  },
  {
   "cell_type": "code",
   "execution_count": 38,
   "metadata": {},
   "outputs": [
    {
     "data": {
      "text/html": [
       "<div>\n",
       "<style scoped>\n",
       "    .dataframe tbody tr th:only-of-type {\n",
       "        vertical-align: middle;\n",
       "    }\n",
       "\n",
       "    .dataframe tbody tr th {\n",
       "        vertical-align: top;\n",
       "    }\n",
       "\n",
       "    .dataframe thead th {\n",
       "        text-align: right;\n",
       "    }\n",
       "</style>\n",
       "<table border=\"1\" class=\"dataframe\">\n",
       "  <thead>\n",
       "    <tr style=\"text-align: right;\">\n",
       "      <th></th>\n",
       "      <th>count</th>\n",
       "      <th>mean</th>\n",
       "      <th>std</th>\n",
       "      <th>min</th>\n",
       "      <th>25%</th>\n",
       "      <th>50%</th>\n",
       "      <th>75%</th>\n",
       "      <th>max</th>\n",
       "    </tr>\n",
       "  </thead>\n",
       "  <tbody>\n",
       "    <tr>\n",
       "      <th>customer_id</th>\n",
       "      <td>1324566.0</td>\n",
       "      <td>804.001972</td>\n",
       "      <td>457.336313</td>\n",
       "      <td>1.00</td>\n",
       "      <td>418.00</td>\n",
       "      <td>801.00</td>\n",
       "      <td>1198.00</td>\n",
       "      <td>1582.00</td>\n",
       "    </tr>\n",
       "    <tr>\n",
       "      <th>item_id</th>\n",
       "      <td>1324566.0</td>\n",
       "      <td>29519.030160</td>\n",
       "      <td>17908.064406</td>\n",
       "      <td>1.00</td>\n",
       "      <td>14684.00</td>\n",
       "      <td>26597.00</td>\n",
       "      <td>42405.75</td>\n",
       "      <td>74066.00</td>\n",
       "    </tr>\n",
       "    <tr>\n",
       "      <th>quantity</th>\n",
       "      <td>1324566.0</td>\n",
       "      <td>130.663340</td>\n",
       "      <td>1311.545447</td>\n",
       "      <td>1.00</td>\n",
       "      <td>1.00</td>\n",
       "      <td>1.00</td>\n",
       "      <td>1.00</td>\n",
       "      <td>89638.00</td>\n",
       "    </tr>\n",
       "    <tr>\n",
       "      <th>selling_price</th>\n",
       "      <td>1324566.0</td>\n",
       "      <td>114.603633</td>\n",
       "      <td>152.905303</td>\n",
       "      <td>0.36</td>\n",
       "      <td>49.16</td>\n",
       "      <td>78.01</td>\n",
       "      <td>124.31</td>\n",
       "      <td>17809.64</td>\n",
       "    </tr>\n",
       "    <tr>\n",
       "      <th>other_discount</th>\n",
       "      <td>1324566.0</td>\n",
       "      <td>-17.768707</td>\n",
       "      <td>37.888674</td>\n",
       "      <td>-3120.31</td>\n",
       "      <td>-23.15</td>\n",
       "      <td>-1.78</td>\n",
       "      <td>0.00</td>\n",
       "      <td>0.00</td>\n",
       "    </tr>\n",
       "    <tr>\n",
       "      <th>coupon_discount</th>\n",
       "      <td>1324566.0</td>\n",
       "      <td>-0.594898</td>\n",
       "      <td>7.069367</td>\n",
       "      <td>-1992.23</td>\n",
       "      <td>0.00</td>\n",
       "      <td>0.00</td>\n",
       "      <td>0.00</td>\n",
       "      <td>0.00</td>\n",
       "    </tr>\n",
       "  </tbody>\n",
       "</table>\n",
       "</div>"
      ],
      "text/plain": [
       "                     count          mean           std      min       25%  \\\n",
       "customer_id      1324566.0    804.001972    457.336313     1.00    418.00   \n",
       "item_id          1324566.0  29519.030160  17908.064406     1.00  14684.00   \n",
       "quantity         1324566.0    130.663340   1311.545447     1.00      1.00   \n",
       "selling_price    1324566.0    114.603633    152.905303     0.36     49.16   \n",
       "other_discount   1324566.0    -17.768707     37.888674 -3120.31    -23.15   \n",
       "coupon_discount  1324566.0     -0.594898      7.069367 -1992.23      0.00   \n",
       "\n",
       "                      50%       75%       max  \n",
       "customer_id        801.00   1198.00   1582.00  \n",
       "item_id          26597.00  42405.75  74066.00  \n",
       "quantity             1.00      1.00  89638.00  \n",
       "selling_price       78.01    124.31  17809.64  \n",
       "other_discount      -1.78      0.00      0.00  \n",
       "coupon_discount      0.00      0.00      0.00  "
      ]
     },
     "execution_count": 38,
     "metadata": {},
     "output_type": "execute_result"
    }
   ],
   "source": [
    "transaction.describe().transpose()"
   ]
  },
  {
   "cell_type": "markdown",
   "metadata": {},
   "source": [
    "Item data"
   ]
  },
  {
   "cell_type": "code",
   "execution_count": 39,
   "metadata": {},
   "outputs": [
    {
     "data": {
      "text/html": [
       "<div>\n",
       "<style scoped>\n",
       "    .dataframe tbody tr th:only-of-type {\n",
       "        vertical-align: middle;\n",
       "    }\n",
       "\n",
       "    .dataframe tbody tr th {\n",
       "        vertical-align: top;\n",
       "    }\n",
       "\n",
       "    .dataframe thead th {\n",
       "        text-align: right;\n",
       "    }\n",
       "</style>\n",
       "<table border=\"1\" class=\"dataframe\">\n",
       "  <thead>\n",
       "    <tr style=\"text-align: right;\">\n",
       "      <th></th>\n",
       "      <th>item_id</th>\n",
       "      <th>brand</th>\n",
       "      <th>brand_type</th>\n",
       "      <th>category</th>\n",
       "    </tr>\n",
       "  </thead>\n",
       "  <tbody>\n",
       "    <tr>\n",
       "      <th>0</th>\n",
       "      <td>1</td>\n",
       "      <td>1</td>\n",
       "      <td>Established</td>\n",
       "      <td>Grocery</td>\n",
       "    </tr>\n",
       "    <tr>\n",
       "      <th>1</th>\n",
       "      <td>2</td>\n",
       "      <td>1</td>\n",
       "      <td>Established</td>\n",
       "      <td>Miscellaneous</td>\n",
       "    </tr>\n",
       "    <tr>\n",
       "      <th>2</th>\n",
       "      <td>3</td>\n",
       "      <td>56</td>\n",
       "      <td>Local</td>\n",
       "      <td>Bakery</td>\n",
       "    </tr>\n",
       "    <tr>\n",
       "      <th>3</th>\n",
       "      <td>4</td>\n",
       "      <td>56</td>\n",
       "      <td>Local</td>\n",
       "      <td>Grocery</td>\n",
       "    </tr>\n",
       "    <tr>\n",
       "      <th>4</th>\n",
       "      <td>5</td>\n",
       "      <td>56</td>\n",
       "      <td>Local</td>\n",
       "      <td>Grocery</td>\n",
       "    </tr>\n",
       "    <tr>\n",
       "      <th>5</th>\n",
       "      <td>6</td>\n",
       "      <td>56</td>\n",
       "      <td>Local</td>\n",
       "      <td>Grocery</td>\n",
       "    </tr>\n",
       "    <tr>\n",
       "      <th>6</th>\n",
       "      <td>7</td>\n",
       "      <td>56</td>\n",
       "      <td>Local</td>\n",
       "      <td>Pharmaceutical</td>\n",
       "    </tr>\n",
       "    <tr>\n",
       "      <th>7</th>\n",
       "      <td>8</td>\n",
       "      <td>56</td>\n",
       "      <td>Local</td>\n",
       "      <td>Bakery</td>\n",
       "    </tr>\n",
       "    <tr>\n",
       "      <th>8</th>\n",
       "      <td>9</td>\n",
       "      <td>11</td>\n",
       "      <td>Local</td>\n",
       "      <td>Grocery</td>\n",
       "    </tr>\n",
       "    <tr>\n",
       "      <th>9</th>\n",
       "      <td>10</td>\n",
       "      <td>56</td>\n",
       "      <td>Local</td>\n",
       "      <td>Grocery</td>\n",
       "    </tr>\n",
       "    <tr>\n",
       "      <th>10</th>\n",
       "      <td>11</td>\n",
       "      <td>21</td>\n",
       "      <td>Established</td>\n",
       "      <td>Pharmaceutical</td>\n",
       "    </tr>\n",
       "  </tbody>\n",
       "</table>\n",
       "</div>"
      ],
      "text/plain": [
       "    item_id  brand   brand_type        category\n",
       "0         1      1  Established         Grocery\n",
       "1         2      1  Established   Miscellaneous\n",
       "2         3     56        Local          Bakery\n",
       "3         4     56        Local         Grocery\n",
       "4         5     56        Local         Grocery\n",
       "5         6     56        Local         Grocery\n",
       "6         7     56        Local  Pharmaceutical\n",
       "7         8     56        Local          Bakery\n",
       "8         9     11        Local         Grocery\n",
       "9        10     56        Local         Grocery\n",
       "10       11     21  Established  Pharmaceutical"
      ]
     },
     "execution_count": 39,
     "metadata": {},
     "output_type": "execute_result"
    }
   ],
   "source": [
    "item.head(11)   #gives the first 10 data of item"
   ]
  },
  {
   "cell_type": "code",
   "execution_count": 40,
   "metadata": {},
   "outputs": [
    {
     "name": "stdout",
     "output_type": "stream",
     "text": [
      "<class 'pandas.core.frame.DataFrame'>\n",
      "RangeIndex: 74066 entries, 0 to 74065\n",
      "Data columns (total 4 columns):\n",
      " #   Column      Non-Null Count  Dtype \n",
      "---  ------      --------------  ----- \n",
      " 0   item_id     74066 non-null  int64 \n",
      " 1   brand       74066 non-null  int64 \n",
      " 2   brand_type  74066 non-null  object\n",
      " 3   category    74066 non-null  object\n",
      "dtypes: int64(2), object(2)\n",
      "memory usage: 2.3+ MB\n"
     ]
    }
   ],
   "source": [
    "item.info() #gives the information of item"
   ]
  },
  {
   "cell_type": "code",
   "execution_count": 41,
   "metadata": {
    "scrolled": true
   },
   "outputs": [
    {
     "data": {
      "text/plain": [
       "Grocery                   32448\n",
       "Pharmaceutical            24471\n",
       "Natural Products           2533\n",
       "Dairy, Juices & Snacks     2425\n",
       "Skin & Hair Care           2244\n",
       "Meat                       2080\n",
       "Packaged Meat              1966\n",
       "Prepared Food              1880\n",
       "Bakery                     1679\n",
       "Seafood                     728\n",
       "Flowers & Plants            664\n",
       "Miscellaneous               385\n",
       "Alcohol                     303\n",
       "Garden                      102\n",
       "Restauarant                  78\n",
       "Salads                       40\n",
       "Travel                       19\n",
       "Fuel                         14\n",
       "Vegetables (cut)              7\n",
       "Name: category, dtype: int64"
      ]
     },
     "execution_count": 41,
     "metadata": {},
     "output_type": "execute_result"
    }
   ],
   "source": [
    "D = item.category.value_counts() #Count the number of category\n",
    "D"
   ]
  },
  {
   "cell_type": "code",
   "execution_count": 42,
   "metadata": {},
   "outputs": [
    {
     "data": {
      "text/plain": [
       "<matplotlib.axes._subplots.AxesSubplot at 0x7f400d0701f0>"
      ]
     },
     "execution_count": 42,
     "metadata": {},
     "output_type": "execute_result"
    },
    {
     "data": {
      "image/png": "[encoded data removed]",
      "text/plain": [
       "<Figure size 432x288 with 1 Axes>"
      ]
     },
     "metadata": {},
     "output_type": "display_data"
    }
   ],
   "source": [
    "D.plot.bar()"
   ]
  },
  {
   "cell_type": "code",
   "execution_count": 43,
   "metadata": {},
   "outputs": [
    {
     "data": {
      "text/plain": [
       "Established    62842\n",
       "Local          11224\n",
       "Name: brand_type, dtype: int64"
      ]
     },
     "execution_count": 43,
     "metadata": {},
     "output_type": "execute_result"
    }
   ],
   "source": [
    "item.brand_type.value_counts()  #count the number of brand"
   ]
  },
  {
   "cell_type": "code",
   "execution_count": 44,
   "metadata": {
    "scrolled": true
   },
   "outputs": [
    {
     "data": {
      "text/html": [
       "<div>\n",
       "<style scoped>\n",
       "    .dataframe tbody tr th:only-of-type {\n",
       "        vertical-align: middle;\n",
       "    }\n",
       "\n",
       "    .dataframe tbody tr th {\n",
       "        vertical-align: top;\n",
       "    }\n",
       "\n",
       "    .dataframe thead th {\n",
       "        text-align: right;\n",
       "    }\n",
       "</style>\n",
       "<table border=\"1\" class=\"dataframe\">\n",
       "  <thead>\n",
       "    <tr style=\"text-align: right;\">\n",
       "      <th></th>\n",
       "      <th>item_id</th>\n",
       "      <th>brand</th>\n",
       "      <th>brand_type</th>\n",
       "      <th>category</th>\n",
       "    </tr>\n",
       "  </thead>\n",
       "  <tbody>\n",
       "    <tr>\n",
       "      <th>0</th>\n",
       "      <td>1</td>\n",
       "      <td>1</td>\n",
       "      <td>Established</td>\n",
       "      <td>Grocery</td>\n",
       "    </tr>\n",
       "    <tr>\n",
       "      <th>1</th>\n",
       "      <td>2</td>\n",
       "      <td>1</td>\n",
       "      <td>Established</td>\n",
       "      <td>Miscellaneous</td>\n",
       "    </tr>\n",
       "    <tr>\n",
       "      <th>2</th>\n",
       "      <td>3</td>\n",
       "      <td>56</td>\n",
       "      <td>Local</td>\n",
       "      <td>Bakery</td>\n",
       "    </tr>\n",
       "    <tr>\n",
       "      <th>3</th>\n",
       "      <td>4</td>\n",
       "      <td>56</td>\n",
       "      <td>Local</td>\n",
       "      <td>Grocery</td>\n",
       "    </tr>\n",
       "    <tr>\n",
       "      <th>4</th>\n",
       "      <td>5</td>\n",
       "      <td>56</td>\n",
       "      <td>Local</td>\n",
       "      <td>Grocery</td>\n",
       "    </tr>\n",
       "  </tbody>\n",
       "</table>\n",
       "</div>"
      ],
      "text/plain": [
       "   item_id  brand   brand_type       category\n",
       "0        1      1  Established        Grocery\n",
       "1        2      1  Established  Miscellaneous\n",
       "2        3     56        Local         Bakery\n",
       "3        4     56        Local        Grocery\n",
       "4        5     56        Local        Grocery"
      ]
     },
     "execution_count": 44,
     "metadata": {},
     "output_type": "execute_result"
    }
   ],
   "source": [
    "item.head()"
   ]
  },
  {
   "cell_type": "markdown",
   "metadata": {},
   "source": [
    "# Data Preparation"
   ]
  },
  {
   "cell_type": "markdown",
   "metadata": {},
   "source": [
    "Now we can Start with Merging the Data Frames As all the Dataframes have data in the proper format and find the missing values and formet it"
   ]
  },
  {
   "cell_type": "markdown",
   "metadata": {},
   "source": [
    "Finding Missing values"
   ]
  },
  {
   "cell_type": "markdown",
   "metadata": {},
   "source": [
    "1) For train Data"
   ]
  },
  {
   "cell_type": "code",
   "execution_count": 45,
   "metadata": {},
   "outputs": [
    {
     "name": "stdout",
     "output_type": "stream",
     "text": [
      "id \n",
      "\n",
      "[     1      2      6 ... 128590 128592 128595] \n",
      "\n",
      "campaign_id \n",
      "\n",
      "[13  9  8 11 29 30  2  5 12 26  3  4 10  7 28 27  6  1] \n",
      "\n",
      "coupon_id \n",
      "\n",
      "[  27  116  635  644 1017  795  444  538  857  559  575 1028  705  517\n",
      "  893  796  506  689  268    8  674  320  109  278 1031  326  363  911\n",
      "  383  482  813  118  663  332  500  757 1067   87  905 1114  152   57\n",
      "  271  413  582  333  485  256  980  700  628  136  750  854  761  828\n",
      "  881  129  867  709  169 1083  530  822  126  917   22  960   24  772\n",
      "  603  982  510  132   60 1063  166  679  839  459  658  106  168  473\n",
      "  627  145    7  667  924  621  467  985  171 1056  890  920  279  948\n",
      "  368  107   19  800  420  756  783  687  913  725  483  275  788  170\n",
      "   14  416   54  113  125  902  526  144  554  936  971  872  873  643\n",
      "  433  131  591  608  723   76  696  544  148   97  819  673  123  490\n",
      "   55  989   83  437  836  806  891  870  542   64  646  566  520  910\n",
      "  581  537  656  996 1012  759 1044  616  883  754  430  786  694  119\n",
      "  481  940  916  348  855  792  968  625  105  470  283  161    6  466\n",
      " 1036  742  598 1112  797  744  480   63  556  909  734 1085 1050  153\n",
      "  949 1057 1018  257  327  641 1029  617  111  468  868   68   81 1045\n",
      "  531 1065  434  888  265  418 1040  432  769  912   11   46   88  682\n",
      "  733  807  571  951  511 1058  324  492  529  601  262  925  293  844\n",
      "  889  726  281   21   16  780 1075  746  793 1015  724 1025  672  860\n",
      "  955  155  896  280   56  983  135  532  810  139   99  563  285  301\n",
      "  919  508   49   75  167  683  620  284  504  817  986  367  247 1043\n",
      "  885  294  296  773   66   26  514  465  865  737  454  779  586  954\n",
      "  162  303  824  261  305  740  260  907  249  945  882  386  408   58\n",
      "  669  732  755   52  852  610   13  711   73  934  884  937  818  422\n",
      "  494  443  751  424  354  677  714  670 1000  362  803  158  502  588\n",
      "  681  341  979  513  653  745  812  535  458 1027   23  457  351  407\n",
      "   25  578  141  752    2  344  159   48   69  685  946  763 1108  778\n",
      "  310  928  410  370  970  787  675  440  447  964  561  606  821  134\n",
      "   84  984  748 1102  449  110  292  151  101 1070  879 1059 1024  140\n",
      "  898  922  604  775    3 1006  150  766   93   90  248  451  515   59\n",
      "  306  770  583  541  579  108  731  516  501  659  995 1099  287  379\n",
      "  474 1086 1100  776  358  977  392  997 1062  479 1081  901   98  791\n",
      "  981  343  715   18  276  525  138  512  475  389  584  943 1046  455\n",
      "  381  428  154  124 1074  375  288  808  654  741 1026  137   62  378\n",
      "  735  453   10  906  651  992  519 1020  269 1103 1007  630  853  130\n",
      " 1033 1073 1098  441  164   82  921  747  273  613  866   50   51  642\n",
      "  707  804  939  634  942   77  668  607  636   65 1110  691  431  914\n",
      "  666  569  623  322   92 1115  360 1021  307  961  915  758  749  727\n",
      "  975  974  944  850  120  738  117  489  121  567  619   53  157  319\n",
      "  476   72  321  244  439   80  719 1032  350 1002 1105    4  102   86\n",
      "  650  894  355  112  277  143 1001  423  369   17  338  464  785 1019\n",
      "  815 1087  165  692  308  798  805  142  448  486  660  597   94  246\n",
      " 1047  426  114  710  638  146  156   85  967  160  376  374  491  851\n",
      "   20   12 1039  442    1  128  509   15  892    9   71  356  472  445\n",
      "  662  611  574  624  409  323  478  764 1090  990   79  820  243  436\n",
      "  425  147   78  133  661  316   89  406  771  359   45  253   96  336\n",
      "  471  552  250  361  302  550  315  823  615 1048 1055  631 1072  782\n",
      "  325  100  558 1084  330  862  998  403  364 1104  127  602  933  115\n",
      "  987  427  935  380  496  686    5 1009 1092  931  645  331  347  399\n",
      "  875  314  371  524  391  594  647   95   61  897  814  622  299  703\n",
      "  790  103  318  346  438  886 1053   70  712 1049  163   47 1107  702\n",
      "   91 1011  450  572  830  585  593  536  972  639  895  794  122 1023\n",
      "  414  373  298  446  609  528  412  334  678  829  460  762 1101  484\n",
      "  365  825   67  827  665  345  353  926  395  722  576 1089  149  400\n",
      "  704 1035  534  706  352  846  398  349 1080  900 1051  329  626  729\n",
      " 1076  863  382 1013  589  172  312  993  104 1071  739  565  523 1004\n",
      "  767  435 1082  340  864  676 1030  309 1093 1106  421  317  546 1041\n",
      "  838  859  918   74  930  947 1061  564  965  858  384  366 1003  297\n",
      "  614  963  429  304  716  876  522  337  335 1068  849  595  908  587\n",
      "  313  328  695  994  401  991  357  342  282  545  402  871  605  372\n",
      "  847  784  547  831  311 1095  718  568  629  300  404  923  551  377\n",
      "  394 1091  339  263 1088  743 1097  405  649  973  671  835  291  708\n",
      " 1096  521  832  393  826  904  264  397  837  728  385  562] \n",
      "\n",
      "customer_id \n",
      "\n",
      "[1053   48  205 ...  160 1508  472] \n",
      "\n",
      "redemption_status \n",
      "\n",
      "[0 1] \n",
      "\n"
     ]
    }
   ],
   "source": [
    "for i in range(len(train.columns)):\n",
    "    print(train.columns[i],'\\n')\n",
    "    print(train[train.columns[i]].unique(),'\\n')\n"
   ]
  },
  {
   "cell_type": "markdown",
   "metadata": {},
   "source": [
    "2) For campaign data"
   ]
  },
  {
   "cell_type": "code",
   "execution_count": 46,
   "metadata": {},
   "outputs": [
    {
     "name": "stdout",
     "output_type": "stream",
     "text": [
      "campaign_id \n",
      "\n",
      "[24 25 20 23 21 22 18 19 17 16 13 11 12 10  9  8  7  6  3  5  4  1  2 30\n",
      " 29 28 27 26] \n",
      "\n",
      "campaign_type \n",
      "\n",
      "['Y' 'X'] \n",
      "\n",
      "start_date \n",
      "\n",
      "['21/10/13' '07/09/13' '08/10/13' '16/09/13' '10/08/13' '26/08/13'\n",
      " '29/07/13' '15/07/13' '19/05/13' '22/04/13' '08/04/13' '11/03/13'\n",
      " '16/02/13' '02/02/13' '28/01/13' '22/12/12' '12/01/13' '07/01/13'\n",
      " '12/12/12' '17/12/12' '19/11/12' '08/10/12' '16/09/12' '25/08/12'\n",
      " '12/08/12'] \n",
      "\n",
      "end_date \n",
      "\n",
      "['20/12/13' '22/11/13' '16/11/13' '15/11/13' '18/10/13' '04/10/13'\n",
      " '27/09/13' '30/08/13' '16/08/13' '05/07/13' '07/06/13' '24/05/13'\n",
      " '10/05/13' '12/04/13' '05/04/13' '08/03/13' '01/03/13' '16/02/13'\n",
      " '15/02/13' '08/02/13' '18/01/13' '04/01/13' '30/11/12' '16/11/12'\n",
      " '27/10/12' '21/09/12'] \n",
      "\n"
     ]
    }
   ],
   "source": [
    "for i in range(len(campaign.columns)):\n",
    "    print(campaign.columns[i],'\\n')\n",
    "    print(campaign[campaign.columns[i]].unique(),'\\n')\n"
   ]
  },
  {
   "cell_type": "markdown",
   "metadata": {},
   "source": [
    "3) For Coupon data"
   ]
  },
  {
   "cell_type": "code",
   "execution_count": 47,
   "metadata": {},
   "outputs": [
    {
     "name": "stdout",
     "output_type": "stream",
     "text": [
      "coupon_id \n",
      "\n",
      "[105 107 494 ... 217 218 219] \n",
      "\n",
      "item_id \n",
      "\n",
      "[   37    75    76 ... 71965 67815 68920] \n",
      "\n"
     ]
    }
   ],
   "source": [
    "for i in range(len(coupon.columns)):\n",
    "    print(coupon.columns[i],'\\n')\n",
    "    print(coupon[coupon.columns[i]].unique(),'\\n')\n"
   ]
  },
  {
   "cell_type": "markdown",
   "metadata": {},
   "source": [
    "4) For item data"
   ]
  },
  {
   "cell_type": "code",
   "execution_count": 48,
   "metadata": {},
   "outputs": [
    {
     "name": "stdout",
     "output_type": "stream",
     "text": [
      "item_id \n",
      "\n",
      "[    1     2     3 ... 74064 74065 74066] \n",
      "\n",
      "brand \n",
      "\n",
      "[   1   56   11 ... 5463 2997 3360] \n",
      "\n",
      "brand_type \n",
      "\n",
      "['Established' 'Local'] \n",
      "\n",
      "category \n",
      "\n",
      "['Grocery' 'Miscellaneous' 'Bakery' 'Pharmaceutical' 'Packaged Meat'\n",
      " 'Seafood' 'Natural Products' 'Dairy, Juices & Snacks' 'Prepared Food'\n",
      " 'Skin & Hair Care' 'Meat' 'Travel' 'Flowers & Plants' 'Fuel' 'Salads'\n",
      " 'Alcohol' 'Garden' 'Restauarant' 'Vegetables (cut)'] \n",
      "\n"
     ]
    }
   ],
   "source": [
    "for i in range(len(item.columns)):\n",
    "    print(item.columns[i],'\\n')\n",
    "    print(item[item.columns[i]].unique(),'\\n')"
   ]
  },
  {
   "cell_type": "markdown",
   "metadata": {},
   "source": [
    "5) For demograph data"
   ]
  },
  {
   "cell_type": "code",
   "execution_count": 49,
   "metadata": {},
   "outputs": [
    {
     "name": "stdout",
     "output_type": "stream",
     "text": [
      "customer_id \n",
      "\n",
      "[   1    6    7    8   10   11   12   13   14   15   17   19   22   27\n",
      "   28   30   31   33   35   36   38   39   40   41   42   45   48   51\n",
      "   52   53   55   58   59   66   67   69   71   72   74   75   78   79\n",
      "   82   83   84   85   87   89   90   92   93   94   97  103  105  107\n",
      "  108  110  112  113  114  119  123  124  128  131  132  134  135  136\n",
      "  138  140  141  142  143  144  149  150  151  153  154  155  158  159\n",
      "  161  162  163  167  168  174  178  179  180  185  186  189  191  192\n",
      "  193  195  197  201  202  204  205  207  209  212  214  223  225  226\n",
      "  227  228  230  231  232  235  238  239  242  243  245  246  248  249\n",
      "  250  251  252  253  259  262  265  266  267  268  269  271  276  277\n",
      "  279  281  283  284  286  287  288  292  293  294  295  297  298  300\n",
      "  303  306  313  314  315  316  317  318  319  320  327  329  333  336\n",
      "  338  339  343  347  348  349  352  353  355  357  361  363  367  368\n",
      "  369  371  374  375  377  378  381  382  383  384  386  389  390  391\n",
      "  392  393  395  397  398  399  400  401  402  414  416  421  422  427\n",
      "  428  429  431  434  436  438  440  441  443  444  446  447  450  455\n",
      "  456  457  460  461  462  463  464  466  467  473  474  475  479  480\n",
      "  481  486  488  490  494  495  497  498  499  501  504  506  507  508\n",
      "  509  510  511  514  515  516  517  520  522  524  525  527  528  530\n",
      "  533  536  537  540  541  544  545  546  549  550  551  552  553  557\n",
      "  558  560  561  564  565  566  569  571  572  574  575  577  579  581\n",
      "  585  586  590  593  595  596  600  602  606  607  608  612  613  615\n",
      "  619  620  622  624  626  627  628  630  634  636  637  641  642  643\n",
      "  648  649  650  653  655  656  657  660  663  665  666  667  668  674\n",
      "  677  679  681  684  686  687  691  693  695  696  698  703  704  708\n",
      "  712  716  719  724  725  726  731  732  735  737  738  740  742  743\n",
      "  744  745  746  748  749  750  751  752  753  754  755  760  762  763\n",
      "  766  774  775  776  779  781  782  784  785  789  792  793  795  796\n",
      "  797  799  800  801  802  806  808  813  817  821  822  823  824  828\n",
      "  829  833  835  837  839  842  844  851  853  855  856  857  859  860\n",
      "  861  864  865  867  871  872  874  876  877  878  879  880  886  888\n",
      "  889  891  892  894  896  897  898  901  902  904  905  909  910  911\n",
      "  912  917  918  921  922  923  925  926  928  929  930  931  932  933\n",
      "  936  937  939  941  944  947  952  955  957  958  959  962  964  965\n",
      "  966  967  970  974  977  978  980  981  982  983  985  988  990  994\n",
      "  997  999 1003 1008 1011 1015 1021 1023 1025 1026 1031 1033 1036 1045\n",
      " 1046 1047 1051 1053 1054 1055 1056 1057 1058 1061 1062 1063 1064 1067\n",
      " 1068 1070 1076 1079 1082 1083 1085 1089 1091 1093 1094 1103 1104 1108\n",
      " 1109 1111 1115 1116 1117 1119 1120 1121 1122 1128 1129 1130 1131 1133\n",
      " 1135 1136 1141 1142 1144 1145 1151 1152 1153 1154 1156 1161 1164 1166\n",
      " 1167 1168 1170 1172 1178 1179 1181 1182 1184 1187 1188 1190 1192 1194\n",
      " 1195 1196 1198 1201 1202 1203 1205 1208 1210 1211 1216 1217 1219 1220\n",
      " 1222 1224 1228 1230 1231 1239 1240 1242 1243 1245 1246 1249 1250 1252\n",
      " 1254 1256 1257 1258 1259 1262 1263 1264 1268 1269 1271 1273 1276 1284\n",
      " 1290 1292 1295 1296 1298 1299 1300 1303 1304 1305 1309 1314 1316 1317\n",
      " 1318 1319 1320 1321 1322 1324 1327 1328 1329 1332 1333 1334 1336 1337\n",
      " 1339 1340 1341 1343 1344 1346 1347 1356 1357 1359 1360 1361 1364 1367\n",
      " 1370 1373 1374 1375 1376 1377 1378 1379 1381 1382 1383 1384 1385 1386\n",
      " 1387 1388 1392 1393 1398 1399 1402 1407 1408 1409 1410 1412 1417 1422\n",
      " 1424 1425 1427 1431 1432 1433 1440 1441 1443 1444 1449 1450 1451 1452\n",
      " 1453 1455 1457 1458 1460 1461 1463 1464 1466 1467 1469 1471 1472 1473\n",
      " 1475 1477 1478 1479 1483 1485 1489 1490 1491 1492 1494 1496 1500 1502\n",
      " 1504 1506 1512 1514 1518 1519 1520 1521 1523 1528 1529 1533 1534 1537\n",
      " 1538 1544 1545 1546 1547 1551 1552 1558 1566 1569 1572 1573 1574 1577\n",
      " 1578 1579 1580 1581] \n",
      "\n",
      "age_range \n",
      "\n",
      "['70+' '46-55' '26-35' '36-45' '18-25' '56-70'] \n",
      "\n",
      "marital_status \n",
      "\n",
      "['Married' nan 'Single'] \n",
      "\n",
      "rented \n",
      "\n",
      "[0 1] \n",
      "\n",
      "family_size \n",
      "\n",
      "['2' '3' '4' '1' '5+'] \n",
      "\n",
      "no_of_children \n",
      "\n",
      "[nan '1' '2' '3+'] \n",
      "\n",
      "income_bracket \n",
      "\n",
      "[ 4  5  3  6  1  7  2  8  9 12 10 11] \n",
      "\n"
     ]
    }
   ],
   "source": [
    "for i in range(len(demograph.columns)):\n",
    "    print(demograph.columns[i],'\\n')\n",
    "    print(demograph[demograph.columns[i]].unique(),'\\n')"
   ]
  },
  {
   "cell_type": "markdown",
   "metadata": {},
   "source": [
    "6) For Transection data"
   ]
  },
  {
   "cell_type": "code",
   "execution_count": 50,
   "metadata": {},
   "outputs": [
    {
     "name": "stdout",
     "output_type": "stream",
     "text": [
      "date \n",
      "\n",
      "['2012-01-02' '2012-01-03' '2012-01-04' '2012-01-05' '2012-01-06'\n",
      " '2012-01-07' '2012-01-08' '2012-01-09' '2012-01-10' '2012-01-11'\n",
      " '2012-01-12' '2012-01-13' '2012-01-14' '2012-01-15' '2012-01-16'\n",
      " '2012-01-17' '2012-01-18' '2012-01-19' '2012-01-20' '2012-01-21'\n",
      " '2012-01-22' '2012-01-23' '2012-01-24' '2012-01-25' '2012-01-26'\n",
      " '2012-01-27' '2012-01-28' '2012-01-29' '2012-01-30' '2012-01-31'\n",
      " '2012-02-01' '2012-02-02' '2012-02-03' '2012-02-04' '2012-02-05'\n",
      " '2012-02-06' '2012-02-07' '2012-02-08' '2012-02-09' '2012-02-10'\n",
      " '2012-02-11' '2012-02-12' '2012-02-13' '2012-02-14' '2012-02-15'\n",
      " '2012-02-16' '2012-02-17' '2012-02-18' '2012-02-19' '2012-02-20'\n",
      " '2012-02-21' '2012-02-22' '2012-02-23' '2012-02-24' '2012-02-25'\n",
      " '2012-02-26' '2012-02-27' '2012-02-28' '2012-02-29' '2012-03-01'\n",
      " '2012-03-02' '2012-03-03' '2012-03-04' '2012-03-05' '2012-03-06'\n",
      " '2012-03-07' '2012-03-08' '2012-03-09' '2012-03-10' '2012-03-11'\n",
      " '2012-03-12' '2012-03-13' '2012-03-14' '2012-03-15' '2012-03-16'\n",
      " '2012-03-17' '2012-03-18' '2012-03-19' '2012-03-20' '2012-03-21'\n",
      " '2012-03-22' '2012-03-23' '2012-03-24' '2012-03-25' '2012-03-26'\n",
      " '2012-03-27' '2012-03-28' '2012-03-29' '2012-03-30' '2012-03-31'\n",
      " '2012-04-01' '2012-04-02' '2012-04-03' '2012-04-04' '2012-04-05'\n",
      " '2012-04-06' '2012-04-07' '2012-04-08' '2012-04-09' '2012-04-10'\n",
      " '2012-04-11' '2012-04-12' '2012-04-13' '2012-04-14' '2012-04-15'\n",
      " '2012-04-16' '2012-04-17' '2012-04-18' '2012-04-19' '2012-04-20'\n",
      " '2012-04-21' '2012-04-22' '2012-04-23' '2012-04-24' '2012-04-25'\n",
      " '2012-04-26' '2012-04-27' '2012-04-28' '2012-04-29' '2012-04-30'\n",
      " '2012-05-01' '2012-05-02' '2012-05-03' '2012-05-04' '2012-05-05'\n",
      " '2012-05-06' '2012-05-07' '2012-05-08' '2012-05-09' '2012-05-10'\n",
      " '2012-05-11' '2012-05-12' '2012-05-13' '2012-05-14' '2012-05-15'\n",
      " '2012-05-16' '2012-05-17' '2012-05-18' '2012-05-19' '2012-05-20'\n",
      " '2012-05-21' '2012-05-22' '2012-05-23' '2012-05-24' '2012-05-25'\n",
      " '2012-05-26' '2012-05-27' '2012-05-28' '2012-05-29' '2012-05-30'\n",
      " '2012-05-31' '2012-06-01' '2012-06-02' '2012-06-03' '2012-06-04'\n",
      " '2012-06-05' '2012-06-06' '2012-06-07' '2012-06-08' '2012-06-09'\n",
      " '2012-06-10' '2012-06-11' '2012-06-12' '2012-06-13' '2012-06-14'\n",
      " '2012-06-15' '2012-06-16' '2012-06-17' '2012-06-18' '2012-06-19'\n",
      " '2012-06-20' '2012-06-21' '2012-06-22' '2012-06-23' '2012-06-24'\n",
      " '2012-06-25' '2012-06-26' '2012-06-27' '2012-06-28' '2012-06-29'\n",
      " '2012-06-30' '2012-07-01' '2012-07-02' '2012-07-03' '2012-07-04'\n",
      " '2012-07-05' '2012-07-06' '2012-07-07' '2012-07-08' '2012-07-09'\n",
      " '2012-07-10' '2012-07-11' '2012-07-12' '2012-07-13' '2012-07-14'\n",
      " '2012-07-15' '2012-07-16' '2012-07-17' '2012-07-18' '2012-07-19'\n",
      " '2012-07-20' '2012-07-22' '2012-07-21' '2012-07-23' '2012-07-24'\n",
      " '2012-07-25' '2012-07-26' '2012-07-27' '2012-07-28' '2012-07-29'\n",
      " '2012-07-30' '2012-07-31' '2012-08-01' '2012-08-02' '2012-08-03'\n",
      " '2012-08-04' '2012-08-05' '2012-08-06' '2012-08-07' '2012-08-08'\n",
      " '2012-08-09' '2012-08-10' '2012-08-11' '2012-08-12' '2012-08-13'\n",
      " '2012-08-14' '2012-08-15' '2012-08-16' '2012-08-27' '2012-08-26'\n",
      " '2012-08-28' '2012-08-17' '2012-08-18' '2012-08-20' '2012-08-19'\n",
      " '2012-08-21' '2012-08-22' '2012-08-23' '2012-08-24' '2012-08-25'\n",
      " '2012-08-29' '2012-08-30' '2012-08-31' '2012-09-01' '2012-09-02'\n",
      " '2012-09-03' '2012-09-04' '2012-09-05' '2012-09-06' '2012-09-07'\n",
      " '2012-09-08' '2012-09-09' '2012-09-10' '2012-09-11' '2012-09-12'\n",
      " '2012-09-13' '2012-09-14' '2012-09-15' '2012-09-16' '2012-09-17'\n",
      " '2012-09-18' '2012-09-19' '2012-09-20' '2012-09-21' '2012-09-22'\n",
      " '2012-09-23' '2012-09-24' '2012-09-25' '2012-09-26' '2012-09-27'\n",
      " '2012-09-28' '2012-09-29' '2012-09-30' '2012-10-01' '2012-10-02'\n",
      " '2012-10-03' '2012-10-04' '2012-10-05' '2012-10-06' '2012-10-07'\n",
      " '2012-10-08' '2012-10-09' '2012-10-10' '2012-10-11' '2012-10-12'\n",
      " '2012-10-13' '2012-10-14' '2012-10-15' '2012-10-16' '2012-10-17'\n",
      " '2012-10-18' '2012-10-19' '2012-10-20' '2012-10-21' '2012-10-22'\n",
      " '2012-10-23' '2012-10-24' '2012-10-25' '2012-10-26' '2012-10-27'\n",
      " '2012-10-28' '2012-10-29' '2012-10-30' '2012-11-01' '2012-10-31'\n",
      " '2012-11-02' '2012-11-03' '2012-11-04' '2012-11-05' '2012-11-06'\n",
      " '2012-11-07' '2012-11-08' '2012-11-09' '2012-11-10' '2012-11-11'\n",
      " '2012-11-12' '2012-11-13' '2012-11-14' '2012-11-15' '2012-11-16'\n",
      " '2012-11-17' '2012-11-18' '2012-11-19' '2012-11-20' '2012-11-21'\n",
      " '2012-11-22' '2012-11-23' '2012-11-24' '2012-11-25' '2012-11-26'\n",
      " '2012-11-27' '2012-11-28' '2012-11-29' '2012-11-30' '2012-12-01'\n",
      " '2012-12-02' '2012-12-03' '2012-12-04' '2012-12-05' '2012-12-06'\n",
      " '2012-12-07' '2012-12-08' '2012-12-09' '2012-12-10' '2012-12-11'\n",
      " '2012-12-12' '2012-12-13' '2012-12-14' '2012-12-15' '2012-12-16'\n",
      " '2012-12-17' '2012-12-18' '2012-12-19' '2012-12-20' '2012-12-21'\n",
      " '2012-12-22' '2012-12-23' '2012-12-24' '2012-12-25' '2012-12-26'\n",
      " '2012-12-27' '2012-12-28' '2012-12-29' '2012-12-30' '2012-12-31'\n",
      " '2013-01-01' '2013-01-02' '2013-01-03' '2013-01-04' '2013-01-05'\n",
      " '2013-01-06' '2013-01-07' '2013-01-08' '2013-01-09' '2013-01-10'\n",
      " '2013-01-11' '2013-01-12' '2013-01-13' '2013-01-14' '2013-01-15'\n",
      " '2013-01-16' '2013-01-17' '2013-01-18' '2013-01-19' '2013-01-20'\n",
      " '2013-01-21' '2013-01-22' '2013-01-23' '2013-01-24' '2013-01-25'\n",
      " '2013-01-26' '2013-01-27' '2013-01-28' '2013-01-29' '2013-01-30'\n",
      " '2013-01-31' '2013-02-01' '2013-02-02' '2013-02-03' '2013-02-04'\n",
      " '2013-02-05' '2013-02-06' '2013-02-07' '2013-02-08' '2013-02-09'\n",
      " '2013-02-10' '2013-02-11' '2013-02-12' '2013-02-13' '2013-02-14'\n",
      " '2013-02-15' '2013-02-16' '2013-02-17' '2013-02-18' '2013-02-19'\n",
      " '2013-02-20' '2013-02-21' '2013-02-22' '2013-02-23' '2013-02-24'\n",
      " '2013-02-25' '2013-02-26' '2013-02-27' '2013-02-28' '2013-03-01'\n",
      " '2013-03-02' '2013-03-03' '2013-03-04' '2013-03-05' '2013-03-06'\n",
      " '2013-03-07' '2013-03-08' '2013-03-09' '2013-03-10' '2013-03-11'\n",
      " '2013-03-12' '2013-03-13' '2013-03-14' '2013-03-15' '2013-03-16'\n",
      " '2013-03-17' '2013-03-18' '2013-03-19' '2013-03-20' '2013-03-21'\n",
      " '2013-03-22' '2013-03-25' '2013-03-29' '2013-03-23' '2013-03-24'\n",
      " '2013-03-26' '2013-03-27' '2013-03-28' '2013-03-30' '2013-03-31'\n",
      " '2013-04-02' '2013-04-03' '2013-04-01' '2013-04-04' '2013-04-05'\n",
      " '2013-04-06' '2013-04-07' '2013-04-08' '2013-04-09' '2013-04-10'\n",
      " '2013-04-11' '2013-04-12' '2013-04-13' '2013-04-14' '2013-04-15'\n",
      " '2013-04-16' '2013-04-17' '2013-04-18' '2013-04-19' '2013-04-20'\n",
      " '2013-04-21' '2013-04-22' '2013-04-23' '2013-04-24' '2013-04-25'\n",
      " '2013-04-26' '2013-04-27' '2013-04-28' '2013-04-29' '2013-04-30'\n",
      " '2013-05-01' '2013-05-02' '2013-05-03' '2013-05-04' '2013-05-05'\n",
      " '2013-05-06' '2013-05-07' '2013-05-08' '2013-05-09' '2013-05-10'\n",
      " '2013-05-11' '2013-05-12' '2013-05-13' '2013-05-14' '2013-05-15'\n",
      " '2013-05-16' '2013-05-17' '2013-05-18' '2013-05-19' '2013-05-20'\n",
      " '2013-05-21' '2013-05-22' '2013-05-23' '2013-05-24' '2013-05-25'\n",
      " '2013-05-26' '2013-05-27' '2013-05-28' '2013-05-29' '2013-05-30'\n",
      " '2013-05-31' '2013-06-01' '2013-06-02' '2013-06-03' '2013-06-04'\n",
      " '2013-06-05' '2013-06-06' '2013-06-07' '2013-06-08' '2013-06-09'\n",
      " '2013-06-10' '2013-06-11' '2013-06-12' '2013-06-13' '2013-06-14'\n",
      " '2013-06-15' '2013-06-16' '2013-06-17' '2013-06-18' '2013-06-19'\n",
      " '2013-06-20' '2013-06-21' '2013-06-22' '2013-06-23' '2013-06-24'\n",
      " '2013-06-25' '2013-06-26' '2013-06-27' '2013-06-28' '2013-06-29'\n",
      " '2013-06-30' '2013-07-01' '2013-07-02' '2013-07-03'] \n",
      "\n",
      "customer_id \n",
      "\n",
      "[1501  857   67 ...  405 1569  991] \n",
      "\n",
      "item_id \n",
      "\n",
      "[26830 54253 31962 ...  2777  2953  2971] \n",
      "\n",
      "quantity \n",
      "\n",
      "[    1     3     2 ... 15853 21837 19364] \n",
      "\n",
      "selling_price \n",
      "\n",
      "[  35.26   53.43  106.5  ... 1170.12 1338.6  1623.92] \n",
      "\n",
      "other_discount \n",
      "\n",
      "[  -10.69   -13.89   -14.25 ...  -720.95 -1141.98  -323.07] \n",
      "\n",
      "coupon_discount \n",
      "\n",
      "[    0.     -35.62   -14.25   -26.71   -21.02   -19.59   -80.14   -17.81\n",
      "    -8.9   -102.94   -71.24   -21.37   -10.69   -12.47  -178.1   -106.86\n",
      "   -53.43   -35.26   -12.11  -213.72   -56.64   -28.14   -44.52  -569.92\n",
      "   -53.07   -62.33   -49.87   -37.4    -24.93   -32.06  -213.36  -355.84\n",
      "  -142.12   -17.45   -39.18   -40.96  -142.48  -109.71    -7.12   -88.69\n",
      "  -427.44   -45.95   -89.05   -16.03  -113.63  -106.5    -70.53   -31.35\n",
      "   -58.77  -117.55   -60.2    -78.36  -128.23   -23.51   -79.79   -28.5\n",
      "   -92.26  -177.74   -47.73  -554.96   -27.07    -5.34  -498.32   -90.83\n",
      "  -108.64   -95.11  -319.87   -30.28  -284.6    -70.88  -124.67  -152.81\n",
      "   -60.55  -356.2    -91.9   -512.57  -113.27  -184.16  -117.19  -160.29\n",
      "  -184.87  -249.34   -55.21   -95.82   -42.74  -195.55   -97.96   -94.39\n",
      "   -23.15   -27.78  -110.42   -42.39  -127.88   -30.63  -277.48   -69.1\n",
      "   -78.01  -199.12  -248.98   -23.87   -43.46   -89.41   -64.12  -211.23\n",
      "   -38.47   -41.32  -169.91  -111.85   -48.09   -82.64  -284.96  -177.39\n",
      "  -134.64   -47.37   -46.31 -1068.24   -63.76  -320.22  -103.3    -49.51\n",
      "  -120.75   -67.32   -59.49  -334.12   -38.83  -234.38  -509.01   -42.03\n",
      "  -641.16  -712.4   -102.59  -266.79  -135.    -124.31  -426.73  -227.26\n",
      "   -47.02  -115.76   -83.35  -534.3    -81.57  -519.34  -101.16   -24.58\n",
      "  -118.97   -84.78   -99.74   -99.38  -712.04  -154.59  -120.4    -82.99\n",
      "  -237.23   -74.45   -80.5   -163.14  -131.44  -176.32   -84.42  -142.84\n",
      "  -159.93  -133.57   -85.13  -284.25  -167.06   -99.02   -85.49 -1992.23\n",
      "  -213.01   -72.31   -52.36  -191.64   -26.36   -89.76  -427.08  -106.15\n",
      "   -65.54  -533.59  -604.83  -163.5   -245.07  -202.68   -33.84  -509.37\n",
      "  -208.38  -354.42  -283.54  -141.77   -95.46   -39.89  -170.62  -462.7\n",
      "   -65.9   -137.14   -11.75   -66.97  -126.09   -63.05   -56.28  -149.25\n",
      "  -391.46  -259.67  -215.5   -235.09  -122.89   -43.1   -195.91    -3.56\n",
      "  -238.3   -191.99   -62.69 -1211.08  -267.15   -44.88  -298.85   -70.17\n",
      "  -320.58  -219.42   -13.89   -24.22  -366.53  -236.87  -747.66  -125.38\n",
      "  -102.23  -179.52  -136.78  -206.6   -105.79  -112.92   -96.17   -31.7 ] \n",
      "\n"
     ]
    }
   ],
   "source": [
    "for i in range(len(transaction.columns)):\n",
    "    print(transaction.columns[i],'\\n')\n",
    "    print(transaction[transaction.columns[i]].unique(),'\\n')"
   ]
  },
  {
   "cell_type": "markdown",
   "metadata": {},
   "source": [
    "Sometimes, missing data values are filled with values that do not make sense as place holders instead of NaN. For example, we can check if there are positive value for discounts in transactions."
   ]
  },
  {
   "cell_type": "code",
   "execution_count": 51,
   "metadata": {},
   "outputs": [
    {
     "data": {
      "text/plain": [
       "Index(['date', 'customer_id', 'item_id', 'quantity', 'selling_price',\n",
       "       'other_discount', 'coupon_discount'],\n",
       "      dtype='object')"
      ]
     },
     "execution_count": 51,
     "metadata": {},
     "output_type": "execute_result"
    }
   ],
   "source": [
    "transaction.columns"
   ]
  },
  {
   "cell_type": "code",
   "execution_count": 52,
   "metadata": {},
   "outputs": [
    {
     "data": {
      "text/plain": [
       "False"
      ]
     },
     "execution_count": 52,
     "metadata": {},
     "output_type": "execute_result"
    }
   ],
   "source": [
    "any(transaction.coupon_discount>0)"
   ]
  },
  {
   "cell_type": "code",
   "execution_count": 53,
   "metadata": {},
   "outputs": [
    {
     "data": {
      "text/plain": [
       "False"
      ]
     },
     "execution_count": 53,
     "metadata": {},
     "output_type": "execute_result"
    }
   ],
   "source": [
    "any(transaction.other_discount>0)"
   ]
  },
  {
   "cell_type": "code",
   "execution_count": 54,
   "metadata": {},
   "outputs": [
    {
     "data": {
      "text/plain": [
       "False"
      ]
     },
     "execution_count": 54,
     "metadata": {},
     "output_type": "execute_result"
    }
   ],
   "source": [
    "any(transaction.selling_price<0)"
   ]
  },
  {
   "cell_type": "markdown",
   "metadata": {},
   "source": [
    "Hear we can see all are false if true come then we can say that there is missing values"
   ]
  },
  {
   "cell_type": "markdown",
   "metadata": {},
   "source": [
    "After careful examinations, only table that we need to work on missing values is demograph.This we will do after Marging the Tabels so we dont have to do again."
   ]
  },
  {
   "cell_type": "markdown",
   "metadata": {},
   "source": [
    "# Checking data type"
   ]
  },
  {
   "cell_type": "code",
   "execution_count": 55,
   "metadata": {},
   "outputs": [
    {
     "data": {
      "text/plain": [
       "date                object\n",
       "customer_id          int64\n",
       "item_id              int64\n",
       "quantity             int64\n",
       "selling_price      float64\n",
       "other_discount     float64\n",
       "coupon_discount    float64\n",
       "dtype: object"
      ]
     },
     "execution_count": 55,
     "metadata": {},
     "output_type": "execute_result"
    }
   ],
   "source": [
    "transaction.dtypes "
   ]
  },
  {
   "cell_type": "code",
   "execution_count": 56,
   "metadata": {
    "scrolled": false
   },
   "outputs": [
    {
     "data": {
      "text/plain": [
       "id                   int64\n",
       "campaign_id          int64\n",
       "coupon_id            int64\n",
       "customer_id          int64\n",
       "redemption_status    int64\n",
       "dtype: object"
      ]
     },
     "execution_count": 56,
     "metadata": {},
     "output_type": "execute_result"
    }
   ],
   "source": [
    "train.dtypes"
   ]
  },
  {
   "cell_type": "code",
   "execution_count": 57,
   "metadata": {},
   "outputs": [
    {
     "data": {
      "text/plain": [
       "campaign_id       int64\n",
       "campaign_type    object\n",
       "start_date       object\n",
       "end_date         object\n",
       "dtype: object"
      ]
     },
     "execution_count": 57,
     "metadata": {},
     "output_type": "execute_result"
    }
   ],
   "source": [
    "campaign.dtypes"
   ]
  },
  {
   "cell_type": "code",
   "execution_count": 58,
   "metadata": {},
   "outputs": [
    {
     "data": {
      "text/plain": [
       "coupon_id    int64\n",
       "item_id      int64\n",
       "dtype: object"
      ]
     },
     "execution_count": 58,
     "metadata": {},
     "output_type": "execute_result"
    }
   ],
   "source": [
    "coupon.dtypes "
   ]
  },
  {
   "cell_type": "code",
   "execution_count": 59,
   "metadata": {
    "scrolled": true
   },
   "outputs": [
    {
     "data": {
      "text/plain": [
       "customer_id        int64\n",
       "age_range         object\n",
       "marital_status    object\n",
       "rented             int64\n",
       "family_size       object\n",
       "no_of_children    object\n",
       "income_bracket     int64\n",
       "dtype: object"
      ]
     },
     "execution_count": 59,
     "metadata": {},
     "output_type": "execute_result"
    }
   ],
   "source": [
    "demograph.dtypes "
   ]
  },
  {
   "cell_type": "code",
   "execution_count": 60,
   "metadata": {
    "scrolled": true
   },
   "outputs": [
    {
     "data": {
      "text/plain": [
       "item_id        int64\n",
       "brand          int64\n",
       "brand_type    object\n",
       "category      object\n",
       "dtype: object"
      ]
     },
     "execution_count": 60,
     "metadata": {},
     "output_type": "execute_result"
    }
   ],
   "source": [
    "item.dtypes "
   ]
  },
  {
   "cell_type": "markdown",
   "metadata": {},
   "source": [
    "We only need to change campaign,demograph,transection and items column"
   ]
  },
  {
   "cell_type": "code",
   "execution_count": 61,
   "metadata": {},
   "outputs": [],
   "source": [
    "#Converting the date column into date time\n",
    "#Reset the index of the DataFrame, and use the default one instead.\n",
    "transaction['date'] = pd.to_datetime(transaction['date'])\n",
    "transaction = transaction.sort_values('date').reset_index(drop=True)"
   ]
  },
  {
   "cell_type": "code",
   "execution_count": 62,
   "metadata": {},
   "outputs": [],
   "source": [
    "#Creating 3 new columns from the date column\n",
    "transaction['day'] = transaction[\"date\"].apply(lambda x: x.day)\n",
    "transaction['dow'] = transaction[\"date\"].apply(lambda x: x.weekday())\n",
    "transaction['month'] = transaction[\"date\"].apply(lambda x: x.month)\n",
    "transaction['year_date']=transaction['date'].apply(lambda x: x.year)\n"
   ]
  },
  {
   "cell_type": "code",
   "execution_count": 63,
   "metadata": {
    "scrolled": true
   },
   "outputs": [
    {
     "data": {
      "text/html": [
       "<div>\n",
       "<style scoped>\n",
       "    .dataframe tbody tr th:only-of-type {\n",
       "        vertical-align: middle;\n",
       "    }\n",
       "\n",
       "    .dataframe tbody tr th {\n",
       "        vertical-align: top;\n",
       "    }\n",
       "\n",
       "    .dataframe thead th {\n",
       "        text-align: right;\n",
       "    }\n",
       "</style>\n",
       "<table border=\"1\" class=\"dataframe\">\n",
       "  <thead>\n",
       "    <tr style=\"text-align: right;\">\n",
       "      <th></th>\n",
       "      <th>date</th>\n",
       "      <th>customer_id</th>\n",
       "      <th>item_id</th>\n",
       "      <th>quantity</th>\n",
       "      <th>selling_price</th>\n",
       "      <th>other_discount</th>\n",
       "      <th>coupon_discount</th>\n",
       "      <th>day</th>\n",
       "      <th>dow</th>\n",
       "      <th>month</th>\n",
       "      <th>year_date</th>\n",
       "    </tr>\n",
       "  </thead>\n",
       "  <tbody>\n",
       "    <tr>\n",
       "      <th>0</th>\n",
       "      <td>2012-01-02</td>\n",
       "      <td>1501</td>\n",
       "      <td>26830</td>\n",
       "      <td>1</td>\n",
       "      <td>35.26</td>\n",
       "      <td>-10.69</td>\n",
       "      <td>0.00</td>\n",
       "      <td>2</td>\n",
       "      <td>0</td>\n",
       "      <td>1</td>\n",
       "      <td>2012</td>\n",
       "    </tr>\n",
       "    <tr>\n",
       "      <th>1</th>\n",
       "      <td>2012-01-02</td>\n",
       "      <td>464</td>\n",
       "      <td>20697</td>\n",
       "      <td>1</td>\n",
       "      <td>92.26</td>\n",
       "      <td>-21.37</td>\n",
       "      <td>-35.62</td>\n",
       "      <td>2</td>\n",
       "      <td>0</td>\n",
       "      <td>1</td>\n",
       "      <td>2012</td>\n",
       "    </tr>\n",
       "    <tr>\n",
       "      <th>2</th>\n",
       "      <td>2012-01-02</td>\n",
       "      <td>464</td>\n",
       "      <td>20717</td>\n",
       "      <td>2</td>\n",
       "      <td>28.50</td>\n",
       "      <td>-27.78</td>\n",
       "      <td>0.00</td>\n",
       "      <td>2</td>\n",
       "      <td>0</td>\n",
       "      <td>1</td>\n",
       "      <td>2012</td>\n",
       "    </tr>\n",
       "    <tr>\n",
       "      <th>3</th>\n",
       "      <td>2012-01-02</td>\n",
       "      <td>464</td>\n",
       "      <td>21008</td>\n",
       "      <td>1</td>\n",
       "      <td>35.26</td>\n",
       "      <td>-17.81</td>\n",
       "      <td>0.00</td>\n",
       "      <td>2</td>\n",
       "      <td>0</td>\n",
       "      <td>1</td>\n",
       "      <td>2012</td>\n",
       "    </tr>\n",
       "    <tr>\n",
       "      <th>4</th>\n",
       "      <td>2012-01-02</td>\n",
       "      <td>464</td>\n",
       "      <td>22243</td>\n",
       "      <td>2</td>\n",
       "      <td>118.97</td>\n",
       "      <td>-22.80</td>\n",
       "      <td>0.00</td>\n",
       "      <td>2</td>\n",
       "      <td>0</td>\n",
       "      <td>1</td>\n",
       "      <td>2012</td>\n",
       "    </tr>\n",
       "  </tbody>\n",
       "</table>\n",
       "</div>"
      ],
      "text/plain": [
       "        date  customer_id  item_id  quantity  selling_price  other_discount  \\\n",
       "0 2012-01-02         1501    26830         1          35.26          -10.69   \n",
       "1 2012-01-02          464    20697         1          92.26          -21.37   \n",
       "2 2012-01-02          464    20717         2          28.50          -27.78   \n",
       "3 2012-01-02          464    21008         1          35.26          -17.81   \n",
       "4 2012-01-02          464    22243         2         118.97          -22.80   \n",
       "\n",
       "   coupon_discount  day  dow  month  year_date  \n",
       "0             0.00    2    0      1       2012  \n",
       "1           -35.62    2    0      1       2012  \n",
       "2             0.00    2    0      1       2012  \n",
       "3             0.00    2    0      1       2012  \n",
       "4             0.00    2    0      1       2012  "
      ]
     },
     "execution_count": 63,
     "metadata": {},
     "output_type": "execute_result"
    }
   ],
   "source": [
    "transaction.head()"
   ]
  },
  {
   "cell_type": "markdown",
   "metadata": {},
   "source": [
    "Campaign"
   ]
  },
  {
   "cell_type": "code",
   "execution_count": 64,
   "metadata": {},
   "outputs": [],
   "source": [
    "#if we want a exect number of how much time camp was there we need to change datatype first\n",
    "campaign['start_date'] = pd.to_datetime(campaign['start_date'], format = '%d/%m/%y')\n",
    "campaign['end_date'] = pd.to_datetime(campaign['end_date'], format = '%d/%m/%y')"
   ]
  },
  {
   "cell_type": "code",
   "execution_count": 65,
   "metadata": {},
   "outputs": [],
   "source": [
    "#Creating a new column campaign_duration\n",
    "campaign[\"campaign_duration\"] = campaign[\"end_date\"] - campaign[\"start_date\"]\n",
    "campaign[\"campaign_duration\"] = campaign[\"campaign_duration\"].apply(lambda x: x.days) "
   ]
  },
  {
   "cell_type": "code",
   "execution_count": 66,
   "metadata": {
    "scrolled": true
   },
   "outputs": [
    {
     "data": {
      "text/plain": [
       "campaign_id                   int64\n",
       "campaign_type                object\n",
       "start_date           datetime64[ns]\n",
       "end_date             datetime64[ns]\n",
       "campaign_duration             int64\n",
       "dtype: object"
      ]
     },
     "execution_count": 66,
     "metadata": {},
     "output_type": "execute_result"
    }
   ],
   "source": [
    "campaign.dtypes"
   ]
  },
  {
   "cell_type": "code",
   "execution_count": 67,
   "metadata": {},
   "outputs": [
    {
     "data": {
      "text/plain": [
       "Y    22\n",
       "X     6\n",
       "Name: campaign_type, dtype: int64"
      ]
     },
     "execution_count": 67,
     "metadata": {},
     "output_type": "execute_result"
    }
   ],
   "source": [
    "campaign.campaign_type.value_counts()"
   ]
  },
  {
   "cell_type": "code",
   "execution_count": 68,
   "metadata": {},
   "outputs": [
    {
     "data": {
      "text/html": [
       "<div>\n",
       "<style scoped>\n",
       "    .dataframe tbody tr th:only-of-type {\n",
       "        vertical-align: middle;\n",
       "    }\n",
       "\n",
       "    .dataframe tbody tr th {\n",
       "        vertical-align: top;\n",
       "    }\n",
       "\n",
       "    .dataframe thead th {\n",
       "        text-align: right;\n",
       "    }\n",
       "</style>\n",
       "<table border=\"1\" class=\"dataframe\">\n",
       "  <thead>\n",
       "    <tr style=\"text-align: right;\">\n",
       "      <th></th>\n",
       "      <th>campaign_id</th>\n",
       "      <th>campaign_type</th>\n",
       "      <th>start_date</th>\n",
       "      <th>end_date</th>\n",
       "      <th>campaign_duration</th>\n",
       "    </tr>\n",
       "  </thead>\n",
       "  <tbody>\n",
       "    <tr>\n",
       "      <th>0</th>\n",
       "      <td>24</td>\n",
       "      <td>Y</td>\n",
       "      <td>2013-10-21</td>\n",
       "      <td>2013-12-20</td>\n",
       "      <td>60</td>\n",
       "    </tr>\n",
       "    <tr>\n",
       "      <th>1</th>\n",
       "      <td>25</td>\n",
       "      <td>Y</td>\n",
       "      <td>2013-10-21</td>\n",
       "      <td>2013-11-22</td>\n",
       "      <td>32</td>\n",
       "    </tr>\n",
       "    <tr>\n",
       "      <th>2</th>\n",
       "      <td>20</td>\n",
       "      <td>Y</td>\n",
       "      <td>2013-09-07</td>\n",
       "      <td>2013-11-16</td>\n",
       "      <td>70</td>\n",
       "    </tr>\n",
       "    <tr>\n",
       "      <th>3</th>\n",
       "      <td>23</td>\n",
       "      <td>Y</td>\n",
       "      <td>2013-10-08</td>\n",
       "      <td>2013-11-15</td>\n",
       "      <td>38</td>\n",
       "    </tr>\n",
       "    <tr>\n",
       "      <th>4</th>\n",
       "      <td>21</td>\n",
       "      <td>Y</td>\n",
       "      <td>2013-09-16</td>\n",
       "      <td>2013-10-18</td>\n",
       "      <td>32</td>\n",
       "    </tr>\n",
       "  </tbody>\n",
       "</table>\n",
       "</div>"
      ],
      "text/plain": [
       "   campaign_id campaign_type start_date   end_date  campaign_duration\n",
       "0           24             Y 2013-10-21 2013-12-20                 60\n",
       "1           25             Y 2013-10-21 2013-11-22                 32\n",
       "2           20             Y 2013-09-07 2013-11-16                 70\n",
       "3           23             Y 2013-10-08 2013-11-15                 38\n",
       "4           21             Y 2013-09-16 2013-10-18                 32"
      ]
     },
     "execution_count": 68,
     "metadata": {},
     "output_type": "execute_result"
    }
   ],
   "source": [
    "campaign.head()"
   ]
  },
  {
   "cell_type": "code",
   "execution_count": 69,
   "metadata": {},
   "outputs": [
    {
     "data": {
      "text/plain": [
       "array([13,  9,  8, 11, 29, 30,  2,  5, 12, 26,  3,  4, 10,  7, 28, 27,  6,\n",
       "        1])"
      ]
     },
     "execution_count": 69,
     "metadata": {},
     "output_type": "execute_result"
    }
   ],
   "source": [
    "train.campaign_id.unique() #we can see 18 camp id in training of data"
   ]
  },
  {
   "cell_type": "code",
   "execution_count": 70,
   "metadata": {},
   "outputs": [
    {
     "data": {
      "text/plain": [
       "array([22, 20, 25, 17, 18, 21, 23, 19, 16, 24])"
      ]
     },
     "execution_count": 70,
     "metadata": {},
     "output_type": "execute_result"
    }
   ],
   "source": [
    "test.campaign_id.unique() # we want 10 prediction as we can see on test data"
   ]
  },
  {
   "cell_type": "code",
   "execution_count": 71,
   "metadata": {},
   "outputs": [],
   "source": [
    "tables_data['campaign'] = campaign #Making the change to Tables dic"
   ]
  },
  {
   "cell_type": "markdown",
   "metadata": {},
   "source": [
    "Demograph"
   ]
  },
  {
   "cell_type": "code",
   "execution_count": 72,
   "metadata": {},
   "outputs": [
    {
     "data": {
      "text/plain": [
       "customer_id        int64\n",
       "age_range         object\n",
       "marital_status    object\n",
       "rented             int64\n",
       "family_size       object\n",
       "no_of_children    object\n",
       "income_bracket     int64\n",
       "dtype: object"
      ]
     },
     "execution_count": 72,
     "metadata": {},
     "output_type": "execute_result"
    }
   ],
   "source": [
    "demograph.dtypes"
   ]
  },
  {
   "cell_type": "code",
   "execution_count": 73,
   "metadata": {
    "scrolled": true
   },
   "outputs": [
    {
     "data": {
      "text/html": [
       "<div>\n",
       "<style scoped>\n",
       "    .dataframe tbody tr th:only-of-type {\n",
       "        vertical-align: middle;\n",
       "    }\n",
       "\n",
       "    .dataframe tbody tr th {\n",
       "        vertical-align: top;\n",
       "    }\n",
       "\n",
       "    .dataframe thead th {\n",
       "        text-align: right;\n",
       "    }\n",
       "</style>\n",
       "<table border=\"1\" class=\"dataframe\">\n",
       "  <thead>\n",
       "    <tr style=\"text-align: right;\">\n",
       "      <th></th>\n",
       "      <th>customer_id</th>\n",
       "      <th>age_range</th>\n",
       "      <th>marital_status</th>\n",
       "      <th>rented</th>\n",
       "      <th>family_size</th>\n",
       "      <th>no_of_children</th>\n",
       "      <th>income_bracket</th>\n",
       "    </tr>\n",
       "  </thead>\n",
       "  <tbody>\n",
       "    <tr>\n",
       "      <th>0</th>\n",
       "      <td>1</td>\n",
       "      <td>70+</td>\n",
       "      <td>Married</td>\n",
       "      <td>0</td>\n",
       "      <td>2</td>\n",
       "      <td>NaN</td>\n",
       "      <td>4</td>\n",
       "    </tr>\n",
       "    <tr>\n",
       "      <th>1</th>\n",
       "      <td>6</td>\n",
       "      <td>46-55</td>\n",
       "      <td>Married</td>\n",
       "      <td>0</td>\n",
       "      <td>2</td>\n",
       "      <td>NaN</td>\n",
       "      <td>5</td>\n",
       "    </tr>\n",
       "    <tr>\n",
       "      <th>2</th>\n",
       "      <td>7</td>\n",
       "      <td>26-35</td>\n",
       "      <td>NaN</td>\n",
       "      <td>0</td>\n",
       "      <td>3</td>\n",
       "      <td>1</td>\n",
       "      <td>3</td>\n",
       "    </tr>\n",
       "    <tr>\n",
       "      <th>3</th>\n",
       "      <td>8</td>\n",
       "      <td>26-35</td>\n",
       "      <td>NaN</td>\n",
       "      <td>0</td>\n",
       "      <td>4</td>\n",
       "      <td>2</td>\n",
       "      <td>6</td>\n",
       "    </tr>\n",
       "    <tr>\n",
       "      <th>4</th>\n",
       "      <td>10</td>\n",
       "      <td>46-55</td>\n",
       "      <td>Single</td>\n",
       "      <td>0</td>\n",
       "      <td>1</td>\n",
       "      <td>NaN</td>\n",
       "      <td>5</td>\n",
       "    </tr>\n",
       "    <tr>\n",
       "      <th>5</th>\n",
       "      <td>11</td>\n",
       "      <td>70+</td>\n",
       "      <td>Single</td>\n",
       "      <td>0</td>\n",
       "      <td>2</td>\n",
       "      <td>NaN</td>\n",
       "      <td>1</td>\n",
       "    </tr>\n",
       "    <tr>\n",
       "      <th>6</th>\n",
       "      <td>12</td>\n",
       "      <td>46-55</td>\n",
       "      <td>Married</td>\n",
       "      <td>0</td>\n",
       "      <td>2</td>\n",
       "      <td>NaN</td>\n",
       "      <td>7</td>\n",
       "    </tr>\n",
       "    <tr>\n",
       "      <th>7</th>\n",
       "      <td>13</td>\n",
       "      <td>36-45</td>\n",
       "      <td>Single</td>\n",
       "      <td>0</td>\n",
       "      <td>1</td>\n",
       "      <td>NaN</td>\n",
       "      <td>2</td>\n",
       "    </tr>\n",
       "    <tr>\n",
       "      <th>8</th>\n",
       "      <td>14</td>\n",
       "      <td>26-35</td>\n",
       "      <td>Married</td>\n",
       "      <td>1</td>\n",
       "      <td>2</td>\n",
       "      <td>NaN</td>\n",
       "      <td>6</td>\n",
       "    </tr>\n",
       "    <tr>\n",
       "      <th>9</th>\n",
       "      <td>15</td>\n",
       "      <td>46-55</td>\n",
       "      <td>Married</td>\n",
       "      <td>0</td>\n",
       "      <td>2</td>\n",
       "      <td>NaN</td>\n",
       "      <td>6</td>\n",
       "    </tr>\n",
       "    <tr>\n",
       "      <th>10</th>\n",
       "      <td>17</td>\n",
       "      <td>36-45</td>\n",
       "      <td>NaN</td>\n",
       "      <td>0</td>\n",
       "      <td>1</td>\n",
       "      <td>NaN</td>\n",
       "      <td>5</td>\n",
       "    </tr>\n",
       "    <tr>\n",
       "      <th>11</th>\n",
       "      <td>19</td>\n",
       "      <td>46-55</td>\n",
       "      <td>NaN</td>\n",
       "      <td>0</td>\n",
       "      <td>1</td>\n",
       "      <td>NaN</td>\n",
       "      <td>3</td>\n",
       "    </tr>\n",
       "    <tr>\n",
       "      <th>12</th>\n",
       "      <td>22</td>\n",
       "      <td>36-45</td>\n",
       "      <td>Single</td>\n",
       "      <td>0</td>\n",
       "      <td>2</td>\n",
       "      <td>NaN</td>\n",
       "      <td>4</td>\n",
       "    </tr>\n",
       "    <tr>\n",
       "      <th>13</th>\n",
       "      <td>27</td>\n",
       "      <td>36-45</td>\n",
       "      <td>Married</td>\n",
       "      <td>0</td>\n",
       "      <td>2</td>\n",
       "      <td>NaN</td>\n",
       "      <td>8</td>\n",
       "    </tr>\n",
       "    <tr>\n",
       "      <th>14</th>\n",
       "      <td>28</td>\n",
       "      <td>46-55</td>\n",
       "      <td>NaN</td>\n",
       "      <td>0</td>\n",
       "      <td>2</td>\n",
       "      <td>NaN</td>\n",
       "      <td>1</td>\n",
       "    </tr>\n",
       "    <tr>\n",
       "      <th>15</th>\n",
       "      <td>30</td>\n",
       "      <td>70+</td>\n",
       "      <td>NaN</td>\n",
       "      <td>0</td>\n",
       "      <td>1</td>\n",
       "      <td>NaN</td>\n",
       "      <td>5</td>\n",
       "    </tr>\n",
       "  </tbody>\n",
       "</table>\n",
       "</div>"
      ],
      "text/plain": [
       "    customer_id age_range marital_status  rented family_size no_of_children  \\\n",
       "0             1       70+        Married       0           2            NaN   \n",
       "1             6     46-55        Married       0           2            NaN   \n",
       "2             7     26-35            NaN       0           3              1   \n",
       "3             8     26-35            NaN       0           4              2   \n",
       "4            10     46-55         Single       0           1            NaN   \n",
       "5            11       70+         Single       0           2            NaN   \n",
       "6            12     46-55        Married       0           2            NaN   \n",
       "7            13     36-45         Single       0           1            NaN   \n",
       "8            14     26-35        Married       1           2            NaN   \n",
       "9            15     46-55        Married       0           2            NaN   \n",
       "10           17     36-45            NaN       0           1            NaN   \n",
       "11           19     46-55            NaN       0           1            NaN   \n",
       "12           22     36-45         Single       0           2            NaN   \n",
       "13           27     36-45        Married       0           2            NaN   \n",
       "14           28     46-55            NaN       0           2            NaN   \n",
       "15           30       70+            NaN       0           1            NaN   \n",
       "\n",
       "    income_bracket  \n",
       "0                4  \n",
       "1                5  \n",
       "2                3  \n",
       "3                6  \n",
       "4                5  \n",
       "5                1  \n",
       "6                7  \n",
       "7                2  \n",
       "8                6  \n",
       "9                6  \n",
       "10               5  \n",
       "11               3  \n",
       "12               4  \n",
       "13               8  \n",
       "14               1  \n",
       "15               5  "
      ]
     },
     "execution_count": 73,
     "metadata": {},
     "output_type": "execute_result"
    }
   ],
   "source": [
    "demograph.head(16)"
   ]
  },
  {
   "cell_type": "code",
   "execution_count": 74,
   "metadata": {},
   "outputs": [
    {
     "data": {
      "text/plain": [
       "<matplotlib.axes._subplots.AxesSubplot at 0x7f400d104c40>"
      ]
     },
     "execution_count": 74,
     "metadata": {},
     "output_type": "execute_result"
    },
    {
     "data": {
      "image/png": "[encoded data removed]",
      "text/plain": [
       "<Figure size 432x288 with 1 Axes>"
      ]
     },
     "metadata": {},
     "output_type": "display_data"
    }
   ],
   "source": [
    "sns.heatmap(demograph.isnull(),yticklabels=False,cbar=False,cmap='viridis')"
   ]
  },
  {
   "cell_type": "code",
   "execution_count": 75,
   "metadata": {},
   "outputs": [
    {
     "data": {
      "text/plain": [
       "1     107\n",
       "3+     60\n",
       "2      55\n",
       "Name: no_of_children, dtype: int64"
      ]
     },
     "execution_count": 75,
     "metadata": {},
     "output_type": "execute_result"
    }
   ],
   "source": [
    "demograph.no_of_children.value_counts()"
   ]
  },
  {
   "cell_type": "code",
   "execution_count": 76,
   "metadata": {},
   "outputs": [
    {
     "data": {
      "text/plain": [
       "46-55    271\n",
       "36-45    187\n",
       "26-35    130\n",
       "70+       68\n",
       "56-70     59\n",
       "18-25     45\n",
       "Name: age_range, dtype: int64"
      ]
     },
     "execution_count": 76,
     "metadata": {},
     "output_type": "execute_result"
    }
   ],
   "source": [
    "demograph.age_range.value_counts()"
   ]
  },
  {
   "cell_type": "markdown",
   "metadata": {},
   "source": [
    "Transaction"
   ]
  },
  {
   "cell_type": "code",
   "execution_count": 77,
   "metadata": {},
   "outputs": [],
   "source": [
    "#Inserting a new column to know if the coupon was used or not\n",
    "transaction['coupon_used'] = transaction.coupon_discount.apply(lambda x: 1 if x !=0 else 0)\n",
    "transaction['count']=1"
   ]
  },
  {
   "cell_type": "code",
   "execution_count": 78,
   "metadata": {},
   "outputs": [],
   "source": [
    "#Converting the date column into date time\n",
    "#Reset the index of the DataFrame, and use the default one instead.\n",
    "#If the DataFrame has a MultiIndex, this method can remove one or more levels.\n",
    "transaction['date'] = pd.to_datetime(transaction['date'])\n",
    "transaction= transaction.sort_values('date').reset_index(drop=True)"
   ]
  },
  {
   "cell_type": "code",
   "execution_count": 79,
   "metadata": {},
   "outputs": [
    {
     "data": {
      "text/html": [
       "<div>\n",
       "<style scoped>\n",
       "    .dataframe tbody tr th:only-of-type {\n",
       "        vertical-align: middle;\n",
       "    }\n",
       "\n",
       "    .dataframe tbody tr th {\n",
       "        vertical-align: top;\n",
       "    }\n",
       "\n",
       "    .dataframe thead th {\n",
       "        text-align: right;\n",
       "    }\n",
       "</style>\n",
       "<table border=\"1\" class=\"dataframe\">\n",
       "  <thead>\n",
       "    <tr style=\"text-align: right;\">\n",
       "      <th></th>\n",
       "      <th>date</th>\n",
       "      <th>customer_id</th>\n",
       "      <th>item_id</th>\n",
       "      <th>quantity</th>\n",
       "      <th>selling_price</th>\n",
       "      <th>other_discount</th>\n",
       "      <th>coupon_discount</th>\n",
       "      <th>day</th>\n",
       "      <th>dow</th>\n",
       "      <th>month</th>\n",
       "      <th>year_date</th>\n",
       "      <th>coupon_used</th>\n",
       "      <th>count</th>\n",
       "    </tr>\n",
       "  </thead>\n",
       "  <tbody>\n",
       "    <tr>\n",
       "      <th>0</th>\n",
       "      <td>2012-01-02</td>\n",
       "      <td>1501</td>\n",
       "      <td>26830</td>\n",
       "      <td>1</td>\n",
       "      <td>35.26</td>\n",
       "      <td>-10.69</td>\n",
       "      <td>0.0</td>\n",
       "      <td>2</td>\n",
       "      <td>0</td>\n",
       "      <td>1</td>\n",
       "      <td>2012</td>\n",
       "      <td>0</td>\n",
       "      <td>1</td>\n",
       "    </tr>\n",
       "    <tr>\n",
       "      <th>1</th>\n",
       "      <td>2012-01-02</td>\n",
       "      <td>1501</td>\n",
       "      <td>33647</td>\n",
       "      <td>1</td>\n",
       "      <td>67.32</td>\n",
       "      <td>0.00</td>\n",
       "      <td>0.0</td>\n",
       "      <td>2</td>\n",
       "      <td>0</td>\n",
       "      <td>1</td>\n",
       "      <td>2012</td>\n",
       "      <td>0</td>\n",
       "      <td>1</td>\n",
       "    </tr>\n",
       "    <tr>\n",
       "      <th>2</th>\n",
       "      <td>2012-01-02</td>\n",
       "      <td>1501</td>\n",
       "      <td>48199</td>\n",
       "      <td>1</td>\n",
       "      <td>71.24</td>\n",
       "      <td>-28.14</td>\n",
       "      <td>0.0</td>\n",
       "      <td>2</td>\n",
       "      <td>0</td>\n",
       "      <td>1</td>\n",
       "      <td>2012</td>\n",
       "      <td>0</td>\n",
       "      <td>1</td>\n",
       "    </tr>\n",
       "    <tr>\n",
       "      <th>3</th>\n",
       "      <td>2012-01-02</td>\n",
       "      <td>1501</td>\n",
       "      <td>57397</td>\n",
       "      <td>1</td>\n",
       "      <td>71.24</td>\n",
       "      <td>-28.14</td>\n",
       "      <td>0.0</td>\n",
       "      <td>2</td>\n",
       "      <td>0</td>\n",
       "      <td>1</td>\n",
       "      <td>2012</td>\n",
       "      <td>0</td>\n",
       "      <td>1</td>\n",
       "    </tr>\n",
       "    <tr>\n",
       "      <th>4</th>\n",
       "      <td>2012-01-02</td>\n",
       "      <td>857</td>\n",
       "      <td>12424</td>\n",
       "      <td>1</td>\n",
       "      <td>106.50</td>\n",
       "      <td>-14.25</td>\n",
       "      <td>0.0</td>\n",
       "      <td>2</td>\n",
       "      <td>0</td>\n",
       "      <td>1</td>\n",
       "      <td>2012</td>\n",
       "      <td>0</td>\n",
       "      <td>1</td>\n",
       "    </tr>\n",
       "  </tbody>\n",
       "</table>\n",
       "</div>"
      ],
      "text/plain": [
       "        date  customer_id  item_id  quantity  selling_price  other_discount  \\\n",
       "0 2012-01-02         1501    26830         1          35.26          -10.69   \n",
       "1 2012-01-02         1501    33647         1          67.32            0.00   \n",
       "2 2012-01-02         1501    48199         1          71.24          -28.14   \n",
       "3 2012-01-02         1501    57397         1          71.24          -28.14   \n",
       "4 2012-01-02          857    12424         1         106.50          -14.25   \n",
       "\n",
       "   coupon_discount  day  dow  month  year_date  coupon_used  count  \n",
       "0              0.0    2    0      1       2012            0      1  \n",
       "1              0.0    2    0      1       2012            0      1  \n",
       "2              0.0    2    0      1       2012            0      1  \n",
       "3              0.0    2    0      1       2012            0      1  \n",
       "4              0.0    2    0      1       2012            0      1  "
      ]
     },
     "execution_count": 79,
     "metadata": {},
     "output_type": "execute_result"
    }
   ],
   "source": [
    "transaction.head()"
   ]
  },
  {
   "cell_type": "code",
   "execution_count": 80,
   "metadata": {},
   "outputs": [
    {
     "data": {
      "text/html": [
       "<div>\n",
       "<style scoped>\n",
       "    .dataframe tbody tr th:only-of-type {\n",
       "        vertical-align: middle;\n",
       "    }\n",
       "\n",
       "    .dataframe tbody tr th {\n",
       "        vertical-align: top;\n",
       "    }\n",
       "\n",
       "    .dataframe thead th {\n",
       "        text-align: right;\n",
       "    }\n",
       "</style>\n",
       "<table border=\"1\" class=\"dataframe\">\n",
       "  <thead>\n",
       "    <tr style=\"text-align: right;\">\n",
       "      <th></th>\n",
       "      <th>id</th>\n",
       "      <th>campaign_id</th>\n",
       "      <th>coupon_id</th>\n",
       "      <th>customer_id</th>\n",
       "      <th>redemption_status</th>\n",
       "    </tr>\n",
       "  </thead>\n",
       "  <tbody>\n",
       "    <tr>\n",
       "      <th>0</th>\n",
       "      <td>1</td>\n",
       "      <td>13</td>\n",
       "      <td>27</td>\n",
       "      <td>1053</td>\n",
       "      <td>0</td>\n",
       "    </tr>\n",
       "    <tr>\n",
       "      <th>1</th>\n",
       "      <td>2</td>\n",
       "      <td>13</td>\n",
       "      <td>116</td>\n",
       "      <td>48</td>\n",
       "      <td>0</td>\n",
       "    </tr>\n",
       "    <tr>\n",
       "      <th>2</th>\n",
       "      <td>6</td>\n",
       "      <td>9</td>\n",
       "      <td>635</td>\n",
       "      <td>205</td>\n",
       "      <td>0</td>\n",
       "    </tr>\n",
       "    <tr>\n",
       "      <th>3</th>\n",
       "      <td>7</td>\n",
       "      <td>13</td>\n",
       "      <td>644</td>\n",
       "      <td>1050</td>\n",
       "      <td>0</td>\n",
       "    </tr>\n",
       "    <tr>\n",
       "      <th>4</th>\n",
       "      <td>9</td>\n",
       "      <td>8</td>\n",
       "      <td>1017</td>\n",
       "      <td>1489</td>\n",
       "      <td>0</td>\n",
       "    </tr>\n",
       "  </tbody>\n",
       "</table>\n",
       "</div>"
      ],
      "text/plain": [
       "   id  campaign_id  coupon_id  customer_id  redemption_status\n",
       "0   1           13         27         1053                  0\n",
       "1   2           13        116           48                  0\n",
       "2   6            9        635          205                  0\n",
       "3   7           13        644         1050                  0\n",
       "4   9            8       1017         1489                  0"
      ]
     },
     "execution_count": 80,
     "metadata": {},
     "output_type": "execute_result"
    }
   ],
   "source": [
    "train.head()"
   ]
  },
  {
   "cell_type": "markdown",
   "metadata": {},
   "source": [
    "Items"
   ]
  },
  {
   "cell_type": "code",
   "execution_count": 81,
   "metadata": {},
   "outputs": [],
   "source": [
    "#Label Encoding the brand_type and category columns\n",
    "\n",
    "item.brand_type = encoder.fit_transform(item[\"brand_type\"])\n",
    "item.category = encoder.fit_transform(item[\"category\"])"
   ]
  },
  {
   "cell_type": "code",
   "execution_count": 82,
   "metadata": {
    "scrolled": true
   },
   "outputs": [
    {
     "data": {
      "text/plain": [
       "0    62842\n",
       "1    11224\n",
       "Name: brand_type, dtype: int64"
      ]
     },
     "execution_count": 82,
     "metadata": {},
     "output_type": "execute_result"
    }
   ],
   "source": [
    "item.brand_type.value_counts()"
   ]
  },
  {
   "cell_type": "code",
   "execution_count": 83,
   "metadata": {},
   "outputs": [
    {
     "data": {
      "text/plain": [
       "18        7\n",
       "4        14\n",
       "17       19\n",
       "14       40\n",
       "13       78\n",
       "5       102\n",
       "0       303\n",
       "8       385\n",
       "3       664\n",
       "15      728\n",
       "1      1679\n",
       "12     1880\n",
       "10     1966\n",
       "7      2080\n",
       "16     2244\n",
       "2      2425\n",
       "9      2533\n",
       "11    24471\n",
       "6     32448\n",
       "Name: category, dtype: int64"
      ]
     },
     "execution_count": 83,
     "metadata": {},
     "output_type": "execute_result"
    }
   ],
   "source": [
    "item.category.value_counts().sort_values()"
   ]
  },
  {
   "cell_type": "code",
   "execution_count": 84,
   "metadata": {},
   "outputs": [
    {
     "data": {
      "text/html": [
       "<div>\n",
       "<style scoped>\n",
       "    .dataframe tbody tr th:only-of-type {\n",
       "        vertical-align: middle;\n",
       "    }\n",
       "\n",
       "    .dataframe tbody tr th {\n",
       "        vertical-align: top;\n",
       "    }\n",
       "\n",
       "    .dataframe thead th {\n",
       "        text-align: right;\n",
       "    }\n",
       "</style>\n",
       "<table border=\"1\" class=\"dataframe\">\n",
       "  <thead>\n",
       "    <tr style=\"text-align: right;\">\n",
       "      <th></th>\n",
       "      <th>item_id</th>\n",
       "      <th>brand</th>\n",
       "      <th>brand_type</th>\n",
       "      <th>category</th>\n",
       "    </tr>\n",
       "  </thead>\n",
       "  <tbody>\n",
       "    <tr>\n",
       "      <th>0</th>\n",
       "      <td>1</td>\n",
       "      <td>1</td>\n",
       "      <td>0</td>\n",
       "      <td>6</td>\n",
       "    </tr>\n",
       "    <tr>\n",
       "      <th>1</th>\n",
       "      <td>2</td>\n",
       "      <td>1</td>\n",
       "      <td>0</td>\n",
       "      <td>8</td>\n",
       "    </tr>\n",
       "    <tr>\n",
       "      <th>2</th>\n",
       "      <td>3</td>\n",
       "      <td>56</td>\n",
       "      <td>1</td>\n",
       "      <td>1</td>\n",
       "    </tr>\n",
       "    <tr>\n",
       "      <th>3</th>\n",
       "      <td>4</td>\n",
       "      <td>56</td>\n",
       "      <td>1</td>\n",
       "      <td>6</td>\n",
       "    </tr>\n",
       "    <tr>\n",
       "      <th>4</th>\n",
       "      <td>5</td>\n",
       "      <td>56</td>\n",
       "      <td>1</td>\n",
       "      <td>6</td>\n",
       "    </tr>\n",
       "  </tbody>\n",
       "</table>\n",
       "</div>"
      ],
      "text/plain": [
       "   item_id  brand  brand_type  category\n",
       "0        1      1           0         6\n",
       "1        2      1           0         8\n",
       "2        3     56           1         1\n",
       "3        4     56           1         6\n",
       "4        5     56           1         6"
      ]
     },
     "execution_count": 84,
     "metadata": {},
     "output_type": "execute_result"
    }
   ],
   "source": [
    "item.head()"
   ]
  },
  {
   "cell_type": "code",
   "execution_count": 85,
   "metadata": {},
   "outputs": [
    {
     "data": {
      "text/plain": [
       "campaign_id                   int64\n",
       "campaign_type                object\n",
       "start_date           datetime64[ns]\n",
       "end_date             datetime64[ns]\n",
       "campaign_duration             int64\n",
       "dtype: object"
      ]
     },
     "execution_count": 85,
     "metadata": {},
     "output_type": "execute_result"
    }
   ],
   "source": [
    "campaign.dtypes"
   ]
  },
  {
   "cell_type": "code",
   "execution_count": 86,
   "metadata": {},
   "outputs": [
    {
     "data": {
      "text/plain": [
       "item_id       int64\n",
       "brand         int64\n",
       "brand_type    int64\n",
       "category      int64\n",
       "dtype: object"
      ]
     },
     "execution_count": 86,
     "metadata": {},
     "output_type": "execute_result"
    }
   ],
   "source": [
    "item.dtypes"
   ]
  },
  {
   "cell_type": "code",
   "execution_count": 87,
   "metadata": {},
   "outputs": [
    {
     "data": {
      "text/plain": [
       "coupon_id    int64\n",
       "item_id      int64\n",
       "dtype: object"
      ]
     },
     "execution_count": 87,
     "metadata": {},
     "output_type": "execute_result"
    }
   ],
   "source": [
    "coupon.dtypes"
   ]
  },
  {
   "cell_type": "code",
   "execution_count": 88,
   "metadata": {},
   "outputs": [
    {
     "data": {
      "text/plain": [
       "date               datetime64[ns]\n",
       "customer_id                 int64\n",
       "item_id                     int64\n",
       "quantity                    int64\n",
       "selling_price             float64\n",
       "other_discount            float64\n",
       "coupon_discount           float64\n",
       "day                         int64\n",
       "dow                         int64\n",
       "month                       int64\n",
       "year_date                   int64\n",
       "coupon_used                 int64\n",
       "count                       int64\n",
       "dtype: object"
      ]
     },
     "execution_count": 88,
     "metadata": {},
     "output_type": "execute_result"
    }
   ],
   "source": [
    "transaction.dtypes"
   ]
  },
  {
   "cell_type": "code",
   "execution_count": 89,
   "metadata": {},
   "outputs": [
    {
     "data": {
      "text/plain": [
       "customer_id        int64\n",
       "age_range         object\n",
       "marital_status    object\n",
       "rented             int64\n",
       "family_size       object\n",
       "no_of_children    object\n",
       "income_bracket     int64\n",
       "dtype: object"
      ]
     },
     "execution_count": 89,
     "metadata": {},
     "output_type": "execute_result"
    }
   ],
   "source": [
    "demograph.dtypes"
   ]
  },
  {
   "cell_type": "markdown",
   "metadata": {},
   "source": [
    "# Aggregating and Concat of tables"
   ]
  },
  {
   "cell_type": "markdown",
   "metadata": {},
   "source": [
    "Let us see schema before proceeding"
   ]
  },
  {
   "attachments": {
    "schema.png": {
     "image/png": "[encoded data removed]"
    }
   },
   "cell_type": "markdown",
   "metadata": {},
   "source": [
    "![schema.png](attachment:schema.png)"
   ]
  },
  {
   "cell_type": "markdown",
   "metadata": {},
   "source": [
    "\n",
    "\n",
    "aggregating transactions by item_id as a table transaction1"
   ]
  },
  {
   "cell_type": "code",
   "execution_count": 90,
   "metadata": {},
   "outputs": [
    {
     "data": {
      "text/html": [
       "<div>\n",
       "<style scoped>\n",
       "    .dataframe tbody tr th:only-of-type {\n",
       "        vertical-align: middle;\n",
       "    }\n",
       "\n",
       "    .dataframe tbody tr th {\n",
       "        vertical-align: top;\n",
       "    }\n",
       "\n",
       "    .dataframe thead th {\n",
       "        text-align: right;\n",
       "    }\n",
       "</style>\n",
       "<table border=\"1\" class=\"dataframe\">\n",
       "  <thead>\n",
       "    <tr style=\"text-align: right;\">\n",
       "      <th></th>\n",
       "      <th>date</th>\n",
       "      <th>customer_id</th>\n",
       "      <th>item_id</th>\n",
       "      <th>quantity</th>\n",
       "      <th>selling_price</th>\n",
       "      <th>other_discount</th>\n",
       "      <th>coupon_discount</th>\n",
       "      <th>day</th>\n",
       "      <th>dow</th>\n",
       "      <th>month</th>\n",
       "      <th>year_date</th>\n",
       "      <th>coupon_used</th>\n",
       "      <th>count</th>\n",
       "    </tr>\n",
       "  </thead>\n",
       "  <tbody>\n",
       "    <tr>\n",
       "      <th>0</th>\n",
       "      <td>2012-01-02</td>\n",
       "      <td>1501</td>\n",
       "      <td>26830</td>\n",
       "      <td>1</td>\n",
       "      <td>35.26</td>\n",
       "      <td>-10.69</td>\n",
       "      <td>0.0</td>\n",
       "      <td>2</td>\n",
       "      <td>0</td>\n",
       "      <td>1</td>\n",
       "      <td>2012</td>\n",
       "      <td>0</td>\n",
       "      <td>1</td>\n",
       "    </tr>\n",
       "    <tr>\n",
       "      <th>1</th>\n",
       "      <td>2012-01-02</td>\n",
       "      <td>1501</td>\n",
       "      <td>33647</td>\n",
       "      <td>1</td>\n",
       "      <td>67.32</td>\n",
       "      <td>0.00</td>\n",
       "      <td>0.0</td>\n",
       "      <td>2</td>\n",
       "      <td>0</td>\n",
       "      <td>1</td>\n",
       "      <td>2012</td>\n",
       "      <td>0</td>\n",
       "      <td>1</td>\n",
       "    </tr>\n",
       "    <tr>\n",
       "      <th>2</th>\n",
       "      <td>2012-01-02</td>\n",
       "      <td>1501</td>\n",
       "      <td>48199</td>\n",
       "      <td>1</td>\n",
       "      <td>71.24</td>\n",
       "      <td>-28.14</td>\n",
       "      <td>0.0</td>\n",
       "      <td>2</td>\n",
       "      <td>0</td>\n",
       "      <td>1</td>\n",
       "      <td>2012</td>\n",
       "      <td>0</td>\n",
       "      <td>1</td>\n",
       "    </tr>\n",
       "    <tr>\n",
       "      <th>3</th>\n",
       "      <td>2012-01-02</td>\n",
       "      <td>1501</td>\n",
       "      <td>57397</td>\n",
       "      <td>1</td>\n",
       "      <td>71.24</td>\n",
       "      <td>-28.14</td>\n",
       "      <td>0.0</td>\n",
       "      <td>2</td>\n",
       "      <td>0</td>\n",
       "      <td>1</td>\n",
       "      <td>2012</td>\n",
       "      <td>0</td>\n",
       "      <td>1</td>\n",
       "    </tr>\n",
       "    <tr>\n",
       "      <th>4</th>\n",
       "      <td>2012-01-02</td>\n",
       "      <td>857</td>\n",
       "      <td>12424</td>\n",
       "      <td>1</td>\n",
       "      <td>106.50</td>\n",
       "      <td>-14.25</td>\n",
       "      <td>0.0</td>\n",
       "      <td>2</td>\n",
       "      <td>0</td>\n",
       "      <td>1</td>\n",
       "      <td>2012</td>\n",
       "      <td>0</td>\n",
       "      <td>1</td>\n",
       "    </tr>\n",
       "  </tbody>\n",
       "</table>\n",
       "</div>"
      ],
      "text/plain": [
       "        date  customer_id  item_id  quantity  selling_price  other_discount  \\\n",
       "0 2012-01-02         1501    26830         1          35.26          -10.69   \n",
       "1 2012-01-02         1501    33647         1          67.32            0.00   \n",
       "2 2012-01-02         1501    48199         1          71.24          -28.14   \n",
       "3 2012-01-02         1501    57397         1          71.24          -28.14   \n",
       "4 2012-01-02          857    12424         1         106.50          -14.25   \n",
       "\n",
       "   coupon_discount  day  dow  month  year_date  coupon_used  count  \n",
       "0              0.0    2    0      1       2012            0      1  \n",
       "1              0.0    2    0      1       2012            0      1  \n",
       "2              0.0    2    0      1       2012            0      1  \n",
       "3              0.0    2    0      1       2012            0      1  \n",
       "4              0.0    2    0      1       2012            0      1  "
      ]
     },
     "execution_count": 90,
     "metadata": {},
     "output_type": "execute_result"
    }
   ],
   "source": [
    "transaction.head()"
   ]
  },
  {
   "cell_type": "markdown",
   "metadata": {},
   "source": [
    "Using `pandas.pivot_table`, transaction data on each item is aggregated. The aggregated Dataframe has 7 columns and each column is described as followed.\n",
    "\n",
    "|name|Description|\n",
    "|:---|:---|\n",
    "| cust_no| number of distinct customers that bought the item|\n",
    "| avg_order_qnt  |average order quantity|\n",
    "| avg_price| average selling price|\n",
    "| avg_oth_dis | average amount of other discount|\n",
    "|avg_cp_dis| average amount of coupon discount|\n",
    "|ct_ord| number of orders made|\n",
    "|sum_cp_used| number of coupon used|"
   ]
  },
  {
   "cell_type": "code",
   "execution_count": 91,
   "metadata": {},
   "outputs": [],
   "source": [
    "transaction1 = pd.pivot_table(transaction, index = 'item_id',\n",
    "               values = ['customer_id','quantity','selling_price',\n",
    "                         'other_discount','coupon_discount','count','coupon_used'],\n",
    "               aggfunc={'customer_id':lambda x:len(set(x)),\n",
    "                        'quantity':np.mean,  \n",
    "                        'selling_price':np.mean,\n",
    "                        'other_discount':np.mean,\n",
    "                        'coupon_discount':np.mean,\n",
    "                        'count':sum,\n",
    "                        'coupon_used':sum\n",
    "                       }\n",
    "              ) # we have use the aggrigate function mean to find average\n"
   ]
  },
  {
   "cell_type": "code",
   "execution_count": 92,
   "metadata": {},
   "outputs": [],
   "source": [
    "new_cols = {'customer_id':'cust_no',\n",
    "            'quantity':'avg_order_qnt',\n",
    "            'selling_price':'avg_price',\n",
    "            'other_discount':'avg_oth_dis',\n",
    "            'coupon_discount':'avg_cp_dis',\n",
    "            'count':'ct_ord',\n",
    "           'coupon_used':'sum_cp_used'}\n",
    "transaction1.rename(columns=new_cols, inplace = True) # we have make new dic new_cols and add "
   ]
  },
  {
   "cell_type": "code",
   "execution_count": 93,
   "metadata": {},
   "outputs": [
    {
     "data": {
      "text/html": [
       "<div>\n",
       "<style scoped>\n",
       "    .dataframe tbody tr th:only-of-type {\n",
       "        vertical-align: middle;\n",
       "    }\n",
       "\n",
       "    .dataframe tbody tr th {\n",
       "        vertical-align: top;\n",
       "    }\n",
       "\n",
       "    .dataframe thead th {\n",
       "        text-align: right;\n",
       "    }\n",
       "</style>\n",
       "<table border=\"1\" class=\"dataframe\">\n",
       "  <thead>\n",
       "    <tr style=\"text-align: right;\">\n",
       "      <th></th>\n",
       "      <th>ct_ord</th>\n",
       "      <th>avg_cp_dis</th>\n",
       "      <th>sum_cp_used</th>\n",
       "      <th>cust_no</th>\n",
       "      <th>avg_oth_dis</th>\n",
       "      <th>avg_order_qnt</th>\n",
       "      <th>avg_price</th>\n",
       "    </tr>\n",
       "    <tr>\n",
       "      <th>item_id</th>\n",
       "      <th></th>\n",
       "      <th></th>\n",
       "      <th></th>\n",
       "      <th></th>\n",
       "      <th></th>\n",
       "      <th></th>\n",
       "      <th></th>\n",
       "    </tr>\n",
       "  </thead>\n",
       "  <tbody>\n",
       "    <tr>\n",
       "      <th>1</th>\n",
       "      <td>2</td>\n",
       "      <td>0.0</td>\n",
       "      <td>0</td>\n",
       "      <td>2</td>\n",
       "      <td>0.0</td>\n",
       "      <td>1.0</td>\n",
       "      <td>124.31</td>\n",
       "    </tr>\n",
       "    <tr>\n",
       "      <th>2</th>\n",
       "      <td>1</td>\n",
       "      <td>0.0</td>\n",
       "      <td>0</td>\n",
       "      <td>1</td>\n",
       "      <td>0.0</td>\n",
       "      <td>1.0</td>\n",
       "      <td>35.26</td>\n",
       "    </tr>\n",
       "    <tr>\n",
       "      <th>3</th>\n",
       "      <td>1</td>\n",
       "      <td>0.0</td>\n",
       "      <td>0</td>\n",
       "      <td>1</td>\n",
       "      <td>0.0</td>\n",
       "      <td>1.0</td>\n",
       "      <td>56.64</td>\n",
       "    </tr>\n",
       "    <tr>\n",
       "      <th>4</th>\n",
       "      <td>1</td>\n",
       "      <td>0.0</td>\n",
       "      <td>0</td>\n",
       "      <td>1</td>\n",
       "      <td>0.0</td>\n",
       "      <td>1.0</td>\n",
       "      <td>54.85</td>\n",
       "    </tr>\n",
       "    <tr>\n",
       "      <th>5</th>\n",
       "      <td>1</td>\n",
       "      <td>0.0</td>\n",
       "      <td>0</td>\n",
       "      <td>1</td>\n",
       "      <td>0.0</td>\n",
       "      <td>1.0</td>\n",
       "      <td>81.57</td>\n",
       "    </tr>\n",
       "  </tbody>\n",
       "</table>\n",
       "</div>"
      ],
      "text/plain": [
       "         ct_ord  avg_cp_dis  sum_cp_used  cust_no  avg_oth_dis  avg_order_qnt  \\\n",
       "item_id                                                                         \n",
       "1             2         0.0            0        2          0.0            1.0   \n",
       "2             1         0.0            0        1          0.0            1.0   \n",
       "3             1         0.0            0        1          0.0            1.0   \n",
       "4             1         0.0            0        1          0.0            1.0   \n",
       "5             1         0.0            0        1          0.0            1.0   \n",
       "\n",
       "         avg_price  \n",
       "item_id             \n",
       "1           124.31  \n",
       "2            35.26  \n",
       "3            56.64  \n",
       "4            54.85  \n",
       "5            81.57  "
      ]
     },
     "execution_count": 93,
     "metadata": {},
     "output_type": "execute_result"
    }
   ],
   "source": [
    "transaction1.head()"
   ]
  },
  {
   "cell_type": "code",
   "execution_count": 94,
   "metadata": {},
   "outputs": [
    {
     "name": "stdout",
     "output_type": "stream",
     "text": [
      "<class 'pandas.core.frame.DataFrame'>\n",
      "Int64Index: 74063 entries, 1 to 74066\n",
      "Data columns (total 7 columns):\n",
      " #   Column         Non-Null Count  Dtype  \n",
      "---  ------         --------------  -----  \n",
      " 0   ct_ord         74063 non-null  int64  \n",
      " 1   avg_cp_dis     74063 non-null  float64\n",
      " 2   sum_cp_used    74063 non-null  int64  \n",
      " 3   cust_no        74063 non-null  int64  \n",
      " 4   avg_oth_dis    74063 non-null  float64\n",
      " 5   avg_order_qnt  74063 non-null  float64\n",
      " 6   avg_price      74063 non-null  float64\n",
      "dtypes: float64(4), int64(3)\n",
      "memory usage: 4.5 MB\n"
     ]
    }
   ],
   "source": [
    "transaction1.info()"
   ]
  },
  {
   "cell_type": "markdown",
   "metadata": {},
   "source": [
    "|name|Description|\n",
    "|:---|:---|\n",
    "|sum_cp_dis|total amount of discount by coupons per item|\n",
    "|sum_oth_dis| total amount of discount by other sources per item|\n",
    "|sum_order_qnt|total amount of ordered quantity per item|\n",
    "|sum_total_dis|total amount of discount by any sources per item|\n",
    "|avg_total_dis|average amount of discount by any sources per item|"
   ]
  },
  {
   "cell_type": "code",
   "execution_count": 95,
   "metadata": {},
   "outputs": [],
   "source": [
    "transaction1['sum_cp_dis']=transaction1['avg_cp_dis']*transaction1['ct_ord']\n",
    "#gives the total amount of discount by coupons per item"
   ]
  },
  {
   "cell_type": "code",
   "execution_count": 96,
   "metadata": {},
   "outputs": [],
   "source": [
    "transaction1['sum_oth_dis'] = transaction1['avg_oth_dis']*transaction1['ct_ord']\n",
    "#total amount of discount by other sources per item"
   ]
  },
  {
   "cell_type": "code",
   "execution_count": 97,
   "metadata": {},
   "outputs": [],
   "source": [
    "transaction1['sum_order_qnt']= transaction1['avg_order_qnt']*transaction1['ct_ord']\n",
    "#total amount of ordered quantity per item"
   ]
  },
  {
   "cell_type": "code",
   "execution_count": 98,
   "metadata": {},
   "outputs": [
    {
     "data": {
      "text/plain": [
       "array([  2.,   1.,   3., ..., 731., 788.,  80.])"
      ]
     },
     "execution_count": 98,
     "metadata": {},
     "output_type": "execute_result"
    }
   ],
   "source": [
    "transaction1['sum_order_qnt'].unique()"
   ]
  },
  {
   "cell_type": "code",
   "execution_count": 99,
   "metadata": {},
   "outputs": [],
   "source": [
    "transaction1['sum_total_dis'] = transaction1['sum_cp_dis'] +transaction1['sum_oth_dis']\n",
    "#total amount of discount by any sources per item"
   ]
  },
  {
   "cell_type": "code",
   "execution_count": 100,
   "metadata": {},
   "outputs": [],
   "source": [
    "transaction1['avg_total_dis'] = transaction1['avg_cp_dis'] +transaction1['avg_oth_dis']\n",
    "#average amount of discount by any sources per item"
   ]
  },
  {
   "cell_type": "code",
   "execution_count": 101,
   "metadata": {},
   "outputs": [
    {
     "data": {
      "text/html": [
       "<div>\n",
       "<style scoped>\n",
       "    .dataframe tbody tr th:only-of-type {\n",
       "        vertical-align: middle;\n",
       "    }\n",
       "\n",
       "    .dataframe tbody tr th {\n",
       "        vertical-align: top;\n",
       "    }\n",
       "\n",
       "    .dataframe thead th {\n",
       "        text-align: right;\n",
       "    }\n",
       "</style>\n",
       "<table border=\"1\" class=\"dataframe\">\n",
       "  <thead>\n",
       "    <tr style=\"text-align: right;\">\n",
       "      <th></th>\n",
       "      <th>ct_ord</th>\n",
       "      <th>avg_cp_dis</th>\n",
       "      <th>sum_cp_used</th>\n",
       "      <th>cust_no</th>\n",
       "      <th>avg_oth_dis</th>\n",
       "      <th>avg_order_qnt</th>\n",
       "      <th>avg_price</th>\n",
       "      <th>sum_cp_dis</th>\n",
       "      <th>sum_oth_dis</th>\n",
       "      <th>sum_order_qnt</th>\n",
       "      <th>sum_total_dis</th>\n",
       "      <th>avg_total_dis</th>\n",
       "    </tr>\n",
       "    <tr>\n",
       "      <th>item_id</th>\n",
       "      <th></th>\n",
       "      <th></th>\n",
       "      <th></th>\n",
       "      <th></th>\n",
       "      <th></th>\n",
       "      <th></th>\n",
       "      <th></th>\n",
       "      <th></th>\n",
       "      <th></th>\n",
       "      <th></th>\n",
       "      <th></th>\n",
       "      <th></th>\n",
       "    </tr>\n",
       "  </thead>\n",
       "  <tbody>\n",
       "    <tr>\n",
       "      <th>1</th>\n",
       "      <td>2</td>\n",
       "      <td>0.0</td>\n",
       "      <td>0</td>\n",
       "      <td>2</td>\n",
       "      <td>0.0</td>\n",
       "      <td>1.0</td>\n",
       "      <td>124.31</td>\n",
       "      <td>0.0</td>\n",
       "      <td>0.0</td>\n",
       "      <td>2.0</td>\n",
       "      <td>0.0</td>\n",
       "      <td>0.0</td>\n",
       "    </tr>\n",
       "    <tr>\n",
       "      <th>2</th>\n",
       "      <td>1</td>\n",
       "      <td>0.0</td>\n",
       "      <td>0</td>\n",
       "      <td>1</td>\n",
       "      <td>0.0</td>\n",
       "      <td>1.0</td>\n",
       "      <td>35.26</td>\n",
       "      <td>0.0</td>\n",
       "      <td>0.0</td>\n",
       "      <td>1.0</td>\n",
       "      <td>0.0</td>\n",
       "      <td>0.0</td>\n",
       "    </tr>\n",
       "    <tr>\n",
       "      <th>3</th>\n",
       "      <td>1</td>\n",
       "      <td>0.0</td>\n",
       "      <td>0</td>\n",
       "      <td>1</td>\n",
       "      <td>0.0</td>\n",
       "      <td>1.0</td>\n",
       "      <td>56.64</td>\n",
       "      <td>0.0</td>\n",
       "      <td>0.0</td>\n",
       "      <td>1.0</td>\n",
       "      <td>0.0</td>\n",
       "      <td>0.0</td>\n",
       "    </tr>\n",
       "    <tr>\n",
       "      <th>4</th>\n",
       "      <td>1</td>\n",
       "      <td>0.0</td>\n",
       "      <td>0</td>\n",
       "      <td>1</td>\n",
       "      <td>0.0</td>\n",
       "      <td>1.0</td>\n",
       "      <td>54.85</td>\n",
       "      <td>0.0</td>\n",
       "      <td>0.0</td>\n",
       "      <td>1.0</td>\n",
       "      <td>0.0</td>\n",
       "      <td>0.0</td>\n",
       "    </tr>\n",
       "    <tr>\n",
       "      <th>5</th>\n",
       "      <td>1</td>\n",
       "      <td>0.0</td>\n",
       "      <td>0</td>\n",
       "      <td>1</td>\n",
       "      <td>0.0</td>\n",
       "      <td>1.0</td>\n",
       "      <td>81.57</td>\n",
       "      <td>0.0</td>\n",
       "      <td>0.0</td>\n",
       "      <td>1.0</td>\n",
       "      <td>0.0</td>\n",
       "      <td>0.0</td>\n",
       "    </tr>\n",
       "  </tbody>\n",
       "</table>\n",
       "</div>"
      ],
      "text/plain": [
       "         ct_ord  avg_cp_dis  sum_cp_used  cust_no  avg_oth_dis  avg_order_qnt  \\\n",
       "item_id                                                                         \n",
       "1             2         0.0            0        2          0.0            1.0   \n",
       "2             1         0.0            0        1          0.0            1.0   \n",
       "3             1         0.0            0        1          0.0            1.0   \n",
       "4             1         0.0            0        1          0.0            1.0   \n",
       "5             1         0.0            0        1          0.0            1.0   \n",
       "\n",
       "         avg_price  sum_cp_dis  sum_oth_dis  sum_order_qnt  sum_total_dis  \\\n",
       "item_id                                                                     \n",
       "1           124.31         0.0          0.0            2.0            0.0   \n",
       "2            35.26         0.0          0.0            1.0            0.0   \n",
       "3            56.64         0.0          0.0            1.0            0.0   \n",
       "4            54.85         0.0          0.0            1.0            0.0   \n",
       "5            81.57         0.0          0.0            1.0            0.0   \n",
       "\n",
       "         avg_total_dis  \n",
       "item_id                 \n",
       "1                  0.0  \n",
       "2                  0.0  \n",
       "3                  0.0  \n",
       "4                  0.0  \n",
       "5                  0.0  "
      ]
     },
     "execution_count": 101,
     "metadata": {},
     "output_type": "execute_result"
    }
   ],
   "source": [
    "transaction1.head()"
   ]
  },
  {
   "cell_type": "code",
   "execution_count": 102,
   "metadata": {},
   "outputs": [],
   "source": [
    "tables_data['transaction1']=transaction1\n",
    "#Save t1"
   ]
  },
  {
   "cell_type": "markdown",
   "metadata": {},
   "source": [
    "Merge the aggregated transaction table on items (transaction1) with item table as trans_item¶"
   ]
  },
  {
   "cell_type": "code",
   "execution_count": 103,
   "metadata": {},
   "outputs": [],
   "source": [
    "trans_item = pd.merge(transaction1, item, on = 'item_id', how ='left') \n",
    "#Mearge item table with transection1 as trans_item"
   ]
  },
  {
   "cell_type": "code",
   "execution_count": 104,
   "metadata": {},
   "outputs": [
    {
     "data": {
      "text/html": [
       "<div>\n",
       "<style scoped>\n",
       "    .dataframe tbody tr th:only-of-type {\n",
       "        vertical-align: middle;\n",
       "    }\n",
       "\n",
       "    .dataframe tbody tr th {\n",
       "        vertical-align: top;\n",
       "    }\n",
       "\n",
       "    .dataframe thead th {\n",
       "        text-align: right;\n",
       "    }\n",
       "</style>\n",
       "<table border=\"1\" class=\"dataframe\">\n",
       "  <thead>\n",
       "    <tr style=\"text-align: right;\">\n",
       "      <th></th>\n",
       "      <th>item_id</th>\n",
       "      <th>ct_ord</th>\n",
       "      <th>avg_cp_dis</th>\n",
       "      <th>sum_cp_used</th>\n",
       "      <th>cust_no</th>\n",
       "      <th>avg_oth_dis</th>\n",
       "      <th>avg_order_qnt</th>\n",
       "      <th>avg_price</th>\n",
       "      <th>sum_cp_dis</th>\n",
       "      <th>sum_oth_dis</th>\n",
       "      <th>sum_order_qnt</th>\n",
       "      <th>sum_total_dis</th>\n",
       "      <th>avg_total_dis</th>\n",
       "      <th>brand</th>\n",
       "      <th>brand_type</th>\n",
       "      <th>category</th>\n",
       "    </tr>\n",
       "  </thead>\n",
       "  <tbody>\n",
       "    <tr>\n",
       "      <th>0</th>\n",
       "      <td>1</td>\n",
       "      <td>2</td>\n",
       "      <td>0.0</td>\n",
       "      <td>0</td>\n",
       "      <td>2</td>\n",
       "      <td>0.0</td>\n",
       "      <td>1.0</td>\n",
       "      <td>124.31</td>\n",
       "      <td>0.0</td>\n",
       "      <td>0.0</td>\n",
       "      <td>2.0</td>\n",
       "      <td>0.0</td>\n",
       "      <td>0.0</td>\n",
       "      <td>1</td>\n",
       "      <td>0</td>\n",
       "      <td>6</td>\n",
       "    </tr>\n",
       "    <tr>\n",
       "      <th>1</th>\n",
       "      <td>2</td>\n",
       "      <td>1</td>\n",
       "      <td>0.0</td>\n",
       "      <td>0</td>\n",
       "      <td>1</td>\n",
       "      <td>0.0</td>\n",
       "      <td>1.0</td>\n",
       "      <td>35.26</td>\n",
       "      <td>0.0</td>\n",
       "      <td>0.0</td>\n",
       "      <td>1.0</td>\n",
       "      <td>0.0</td>\n",
       "      <td>0.0</td>\n",
       "      <td>1</td>\n",
       "      <td>0</td>\n",
       "      <td>8</td>\n",
       "    </tr>\n",
       "    <tr>\n",
       "      <th>2</th>\n",
       "      <td>3</td>\n",
       "      <td>1</td>\n",
       "      <td>0.0</td>\n",
       "      <td>0</td>\n",
       "      <td>1</td>\n",
       "      <td>0.0</td>\n",
       "      <td>1.0</td>\n",
       "      <td>56.64</td>\n",
       "      <td>0.0</td>\n",
       "      <td>0.0</td>\n",
       "      <td>1.0</td>\n",
       "      <td>0.0</td>\n",
       "      <td>0.0</td>\n",
       "      <td>56</td>\n",
       "      <td>1</td>\n",
       "      <td>1</td>\n",
       "    </tr>\n",
       "    <tr>\n",
       "      <th>3</th>\n",
       "      <td>4</td>\n",
       "      <td>1</td>\n",
       "      <td>0.0</td>\n",
       "      <td>0</td>\n",
       "      <td>1</td>\n",
       "      <td>0.0</td>\n",
       "      <td>1.0</td>\n",
       "      <td>54.85</td>\n",
       "      <td>0.0</td>\n",
       "      <td>0.0</td>\n",
       "      <td>1.0</td>\n",
       "      <td>0.0</td>\n",
       "      <td>0.0</td>\n",
       "      <td>56</td>\n",
       "      <td>1</td>\n",
       "      <td>6</td>\n",
       "    </tr>\n",
       "    <tr>\n",
       "      <th>4</th>\n",
       "      <td>5</td>\n",
       "      <td>1</td>\n",
       "      <td>0.0</td>\n",
       "      <td>0</td>\n",
       "      <td>1</td>\n",
       "      <td>0.0</td>\n",
       "      <td>1.0</td>\n",
       "      <td>81.57</td>\n",
       "      <td>0.0</td>\n",
       "      <td>0.0</td>\n",
       "      <td>1.0</td>\n",
       "      <td>0.0</td>\n",
       "      <td>0.0</td>\n",
       "      <td>56</td>\n",
       "      <td>1</td>\n",
       "      <td>6</td>\n",
       "    </tr>\n",
       "  </tbody>\n",
       "</table>\n",
       "</div>"
      ],
      "text/plain": [
       "   item_id  ct_ord  avg_cp_dis  sum_cp_used  cust_no  avg_oth_dis  \\\n",
       "0        1       2         0.0            0        2          0.0   \n",
       "1        2       1         0.0            0        1          0.0   \n",
       "2        3       1         0.0            0        1          0.0   \n",
       "3        4       1         0.0            0        1          0.0   \n",
       "4        5       1         0.0            0        1          0.0   \n",
       "\n",
       "   avg_order_qnt  avg_price  sum_cp_dis  sum_oth_dis  sum_order_qnt  \\\n",
       "0            1.0     124.31         0.0          0.0            2.0   \n",
       "1            1.0      35.26         0.0          0.0            1.0   \n",
       "2            1.0      56.64         0.0          0.0            1.0   \n",
       "3            1.0      54.85         0.0          0.0            1.0   \n",
       "4            1.0      81.57         0.0          0.0            1.0   \n",
       "\n",
       "   sum_total_dis  avg_total_dis  brand  brand_type  category  \n",
       "0            0.0            0.0      1           0         6  \n",
       "1            0.0            0.0      1           0         8  \n",
       "2            0.0            0.0     56           1         1  \n",
       "3            0.0            0.0     56           1         6  \n",
       "4            0.0            0.0     56           1         6  "
      ]
     },
     "execution_count": 104,
     "metadata": {},
     "output_type": "execute_result"
    }
   ],
   "source": [
    "trans_item.head()"
   ]
  },
  {
   "cell_type": "markdown",
   "metadata": {},
   "source": [
    "Merge coupon with trans_item as cp_trans_item"
   ]
  },
  {
   "cell_type": "code",
   "execution_count": 105,
   "metadata": {},
   "outputs": [],
   "source": [
    "cp_trans_item = pd.merge(coupon, trans_item, on= 'item_id', how = 'left')\n",
    "#Mearge tran_table with coupon as cp_trans_items"
   ]
  },
  {
   "cell_type": "code",
   "execution_count": 106,
   "metadata": {},
   "outputs": [
    {
     "data": {
      "text/html": [
       "<div>\n",
       "<style scoped>\n",
       "    .dataframe tbody tr th:only-of-type {\n",
       "        vertical-align: middle;\n",
       "    }\n",
       "\n",
       "    .dataframe tbody tr th {\n",
       "        vertical-align: top;\n",
       "    }\n",
       "\n",
       "    .dataframe thead th {\n",
       "        text-align: right;\n",
       "    }\n",
       "</style>\n",
       "<table border=\"1\" class=\"dataframe\">\n",
       "  <thead>\n",
       "    <tr style=\"text-align: right;\">\n",
       "      <th></th>\n",
       "      <th>coupon_id</th>\n",
       "      <th>item_id</th>\n",
       "      <th>ct_ord</th>\n",
       "      <th>avg_cp_dis</th>\n",
       "      <th>sum_cp_used</th>\n",
       "      <th>cust_no</th>\n",
       "      <th>avg_oth_dis</th>\n",
       "      <th>avg_order_qnt</th>\n",
       "      <th>avg_price</th>\n",
       "      <th>sum_cp_dis</th>\n",
       "      <th>sum_oth_dis</th>\n",
       "      <th>sum_order_qnt</th>\n",
       "      <th>sum_total_dis</th>\n",
       "      <th>avg_total_dis</th>\n",
       "      <th>brand</th>\n",
       "      <th>brand_type</th>\n",
       "      <th>category</th>\n",
       "    </tr>\n",
       "  </thead>\n",
       "  <tbody>\n",
       "    <tr>\n",
       "      <th>0</th>\n",
       "      <td>105</td>\n",
       "      <td>37</td>\n",
       "      <td>7.0</td>\n",
       "      <td>0.0</td>\n",
       "      <td>0.0</td>\n",
       "      <td>2.0</td>\n",
       "      <td>-17.557143</td>\n",
       "      <td>2.285714</td>\n",
       "      <td>113.120000</td>\n",
       "      <td>0.0</td>\n",
       "      <td>-122.90</td>\n",
       "      <td>16.0</td>\n",
       "      <td>-122.90</td>\n",
       "      <td>-17.557143</td>\n",
       "      <td>56.0</td>\n",
       "      <td>1.0</td>\n",
       "      <td>6.0</td>\n",
       "    </tr>\n",
       "    <tr>\n",
       "      <th>1</th>\n",
       "      <td>107</td>\n",
       "      <td>75</td>\n",
       "      <td>33.0</td>\n",
       "      <td>0.0</td>\n",
       "      <td>0.0</td>\n",
       "      <td>4.0</td>\n",
       "      <td>-5.159394</td>\n",
       "      <td>1.363636</td>\n",
       "      <td>47.787273</td>\n",
       "      <td>0.0</td>\n",
       "      <td>-170.26</td>\n",
       "      <td>45.0</td>\n",
       "      <td>-170.26</td>\n",
       "      <td>-5.159394</td>\n",
       "      <td>56.0</td>\n",
       "      <td>1.0</td>\n",
       "      <td>6.0</td>\n",
       "    </tr>\n",
       "    <tr>\n",
       "      <th>2</th>\n",
       "      <td>494</td>\n",
       "      <td>76</td>\n",
       "      <td>1.0</td>\n",
       "      <td>0.0</td>\n",
       "      <td>0.0</td>\n",
       "      <td>1.0</td>\n",
       "      <td>-17.450000</td>\n",
       "      <td>1.000000</td>\n",
       "      <td>89.050000</td>\n",
       "      <td>0.0</td>\n",
       "      <td>-17.45</td>\n",
       "      <td>1.0</td>\n",
       "      <td>-17.45</td>\n",
       "      <td>-17.450000</td>\n",
       "      <td>209.0</td>\n",
       "      <td>0.0</td>\n",
       "      <td>6.0</td>\n",
       "    </tr>\n",
       "    <tr>\n",
       "      <th>3</th>\n",
       "      <td>522</td>\n",
       "      <td>77</td>\n",
       "      <td>2.0</td>\n",
       "      <td>0.0</td>\n",
       "      <td>0.0</td>\n",
       "      <td>2.0</td>\n",
       "      <td>-16.920000</td>\n",
       "      <td>1.000000</td>\n",
       "      <td>70.350000</td>\n",
       "      <td>0.0</td>\n",
       "      <td>-33.84</td>\n",
       "      <td>2.0</td>\n",
       "      <td>-33.84</td>\n",
       "      <td>-16.920000</td>\n",
       "      <td>278.0</td>\n",
       "      <td>0.0</td>\n",
       "      <td>6.0</td>\n",
       "    </tr>\n",
       "    <tr>\n",
       "      <th>4</th>\n",
       "      <td>518</td>\n",
       "      <td>77</td>\n",
       "      <td>2.0</td>\n",
       "      <td>0.0</td>\n",
       "      <td>0.0</td>\n",
       "      <td>2.0</td>\n",
       "      <td>-16.920000</td>\n",
       "      <td>1.000000</td>\n",
       "      <td>70.350000</td>\n",
       "      <td>0.0</td>\n",
       "      <td>-33.84</td>\n",
       "      <td>2.0</td>\n",
       "      <td>-33.84</td>\n",
       "      <td>-16.920000</td>\n",
       "      <td>278.0</td>\n",
       "      <td>0.0</td>\n",
       "      <td>6.0</td>\n",
       "    </tr>\n",
       "  </tbody>\n",
       "</table>\n",
       "</div>"
      ],
      "text/plain": [
       "   coupon_id  item_id  ct_ord  avg_cp_dis  sum_cp_used  cust_no  avg_oth_dis  \\\n",
       "0        105       37     7.0         0.0          0.0      2.0   -17.557143   \n",
       "1        107       75    33.0         0.0          0.0      4.0    -5.159394   \n",
       "2        494       76     1.0         0.0          0.0      1.0   -17.450000   \n",
       "3        522       77     2.0         0.0          0.0      2.0   -16.920000   \n",
       "4        518       77     2.0         0.0          0.0      2.0   -16.920000   \n",
       "\n",
       "   avg_order_qnt   avg_price  sum_cp_dis  sum_oth_dis  sum_order_qnt  \\\n",
       "0       2.285714  113.120000         0.0      -122.90           16.0   \n",
       "1       1.363636   47.787273         0.0      -170.26           45.0   \n",
       "2       1.000000   89.050000         0.0       -17.45            1.0   \n",
       "3       1.000000   70.350000         0.0       -33.84            2.0   \n",
       "4       1.000000   70.350000         0.0       -33.84            2.0   \n",
       "\n",
       "   sum_total_dis  avg_total_dis  brand  brand_type  category  \n",
       "0        -122.90     -17.557143   56.0         1.0       6.0  \n",
       "1        -170.26      -5.159394   56.0         1.0       6.0  \n",
       "2         -17.45     -17.450000  209.0         0.0       6.0  \n",
       "3         -33.84     -16.920000  278.0         0.0       6.0  \n",
       "4         -33.84     -16.920000  278.0         0.0       6.0  "
      ]
     },
     "execution_count": 106,
     "metadata": {},
     "output_type": "execute_result"
    }
   ],
   "source": [
    "cp_trans_item.head()"
   ]
  },
  {
   "cell_type": "code",
   "execution_count": 107,
   "metadata": {},
   "outputs": [],
   "source": [
    "tables_data['cp_trans_item']= cp_trans_item\n",
    "#save this table"
   ]
  },
  {
   "cell_type": "markdown",
   "metadata": {},
   "source": [
    "Aggregating cp_trans_item on coupon_id\n",
    "The aggregated columns are defined as followed.\n",
    "\n",
    "|name|Description|\n",
    "|:---|:---|\n",
    "| cust_no  | number of distinct customers that bought the item|\n",
    "| avg_order_qnt   |average order quantity|\n",
    "| avg_price  | average selling price|\n",
    "| avg_oth_dis  | average amount of other discount|\n",
    "|avg_cp_dis | average amount of coupon discount|\n",
    "|ct_ord | number of orders made|\n",
    "|sum_cp_used | number of coupon used|\n",
    "|sum_cp_dis |total amount of discount by coupons per coupon|\n",
    "|sum_oth_dis | total amount of discount by other sources per coupon|\n",
    "|sum_order_qnt |total amount of ordered quantity per coupon|\n",
    "|sum_total_dis |total amount of discount by any sources per coupon|\n",
    "|avg_total_dis |average amount of discount by any sources per coupon|\n",
    "|ct ems| number of items applied by the coupon|\n",
    "|ct_brands| number of brands applied by the coupon|\n",
    "|mode_cat| most frequent category covered by the coupon|\n",
    "|ct_cat| number of categories covered by coupon|"
   ]
  },
  {
   "cell_type": "code",
   "execution_count": 108,
   "metadata": {},
   "outputs": [],
   "source": [
    "cp_trans_item1 = pd.pivot_table(cp_trans_item, index ='coupon_id',\n",
    "                                values=['item_id', 'coupon_id', 'brand', 'brand_type', 'category', 'ct_ord',\n",
    "                                        'avg_cp_dis', 'sum_cp_used', 'cust_no', 'avg_oth_dis', 'avg_order_qnt',\n",
    "                                       'avg_price', 'sum_cp_dis', 'sum_oth_dis', 'sum_order_qnt',\n",
    "                                       'sum_total_dis', 'avg_total_dis'],\n",
    "                               aggfunc={\n",
    "                                   'item_id': lambda x: len(set(x)),\n",
    "                                   'brand': lambda x: len(set(x)),\n",
    "                                   'brand_type': lambda x: x.unique()[0] if (len(x.unique())==1) else 'Both',\n",
    "                                   'category':lambda x: x.mode()[0],\n",
    "                                   'ct_ord': np.sum,\n",
    "                                   'avg_cp_dis':np.mean,\n",
    "                                   'sum_cp_used':np.sum,\n",
    "                                   'cust_no':np.sum,\n",
    "                                   'avg_oth_dis':np.mean,\n",
    "                                   'avg_order_qnt':np.mean,\n",
    "                                   'ct_ord':np.sum,\n",
    "                                   'avg_price':np.mean,\n",
    "                                   'sum_cp_dis':np.sum,\n",
    "                                   'sum_oth_dis':np.sum,\n",
    "                                   'sum_order_qnt':np.sum,\n",
    "                                   'sum_total_dis':np.sum,\n",
    "                                   'avg_total_dis':np.mean\n",
    "                               }\n",
    "                              )\n",
    "\n",
    "new_cols= {\n",
    "                   'item_id': 'ct_items',#item count\n",
    "                   'brand': 'ct_brands',\n",
    "                   'category':'mode_cat'\n",
    "    \n",
    "                                  }\n",
    "cp_trans_item1.rename(columns = new_cols, inplace = True)"
   ]
  },
  {
   "cell_type": "code",
   "execution_count": 109,
   "metadata": {},
   "outputs": [],
   "source": [
    "cp_trans_item1['ct_cat']= pd.pivot_table(cp_trans_item, \n",
    "                                         index='coupon_id',\n",
    "                                         values ='category',\n",
    "                                         aggfunc =lambda x: len(set(x)))"
   ]
  },
  {
   "cell_type": "code",
   "execution_count": 110,
   "metadata": {},
   "outputs": [
    {
     "data": {
      "text/html": [
       "<div>\n",
       "<style scoped>\n",
       "    .dataframe tbody tr th:only-of-type {\n",
       "        vertical-align: middle;\n",
       "    }\n",
       "\n",
       "    .dataframe tbody tr th {\n",
       "        vertical-align: top;\n",
       "    }\n",
       "\n",
       "    .dataframe thead th {\n",
       "        text-align: right;\n",
       "    }\n",
       "</style>\n",
       "<table border=\"1\" class=\"dataframe\">\n",
       "  <thead>\n",
       "    <tr style=\"text-align: right;\">\n",
       "      <th></th>\n",
       "      <th>avg_cp_dis</th>\n",
       "      <th>avg_order_qnt</th>\n",
       "      <th>avg_oth_dis</th>\n",
       "      <th>avg_price</th>\n",
       "      <th>avg_total_dis</th>\n",
       "      <th>ct_brands</th>\n",
       "      <th>brand_type</th>\n",
       "      <th>mode_cat</th>\n",
       "      <th>ct_ord</th>\n",
       "      <th>cust_no</th>\n",
       "      <th>ct_items</th>\n",
       "      <th>sum_cp_dis</th>\n",
       "      <th>sum_cp_used</th>\n",
       "      <th>sum_order_qnt</th>\n",
       "      <th>sum_oth_dis</th>\n",
       "      <th>sum_total_dis</th>\n",
       "      <th>ct_cat</th>\n",
       "    </tr>\n",
       "    <tr>\n",
       "      <th>coupon_id</th>\n",
       "      <th></th>\n",
       "      <th></th>\n",
       "      <th></th>\n",
       "      <th></th>\n",
       "      <th></th>\n",
       "      <th></th>\n",
       "      <th></th>\n",
       "      <th></th>\n",
       "      <th></th>\n",
       "      <th></th>\n",
       "      <th></th>\n",
       "      <th></th>\n",
       "      <th></th>\n",
       "      <th></th>\n",
       "      <th></th>\n",
       "      <th></th>\n",
       "      <th></th>\n",
       "    </tr>\n",
       "  </thead>\n",
       "  <tbody>\n",
       "    <tr>\n",
       "      <th>1</th>\n",
       "      <td>-1.321524</td>\n",
       "      <td>1.221644</td>\n",
       "      <td>-25.273218</td>\n",
       "      <td>100.195701</td>\n",
       "      <td>-26.594742</td>\n",
       "      <td>3.0</td>\n",
       "      <td>0</td>\n",
       "      <td>9.0</td>\n",
       "      <td>826.0</td>\n",
       "      <td>577.0</td>\n",
       "      <td>39</td>\n",
       "      <td>-1526.31</td>\n",
       "      <td>35.0</td>\n",
       "      <td>1034.0</td>\n",
       "      <td>-24468.37</td>\n",
       "      <td>-25994.68</td>\n",
       "      <td>2.0</td>\n",
       "    </tr>\n",
       "    <tr>\n",
       "      <th>2</th>\n",
       "      <td>0.000000</td>\n",
       "      <td>1.137500</td>\n",
       "      <td>-23.314062</td>\n",
       "      <td>114.354438</td>\n",
       "      <td>-23.314062</td>\n",
       "      <td>1.0</td>\n",
       "      <td>0</td>\n",
       "      <td>6.0</td>\n",
       "      <td>81.0</td>\n",
       "      <td>30.0</td>\n",
       "      <td>2</td>\n",
       "      <td>0.00</td>\n",
       "      <td>0.0</td>\n",
       "      <td>103.0</td>\n",
       "      <td>-1478.75</td>\n",
       "      <td>-1478.75</td>\n",
       "      <td>1.0</td>\n",
       "    </tr>\n",
       "    <tr>\n",
       "      <th>3</th>\n",
       "      <td>-2.747358</td>\n",
       "      <td>1.121525</td>\n",
       "      <td>-17.543797</td>\n",
       "      <td>129.981640</td>\n",
       "      <td>-20.291155</td>\n",
       "      <td>2.0</td>\n",
       "      <td>0</td>\n",
       "      <td>6.0</td>\n",
       "      <td>212.0</td>\n",
       "      <td>146.0</td>\n",
       "      <td>17</td>\n",
       "      <td>-578.81</td>\n",
       "      <td>15.0</td>\n",
       "      <td>248.0</td>\n",
       "      <td>-4952.62</td>\n",
       "      <td>-5531.43</td>\n",
       "      <td>1.0</td>\n",
       "    </tr>\n",
       "    <tr>\n",
       "      <th>4</th>\n",
       "      <td>-1.485152</td>\n",
       "      <td>1.020872</td>\n",
       "      <td>-37.411408</td>\n",
       "      <td>178.722897</td>\n",
       "      <td>-38.896560</td>\n",
       "      <td>1.0</td>\n",
       "      <td>0</td>\n",
       "      <td>6.0</td>\n",
       "      <td>676.0</td>\n",
       "      <td>536.0</td>\n",
       "      <td>24</td>\n",
       "      <td>-881.59</td>\n",
       "      <td>44.0</td>\n",
       "      <td>702.0</td>\n",
       "      <td>-26804.05</td>\n",
       "      <td>-27685.64</td>\n",
       "      <td>1.0</td>\n",
       "    </tr>\n",
       "    <tr>\n",
       "      <th>5</th>\n",
       "      <td>0.000000</td>\n",
       "      <td>1.000000</td>\n",
       "      <td>-27.265786</td>\n",
       "      <td>376.704214</td>\n",
       "      <td>-27.265786</td>\n",
       "      <td>1.0</td>\n",
       "      <td>0</td>\n",
       "      <td>11.0</td>\n",
       "      <td>44.0</td>\n",
       "      <td>42.0</td>\n",
       "      <td>7</td>\n",
       "      <td>0.00</td>\n",
       "      <td>0.0</td>\n",
       "      <td>44.0</td>\n",
       "      <td>-1228.88</td>\n",
       "      <td>-1228.88</td>\n",
       "      <td>1.0</td>\n",
       "    </tr>\n",
       "  </tbody>\n",
       "</table>\n",
       "</div>"
      ],
      "text/plain": [
       "           avg_cp_dis  avg_order_qnt  avg_oth_dis   avg_price  avg_total_dis  \\\n",
       "coupon_id                                                                      \n",
       "1           -1.321524       1.221644   -25.273218  100.195701     -26.594742   \n",
       "2            0.000000       1.137500   -23.314062  114.354438     -23.314062   \n",
       "3           -2.747358       1.121525   -17.543797  129.981640     -20.291155   \n",
       "4           -1.485152       1.020872   -37.411408  178.722897     -38.896560   \n",
       "5            0.000000       1.000000   -27.265786  376.704214     -27.265786   \n",
       "\n",
       "           ct_brands brand_type  mode_cat  ct_ord  cust_no  ct_items  \\\n",
       "coupon_id                                                              \n",
       "1                3.0          0       9.0   826.0    577.0        39   \n",
       "2                1.0          0       6.0    81.0     30.0         2   \n",
       "3                2.0          0       6.0   212.0    146.0        17   \n",
       "4                1.0          0       6.0   676.0    536.0        24   \n",
       "5                1.0          0      11.0    44.0     42.0         7   \n",
       "\n",
       "           sum_cp_dis  sum_cp_used  sum_order_qnt  sum_oth_dis  sum_total_dis  \\\n",
       "coupon_id                                                                       \n",
       "1            -1526.31         35.0         1034.0    -24468.37      -25994.68   \n",
       "2                0.00          0.0          103.0     -1478.75       -1478.75   \n",
       "3             -578.81         15.0          248.0     -4952.62       -5531.43   \n",
       "4             -881.59         44.0          702.0    -26804.05      -27685.64   \n",
       "5                0.00          0.0           44.0     -1228.88       -1228.88   \n",
       "\n",
       "           ct_cat  \n",
       "coupon_id          \n",
       "1             2.0  \n",
       "2             1.0  \n",
       "3             1.0  \n",
       "4             1.0  \n",
       "5             1.0  "
      ]
     },
     "execution_count": 110,
     "metadata": {},
     "output_type": "execute_result"
    }
   ],
   "source": [
    "cp_trans_item1.head()"
   ]
  },
  {
   "cell_type": "code",
   "execution_count": 111,
   "metadata": {},
   "outputs": [],
   "source": [
    "tables_data['cp_trans_item1']= cp_trans_item1\n",
    "#save data on tabel"
   ]
  },
  {
   "cell_type": "markdown",
   "metadata": {},
   "source": [
    "Combine cp_trans_item1 with train and test\n",
    "1)Combined train data: train_cp_trans_item\n",
    "2)Combined train data: test_cp_trans_item"
   ]
  },
  {
   "cell_type": "code",
   "execution_count": 112,
   "metadata": {},
   "outputs": [
    {
     "data": {
      "text/html": [
       "<div>\n",
       "<style scoped>\n",
       "    .dataframe tbody tr th:only-of-type {\n",
       "        vertical-align: middle;\n",
       "    }\n",
       "\n",
       "    .dataframe tbody tr th {\n",
       "        vertical-align: top;\n",
       "    }\n",
       "\n",
       "    .dataframe thead th {\n",
       "        text-align: right;\n",
       "    }\n",
       "</style>\n",
       "<table border=\"1\" class=\"dataframe\">\n",
       "  <thead>\n",
       "    <tr style=\"text-align: right;\">\n",
       "      <th></th>\n",
       "      <th>id</th>\n",
       "      <th>campaign_id</th>\n",
       "      <th>coupon_id</th>\n",
       "      <th>customer_id</th>\n",
       "      <th>redemption_status</th>\n",
       "      <th>avg_cp_dis</th>\n",
       "      <th>avg_order_qnt</th>\n",
       "      <th>avg_oth_dis</th>\n",
       "      <th>avg_price</th>\n",
       "      <th>avg_total_dis</th>\n",
       "      <th>...</th>\n",
       "      <th>mode_cat</th>\n",
       "      <th>ct_ord</th>\n",
       "      <th>cust_no</th>\n",
       "      <th>ct_items</th>\n",
       "      <th>sum_cp_dis</th>\n",
       "      <th>sum_cp_used</th>\n",
       "      <th>sum_order_qnt</th>\n",
       "      <th>sum_oth_dis</th>\n",
       "      <th>sum_total_dis</th>\n",
       "      <th>ct_cat</th>\n",
       "    </tr>\n",
       "  </thead>\n",
       "  <tbody>\n",
       "    <tr>\n",
       "      <th>0</th>\n",
       "      <td>1</td>\n",
       "      <td>13</td>\n",
       "      <td>27</td>\n",
       "      <td>1053</td>\n",
       "      <td>0</td>\n",
       "      <td>-1.241694</td>\n",
       "      <td>1.169768</td>\n",
       "      <td>-51.732305</td>\n",
       "      <td>84.478583</td>\n",
       "      <td>-52.974000</td>\n",
       "      <td>...</td>\n",
       "      <td>6.0</td>\n",
       "      <td>3713.0</td>\n",
       "      <td>2403.0</td>\n",
       "      <td>125</td>\n",
       "      <td>-5349.93</td>\n",
       "      <td>191.0</td>\n",
       "      <td>4661.0</td>\n",
       "      <td>-225584.38</td>\n",
       "      <td>-230934.31</td>\n",
       "      <td>1.0</td>\n",
       "    </tr>\n",
       "    <tr>\n",
       "      <th>1</th>\n",
       "      <td>2</td>\n",
       "      <td>13</td>\n",
       "      <td>116</td>\n",
       "      <td>48</td>\n",
       "      <td>0</td>\n",
       "      <td>0.000000</td>\n",
       "      <td>1.050926</td>\n",
       "      <td>-10.661343</td>\n",
       "      <td>63.833519</td>\n",
       "      <td>-10.661343</td>\n",
       "      <td>...</td>\n",
       "      <td>6.0</td>\n",
       "      <td>75.0</td>\n",
       "      <td>61.0</td>\n",
       "      <td>3</td>\n",
       "      <td>0.00</td>\n",
       "      <td>0.0</td>\n",
       "      <td>86.0</td>\n",
       "      <td>-684.27</td>\n",
       "      <td>-684.27</td>\n",
       "      <td>1.0</td>\n",
       "    </tr>\n",
       "    <tr>\n",
       "      <th>2</th>\n",
       "      <td>6</td>\n",
       "      <td>9</td>\n",
       "      <td>635</td>\n",
       "      <td>205</td>\n",
       "      <td>0</td>\n",
       "      <td>-2.987321</td>\n",
       "      <td>1.353802</td>\n",
       "      <td>-142.498493</td>\n",
       "      <td>332.128380</td>\n",
       "      <td>-145.485813</td>\n",
       "      <td>...</td>\n",
       "      <td>11.0</td>\n",
       "      <td>142.0</td>\n",
       "      <td>118.0</td>\n",
       "      <td>67</td>\n",
       "      <td>-605.54</td>\n",
       "      <td>15.0</td>\n",
       "      <td>202.0</td>\n",
       "      <td>-23566.35</td>\n",
       "      <td>-24171.89</td>\n",
       "      <td>1.0</td>\n",
       "    </tr>\n",
       "    <tr>\n",
       "      <th>3</th>\n",
       "      <td>7</td>\n",
       "      <td>13</td>\n",
       "      <td>644</td>\n",
       "      <td>1050</td>\n",
       "      <td>0</td>\n",
       "      <td>-4.452500</td>\n",
       "      <td>1.110390</td>\n",
       "      <td>-5.010601</td>\n",
       "      <td>94.261640</td>\n",
       "      <td>-9.463101</td>\n",
       "      <td>...</td>\n",
       "      <td>6.0</td>\n",
       "      <td>39.0</td>\n",
       "      <td>14.0</td>\n",
       "      <td>4</td>\n",
       "      <td>-17.81</td>\n",
       "      <td>1.0</td>\n",
       "      <td>47.0</td>\n",
       "      <td>-309.91</td>\n",
       "      <td>-327.72</td>\n",
       "      <td>1.0</td>\n",
       "    </tr>\n",
       "    <tr>\n",
       "      <th>4</th>\n",
       "      <td>9</td>\n",
       "      <td>8</td>\n",
       "      <td>1017</td>\n",
       "      <td>1489</td>\n",
       "      <td>0</td>\n",
       "      <td>-0.198055</td>\n",
       "      <td>1.071044</td>\n",
       "      <td>-33.629121</td>\n",
       "      <td>181.621631</td>\n",
       "      <td>-33.827176</td>\n",
       "      <td>...</td>\n",
       "      <td>6.0</td>\n",
       "      <td>1420.0</td>\n",
       "      <td>874.0</td>\n",
       "      <td>32</td>\n",
       "      <td>-569.92</td>\n",
       "      <td>23.0</td>\n",
       "      <td>1610.0</td>\n",
       "      <td>-54950.74</td>\n",
       "      <td>-55520.66</td>\n",
       "      <td>1.0</td>\n",
       "    </tr>\n",
       "  </tbody>\n",
       "</table>\n",
       "<p>5 rows × 22 columns</p>\n",
       "</div>"
      ],
      "text/plain": [
       "   id  campaign_id  coupon_id  customer_id  redemption_status  avg_cp_dis  \\\n",
       "0   1           13         27         1053                  0   -1.241694   \n",
       "1   2           13        116           48                  0    0.000000   \n",
       "2   6            9        635          205                  0   -2.987321   \n",
       "3   7           13        644         1050                  0   -4.452500   \n",
       "4   9            8       1017         1489                  0   -0.198055   \n",
       "\n",
       "   avg_order_qnt  avg_oth_dis   avg_price  avg_total_dis  ...  mode_cat  \\\n",
       "0       1.169768   -51.732305   84.478583     -52.974000  ...       6.0   \n",
       "1       1.050926   -10.661343   63.833519     -10.661343  ...       6.0   \n",
       "2       1.353802  -142.498493  332.128380    -145.485813  ...      11.0   \n",
       "3       1.110390    -5.010601   94.261640      -9.463101  ...       6.0   \n",
       "4       1.071044   -33.629121  181.621631     -33.827176  ...       6.0   \n",
       "\n",
       "   ct_ord  cust_no  ct_items  sum_cp_dis  sum_cp_used  sum_order_qnt  \\\n",
       "0  3713.0   2403.0       125    -5349.93        191.0         4661.0   \n",
       "1    75.0     61.0         3        0.00          0.0           86.0   \n",
       "2   142.0    118.0        67     -605.54         15.0          202.0   \n",
       "3    39.0     14.0         4      -17.81          1.0           47.0   \n",
       "4  1420.0    874.0        32     -569.92         23.0         1610.0   \n",
       "\n",
       "   sum_oth_dis  sum_total_dis  ct_cat  \n",
       "0   -225584.38     -230934.31     1.0  \n",
       "1      -684.27        -684.27     1.0  \n",
       "2    -23566.35      -24171.89     1.0  \n",
       "3      -309.91        -327.72     1.0  \n",
       "4    -54950.74      -55520.66     1.0  \n",
       "\n",
       "[5 rows x 22 columns]"
      ]
     },
     "execution_count": 112,
     "metadata": {},
     "output_type": "execute_result"
    }
   ],
   "source": [
    "train_cp_trans_item = pd.merge(train, cp_trans_item1, on = 'coupon_id', how= 'left')\n",
    "train_cp_trans_item.head()"
   ]
  },
  {
   "cell_type": "code",
   "execution_count": 113,
   "metadata": {},
   "outputs": [
    {
     "data": {
      "text/html": [
       "<div>\n",
       "<style scoped>\n",
       "    .dataframe tbody tr th:only-of-type {\n",
       "        vertical-align: middle;\n",
       "    }\n",
       "\n",
       "    .dataframe tbody tr th {\n",
       "        vertical-align: top;\n",
       "    }\n",
       "\n",
       "    .dataframe thead th {\n",
       "        text-align: right;\n",
       "    }\n",
       "</style>\n",
       "<table border=\"1\" class=\"dataframe\">\n",
       "  <thead>\n",
       "    <tr style=\"text-align: right;\">\n",
       "      <th></th>\n",
       "      <th>id</th>\n",
       "      <th>campaign_id</th>\n",
       "      <th>coupon_id</th>\n",
       "      <th>customer_id</th>\n",
       "      <th>avg_cp_dis</th>\n",
       "      <th>avg_order_qnt</th>\n",
       "      <th>avg_oth_dis</th>\n",
       "      <th>avg_price</th>\n",
       "      <th>avg_total_dis</th>\n",
       "      <th>ct_brands</th>\n",
       "      <th>...</th>\n",
       "      <th>mode_cat</th>\n",
       "      <th>ct_ord</th>\n",
       "      <th>cust_no</th>\n",
       "      <th>ct_items</th>\n",
       "      <th>sum_cp_dis</th>\n",
       "      <th>sum_cp_used</th>\n",
       "      <th>sum_order_qnt</th>\n",
       "      <th>sum_oth_dis</th>\n",
       "      <th>sum_total_dis</th>\n",
       "      <th>ct_cat</th>\n",
       "    </tr>\n",
       "  </thead>\n",
       "  <tbody>\n",
       "    <tr>\n",
       "      <th>0</th>\n",
       "      <td>3</td>\n",
       "      <td>22</td>\n",
       "      <td>869</td>\n",
       "      <td>967</td>\n",
       "      <td>-0.738141</td>\n",
       "      <td>1.130381</td>\n",
       "      <td>-33.151283</td>\n",
       "      <td>121.869253</td>\n",
       "      <td>-33.889424</td>\n",
       "      <td>1.0</td>\n",
       "      <td>...</td>\n",
       "      <td>6.0</td>\n",
       "      <td>3655.0</td>\n",
       "      <td>1469.0</td>\n",
       "      <td>72</td>\n",
       "      <td>-2288.55</td>\n",
       "      <td>59.0</td>\n",
       "      <td>4162.0</td>\n",
       "      <td>-149498.63</td>\n",
       "      <td>-151787.18</td>\n",
       "      <td>1.0</td>\n",
       "    </tr>\n",
       "    <tr>\n",
       "      <th>1</th>\n",
       "      <td>4</td>\n",
       "      <td>20</td>\n",
       "      <td>389</td>\n",
       "      <td>1566</td>\n",
       "      <td>-1.997622</td>\n",
       "      <td>1.038477</td>\n",
       "      <td>-19.140945</td>\n",
       "      <td>152.155685</td>\n",
       "      <td>-21.138566</td>\n",
       "      <td>3.0</td>\n",
       "      <td>...</td>\n",
       "      <td>11.0</td>\n",
       "      <td>676.0</td>\n",
       "      <td>435.0</td>\n",
       "      <td>33</td>\n",
       "      <td>-1243.08</td>\n",
       "      <td>36.0</td>\n",
       "      <td>731.0</td>\n",
       "      <td>-13059.73</td>\n",
       "      <td>-14302.81</td>\n",
       "      <td>1.0</td>\n",
       "    </tr>\n",
       "    <tr>\n",
       "      <th>2</th>\n",
       "      <td>5</td>\n",
       "      <td>22</td>\n",
       "      <td>981</td>\n",
       "      <td>510</td>\n",
       "      <td>-0.703917</td>\n",
       "      <td>1.205491</td>\n",
       "      <td>-15.986070</td>\n",
       "      <td>106.042197</td>\n",
       "      <td>-16.689987</td>\n",
       "      <td>1.0</td>\n",
       "      <td>...</td>\n",
       "      <td>6.0</td>\n",
       "      <td>1307.0</td>\n",
       "      <td>729.0</td>\n",
       "      <td>19</td>\n",
       "      <td>-2518.38</td>\n",
       "      <td>107.0</td>\n",
       "      <td>1495.0</td>\n",
       "      <td>-16222.50</td>\n",
       "      <td>-18740.88</td>\n",
       "      <td>1.0</td>\n",
       "    </tr>\n",
       "    <tr>\n",
       "      <th>3</th>\n",
       "      <td>8</td>\n",
       "      <td>25</td>\n",
       "      <td>1069</td>\n",
       "      <td>361</td>\n",
       "      <td>-0.928593</td>\n",
       "      <td>1.029157</td>\n",
       "      <td>-69.994211</td>\n",
       "      <td>117.221098</td>\n",
       "      <td>-70.922804</td>\n",
       "      <td>1.0</td>\n",
       "      <td>...</td>\n",
       "      <td>6.0</td>\n",
       "      <td>2042.0</td>\n",
       "      <td>1387.0</td>\n",
       "      <td>74</td>\n",
       "      <td>-1351.66</td>\n",
       "      <td>47.0</td>\n",
       "      <td>2138.0</td>\n",
       "      <td>-152001.54</td>\n",
       "      <td>-153353.20</td>\n",
       "      <td>1.0</td>\n",
       "    </tr>\n",
       "    <tr>\n",
       "      <th>4</th>\n",
       "      <td>10</td>\n",
       "      <td>17</td>\n",
       "      <td>498</td>\n",
       "      <td>811</td>\n",
       "      <td>-4.866115</td>\n",
       "      <td>1.109998</td>\n",
       "      <td>-10.645171</td>\n",
       "      <td>115.711670</td>\n",
       "      <td>-15.511287</td>\n",
       "      <td>1.0</td>\n",
       "      <td>...</td>\n",
       "      <td>6.0</td>\n",
       "      <td>567.0</td>\n",
       "      <td>350.0</td>\n",
       "      <td>18</td>\n",
       "      <td>-1729.35</td>\n",
       "      <td>84.0</td>\n",
       "      <td>619.0</td>\n",
       "      <td>-5385.60</td>\n",
       "      <td>-7114.95</td>\n",
       "      <td>1.0</td>\n",
       "    </tr>\n",
       "  </tbody>\n",
       "</table>\n",
       "<p>5 rows × 21 columns</p>\n",
       "</div>"
      ],
      "text/plain": [
       "   id  campaign_id  coupon_id  customer_id  avg_cp_dis  avg_order_qnt  \\\n",
       "0   3           22        869          967   -0.738141       1.130381   \n",
       "1   4           20        389         1566   -1.997622       1.038477   \n",
       "2   5           22        981          510   -0.703917       1.205491   \n",
       "3   8           25       1069          361   -0.928593       1.029157   \n",
       "4  10           17        498          811   -4.866115       1.109998   \n",
       "\n",
       "   avg_oth_dis   avg_price  avg_total_dis  ct_brands  ... mode_cat  ct_ord  \\\n",
       "0   -33.151283  121.869253     -33.889424        1.0  ...      6.0  3655.0   \n",
       "1   -19.140945  152.155685     -21.138566        3.0  ...     11.0   676.0   \n",
       "2   -15.986070  106.042197     -16.689987        1.0  ...      6.0  1307.0   \n",
       "3   -69.994211  117.221098     -70.922804        1.0  ...      6.0  2042.0   \n",
       "4   -10.645171  115.711670     -15.511287        1.0  ...      6.0   567.0   \n",
       "\n",
       "   cust_no  ct_items  sum_cp_dis  sum_cp_used  sum_order_qnt  sum_oth_dis  \\\n",
       "0   1469.0        72    -2288.55         59.0         4162.0   -149498.63   \n",
       "1    435.0        33    -1243.08         36.0          731.0    -13059.73   \n",
       "2    729.0        19    -2518.38        107.0         1495.0    -16222.50   \n",
       "3   1387.0        74    -1351.66         47.0         2138.0   -152001.54   \n",
       "4    350.0        18    -1729.35         84.0          619.0     -5385.60   \n",
       "\n",
       "   sum_total_dis  ct_cat  \n",
       "0     -151787.18     1.0  \n",
       "1      -14302.81     1.0  \n",
       "2      -18740.88     1.0  \n",
       "3     -153353.20     1.0  \n",
       "4       -7114.95     1.0  \n",
       "\n",
       "[5 rows x 21 columns]"
      ]
     },
     "execution_count": 113,
     "metadata": {},
     "output_type": "execute_result"
    }
   ],
   "source": [
    "test_cp_trans_item = pd.merge(test, cp_trans_item1, on = 'coupon_id', how= 'left')\n",
    "test_cp_trans_item.head()"
   ]
  },
  {
   "cell_type": "code",
   "execution_count": 114,
   "metadata": {},
   "outputs": [],
   "source": [
    "tables_data['train_cp_trans_item']= train_cp_trans_item\n",
    "tables_data['test_cp_trans_item']= test_cp_trans_item\n",
    "#save data on table"
   ]
  },
  {
   "cell_type": "markdown",
   "metadata": {},
   "source": [
    "Aggregating transaction on customer_id as a table cust_trans¶"
   ]
  },
  {
   "cell_type": "markdown",
   "metadata": {},
   "source": [
    "|name|Description|\n",
    "|:---|:---|\n",
    "|no_cp_cust|the number of coupons used per customer|"
   ]
  },
  {
   "cell_type": "code",
   "execution_count": 115,
   "metadata": {},
   "outputs": [],
   "source": [
    "cust_trans = pd.pivot_table(transaction, index = 'customer_id',\n",
    "                           values =['item_id', 'quantity', 'selling_price',\n",
    "                                    'other_discount','coupon_discount','count','coupon_used'],\n",
    "                           aggfunc={'item_id':len, \n",
    "                                    'quantity':np.mean,\n",
    "                                    'selling_price':np.mean,\n",
    "                                    'other_discount':np.mean,\n",
    "                                    'coupon_discount':np.mean,\n",
    "                                   'coupon_used':np.mean})\n",
    "new_cols={'item_id':'ct_items_cust',\n",
    "          'quantity':'avg_qnt_cust',\n",
    "          'selling_price':'avg_price_cust',\n",
    "          'other_discount':'avg_oth_disc_cust',\n",
    "          'coupon_discount':'avg_cp_disc_cust',\n",
    "          'coupon_used':'avg_cp_use_cust'}\n",
    "\n",
    "\n",
    "cust_trans.rename(columns=new_cols, inplace= True)"
   ]
  },
  {
   "cell_type": "code",
   "execution_count": 116,
   "metadata": {},
   "outputs": [],
   "source": [
    "cust_trans['sum_qnt_cust']=cust_trans['ct_items_cust']*cust_trans['avg_qnt_cust']\n",
    "cust_trans['sum_price_cust']=cust_trans['ct_items_cust']*cust_trans['avg_price_cust']\n",
    "cust_trans['sum_oth_disc_cust']=cust_trans['ct_items_cust']*cust_trans['avg_oth_disc_cust']\n",
    "cust_trans['sum_cp_disc_cust']=cust_trans['ct_items_cust']*cust_trans['avg_cp_disc_cust']\n",
    "cust_trans['no_cp_cust']=cust_trans['ct_items_cust']*cust_trans['avg_cp_use_cust']\n",
    "cust_trans.reset_index(inplace=True)"
   ]
  },
  {
   "cell_type": "code",
   "execution_count": 117,
   "metadata": {},
   "outputs": [
    {
     "data": {
      "text/html": [
       "<div>\n",
       "<style scoped>\n",
       "    .dataframe tbody tr th:only-of-type {\n",
       "        vertical-align: middle;\n",
       "    }\n",
       "\n",
       "    .dataframe tbody tr th {\n",
       "        vertical-align: top;\n",
       "    }\n",
       "\n",
       "    .dataframe thead th {\n",
       "        text-align: right;\n",
       "    }\n",
       "</style>\n",
       "<table border=\"1\" class=\"dataframe\">\n",
       "  <thead>\n",
       "    <tr style=\"text-align: right;\">\n",
       "      <th></th>\n",
       "      <th>customer_id</th>\n",
       "      <th>avg_cp_disc_cust</th>\n",
       "      <th>avg_cp_use_cust</th>\n",
       "      <th>ct_items_cust</th>\n",
       "      <th>avg_oth_disc_cust</th>\n",
       "      <th>avg_qnt_cust</th>\n",
       "      <th>avg_price_cust</th>\n",
       "      <th>sum_qnt_cust</th>\n",
       "      <th>sum_price_cust</th>\n",
       "      <th>sum_oth_disc_cust</th>\n",
       "      <th>sum_cp_disc_cust</th>\n",
       "      <th>no_cp_cust</th>\n",
       "    </tr>\n",
       "  </thead>\n",
       "  <tbody>\n",
       "    <tr>\n",
       "      <th>0</th>\n",
       "      <td>1</td>\n",
       "      <td>-2.019876</td>\n",
       "      <td>0.074427</td>\n",
       "      <td>1048</td>\n",
       "      <td>-16.250382</td>\n",
       "      <td>1.170802</td>\n",
       "      <td>94.001842</td>\n",
       "      <td>1227.0</td>\n",
       "      <td>98513.93</td>\n",
       "      <td>-17030.40</td>\n",
       "      <td>-2116.83</td>\n",
       "      <td>78.0</td>\n",
       "    </tr>\n",
       "    <tr>\n",
       "      <th>1</th>\n",
       "      <td>2</td>\n",
       "      <td>-0.595084</td>\n",
       "      <td>0.009547</td>\n",
       "      <td>419</td>\n",
       "      <td>-16.830430</td>\n",
       "      <td>1.131265</td>\n",
       "      <td>102.864033</td>\n",
       "      <td>474.0</td>\n",
       "      <td>43100.03</td>\n",
       "      <td>-7051.95</td>\n",
       "      <td>-249.34</td>\n",
       "      <td>4.0</td>\n",
       "    </tr>\n",
       "    <tr>\n",
       "      <th>2</th>\n",
       "      <td>3</td>\n",
       "      <td>-3.091546</td>\n",
       "      <td>0.075177</td>\n",
       "      <td>705</td>\n",
       "      <td>-22.714227</td>\n",
       "      <td>11.578723</td>\n",
       "      <td>103.617404</td>\n",
       "      <td>8163.0</td>\n",
       "      <td>73050.27</td>\n",
       "      <td>-16013.53</td>\n",
       "      <td>-2179.54</td>\n",
       "      <td>53.0</td>\n",
       "    </tr>\n",
       "    <tr>\n",
       "      <th>3</th>\n",
       "      <td>4</td>\n",
       "      <td>-0.404773</td>\n",
       "      <td>0.004545</td>\n",
       "      <td>220</td>\n",
       "      <td>-13.305409</td>\n",
       "      <td>1.272727</td>\n",
       "      <td>154.423727</td>\n",
       "      <td>280.0</td>\n",
       "      <td>33973.22</td>\n",
       "      <td>-2927.19</td>\n",
       "      <td>-89.05</td>\n",
       "      <td>1.0</td>\n",
       "    </tr>\n",
       "    <tr>\n",
       "      <th>4</th>\n",
       "      <td>5</td>\n",
       "      <td>-0.114684</td>\n",
       "      <td>0.002525</td>\n",
       "      <td>792</td>\n",
       "      <td>-13.657917</td>\n",
       "      <td>117.869949</td>\n",
       "      <td>130.827146</td>\n",
       "      <td>93353.0</td>\n",
       "      <td>103615.10</td>\n",
       "      <td>-10817.07</td>\n",
       "      <td>-90.83</td>\n",
       "      <td>2.0</td>\n",
       "    </tr>\n",
       "  </tbody>\n",
       "</table>\n",
       "</div>"
      ],
      "text/plain": [
       "   customer_id  avg_cp_disc_cust  avg_cp_use_cust  ct_items_cust  \\\n",
       "0            1         -2.019876         0.074427           1048   \n",
       "1            2         -0.595084         0.009547            419   \n",
       "2            3         -3.091546         0.075177            705   \n",
       "3            4         -0.404773         0.004545            220   \n",
       "4            5         -0.114684         0.002525            792   \n",
       "\n",
       "   avg_oth_disc_cust  avg_qnt_cust  avg_price_cust  sum_qnt_cust  \\\n",
       "0         -16.250382      1.170802       94.001842        1227.0   \n",
       "1         -16.830430      1.131265      102.864033         474.0   \n",
       "2         -22.714227     11.578723      103.617404        8163.0   \n",
       "3         -13.305409      1.272727      154.423727         280.0   \n",
       "4         -13.657917    117.869949      130.827146       93353.0   \n",
       "\n",
       "   sum_price_cust  sum_oth_disc_cust  sum_cp_disc_cust  no_cp_cust  \n",
       "0        98513.93          -17030.40          -2116.83        78.0  \n",
       "1        43100.03           -7051.95           -249.34         4.0  \n",
       "2        73050.27          -16013.53          -2179.54        53.0  \n",
       "3        33973.22           -2927.19            -89.05         1.0  \n",
       "4       103615.10          -10817.07            -90.83         2.0  "
      ]
     },
     "execution_count": 117,
     "metadata": {},
     "output_type": "execute_result"
    }
   ],
   "source": [
    "cust_trans.head()"
   ]
  },
  {
   "cell_type": "markdown",
   "metadata": {},
   "source": [
    "Merge cust_trans with demograph (customer demographics) and save as cust_trans"
   ]
  },
  {
   "cell_type": "code",
   "execution_count": 118,
   "metadata": {},
   "outputs": [],
   "source": [
    "cust_trans = pd.merge(cust_trans, demograph, on ='customer_id', how ='left')"
   ]
  },
  {
   "cell_type": "code",
   "execution_count": 119,
   "metadata": {},
   "outputs": [],
   "source": [
    "tables_data['cust_trans']=cust_trans"
   ]
  },
  {
   "cell_type": "markdown",
   "metadata": {},
   "source": [
    "Merge cust_trans with train_cp_trans_item(combined train data)"
   ]
  },
  {
   "cell_type": "code",
   "execution_count": 120,
   "metadata": {},
   "outputs": [],
   "source": [
    "train_cp_trans_item_cust = pd.merge(train_cp_trans_item, cust_trans, on='customer_id', how='left')"
   ]
  },
  {
   "cell_type": "code",
   "execution_count": 121,
   "metadata": {},
   "outputs": [],
   "source": [
    "tables_data['train_cp_trans_item_cust']=train_cp_trans_item_cust"
   ]
  },
  {
   "cell_type": "markdown",
   "metadata": {},
   "source": [
    "Finally merge the combined train and test tables with the campaign data"
   ]
  },
  {
   "cell_type": "code",
   "execution_count": 122,
   "metadata": {},
   "outputs": [],
   "source": [
    "train_cp_trans_item_cust_camp = pd.merge(train_cp_trans_item_cust, campaign, on='campaign_id', how='left')"
   ]
  },
  {
   "cell_type": "code",
   "execution_count": 123,
   "metadata": {
    "scrolled": true
   },
   "outputs": [
    {
     "data": {
      "text/html": [
       "<div>\n",
       "<style scoped>\n",
       "    .dataframe tbody tr th:only-of-type {\n",
       "        vertical-align: middle;\n",
       "    }\n",
       "\n",
       "    .dataframe tbody tr th {\n",
       "        vertical-align: top;\n",
       "    }\n",
       "\n",
       "    .dataframe thead th {\n",
       "        text-align: right;\n",
       "    }\n",
       "</style>\n",
       "<table border=\"1\" class=\"dataframe\">\n",
       "  <thead>\n",
       "    <tr style=\"text-align: right;\">\n",
       "      <th></th>\n",
       "      <th>id</th>\n",
       "      <th>campaign_id</th>\n",
       "      <th>coupon_id</th>\n",
       "      <th>customer_id</th>\n",
       "      <th>redemption_status</th>\n",
       "      <th>avg_cp_dis</th>\n",
       "      <th>avg_order_qnt</th>\n",
       "      <th>avg_oth_dis</th>\n",
       "      <th>avg_price</th>\n",
       "      <th>avg_total_dis</th>\n",
       "      <th>...</th>\n",
       "      <th>age_range</th>\n",
       "      <th>marital_status</th>\n",
       "      <th>rented</th>\n",
       "      <th>family_size</th>\n",
       "      <th>no_of_children</th>\n",
       "      <th>income_bracket</th>\n",
       "      <th>campaign_type</th>\n",
       "      <th>start_date</th>\n",
       "      <th>end_date</th>\n",
       "      <th>campaign_duration</th>\n",
       "    </tr>\n",
       "  </thead>\n",
       "  <tbody>\n",
       "    <tr>\n",
       "      <th>0</th>\n",
       "      <td>1</td>\n",
       "      <td>13</td>\n",
       "      <td>27</td>\n",
       "      <td>1053</td>\n",
       "      <td>0</td>\n",
       "      <td>-1.241694</td>\n",
       "      <td>1.169768</td>\n",
       "      <td>-51.732305</td>\n",
       "      <td>84.478583</td>\n",
       "      <td>-52.974000</td>\n",
       "      <td>...</td>\n",
       "      <td>46-55</td>\n",
       "      <td>NaN</td>\n",
       "      <td>0.0</td>\n",
       "      <td>1</td>\n",
       "      <td>NaN</td>\n",
       "      <td>5.0</td>\n",
       "      <td>X</td>\n",
       "      <td>2013-05-19</td>\n",
       "      <td>2013-07-05</td>\n",
       "      <td>47</td>\n",
       "    </tr>\n",
       "    <tr>\n",
       "      <th>1</th>\n",
       "      <td>2</td>\n",
       "      <td>13</td>\n",
       "      <td>116</td>\n",
       "      <td>48</td>\n",
       "      <td>0</td>\n",
       "      <td>0.000000</td>\n",
       "      <td>1.050926</td>\n",
       "      <td>-10.661343</td>\n",
       "      <td>63.833519</td>\n",
       "      <td>-10.661343</td>\n",
       "      <td>...</td>\n",
       "      <td>36-45</td>\n",
       "      <td>Married</td>\n",
       "      <td>0.0</td>\n",
       "      <td>2</td>\n",
       "      <td>NaN</td>\n",
       "      <td>3.0</td>\n",
       "      <td>X</td>\n",
       "      <td>2013-05-19</td>\n",
       "      <td>2013-07-05</td>\n",
       "      <td>47</td>\n",
       "    </tr>\n",
       "    <tr>\n",
       "      <th>2</th>\n",
       "      <td>6</td>\n",
       "      <td>9</td>\n",
       "      <td>635</td>\n",
       "      <td>205</td>\n",
       "      <td>0</td>\n",
       "      <td>-2.987321</td>\n",
       "      <td>1.353802</td>\n",
       "      <td>-142.498493</td>\n",
       "      <td>332.128380</td>\n",
       "      <td>-145.485813</td>\n",
       "      <td>...</td>\n",
       "      <td>46-55</td>\n",
       "      <td>Married</td>\n",
       "      <td>0.0</td>\n",
       "      <td>2</td>\n",
       "      <td>NaN</td>\n",
       "      <td>7.0</td>\n",
       "      <td>Y</td>\n",
       "      <td>2013-03-11</td>\n",
       "      <td>2013-04-12</td>\n",
       "      <td>32</td>\n",
       "    </tr>\n",
       "    <tr>\n",
       "      <th>3</th>\n",
       "      <td>7</td>\n",
       "      <td>13</td>\n",
       "      <td>644</td>\n",
       "      <td>1050</td>\n",
       "      <td>0</td>\n",
       "      <td>-4.452500</td>\n",
       "      <td>1.110390</td>\n",
       "      <td>-5.010601</td>\n",
       "      <td>94.261640</td>\n",
       "      <td>-9.463101</td>\n",
       "      <td>...</td>\n",
       "      <td>NaN</td>\n",
       "      <td>NaN</td>\n",
       "      <td>NaN</td>\n",
       "      <td>NaN</td>\n",
       "      <td>NaN</td>\n",
       "      <td>NaN</td>\n",
       "      <td>X</td>\n",
       "      <td>2013-05-19</td>\n",
       "      <td>2013-07-05</td>\n",
       "      <td>47</td>\n",
       "    </tr>\n",
       "    <tr>\n",
       "      <th>4</th>\n",
       "      <td>9</td>\n",
       "      <td>8</td>\n",
       "      <td>1017</td>\n",
       "      <td>1489</td>\n",
       "      <td>0</td>\n",
       "      <td>-0.198055</td>\n",
       "      <td>1.071044</td>\n",
       "      <td>-33.629121</td>\n",
       "      <td>181.621631</td>\n",
       "      <td>-33.827176</td>\n",
       "      <td>...</td>\n",
       "      <td>46-55</td>\n",
       "      <td>Married</td>\n",
       "      <td>0.0</td>\n",
       "      <td>2</td>\n",
       "      <td>NaN</td>\n",
       "      <td>3.0</td>\n",
       "      <td>X</td>\n",
       "      <td>2013-02-16</td>\n",
       "      <td>2013-04-05</td>\n",
       "      <td>48</td>\n",
       "    </tr>\n",
       "  </tbody>\n",
       "</table>\n",
       "<p>5 rows × 43 columns</p>\n",
       "</div>"
      ],
      "text/plain": [
       "   id  campaign_id  coupon_id  customer_id  redemption_status  avg_cp_dis  \\\n",
       "0   1           13         27         1053                  0   -1.241694   \n",
       "1   2           13        116           48                  0    0.000000   \n",
       "2   6            9        635          205                  0   -2.987321   \n",
       "3   7           13        644         1050                  0   -4.452500   \n",
       "4   9            8       1017         1489                  0   -0.198055   \n",
       "\n",
       "   avg_order_qnt  avg_oth_dis   avg_price  avg_total_dis  ...  age_range  \\\n",
       "0       1.169768   -51.732305   84.478583     -52.974000  ...      46-55   \n",
       "1       1.050926   -10.661343   63.833519     -10.661343  ...      36-45   \n",
       "2       1.353802  -142.498493  332.128380    -145.485813  ...      46-55   \n",
       "3       1.110390    -5.010601   94.261640      -9.463101  ...        NaN   \n",
       "4       1.071044   -33.629121  181.621631     -33.827176  ...      46-55   \n",
       "\n",
       "  marital_status  rented  family_size  no_of_children  income_bracket  \\\n",
       "0            NaN     0.0            1             NaN             5.0   \n",
       "1        Married     0.0            2             NaN             3.0   \n",
       "2        Married     0.0            2             NaN             7.0   \n",
       "3            NaN     NaN          NaN             NaN             NaN   \n",
       "4        Married     0.0            2             NaN             3.0   \n",
       "\n",
       "   campaign_type  start_date   end_date  campaign_duration  \n",
       "0              X  2013-05-19 2013-07-05                 47  \n",
       "1              X  2013-05-19 2013-07-05                 47  \n",
       "2              Y  2013-03-11 2013-04-12                 32  \n",
       "3              X  2013-05-19 2013-07-05                 47  \n",
       "4              X  2013-02-16 2013-04-05                 48  \n",
       "\n",
       "[5 rows x 43 columns]"
      ]
     },
     "execution_count": 123,
     "metadata": {},
     "output_type": "execute_result"
    }
   ],
   "source": [
    "train_cp_trans_item_cust_camp.head()"
   ]
  },
  {
   "cell_type": "markdown",
   "metadata": {},
   "source": [
    "# Data is Ready here, But we need to check for Null Values which could have been created while merging."
   ]
  },
  {
   "cell_type": "markdown",
   "metadata": {},
   "source": [
    "Remove the missing data"
   ]
  },
  {
   "cell_type": "code",
   "execution_count": 124,
   "metadata": {},
   "outputs": [],
   "source": [
    "train_final = train_cp_trans_item_cust_camp.copy()"
   ]
  },
  {
   "cell_type": "code",
   "execution_count": 125,
   "metadata": {
    "scrolled": true
   },
   "outputs": [
    {
     "name": "stdout",
     "output_type": "stream",
     "text": [
      "<class 'pandas.core.frame.DataFrame'>\n",
      "Int64Index: 78369 entries, 0 to 78368\n",
      "Data columns (total 43 columns):\n",
      " #   Column             Non-Null Count  Dtype         \n",
      "---  ------             --------------  -----         \n",
      " 0   id                 78369 non-null  int64         \n",
      " 1   campaign_id        78369 non-null  int64         \n",
      " 2   coupon_id          78369 non-null  int64         \n",
      " 3   customer_id        78369 non-null  int64         \n",
      " 4   redemption_status  78369 non-null  int64         \n",
      " 5   avg_cp_dis         78369 non-null  float64       \n",
      " 6   avg_order_qnt      78369 non-null  float64       \n",
      " 7   avg_oth_dis        78369 non-null  float64       \n",
      " 8   avg_price          78369 non-null  float64       \n",
      " 9   avg_total_dis      78369 non-null  float64       \n",
      " 10  ct_brands          78369 non-null  float64       \n",
      " 11  brand_type         78369 non-null  object        \n",
      " 12  mode_cat           78369 non-null  float64       \n",
      " 13  ct_ord             78369 non-null  float64       \n",
      " 14  cust_no            78369 non-null  float64       \n",
      " 15  ct_items           78369 non-null  int64         \n",
      " 16  sum_cp_dis         78369 non-null  float64       \n",
      " 17  sum_cp_used        78369 non-null  float64       \n",
      " 18  sum_order_qnt      78369 non-null  float64       \n",
      " 19  sum_oth_dis        78369 non-null  float64       \n",
      " 20  sum_total_dis      78369 non-null  float64       \n",
      " 21  ct_cat             78369 non-null  float64       \n",
      " 22  avg_cp_disc_cust   78369 non-null  float64       \n",
      " 23  avg_cp_use_cust    78369 non-null  float64       \n",
      " 24  ct_items_cust      78369 non-null  int64         \n",
      " 25  avg_oth_disc_cust  78369 non-null  float64       \n",
      " 26  avg_qnt_cust       78369 non-null  float64       \n",
      " 27  avg_price_cust     78369 non-null  float64       \n",
      " 28  sum_qnt_cust       78369 non-null  float64       \n",
      " 29  sum_price_cust     78369 non-null  float64       \n",
      " 30  sum_oth_disc_cust  78369 non-null  float64       \n",
      " 31  sum_cp_disc_cust   78369 non-null  float64       \n",
      " 32  no_cp_cust         78369 non-null  float64       \n",
      " 33  age_range          43661 non-null  object        \n",
      " 34  marital_status     25394 non-null  object        \n",
      " 35  rented             43661 non-null  float64       \n",
      " 36  family_size        43661 non-null  object        \n",
      " 37  no_of_children     14056 non-null  object        \n",
      " 38  income_bracket     43661 non-null  float64       \n",
      " 39  campaign_type      78369 non-null  object        \n",
      " 40  start_date         78369 non-null  datetime64[ns]\n",
      " 41  end_date           78369 non-null  datetime64[ns]\n",
      " 42  campaign_duration  78369 non-null  int64         \n",
      "dtypes: datetime64[ns](2), float64(27), int64(8), object(6)\n",
      "memory usage: 26.3+ MB\n"
     ]
    }
   ],
   "source": [
    "train_final.info()"
   ]
  },
  {
   "cell_type": "code",
   "execution_count": 126,
   "metadata": {},
   "outputs": [
    {
     "data": {
      "text/plain": [
       "id                       0\n",
       "campaign_id              0\n",
       "coupon_id                0\n",
       "customer_id              0\n",
       "redemption_status        0\n",
       "avg_cp_dis               0\n",
       "avg_order_qnt            0\n",
       "avg_oth_dis              0\n",
       "avg_price                0\n",
       "avg_total_dis            0\n",
       "ct_brands                0\n",
       "brand_type               0\n",
       "mode_cat                 0\n",
       "ct_ord                   0\n",
       "cust_no                  0\n",
       "ct_items                 0\n",
       "sum_cp_dis               0\n",
       "sum_cp_used              0\n",
       "sum_order_qnt            0\n",
       "sum_oth_dis              0\n",
       "sum_total_dis            0\n",
       "ct_cat                   0\n",
       "avg_cp_disc_cust         0\n",
       "avg_cp_use_cust          0\n",
       "ct_items_cust            0\n",
       "avg_oth_disc_cust        0\n",
       "avg_qnt_cust             0\n",
       "avg_price_cust           0\n",
       "sum_qnt_cust             0\n",
       "sum_price_cust           0\n",
       "sum_oth_disc_cust        0\n",
       "sum_cp_disc_cust         0\n",
       "no_cp_cust               0\n",
       "age_range            34708\n",
       "marital_status       52975\n",
       "rented               34708\n",
       "family_size          34708\n",
       "no_of_children       64313\n",
       "income_bracket       34708\n",
       "campaign_type            0\n",
       "start_date               0\n",
       "end_date                 0\n",
       "campaign_duration        0\n",
       "dtype: int64"
      ]
     },
     "execution_count": 126,
     "metadata": {},
     "output_type": "execute_result"
    }
   ],
   "source": [
    "train_final.isnull().sum()"
   ]
  },
  {
   "cell_type": "markdown",
   "metadata": {},
   "source": [
    "Observation\n",
    "\n",
    "There are missing values in:\n",
    "\n",
    "age_range,\n",
    "marital_status,\n",
    "rented,\n",
    "family_size,\n",
    "no_of_children,\n",
    "income_bracke"
   ]
  },
  {
   "cell_type": "code",
   "execution_count": 127,
   "metadata": {},
   "outputs": [
    {
     "data": {
      "text/plain": [
       "<Figure size 1440x1440 with 0 Axes>"
      ]
     },
     "execution_count": 127,
     "metadata": {},
     "output_type": "execute_result"
    },
    {
     "data": {
      "image/png": "[encoded data removed]",
      "text/plain": [
       "<Figure size 432x288 with 1 Axes>"
      ]
     },
     "metadata": {},
     "output_type": "display_data"
    },
    {
     "data": {
      "text/plain": [
       "<Figure size 1440x1440 with 0 Axes>"
      ]
     },
     "metadata": {},
     "output_type": "display_data"
    }
   ],
   "source": [
    "sns.heatmap(train_final.isnull(),yticklabels=False,cbar=False,cmap='viridis')\n",
    "plt.figure(figsize=(20,20))"
   ]
  },
  {
   "cell_type": "code",
   "execution_count": 128,
   "metadata": {},
   "outputs": [],
   "source": [
    "#for age"
   ]
  },
  {
   "cell_type": "code",
   "execution_count": 129,
   "metadata": {
    "scrolled": true
   },
   "outputs": [
    {
     "data": {
      "text/plain": [
       "46-55    15154\n",
       "36-45    11210\n",
       "26-35     8024\n",
       "56-70     3723\n",
       "70+       3094\n",
       "18-25     2456\n",
       "Name: age_range, dtype: int64"
      ]
     },
     "execution_count": 129,
     "metadata": {},
     "output_type": "execute_result"
    }
   ],
   "source": [
    "train_final.age_range.value_counts()"
   ]
  },
  {
   "cell_type": "code",
   "execution_count": 130,
   "metadata": {
    "scrolled": true
   },
   "outputs": [
    {
     "data": {
      "text/plain": [
       "0.44287919968354833"
      ]
     },
     "execution_count": 130,
     "metadata": {},
     "output_type": "execute_result"
    }
   ],
   "source": [
    "34708/78369"
   ]
  },
  {
   "cell_type": "markdown",
   "metadata": {},
   "source": [
    "44 percentage of values are missing"
   ]
  },
  {
   "cell_type": "code",
   "execution_count": 131,
   "metadata": {},
   "outputs": [],
   "source": [
    "train_final.fillna({'age_range':'unknown'}, inplace=True)"
   ]
  },
  {
   "cell_type": "code",
   "execution_count": 132,
   "metadata": {},
   "outputs": [],
   "source": [
    "fillNaN_values ={'age_range':'unknown'}"
   ]
  },
  {
   "cell_type": "code",
   "execution_count": 133,
   "metadata": {},
   "outputs": [],
   "source": [
    "#for marital_status"
   ]
  },
  {
   "cell_type": "code",
   "execution_count": 134,
   "metadata": {},
   "outputs": [
    {
     "data": {
      "text/plain": [
       "Married    18811\n",
       "Single      6583\n",
       "Name: marital_status, dtype: int64"
      ]
     },
     "execution_count": 134,
     "metadata": {},
     "output_type": "execute_result"
    }
   ],
   "source": [
    "train_final.marital_status.value_counts()"
   ]
  },
  {
   "cell_type": "code",
   "execution_count": 135,
   "metadata": {},
   "outputs": [],
   "source": [
    "train_final.fillna({'marital_status':'unknown'}, inplace=True)"
   ]
  },
  {
   "cell_type": "code",
   "execution_count": 136,
   "metadata": {},
   "outputs": [],
   "source": [
    "fillNaN_values['marital_status']='unknown'"
   ]
  },
  {
   "cell_type": "code",
   "execution_count": 137,
   "metadata": {},
   "outputs": [],
   "source": [
    "#Rented"
   ]
  },
  {
   "cell_type": "code",
   "execution_count": 138,
   "metadata": {
    "scrolled": true
   },
   "outputs": [
    {
     "data": {
      "text/plain": [
       "0.0    41156\n",
       "1.0     2505\n",
       "Name: rented, dtype: int64"
      ]
     },
     "execution_count": 138,
     "metadata": {},
     "output_type": "execute_result"
    }
   ],
   "source": [
    "train_final.rented.value_counts()"
   ]
  },
  {
   "cell_type": "code",
   "execution_count": 139,
   "metadata": {},
   "outputs": [],
   "source": [
    "#Since the majority of values for rented is 0, we fill the missing values with 0."
   ]
  },
  {
   "cell_type": "code",
   "execution_count": 140,
   "metadata": {},
   "outputs": [],
   "source": [
    "train_final.fillna({'rented':0}, inplace= True)"
   ]
  },
  {
   "cell_type": "code",
   "execution_count": 141,
   "metadata": {},
   "outputs": [],
   "source": [
    "fillNaN_values['rented']=0"
   ]
  },
  {
   "cell_type": "code",
   "execution_count": 142,
   "metadata": {},
   "outputs": [],
   "source": [
    "#for family size"
   ]
  },
  {
   "cell_type": "code",
   "execution_count": 143,
   "metadata": {},
   "outputs": [
    {
     "data": {
      "text/plain": [
       "2     16888\n",
       "1     13612\n",
       "3      6267\n",
       "5+     3755\n",
       "4      3139\n",
       "Name: family_size, dtype: int64"
      ]
     },
     "execution_count": 143,
     "metadata": {},
     "output_type": "execute_result"
    }
   ],
   "source": [
    "train_final.family_size.value_counts()"
   ]
  },
  {
   "cell_type": "code",
   "execution_count": 144,
   "metadata": {},
   "outputs": [
    {
     "data": {
      "text/plain": [
       "array(['1', '2', nan, '3', '4', '5+'], dtype=object)"
      ]
     },
     "execution_count": 144,
     "metadata": {},
     "output_type": "execute_result"
    }
   ],
   "source": [
    "train_final.family_size.unique()"
   ]
  },
  {
   "cell_type": "code",
   "execution_count": 145,
   "metadata": {},
   "outputs": [],
   "source": [
    "train_final.fillna({'family_size':'1'}, inplace=True)"
   ]
  },
  {
   "cell_type": "code",
   "execution_count": 146,
   "metadata": {},
   "outputs": [],
   "source": [
    "fillNaN_values['family_size']='1'"
   ]
  },
  {
   "cell_type": "code",
   "execution_count": 147,
   "metadata": {},
   "outputs": [],
   "source": [
    "#for no of children"
   ]
  },
  {
   "cell_type": "code",
   "execution_count": 148,
   "metadata": {
    "scrolled": true
   },
   "outputs": [
    {
     "data": {
      "text/plain": [
       "array([nan, '1', '2', '3+'], dtype=object)"
      ]
     },
     "execution_count": 148,
     "metadata": {},
     "output_type": "execute_result"
    }
   ],
   "source": [
    "train_final.no_of_children.unique()"
   ]
  },
  {
   "cell_type": "code",
   "execution_count": 149,
   "metadata": {},
   "outputs": [],
   "source": [
    "train_final.fillna({'no_of_children':'0'},inplace=True)"
   ]
  },
  {
   "cell_type": "code",
   "execution_count": 150,
   "metadata": {},
   "outputs": [],
   "source": [
    "fillNaN_values['no_of_children']='0'"
   ]
  },
  {
   "cell_type": "code",
   "execution_count": 151,
   "metadata": {},
   "outputs": [],
   "source": [
    "#for income"
   ]
  },
  {
   "cell_type": "code",
   "execution_count": 152,
   "metadata": {},
   "outputs": [
    {
     "data": {
      "text/plain": [
       "4.802478184191842"
      ]
     },
     "execution_count": 152,
     "metadata": {},
     "output_type": "execute_result"
    }
   ],
   "source": [
    "train_final.income_bracket.mean()"
   ]
  },
  {
   "cell_type": "code",
   "execution_count": 153,
   "metadata": {},
   "outputs": [],
   "source": [
    "train_final.fillna({'income_bracket':5}, inplace=True)"
   ]
  },
  {
   "cell_type": "code",
   "execution_count": 154,
   "metadata": {},
   "outputs": [],
   "source": [
    "fillNaN_values['income_bracket']=5"
   ]
  },
  {
   "cell_type": "code",
   "execution_count": 155,
   "metadata": {},
   "outputs": [
    {
     "data": {
      "text/html": [
       "<div>\n",
       "<style scoped>\n",
       "    .dataframe tbody tr th:only-of-type {\n",
       "        vertical-align: middle;\n",
       "    }\n",
       "\n",
       "    .dataframe tbody tr th {\n",
       "        vertical-align: top;\n",
       "    }\n",
       "\n",
       "    .dataframe thead th {\n",
       "        text-align: right;\n",
       "    }\n",
       "</style>\n",
       "<table border=\"1\" class=\"dataframe\">\n",
       "  <thead>\n",
       "    <tr style=\"text-align: right;\">\n",
       "      <th></th>\n",
       "      <th>marital_status</th>\n",
       "      <th>family_size</th>\n",
       "      <th>no_of_children</th>\n",
       "      <th>income_bracket</th>\n",
       "      <th>rented</th>\n",
       "      <th>age_range</th>\n",
       "    </tr>\n",
       "  </thead>\n",
       "  <tbody>\n",
       "    <tr>\n",
       "      <th>0</th>\n",
       "      <td>unknown</td>\n",
       "      <td>1</td>\n",
       "      <td>0</td>\n",
       "      <td>5.0</td>\n",
       "      <td>0.0</td>\n",
       "      <td>46-55</td>\n",
       "    </tr>\n",
       "    <tr>\n",
       "      <th>1</th>\n",
       "      <td>Married</td>\n",
       "      <td>2</td>\n",
       "      <td>0</td>\n",
       "      <td>3.0</td>\n",
       "      <td>0.0</td>\n",
       "      <td>36-45</td>\n",
       "    </tr>\n",
       "    <tr>\n",
       "      <th>2</th>\n",
       "      <td>Married</td>\n",
       "      <td>2</td>\n",
       "      <td>0</td>\n",
       "      <td>7.0</td>\n",
       "      <td>0.0</td>\n",
       "      <td>46-55</td>\n",
       "    </tr>\n",
       "    <tr>\n",
       "      <th>3</th>\n",
       "      <td>unknown</td>\n",
       "      <td>1</td>\n",
       "      <td>0</td>\n",
       "      <td>5.0</td>\n",
       "      <td>0.0</td>\n",
       "      <td>unknown</td>\n",
       "    </tr>\n",
       "    <tr>\n",
       "      <th>4</th>\n",
       "      <td>Married</td>\n",
       "      <td>2</td>\n",
       "      <td>0</td>\n",
       "      <td>3.0</td>\n",
       "      <td>0.0</td>\n",
       "      <td>46-55</td>\n",
       "    </tr>\n",
       "    <tr>\n",
       "      <th>...</th>\n",
       "      <td>...</td>\n",
       "      <td>...</td>\n",
       "      <td>...</td>\n",
       "      <td>...</td>\n",
       "      <td>...</td>\n",
       "      <td>...</td>\n",
       "    </tr>\n",
       "    <tr>\n",
       "      <th>78364</th>\n",
       "      <td>Married</td>\n",
       "      <td>2</td>\n",
       "      <td>0</td>\n",
       "      <td>1.0</td>\n",
       "      <td>0.0</td>\n",
       "      <td>70+</td>\n",
       "    </tr>\n",
       "    <tr>\n",
       "      <th>78365</th>\n",
       "      <td>Married</td>\n",
       "      <td>2</td>\n",
       "      <td>0</td>\n",
       "      <td>2.0</td>\n",
       "      <td>0.0</td>\n",
       "      <td>70+</td>\n",
       "    </tr>\n",
       "    <tr>\n",
       "      <th>78366</th>\n",
       "      <td>unknown</td>\n",
       "      <td>1</td>\n",
       "      <td>0</td>\n",
       "      <td>5.0</td>\n",
       "      <td>0.0</td>\n",
       "      <td>unknown</td>\n",
       "    </tr>\n",
       "    <tr>\n",
       "      <th>78367</th>\n",
       "      <td>Married</td>\n",
       "      <td>5+</td>\n",
       "      <td>3+</td>\n",
       "      <td>4.0</td>\n",
       "      <td>0.0</td>\n",
       "      <td>36-45</td>\n",
       "    </tr>\n",
       "    <tr>\n",
       "      <th>78368</th>\n",
       "      <td>unknown</td>\n",
       "      <td>1</td>\n",
       "      <td>0</td>\n",
       "      <td>5.0</td>\n",
       "      <td>0.0</td>\n",
       "      <td>unknown</td>\n",
       "    </tr>\n",
       "  </tbody>\n",
       "</table>\n",
       "<p>78369 rows × 6 columns</p>\n",
       "</div>"
      ],
      "text/plain": [
       "      marital_status family_size no_of_children  income_bracket  rented  \\\n",
       "0            unknown           1              0             5.0     0.0   \n",
       "1            Married           2              0             3.0     0.0   \n",
       "2            Married           2              0             7.0     0.0   \n",
       "3            unknown           1              0             5.0     0.0   \n",
       "4            Married           2              0             3.0     0.0   \n",
       "...              ...         ...            ...             ...     ...   \n",
       "78364        Married           2              0             1.0     0.0   \n",
       "78365        Married           2              0             2.0     0.0   \n",
       "78366        unknown           1              0             5.0     0.0   \n",
       "78367        Married          5+             3+             4.0     0.0   \n",
       "78368        unknown           1              0             5.0     0.0   \n",
       "\n",
       "      age_range  \n",
       "0         46-55  \n",
       "1         36-45  \n",
       "2         46-55  \n",
       "3       unknown  \n",
       "4         46-55  \n",
       "...         ...  \n",
       "78364       70+  \n",
       "78365       70+  \n",
       "78366   unknown  \n",
       "78367     36-45  \n",
       "78368   unknown  \n",
       "\n",
       "[78369 rows x 6 columns]"
      ]
     },
     "execution_count": 155,
     "metadata": {},
     "output_type": "execute_result"
    }
   ],
   "source": [
    "train_final[['marital_status', 'family_size', 'no_of_children','income_bracket','rented','age_range']]"
   ]
  },
  {
   "cell_type": "code",
   "execution_count": 156,
   "metadata": {},
   "outputs": [
    {
     "data": {
      "text/plain": [
       "id               0\n",
       "campaign_id      0\n",
       "coupon_id        0\n",
       "customer_id      0\n",
       "avg_cp_dis       0\n",
       "avg_order_qnt    0\n",
       "avg_oth_dis      0\n",
       "avg_price        0\n",
       "avg_total_dis    0\n",
       "ct_brands        0\n",
       "brand_type       0\n",
       "mode_cat         0\n",
       "ct_ord           0\n",
       "cust_no          0\n",
       "ct_items         0\n",
       "sum_cp_dis       0\n",
       "sum_cp_used      0\n",
       "sum_order_qnt    0\n",
       "sum_oth_dis      0\n",
       "sum_total_dis    0\n",
       "ct_cat           0\n",
       "dtype: int64"
      ]
     },
     "execution_count": 156,
     "metadata": {},
     "output_type": "execute_result"
    }
   ],
   "source": [
    "test_cp_trans_item.isnull().sum()"
   ]
  },
  {
   "cell_type": "code",
   "execution_count": 157,
   "metadata": {},
   "outputs": [
    {
     "name": "stdout",
     "output_type": "stream",
     "text": [
      "<class 'pandas.core.frame.DataFrame'>\n",
      "Int64Index: 78369 entries, 0 to 78368\n",
      "Data columns (total 43 columns):\n",
      " #   Column             Non-Null Count  Dtype         \n",
      "---  ------             --------------  -----         \n",
      " 0   id                 78369 non-null  int64         \n",
      " 1   campaign_id        78369 non-null  int64         \n",
      " 2   coupon_id          78369 non-null  int64         \n",
      " 3   customer_id        78369 non-null  int64         \n",
      " 4   redemption_status  78369 non-null  int64         \n",
      " 5   avg_cp_dis         78369 non-null  float64       \n",
      " 6   avg_order_qnt      78369 non-null  float64       \n",
      " 7   avg_oth_dis        78369 non-null  float64       \n",
      " 8   avg_price          78369 non-null  float64       \n",
      " 9   avg_total_dis      78369 non-null  float64       \n",
      " 10  ct_brands          78369 non-null  float64       \n",
      " 11  brand_type         78369 non-null  object        \n",
      " 12  mode_cat           78369 non-null  float64       \n",
      " 13  ct_ord             78369 non-null  float64       \n",
      " 14  cust_no            78369 non-null  float64       \n",
      " 15  ct_items           78369 non-null  int64         \n",
      " 16  sum_cp_dis         78369 non-null  float64       \n",
      " 17  sum_cp_used        78369 non-null  float64       \n",
      " 18  sum_order_qnt      78369 non-null  float64       \n",
      " 19  sum_oth_dis        78369 non-null  float64       \n",
      " 20  sum_total_dis      78369 non-null  float64       \n",
      " 21  ct_cat             78369 non-null  float64       \n",
      " 22  avg_cp_disc_cust   78369 non-null  float64       \n",
      " 23  avg_cp_use_cust    78369 non-null  float64       \n",
      " 24  ct_items_cust      78369 non-null  int64         \n",
      " 25  avg_oth_disc_cust  78369 non-null  float64       \n",
      " 26  avg_qnt_cust       78369 non-null  float64       \n",
      " 27  avg_price_cust     78369 non-null  float64       \n",
      " 28  sum_qnt_cust       78369 non-null  float64       \n",
      " 29  sum_price_cust     78369 non-null  float64       \n",
      " 30  sum_oth_disc_cust  78369 non-null  float64       \n",
      " 31  sum_cp_disc_cust   78369 non-null  float64       \n",
      " 32  no_cp_cust         78369 non-null  float64       \n",
      " 33  age_range          78369 non-null  object        \n",
      " 34  marital_status     78369 non-null  object        \n",
      " 35  rented             78369 non-null  float64       \n",
      " 36  family_size        78369 non-null  object        \n",
      " 37  no_of_children     78369 non-null  object        \n",
      " 38  income_bracket     78369 non-null  float64       \n",
      " 39  campaign_type      78369 non-null  object        \n",
      " 40  start_date         78369 non-null  datetime64[ns]\n",
      " 41  end_date           78369 non-null  datetime64[ns]\n",
      " 42  campaign_duration  78369 non-null  int64         \n",
      "dtypes: datetime64[ns](2), float64(27), int64(8), object(6)\n",
      "memory usage: 26.3+ MB\n"
     ]
    }
   ],
   "source": [
    "train_final.info()"
   ]
  },
  {
   "cell_type": "code",
   "execution_count": 158,
   "metadata": {
    "scrolled": true
   },
   "outputs": [
    {
     "data": {
      "text/plain": [
       "id                   0\n",
       "campaign_id          0\n",
       "coupon_id            0\n",
       "customer_id          0\n",
       "redemption_status    0\n",
       "avg_cp_dis           0\n",
       "avg_order_qnt        0\n",
       "avg_oth_dis          0\n",
       "avg_price            0\n",
       "avg_total_dis        0\n",
       "ct_brands            0\n",
       "brand_type           0\n",
       "mode_cat             0\n",
       "ct_ord               0\n",
       "cust_no              0\n",
       "ct_items             0\n",
       "sum_cp_dis           0\n",
       "sum_cp_used          0\n",
       "sum_order_qnt        0\n",
       "sum_oth_dis          0\n",
       "sum_total_dis        0\n",
       "ct_cat               0\n",
       "avg_cp_disc_cust     0\n",
       "avg_cp_use_cust      0\n",
       "ct_items_cust        0\n",
       "avg_oth_disc_cust    0\n",
       "avg_qnt_cust         0\n",
       "avg_price_cust       0\n",
       "sum_qnt_cust         0\n",
       "sum_price_cust       0\n",
       "sum_oth_disc_cust    0\n",
       "sum_cp_disc_cust     0\n",
       "no_cp_cust           0\n",
       "age_range            0\n",
       "marital_status       0\n",
       "rented               0\n",
       "family_size          0\n",
       "no_of_children       0\n",
       "income_bracket       0\n",
       "campaign_type        0\n",
       "start_date           0\n",
       "end_date             0\n",
       "campaign_duration    0\n",
       "dtype: int64"
      ]
     },
     "execution_count": 158,
     "metadata": {},
     "output_type": "execute_result"
    }
   ],
   "source": [
    "train_final.isnull().sum()"
   ]
  },
  {
   "cell_type": "code",
   "execution_count": 159,
   "metadata": {},
   "outputs": [],
   "source": [
    "finals={}"
   ]
  },
  {
   "cell_type": "code",
   "execution_count": 160,
   "metadata": {},
   "outputs": [],
   "source": [
    "finals['train_final']= train_final"
   ]
  },
  {
   "cell_type": "markdown",
   "metadata": {},
   "source": [
    "Creating Dummy variabels"
   ]
  },
  {
   "cell_type": "code",
   "execution_count": 161,
   "metadata": {},
   "outputs": [],
   "source": [
    "train_final = finals['train_final']"
   ]
  },
  {
   "cell_type": "code",
   "execution_count": 162,
   "metadata": {},
   "outputs": [
    {
     "data": {
      "text/plain": [
       "X    57684\n",
       "Y    20685\n",
       "Name: campaign_type, dtype: int64"
      ]
     },
     "execution_count": 162,
     "metadata": {},
     "output_type": "execute_result"
    }
   ],
   "source": [
    "train_final.campaign_type.value_counts()"
   ]
  },
  {
   "cell_type": "code",
   "execution_count": 163,
   "metadata": {
    "scrolled": true
   },
   "outputs": [
    {
     "data": {
      "text/plain": [
       "0.0     59949\n",
       "1.0     16588\n",
       "Both     1832\n",
       "Name: brand_type, dtype: int64"
      ]
     },
     "execution_count": 163,
     "metadata": {},
     "output_type": "execute_result"
    }
   ],
   "source": [
    "train_final.brand_type.value_counts()\n"
   ]
  },
  {
   "cell_type": "code",
   "execution_count": 164,
   "metadata": {},
   "outputs": [],
   "source": [
    "y= train_final.redemption_status"
   ]
  },
  {
   "cell_type": "code",
   "execution_count": 165,
   "metadata": {},
   "outputs": [
    {
     "data": {
      "text/plain": [
       "0    77640\n",
       "1      729\n",
       "Name: redemption_status, dtype: int64"
      ]
     },
     "execution_count": 165,
     "metadata": {},
     "output_type": "execute_result"
    }
   ],
   "source": [
    "y.value_counts()"
   ]
  },
  {
   "cell_type": "code",
   "execution_count": 166,
   "metadata": {},
   "outputs": [
    {
     "data": {
      "text/plain": [
       "dict_keys(['train_final'])"
      ]
     },
     "execution_count": 166,
     "metadata": {},
     "output_type": "execute_result"
    }
   ],
   "source": [
    "finals.keys()"
   ]
  },
  {
   "cell_type": "code",
   "execution_count": 167,
   "metadata": {},
   "outputs": [],
   "source": [
    "X_cols = list(set(train_final.columns)-set(['redemption_status','start_date','end_date']))\n",
    "X=train_final[X_cols]"
   ]
  },
  {
   "cell_type": "code",
   "execution_count": 168,
   "metadata": {},
   "outputs": [],
   "source": [
    "X1=X[['age_range','marital_status']]"
   ]
  },
  {
   "cell_type": "code",
   "execution_count": 169,
   "metadata": {},
   "outputs": [],
   "source": [
    "X1=pd.get_dummies(X1)"
   ]
  },
  {
   "cell_type": "code",
   "execution_count": 170,
   "metadata": {},
   "outputs": [
    {
     "data": {
      "text/plain": [
       "Index(['age_range_18-25', 'age_range_26-35', 'age_range_36-45',\n",
       "       'age_range_46-55', 'age_range_56-70', 'age_range_70+',\n",
       "       'age_range_unknown', 'marital_status_Married', 'marital_status_Single',\n",
       "       'marital_status_unknown'],\n",
       "      dtype='object')"
      ]
     },
     "execution_count": 170,
     "metadata": {},
     "output_type": "execute_result"
    }
   ],
   "source": [
    "X1.columns"
   ]
  },
  {
   "cell_type": "code",
   "execution_count": 171,
   "metadata": {},
   "outputs": [],
   "source": [
    "for col in X1.columns:\n",
    "    if 'unknown' in col:\n",
    "        X1.drop(col,axis=1,inplace=True)"
   ]
  },
  {
   "cell_type": "code",
   "execution_count": 172,
   "metadata": {},
   "outputs": [
    {
     "name": "stderr",
     "output_type": "stream",
     "text": [
      "/home/hardik/anaconda3/lib/python3.8/site-packages/pandas/core/frame.py:3990: SettingWithCopyWarning: \n",
      "A value is trying to be set on a copy of a slice from a DataFrame\n",
      "\n",
      "See the caveats in the documentation: https://pandas.pydata.org/pandas-docs/stable/user_guide/indexing.html#returning-a-view-versus-a-copy\n",
      "  return super().drop(\n"
     ]
    }
   ],
   "source": [
    "X.drop(['age_range','marital_status'], axis=1, inplace = True)"
   ]
  },
  {
   "cell_type": "code",
   "execution_count": 173,
   "metadata": {},
   "outputs": [],
   "source": [
    "X = pd.get_dummies(X, drop_first=True)"
   ]
  },
  {
   "cell_type": "code",
   "execution_count": 174,
   "metadata": {},
   "outputs": [
    {
     "data": {
      "text/html": [
       "<div>\n",
       "<style scoped>\n",
       "    .dataframe tbody tr th:only-of-type {\n",
       "        vertical-align: middle;\n",
       "    }\n",
       "\n",
       "    .dataframe tbody tr th {\n",
       "        vertical-align: top;\n",
       "    }\n",
       "\n",
       "    .dataframe thead th {\n",
       "        text-align: right;\n",
       "    }\n",
       "</style>\n",
       "<table border=\"1\" class=\"dataframe\">\n",
       "  <thead>\n",
       "    <tr style=\"text-align: right;\">\n",
       "      <th></th>\n",
       "      <th>ct_ord</th>\n",
       "      <th>campaign_id</th>\n",
       "      <th>id</th>\n",
       "      <th>avg_oth_disc_cust</th>\n",
       "      <th>customer_id</th>\n",
       "      <th>ct_cat</th>\n",
       "      <th>sum_oth_disc_cust</th>\n",
       "      <th>income_bracket</th>\n",
       "      <th>coupon_id</th>\n",
       "      <th>mode_cat</th>\n",
       "      <th>...</th>\n",
       "      <th>family_size_2</th>\n",
       "      <th>family_size_3</th>\n",
       "      <th>family_size_4</th>\n",
       "      <th>family_size_5+</th>\n",
       "      <th>brand_type_1.0</th>\n",
       "      <th>brand_type_Both</th>\n",
       "      <th>no_of_children_1</th>\n",
       "      <th>no_of_children_2</th>\n",
       "      <th>no_of_children_3+</th>\n",
       "      <th>campaign_type_Y</th>\n",
       "    </tr>\n",
       "  </thead>\n",
       "  <tbody>\n",
       "    <tr>\n",
       "      <th>0</th>\n",
       "      <td>3713.0</td>\n",
       "      <td>13</td>\n",
       "      <td>1</td>\n",
       "      <td>-33.168935</td>\n",
       "      <td>1053</td>\n",
       "      <td>1.0</td>\n",
       "      <td>-10282.37</td>\n",
       "      <td>5.0</td>\n",
       "      <td>27</td>\n",
       "      <td>6.0</td>\n",
       "      <td>...</td>\n",
       "      <td>0</td>\n",
       "      <td>0</td>\n",
       "      <td>0</td>\n",
       "      <td>0</td>\n",
       "      <td>0</td>\n",
       "      <td>0</td>\n",
       "      <td>0</td>\n",
       "      <td>0</td>\n",
       "      <td>0</td>\n",
       "      <td>0</td>\n",
       "    </tr>\n",
       "    <tr>\n",
       "      <th>1</th>\n",
       "      <td>75.0</td>\n",
       "      <td>13</td>\n",
       "      <td>2</td>\n",
       "      <td>-27.699169</td>\n",
       "      <td>48</td>\n",
       "      <td>1.0</td>\n",
       "      <td>-10664.18</td>\n",
       "      <td>3.0</td>\n",
       "      <td>116</td>\n",
       "      <td>6.0</td>\n",
       "      <td>...</td>\n",
       "      <td>1</td>\n",
       "      <td>0</td>\n",
       "      <td>0</td>\n",
       "      <td>0</td>\n",
       "      <td>1</td>\n",
       "      <td>0</td>\n",
       "      <td>0</td>\n",
       "      <td>0</td>\n",
       "      <td>0</td>\n",
       "      <td>0</td>\n",
       "    </tr>\n",
       "    <tr>\n",
       "      <th>2</th>\n",
       "      <td>142.0</td>\n",
       "      <td>9</td>\n",
       "      <td>6</td>\n",
       "      <td>-17.795660</td>\n",
       "      <td>205</td>\n",
       "      <td>1.0</td>\n",
       "      <td>-17261.79</td>\n",
       "      <td>7.0</td>\n",
       "      <td>635</td>\n",
       "      <td>11.0</td>\n",
       "      <td>...</td>\n",
       "      <td>1</td>\n",
       "      <td>0</td>\n",
       "      <td>0</td>\n",
       "      <td>0</td>\n",
       "      <td>0</td>\n",
       "      <td>0</td>\n",
       "      <td>0</td>\n",
       "      <td>0</td>\n",
       "      <td>0</td>\n",
       "      <td>1</td>\n",
       "    </tr>\n",
       "    <tr>\n",
       "      <th>3</th>\n",
       "      <td>39.0</td>\n",
       "      <td>13</td>\n",
       "      <td>7</td>\n",
       "      <td>-16.655570</td>\n",
       "      <td>1050</td>\n",
       "      <td>1.0</td>\n",
       "      <td>-3947.37</td>\n",
       "      <td>5.0</td>\n",
       "      <td>644</td>\n",
       "      <td>6.0</td>\n",
       "      <td>...</td>\n",
       "      <td>0</td>\n",
       "      <td>0</td>\n",
       "      <td>0</td>\n",
       "      <td>0</td>\n",
       "      <td>0</td>\n",
       "      <td>0</td>\n",
       "      <td>0</td>\n",
       "      <td>0</td>\n",
       "      <td>0</td>\n",
       "      <td>0</td>\n",
       "    </tr>\n",
       "    <tr>\n",
       "      <th>4</th>\n",
       "      <td>1420.0</td>\n",
       "      <td>8</td>\n",
       "      <td>9</td>\n",
       "      <td>-20.524733</td>\n",
       "      <td>1489</td>\n",
       "      <td>1.0</td>\n",
       "      <td>-11534.90</td>\n",
       "      <td>3.0</td>\n",
       "      <td>1017</td>\n",
       "      <td>6.0</td>\n",
       "      <td>...</td>\n",
       "      <td>1</td>\n",
       "      <td>0</td>\n",
       "      <td>0</td>\n",
       "      <td>0</td>\n",
       "      <td>0</td>\n",
       "      <td>0</td>\n",
       "      <td>0</td>\n",
       "      <td>0</td>\n",
       "      <td>0</td>\n",
       "      <td>0</td>\n",
       "    </tr>\n",
       "  </tbody>\n",
       "</table>\n",
       "<p>5 rows × 44 columns</p>\n",
       "</div>"
      ],
      "text/plain": [
       "   ct_ord  campaign_id  id  avg_oth_disc_cust  customer_id  ct_cat  \\\n",
       "0  3713.0           13   1         -33.168935         1053     1.0   \n",
       "1    75.0           13   2         -27.699169           48     1.0   \n",
       "2   142.0            9   6         -17.795660          205     1.0   \n",
       "3    39.0           13   7         -16.655570         1050     1.0   \n",
       "4  1420.0            8   9         -20.524733         1489     1.0   \n",
       "\n",
       "   sum_oth_disc_cust  income_bracket  coupon_id  mode_cat  ...  family_size_2  \\\n",
       "0          -10282.37             5.0         27       6.0  ...              0   \n",
       "1          -10664.18             3.0        116       6.0  ...              1   \n",
       "2          -17261.79             7.0        635      11.0  ...              1   \n",
       "3           -3947.37             5.0        644       6.0  ...              0   \n",
       "4          -11534.90             3.0       1017       6.0  ...              1   \n",
       "\n",
       "   family_size_3  family_size_4  family_size_5+  brand_type_1.0  \\\n",
       "0              0              0               0               0   \n",
       "1              0              0               0               1   \n",
       "2              0              0               0               0   \n",
       "3              0              0               0               0   \n",
       "4              0              0               0               0   \n",
       "\n",
       "   brand_type_Both  no_of_children_1  no_of_children_2  no_of_children_3+  \\\n",
       "0                0                 0                 0                  0   \n",
       "1                0                 0                 0                  0   \n",
       "2                0                 0                 0                  0   \n",
       "3                0                 0                 0                  0   \n",
       "4                0                 0                 0                  0   \n",
       "\n",
       "   campaign_type_Y  \n",
       "0                0  \n",
       "1                0  \n",
       "2                1  \n",
       "3                0  \n",
       "4                0  \n",
       "\n",
       "[5 rows x 44 columns]"
      ]
     },
     "execution_count": 174,
     "metadata": {},
     "output_type": "execute_result"
    }
   ],
   "source": [
    "X.head()"
   ]
  },
  {
   "cell_type": "code",
   "execution_count": 175,
   "metadata": {},
   "outputs": [],
   "source": [
    "X = X.join(X1)"
   ]
  },
  {
   "cell_type": "code",
   "execution_count": 176,
   "metadata": {
    "scrolled": true
   },
   "outputs": [
    {
     "data": {
      "text/html": [
       "<div>\n",
       "<style scoped>\n",
       "    .dataframe tbody tr th:only-of-type {\n",
       "        vertical-align: middle;\n",
       "    }\n",
       "\n",
       "    .dataframe tbody tr th {\n",
       "        vertical-align: top;\n",
       "    }\n",
       "\n",
       "    .dataframe thead th {\n",
       "        text-align: right;\n",
       "    }\n",
       "</style>\n",
       "<table border=\"1\" class=\"dataframe\">\n",
       "  <thead>\n",
       "    <tr style=\"text-align: right;\">\n",
       "      <th></th>\n",
       "      <th>ct_ord</th>\n",
       "      <th>campaign_id</th>\n",
       "      <th>id</th>\n",
       "      <th>avg_oth_disc_cust</th>\n",
       "      <th>customer_id</th>\n",
       "      <th>ct_cat</th>\n",
       "      <th>sum_oth_disc_cust</th>\n",
       "      <th>income_bracket</th>\n",
       "      <th>coupon_id</th>\n",
       "      <th>mode_cat</th>\n",
       "      <th>...</th>\n",
       "      <th>no_of_children_3+</th>\n",
       "      <th>campaign_type_Y</th>\n",
       "      <th>age_range_18-25</th>\n",
       "      <th>age_range_26-35</th>\n",
       "      <th>age_range_36-45</th>\n",
       "      <th>age_range_46-55</th>\n",
       "      <th>age_range_56-70</th>\n",
       "      <th>age_range_70+</th>\n",
       "      <th>marital_status_Married</th>\n",
       "      <th>marital_status_Single</th>\n",
       "    </tr>\n",
       "  </thead>\n",
       "  <tbody>\n",
       "    <tr>\n",
       "      <th>0</th>\n",
       "      <td>3713.0</td>\n",
       "      <td>13</td>\n",
       "      <td>1</td>\n",
       "      <td>-33.168935</td>\n",
       "      <td>1053</td>\n",
       "      <td>1.0</td>\n",
       "      <td>-10282.37</td>\n",
       "      <td>5.0</td>\n",
       "      <td>27</td>\n",
       "      <td>6.0</td>\n",
       "      <td>...</td>\n",
       "      <td>0</td>\n",
       "      <td>0</td>\n",
       "      <td>0</td>\n",
       "      <td>0</td>\n",
       "      <td>0</td>\n",
       "      <td>1</td>\n",
       "      <td>0</td>\n",
       "      <td>0</td>\n",
       "      <td>0</td>\n",
       "      <td>0</td>\n",
       "    </tr>\n",
       "    <tr>\n",
       "      <th>1</th>\n",
       "      <td>75.0</td>\n",
       "      <td>13</td>\n",
       "      <td>2</td>\n",
       "      <td>-27.699169</td>\n",
       "      <td>48</td>\n",
       "      <td>1.0</td>\n",
       "      <td>-10664.18</td>\n",
       "      <td>3.0</td>\n",
       "      <td>116</td>\n",
       "      <td>6.0</td>\n",
       "      <td>...</td>\n",
       "      <td>0</td>\n",
       "      <td>0</td>\n",
       "      <td>0</td>\n",
       "      <td>0</td>\n",
       "      <td>1</td>\n",
       "      <td>0</td>\n",
       "      <td>0</td>\n",
       "      <td>0</td>\n",
       "      <td>1</td>\n",
       "      <td>0</td>\n",
       "    </tr>\n",
       "    <tr>\n",
       "      <th>2</th>\n",
       "      <td>142.0</td>\n",
       "      <td>9</td>\n",
       "      <td>6</td>\n",
       "      <td>-17.795660</td>\n",
       "      <td>205</td>\n",
       "      <td>1.0</td>\n",
       "      <td>-17261.79</td>\n",
       "      <td>7.0</td>\n",
       "      <td>635</td>\n",
       "      <td>11.0</td>\n",
       "      <td>...</td>\n",
       "      <td>0</td>\n",
       "      <td>1</td>\n",
       "      <td>0</td>\n",
       "      <td>0</td>\n",
       "      <td>0</td>\n",
       "      <td>1</td>\n",
       "      <td>0</td>\n",
       "      <td>0</td>\n",
       "      <td>1</td>\n",
       "      <td>0</td>\n",
       "    </tr>\n",
       "    <tr>\n",
       "      <th>3</th>\n",
       "      <td>39.0</td>\n",
       "      <td>13</td>\n",
       "      <td>7</td>\n",
       "      <td>-16.655570</td>\n",
       "      <td>1050</td>\n",
       "      <td>1.0</td>\n",
       "      <td>-3947.37</td>\n",
       "      <td>5.0</td>\n",
       "      <td>644</td>\n",
       "      <td>6.0</td>\n",
       "      <td>...</td>\n",
       "      <td>0</td>\n",
       "      <td>0</td>\n",
       "      <td>0</td>\n",
       "      <td>0</td>\n",
       "      <td>0</td>\n",
       "      <td>0</td>\n",
       "      <td>0</td>\n",
       "      <td>0</td>\n",
       "      <td>0</td>\n",
       "      <td>0</td>\n",
       "    </tr>\n",
       "    <tr>\n",
       "      <th>4</th>\n",
       "      <td>1420.0</td>\n",
       "      <td>8</td>\n",
       "      <td>9</td>\n",
       "      <td>-20.524733</td>\n",
       "      <td>1489</td>\n",
       "      <td>1.0</td>\n",
       "      <td>-11534.90</td>\n",
       "      <td>3.0</td>\n",
       "      <td>1017</td>\n",
       "      <td>6.0</td>\n",
       "      <td>...</td>\n",
       "      <td>0</td>\n",
       "      <td>0</td>\n",
       "      <td>0</td>\n",
       "      <td>0</td>\n",
       "      <td>0</td>\n",
       "      <td>1</td>\n",
       "      <td>0</td>\n",
       "      <td>0</td>\n",
       "      <td>1</td>\n",
       "      <td>0</td>\n",
       "    </tr>\n",
       "    <tr>\n",
       "      <th>...</th>\n",
       "      <td>...</td>\n",
       "      <td>...</td>\n",
       "      <td>...</td>\n",
       "      <td>...</td>\n",
       "      <td>...</td>\n",
       "      <td>...</td>\n",
       "      <td>...</td>\n",
       "      <td>...</td>\n",
       "      <td>...</td>\n",
       "      <td>...</td>\n",
       "      <td>...</td>\n",
       "      <td>...</td>\n",
       "      <td>...</td>\n",
       "      <td>...</td>\n",
       "      <td>...</td>\n",
       "      <td>...</td>\n",
       "      <td>...</td>\n",
       "      <td>...</td>\n",
       "      <td>...</td>\n",
       "      <td>...</td>\n",
       "      <td>...</td>\n",
       "    </tr>\n",
       "    <tr>\n",
       "      <th>78364</th>\n",
       "      <td>332.0</td>\n",
       "      <td>8</td>\n",
       "      <td>128587</td>\n",
       "      <td>-9.061342</td>\n",
       "      <td>1523</td>\n",
       "      <td>1.0</td>\n",
       "      <td>-4186.34</td>\n",
       "      <td>1.0</td>\n",
       "      <td>71</td>\n",
       "      <td>6.0</td>\n",
       "      <td>...</td>\n",
       "      <td>0</td>\n",
       "      <td>0</td>\n",
       "      <td>0</td>\n",
       "      <td>0</td>\n",
       "      <td>0</td>\n",
       "      <td>0</td>\n",
       "      <td>0</td>\n",
       "      <td>1</td>\n",
       "      <td>1</td>\n",
       "      <td>0</td>\n",
       "    </tr>\n",
       "    <tr>\n",
       "      <th>78365</th>\n",
       "      <td>530.0</td>\n",
       "      <td>30</td>\n",
       "      <td>128589</td>\n",
       "      <td>-15.687977</td>\n",
       "      <td>937</td>\n",
       "      <td>1.0</td>\n",
       "      <td>-4031.81</td>\n",
       "      <td>2.0</td>\n",
       "      <td>547</td>\n",
       "      <td>6.0</td>\n",
       "      <td>...</td>\n",
       "      <td>0</td>\n",
       "      <td>0</td>\n",
       "      <td>0</td>\n",
       "      <td>0</td>\n",
       "      <td>0</td>\n",
       "      <td>0</td>\n",
       "      <td>0</td>\n",
       "      <td>1</td>\n",
       "      <td>1</td>\n",
       "      <td>0</td>\n",
       "    </tr>\n",
       "    <tr>\n",
       "      <th>78366</th>\n",
       "      <td>1893.0</td>\n",
       "      <td>8</td>\n",
       "      <td>128590</td>\n",
       "      <td>-14.717879</td>\n",
       "      <td>1004</td>\n",
       "      <td>1.0</td>\n",
       "      <td>-26712.95</td>\n",
       "      <td>5.0</td>\n",
       "      <td>754</td>\n",
       "      <td>6.0</td>\n",
       "      <td>...</td>\n",
       "      <td>0</td>\n",
       "      <td>0</td>\n",
       "      <td>0</td>\n",
       "      <td>0</td>\n",
       "      <td>0</td>\n",
       "      <td>0</td>\n",
       "      <td>0</td>\n",
       "      <td>0</td>\n",
       "      <td>0</td>\n",
       "      <td>0</td>\n",
       "    </tr>\n",
       "    <tr>\n",
       "      <th>78367</th>\n",
       "      <td>436.0</td>\n",
       "      <td>13</td>\n",
       "      <td>128592</td>\n",
       "      <td>-22.625650</td>\n",
       "      <td>71</td>\n",
       "      <td>1.0</td>\n",
       "      <td>-21222.86</td>\n",
       "      <td>4.0</td>\n",
       "      <td>134</td>\n",
       "      <td>6.0</td>\n",
       "      <td>...</td>\n",
       "      <td>1</td>\n",
       "      <td>0</td>\n",
       "      <td>0</td>\n",
       "      <td>0</td>\n",
       "      <td>1</td>\n",
       "      <td>0</td>\n",
       "      <td>0</td>\n",
       "      <td>0</td>\n",
       "      <td>1</td>\n",
       "      <td>0</td>\n",
       "    </tr>\n",
       "    <tr>\n",
       "      <th>78368</th>\n",
       "      <td>883.0</td>\n",
       "      <td>13</td>\n",
       "      <td>128595</td>\n",
       "      <td>-15.796966</td>\n",
       "      <td>623</td>\n",
       "      <td>1.0</td>\n",
       "      <td>-11247.44</td>\n",
       "      <td>5.0</td>\n",
       "      <td>681</td>\n",
       "      <td>6.0</td>\n",
       "      <td>...</td>\n",
       "      <td>0</td>\n",
       "      <td>0</td>\n",
       "      <td>0</td>\n",
       "      <td>0</td>\n",
       "      <td>0</td>\n",
       "      <td>0</td>\n",
       "      <td>0</td>\n",
       "      <td>0</td>\n",
       "      <td>0</td>\n",
       "      <td>0</td>\n",
       "    </tr>\n",
       "  </tbody>\n",
       "</table>\n",
       "<p>78369 rows × 52 columns</p>\n",
       "</div>"
      ],
      "text/plain": [
       "       ct_ord  campaign_id      id  avg_oth_disc_cust  customer_id  ct_cat  \\\n",
       "0      3713.0           13       1         -33.168935         1053     1.0   \n",
       "1        75.0           13       2         -27.699169           48     1.0   \n",
       "2       142.0            9       6         -17.795660          205     1.0   \n",
       "3        39.0           13       7         -16.655570         1050     1.0   \n",
       "4      1420.0            8       9         -20.524733         1489     1.0   \n",
       "...       ...          ...     ...                ...          ...     ...   \n",
       "78364   332.0            8  128587          -9.061342         1523     1.0   \n",
       "78365   530.0           30  128589         -15.687977          937     1.0   \n",
       "78366  1893.0            8  128590         -14.717879         1004     1.0   \n",
       "78367   436.0           13  128592         -22.625650           71     1.0   \n",
       "78368   883.0           13  128595         -15.796966          623     1.0   \n",
       "\n",
       "       sum_oth_disc_cust  income_bracket  coupon_id  mode_cat  ...  \\\n",
       "0              -10282.37             5.0         27       6.0  ...   \n",
       "1              -10664.18             3.0        116       6.0  ...   \n",
       "2              -17261.79             7.0        635      11.0  ...   \n",
       "3               -3947.37             5.0        644       6.0  ...   \n",
       "4              -11534.90             3.0       1017       6.0  ...   \n",
       "...                  ...             ...        ...       ...  ...   \n",
       "78364           -4186.34             1.0         71       6.0  ...   \n",
       "78365           -4031.81             2.0        547       6.0  ...   \n",
       "78366          -26712.95             5.0        754       6.0  ...   \n",
       "78367          -21222.86             4.0        134       6.0  ...   \n",
       "78368          -11247.44             5.0        681       6.0  ...   \n",
       "\n",
       "       no_of_children_3+  campaign_type_Y  age_range_18-25  age_range_26-35  \\\n",
       "0                      0                0                0                0   \n",
       "1                      0                0                0                0   \n",
       "2                      0                1                0                0   \n",
       "3                      0                0                0                0   \n",
       "4                      0                0                0                0   \n",
       "...                  ...              ...              ...              ...   \n",
       "78364                  0                0                0                0   \n",
       "78365                  0                0                0                0   \n",
       "78366                  0                0                0                0   \n",
       "78367                  1                0                0                0   \n",
       "78368                  0                0                0                0   \n",
       "\n",
       "       age_range_36-45  age_range_46-55  age_range_56-70  age_range_70+  \\\n",
       "0                    0                1                0              0   \n",
       "1                    1                0                0              0   \n",
       "2                    0                1                0              0   \n",
       "3                    0                0                0              0   \n",
       "4                    0                1                0              0   \n",
       "...                ...              ...              ...            ...   \n",
       "78364                0                0                0              1   \n",
       "78365                0                0                0              1   \n",
       "78366                0                0                0              0   \n",
       "78367                1                0                0              0   \n",
       "78368                0                0                0              0   \n",
       "\n",
       "       marital_status_Married  marital_status_Single  \n",
       "0                           0                      0  \n",
       "1                           1                      0  \n",
       "2                           1                      0  \n",
       "3                           0                      0  \n",
       "4                           1                      0  \n",
       "...                       ...                    ...  \n",
       "78364                       1                      0  \n",
       "78365                       1                      0  \n",
       "78366                       0                      0  \n",
       "78367                       1                      0  \n",
       "78368                       0                      0  \n",
       "\n",
       "[78369 rows x 52 columns]"
      ]
     },
     "execution_count": 176,
     "metadata": {},
     "output_type": "execute_result"
    }
   ],
   "source": [
    "X"
   ]
  },
  {
   "cell_type": "code",
   "execution_count": 177,
   "metadata": {
    "scrolled": true
   },
   "outputs": [
    {
     "name": "stdout",
     "output_type": "stream",
     "text": [
      "<class 'pandas.core.frame.DataFrame'>\n",
      "Int64Index: 78369 entries, 0 to 78368\n",
      "Data columns (total 52 columns):\n",
      " #   Column                  Non-Null Count  Dtype  \n",
      "---  ------                  --------------  -----  \n",
      " 0   ct_ord                  78369 non-null  float64\n",
      " 1   campaign_id             78369 non-null  int64  \n",
      " 2   id                      78369 non-null  int64  \n",
      " 3   avg_oth_disc_cust       78369 non-null  float64\n",
      " 4   customer_id             78369 non-null  int64  \n",
      " 5   ct_cat                  78369 non-null  float64\n",
      " 6   sum_oth_disc_cust       78369 non-null  float64\n",
      " 7   income_bracket          78369 non-null  float64\n",
      " 8   coupon_id               78369 non-null  int64  \n",
      " 9   mode_cat                78369 non-null  float64\n",
      " 10  sum_total_dis           78369 non-null  float64\n",
      " 11  avg_qnt_cust            78369 non-null  float64\n",
      " 12  campaign_duration       78369 non-null  int64  \n",
      " 13  sum_qnt_cust            78369 non-null  float64\n",
      " 14  cust_no                 78369 non-null  float64\n",
      " 15  sum_cp_disc_cust        78369 non-null  float64\n",
      " 16  sum_oth_dis             78369 non-null  float64\n",
      " 17  ct_items                78369 non-null  int64  \n",
      " 18  sum_price_cust          78369 non-null  float64\n",
      " 19  rented                  78369 non-null  float64\n",
      " 20  ct_brands               78369 non-null  float64\n",
      " 21  no_cp_cust              78369 non-null  float64\n",
      " 22  sum_cp_used             78369 non-null  float64\n",
      " 23  ct_items_cust           78369 non-null  int64  \n",
      " 24  avg_cp_disc_cust        78369 non-null  float64\n",
      " 25  sum_cp_dis              78369 non-null  float64\n",
      " 26  avg_order_qnt           78369 non-null  float64\n",
      " 27  avg_total_dis           78369 non-null  float64\n",
      " 28  sum_order_qnt           78369 non-null  float64\n",
      " 29  avg_cp_use_cust         78369 non-null  float64\n",
      " 30  avg_cp_dis              78369 non-null  float64\n",
      " 31  avg_price               78369 non-null  float64\n",
      " 32  avg_oth_dis             78369 non-null  float64\n",
      " 33  avg_price_cust          78369 non-null  float64\n",
      " 34  family_size_2           78369 non-null  uint8  \n",
      " 35  family_size_3           78369 non-null  uint8  \n",
      " 36  family_size_4           78369 non-null  uint8  \n",
      " 37  family_size_5+          78369 non-null  uint8  \n",
      " 38  brand_type_1.0          78369 non-null  uint8  \n",
      " 39  brand_type_Both         78369 non-null  uint8  \n",
      " 40  no_of_children_1        78369 non-null  uint8  \n",
      " 41  no_of_children_2        78369 non-null  uint8  \n",
      " 42  no_of_children_3+       78369 non-null  uint8  \n",
      " 43  campaign_type_Y         78369 non-null  uint8  \n",
      " 44  age_range_18-25         78369 non-null  uint8  \n",
      " 45  age_range_26-35         78369 non-null  uint8  \n",
      " 46  age_range_36-45         78369 non-null  uint8  \n",
      " 47  age_range_46-55         78369 non-null  uint8  \n",
      " 48  age_range_56-70         78369 non-null  uint8  \n",
      " 49  age_range_70+           78369 non-null  uint8  \n",
      " 50  marital_status_Married  78369 non-null  uint8  \n",
      " 51  marital_status_Single   78369 non-null  uint8  \n",
      "dtypes: float64(27), int64(7), uint8(18)\n",
      "memory usage: 24.8 MB\n"
     ]
    }
   ],
   "source": [
    "X.info()"
   ]
  },
  {
   "cell_type": "code",
   "execution_count": 178,
   "metadata": {},
   "outputs": [],
   "source": [
    "finals['X'] = X"
   ]
  },
  {
   "cell_type": "code",
   "execution_count": 179,
   "metadata": {},
   "outputs": [],
   "source": [
    "finals['y'] = y"
   ]
  },
  {
   "cell_type": "code",
   "execution_count": 180,
   "metadata": {},
   "outputs": [
    {
     "data": {
      "text/html": [
       "<div>\n",
       "<style scoped>\n",
       "    .dataframe tbody tr th:only-of-type {\n",
       "        vertical-align: middle;\n",
       "    }\n",
       "\n",
       "    .dataframe tbody tr th {\n",
       "        vertical-align: top;\n",
       "    }\n",
       "\n",
       "    .dataframe thead th {\n",
       "        text-align: right;\n",
       "    }\n",
       "</style>\n",
       "<table border=\"1\" class=\"dataframe\">\n",
       "  <thead>\n",
       "    <tr style=\"text-align: right;\">\n",
       "      <th></th>\n",
       "      <th>ct_ord</th>\n",
       "      <th>campaign_id</th>\n",
       "      <th>id</th>\n",
       "      <th>avg_oth_disc_cust</th>\n",
       "      <th>customer_id</th>\n",
       "      <th>ct_cat</th>\n",
       "      <th>sum_oth_disc_cust</th>\n",
       "      <th>income_bracket</th>\n",
       "      <th>coupon_id</th>\n",
       "      <th>mode_cat</th>\n",
       "      <th>...</th>\n",
       "      <th>no_of_children_3+</th>\n",
       "      <th>campaign_type_Y</th>\n",
       "      <th>age_range_18-25</th>\n",
       "      <th>age_range_26-35</th>\n",
       "      <th>age_range_36-45</th>\n",
       "      <th>age_range_46-55</th>\n",
       "      <th>age_range_56-70</th>\n",
       "      <th>age_range_70+</th>\n",
       "      <th>marital_status_Married</th>\n",
       "      <th>marital_status_Single</th>\n",
       "    </tr>\n",
       "  </thead>\n",
       "  <tbody>\n",
       "    <tr>\n",
       "      <th>0</th>\n",
       "      <td>3713.0</td>\n",
       "      <td>13</td>\n",
       "      <td>1</td>\n",
       "      <td>-33.168935</td>\n",
       "      <td>1053</td>\n",
       "      <td>1.0</td>\n",
       "      <td>-10282.37</td>\n",
       "      <td>5.0</td>\n",
       "      <td>27</td>\n",
       "      <td>6.0</td>\n",
       "      <td>...</td>\n",
       "      <td>0</td>\n",
       "      <td>0</td>\n",
       "      <td>0</td>\n",
       "      <td>0</td>\n",
       "      <td>0</td>\n",
       "      <td>1</td>\n",
       "      <td>0</td>\n",
       "      <td>0</td>\n",
       "      <td>0</td>\n",
       "      <td>0</td>\n",
       "    </tr>\n",
       "    <tr>\n",
       "      <th>1</th>\n",
       "      <td>75.0</td>\n",
       "      <td>13</td>\n",
       "      <td>2</td>\n",
       "      <td>-27.699169</td>\n",
       "      <td>48</td>\n",
       "      <td>1.0</td>\n",
       "      <td>-10664.18</td>\n",
       "      <td>3.0</td>\n",
       "      <td>116</td>\n",
       "      <td>6.0</td>\n",
       "      <td>...</td>\n",
       "      <td>0</td>\n",
       "      <td>0</td>\n",
       "      <td>0</td>\n",
       "      <td>0</td>\n",
       "      <td>1</td>\n",
       "      <td>0</td>\n",
       "      <td>0</td>\n",
       "      <td>0</td>\n",
       "      <td>1</td>\n",
       "      <td>0</td>\n",
       "    </tr>\n",
       "    <tr>\n",
       "      <th>2</th>\n",
       "      <td>142.0</td>\n",
       "      <td>9</td>\n",
       "      <td>6</td>\n",
       "      <td>-17.795660</td>\n",
       "      <td>205</td>\n",
       "      <td>1.0</td>\n",
       "      <td>-17261.79</td>\n",
       "      <td>7.0</td>\n",
       "      <td>635</td>\n",
       "      <td>11.0</td>\n",
       "      <td>...</td>\n",
       "      <td>0</td>\n",
       "      <td>1</td>\n",
       "      <td>0</td>\n",
       "      <td>0</td>\n",
       "      <td>0</td>\n",
       "      <td>1</td>\n",
       "      <td>0</td>\n",
       "      <td>0</td>\n",
       "      <td>1</td>\n",
       "      <td>0</td>\n",
       "    </tr>\n",
       "    <tr>\n",
       "      <th>3</th>\n",
       "      <td>39.0</td>\n",
       "      <td>13</td>\n",
       "      <td>7</td>\n",
       "      <td>-16.655570</td>\n",
       "      <td>1050</td>\n",
       "      <td>1.0</td>\n",
       "      <td>-3947.37</td>\n",
       "      <td>5.0</td>\n",
       "      <td>644</td>\n",
       "      <td>6.0</td>\n",
       "      <td>...</td>\n",
       "      <td>0</td>\n",
       "      <td>0</td>\n",
       "      <td>0</td>\n",
       "      <td>0</td>\n",
       "      <td>0</td>\n",
       "      <td>0</td>\n",
       "      <td>0</td>\n",
       "      <td>0</td>\n",
       "      <td>0</td>\n",
       "      <td>0</td>\n",
       "    </tr>\n",
       "    <tr>\n",
       "      <th>4</th>\n",
       "      <td>1420.0</td>\n",
       "      <td>8</td>\n",
       "      <td>9</td>\n",
       "      <td>-20.524733</td>\n",
       "      <td>1489</td>\n",
       "      <td>1.0</td>\n",
       "      <td>-11534.90</td>\n",
       "      <td>3.0</td>\n",
       "      <td>1017</td>\n",
       "      <td>6.0</td>\n",
       "      <td>...</td>\n",
       "      <td>0</td>\n",
       "      <td>0</td>\n",
       "      <td>0</td>\n",
       "      <td>0</td>\n",
       "      <td>0</td>\n",
       "      <td>1</td>\n",
       "      <td>0</td>\n",
       "      <td>0</td>\n",
       "      <td>1</td>\n",
       "      <td>0</td>\n",
       "    </tr>\n",
       "    <tr>\n",
       "      <th>...</th>\n",
       "      <td>...</td>\n",
       "      <td>...</td>\n",
       "      <td>...</td>\n",
       "      <td>...</td>\n",
       "      <td>...</td>\n",
       "      <td>...</td>\n",
       "      <td>...</td>\n",
       "      <td>...</td>\n",
       "      <td>...</td>\n",
       "      <td>...</td>\n",
       "      <td>...</td>\n",
       "      <td>...</td>\n",
       "      <td>...</td>\n",
       "      <td>...</td>\n",
       "      <td>...</td>\n",
       "      <td>...</td>\n",
       "      <td>...</td>\n",
       "      <td>...</td>\n",
       "      <td>...</td>\n",
       "      <td>...</td>\n",
       "      <td>...</td>\n",
       "    </tr>\n",
       "    <tr>\n",
       "      <th>78364</th>\n",
       "      <td>332.0</td>\n",
       "      <td>8</td>\n",
       "      <td>128587</td>\n",
       "      <td>-9.061342</td>\n",
       "      <td>1523</td>\n",
       "      <td>1.0</td>\n",
       "      <td>-4186.34</td>\n",
       "      <td>1.0</td>\n",
       "      <td>71</td>\n",
       "      <td>6.0</td>\n",
       "      <td>...</td>\n",
       "      <td>0</td>\n",
       "      <td>0</td>\n",
       "      <td>0</td>\n",
       "      <td>0</td>\n",
       "      <td>0</td>\n",
       "      <td>0</td>\n",
       "      <td>0</td>\n",
       "      <td>1</td>\n",
       "      <td>1</td>\n",
       "      <td>0</td>\n",
       "    </tr>\n",
       "    <tr>\n",
       "      <th>78365</th>\n",
       "      <td>530.0</td>\n",
       "      <td>30</td>\n",
       "      <td>128589</td>\n",
       "      <td>-15.687977</td>\n",
       "      <td>937</td>\n",
       "      <td>1.0</td>\n",
       "      <td>-4031.81</td>\n",
       "      <td>2.0</td>\n",
       "      <td>547</td>\n",
       "      <td>6.0</td>\n",
       "      <td>...</td>\n",
       "      <td>0</td>\n",
       "      <td>0</td>\n",
       "      <td>0</td>\n",
       "      <td>0</td>\n",
       "      <td>0</td>\n",
       "      <td>0</td>\n",
       "      <td>0</td>\n",
       "      <td>1</td>\n",
       "      <td>1</td>\n",
       "      <td>0</td>\n",
       "    </tr>\n",
       "    <tr>\n",
       "      <th>78366</th>\n",
       "      <td>1893.0</td>\n",
       "      <td>8</td>\n",
       "      <td>128590</td>\n",
       "      <td>-14.717879</td>\n",
       "      <td>1004</td>\n",
       "      <td>1.0</td>\n",
       "      <td>-26712.95</td>\n",
       "      <td>5.0</td>\n",
       "      <td>754</td>\n",
       "      <td>6.0</td>\n",
       "      <td>...</td>\n",
       "      <td>0</td>\n",
       "      <td>0</td>\n",
       "      <td>0</td>\n",
       "      <td>0</td>\n",
       "      <td>0</td>\n",
       "      <td>0</td>\n",
       "      <td>0</td>\n",
       "      <td>0</td>\n",
       "      <td>0</td>\n",
       "      <td>0</td>\n",
       "    </tr>\n",
       "    <tr>\n",
       "      <th>78367</th>\n",
       "      <td>436.0</td>\n",
       "      <td>13</td>\n",
       "      <td>128592</td>\n",
       "      <td>-22.625650</td>\n",
       "      <td>71</td>\n",
       "      <td>1.0</td>\n",
       "      <td>-21222.86</td>\n",
       "      <td>4.0</td>\n",
       "      <td>134</td>\n",
       "      <td>6.0</td>\n",
       "      <td>...</td>\n",
       "      <td>1</td>\n",
       "      <td>0</td>\n",
       "      <td>0</td>\n",
       "      <td>0</td>\n",
       "      <td>1</td>\n",
       "      <td>0</td>\n",
       "      <td>0</td>\n",
       "      <td>0</td>\n",
       "      <td>1</td>\n",
       "      <td>0</td>\n",
       "    </tr>\n",
       "    <tr>\n",
       "      <th>78368</th>\n",
       "      <td>883.0</td>\n",
       "      <td>13</td>\n",
       "      <td>128595</td>\n",
       "      <td>-15.796966</td>\n",
       "      <td>623</td>\n",
       "      <td>1.0</td>\n",
       "      <td>-11247.44</td>\n",
       "      <td>5.0</td>\n",
       "      <td>681</td>\n",
       "      <td>6.0</td>\n",
       "      <td>...</td>\n",
       "      <td>0</td>\n",
       "      <td>0</td>\n",
       "      <td>0</td>\n",
       "      <td>0</td>\n",
       "      <td>0</td>\n",
       "      <td>0</td>\n",
       "      <td>0</td>\n",
       "      <td>0</td>\n",
       "      <td>0</td>\n",
       "      <td>0</td>\n",
       "    </tr>\n",
       "  </tbody>\n",
       "</table>\n",
       "<p>78369 rows × 52 columns</p>\n",
       "</div>"
      ],
      "text/plain": [
       "       ct_ord  campaign_id      id  avg_oth_disc_cust  customer_id  ct_cat  \\\n",
       "0      3713.0           13       1         -33.168935         1053     1.0   \n",
       "1        75.0           13       2         -27.699169           48     1.0   \n",
       "2       142.0            9       6         -17.795660          205     1.0   \n",
       "3        39.0           13       7         -16.655570         1050     1.0   \n",
       "4      1420.0            8       9         -20.524733         1489     1.0   \n",
       "...       ...          ...     ...                ...          ...     ...   \n",
       "78364   332.0            8  128587          -9.061342         1523     1.0   \n",
       "78365   530.0           30  128589         -15.687977          937     1.0   \n",
       "78366  1893.0            8  128590         -14.717879         1004     1.0   \n",
       "78367   436.0           13  128592         -22.625650           71     1.0   \n",
       "78368   883.0           13  128595         -15.796966          623     1.0   \n",
       "\n",
       "       sum_oth_disc_cust  income_bracket  coupon_id  mode_cat  ...  \\\n",
       "0              -10282.37             5.0         27       6.0  ...   \n",
       "1              -10664.18             3.0        116       6.0  ...   \n",
       "2              -17261.79             7.0        635      11.0  ...   \n",
       "3               -3947.37             5.0        644       6.0  ...   \n",
       "4              -11534.90             3.0       1017       6.0  ...   \n",
       "...                  ...             ...        ...       ...  ...   \n",
       "78364           -4186.34             1.0         71       6.0  ...   \n",
       "78365           -4031.81             2.0        547       6.0  ...   \n",
       "78366          -26712.95             5.0        754       6.0  ...   \n",
       "78367          -21222.86             4.0        134       6.0  ...   \n",
       "78368          -11247.44             5.0        681       6.0  ...   \n",
       "\n",
       "       no_of_children_3+  campaign_type_Y  age_range_18-25  age_range_26-35  \\\n",
       "0                      0                0                0                0   \n",
       "1                      0                0                0                0   \n",
       "2                      0                1                0                0   \n",
       "3                      0                0                0                0   \n",
       "4                      0                0                0                0   \n",
       "...                  ...              ...              ...              ...   \n",
       "78364                  0                0                0                0   \n",
       "78365                  0                0                0                0   \n",
       "78366                  0                0                0                0   \n",
       "78367                  1                0                0                0   \n",
       "78368                  0                0                0                0   \n",
       "\n",
       "       age_range_36-45  age_range_46-55  age_range_56-70  age_range_70+  \\\n",
       "0                    0                1                0              0   \n",
       "1                    1                0                0              0   \n",
       "2                    0                1                0              0   \n",
       "3                    0                0                0              0   \n",
       "4                    0                1                0              0   \n",
       "...                ...              ...              ...            ...   \n",
       "78364                0                0                0              1   \n",
       "78365                0                0                0              1   \n",
       "78366                0                0                0              0   \n",
       "78367                1                0                0              0   \n",
       "78368                0                0                0              0   \n",
       "\n",
       "       marital_status_Married  marital_status_Single  \n",
       "0                           0                      0  \n",
       "1                           1                      0  \n",
       "2                           1                      0  \n",
       "3                           0                      0  \n",
       "4                           1                      0  \n",
       "...                       ...                    ...  \n",
       "78364                       1                      0  \n",
       "78365                       1                      0  \n",
       "78366                       0                      0  \n",
       "78367                       1                      0  \n",
       "78368                       0                      0  \n",
       "\n",
       "[78369 rows x 52 columns]"
      ]
     },
     "execution_count": 180,
     "metadata": {},
     "output_type": "execute_result"
    }
   ],
   "source": [
    "X"
   ]
  },
  {
   "cell_type": "code",
   "execution_count": 181,
   "metadata": {},
   "outputs": [
    {
     "data": {
      "text/plain": [
       "0        0\n",
       "1        0\n",
       "2        0\n",
       "3        0\n",
       "4        0\n",
       "        ..\n",
       "78364    0\n",
       "78365    0\n",
       "78366    0\n",
       "78367    0\n",
       "78368    0\n",
       "Name: redemption_status, Length: 78369, dtype: int64"
      ]
     },
     "execution_count": 181,
     "metadata": {},
     "output_type": "execute_result"
    }
   ],
   "source": [
    "y"
   ]
  },
  {
   "cell_type": "code",
   "execution_count": 182,
   "metadata": {},
   "outputs": [
    {
     "data": {
      "text/plain": [
       "0    77640\n",
       "1      729\n",
       "Name: redemption_status, dtype: int64"
      ]
     },
     "execution_count": 182,
     "metadata": {},
     "output_type": "execute_result"
    }
   ],
   "source": [
    "y.value_counts()"
   ]
  },
  {
   "cell_type": "markdown",
   "metadata": {},
   "source": [
    "# Training And Testing of Data"
   ]
  },
  {
   "cell_type": "markdown",
   "metadata": {},
   "source": [
    "training set—a subset to train a model.\n"
   ]
  },
  {
   "cell_type": "markdown",
   "metadata": {},
   "source": [
    "test set—a subset to test the trained model."
   ]
  },
  {
   "cell_type": "code",
   "execution_count": 183,
   "metadata": {
    "scrolled": false
   },
   "outputs": [
    {
     "name": "stdout",
     "output_type": "stream",
     "text": [
      "Number  X_train dataset:  (54858, 52)\n",
      "Number  y_train dataset:  (54858,)\n",
      "Number  X_test dataset:  (23511, 52)\n",
      "Number  y_test dataset:  (23511,)\n"
     ]
    }
   ],
   "source": [
    "from sklearn.model_selection import train_test_split \n",
    "  \n",
    "# split into 70:30 ration \n",
    "X_train, X_test, y_train, y_test = train_test_split(X, y, test_size = 0.3, random_state = 0) \n",
    "  \n",
    "# describes info about train and test set \n",
    "print(\"Number  X_train dataset: \", X_train.shape) \n",
    "print(\"Number  y_train dataset: \", y_train.shape) \n",
    "print(\"Number  X_test dataset: \", X_test.shape) \n",
    "print(\"Number  y_test dataset: \", y_test.shape)"
   ]
  },
  {
   "cell_type": "code",
   "execution_count": 184,
   "metadata": {
    "scrolled": true
   },
   "outputs": [
    {
     "name": "stdout",
     "output_type": "stream",
     "text": [
      "Confusion Matrix :\n",
      "[[23301     3]\n",
      " [  206     1]]\n",
      "Accuracy Score : 0.9911105440006805\n",
      "Report : \n",
      "              precision    recall  f1-score   support\n",
      "\n",
      "           0       0.99      1.00      1.00     23304\n",
      "           1       0.25      0.00      0.01       207\n",
      "\n",
      "    accuracy                           0.99     23511\n",
      "   macro avg       0.62      0.50      0.50     23511\n",
      "weighted avg       0.98      0.99      0.99     23511\n",
      "\n"
     ]
    },
    {
     "name": "stderr",
     "output_type": "stream",
     "text": [
      "/home/hardik/anaconda3/lib/python3.8/site-packages/sklearn/linear_model/_logistic.py:762: ConvergenceWarning: lbfgs failed to converge (status=1):\n",
      "STOP: TOTAL NO. of f AND g EVALUATIONS EXCEEDS LIMIT.\n",
      "\n",
      "Increase the number of iterations (max_iter) or scale the data as shown in:\n",
      "    https://scikit-learn.org/stable/modules/preprocessing.html\n",
      "Please also refer to the documentation for alternative solver options:\n",
      "    https://scikit-learn.org/stable/modules/linear_model.html#logistic-regression\n",
      "  n_iter_i = _check_optimize_result(\n"
     ]
    }
   ],
   "source": [
    "from sklearn.model_selection import train_test_split \n",
    "from sklearn.metrics import classification_report,roc_auc_score,roc_curve\n",
    "from sklearn.metrics import confusion_matrix \n",
    "from sklearn.metrics import accuracy_score \n",
    "from sklearn.metrics import classification_report \n",
    "# logistic regression object\n",
    "lr = LogisticRegression()\n",
    "lr = LogisticRegression(max_iter=100000)\n",
    "# train the model on train set \n",
    "lr.fit(X_train, y_train) \n",
    "predictions = lr.predict(X_test)   \n",
    "# print classification report \n",
    "results=confusion_matrix(y_test,predictions)\n",
    "print ('Confusion Matrix :')\n",
    "print(results) \n",
    "print ('Accuracy Score :',accuracy_score(y_test,predictions) )\n",
    "print ('Report : ')\n",
    "print (classification_report(y_test,predictions))"
   ]
  },
  {
   "cell_type": "markdown",
   "metadata": {},
   "source": [
    "The accuracy comes out to be 99% but did you notice something strange ?\n",
    "The recall of the minority class in very less. It proves that the model is more biased towards majority class. So, it proves that this is not the best model.\n",
    "Now, we will apply different imbalanced data handling techniques and see their accuracy and recall results."
   ]
  },
  {
   "cell_type": "markdown",
   "metadata": {},
   "source": [
    "We can see that all the data is imbalanced so we will use SMOTE mathod Which will create artificial data"
   ]
  },
  {
   "cell_type": "markdown",
   "metadata": {},
   "source": [
    "# Over-sampling using SMOTE"
   ]
  },
  {
   "cell_type": "code",
   "execution_count": 185,
   "metadata": {
    "scrolled": true
   },
   "outputs": [
    {
     "name": "stdout",
     "output_type": "stream",
     "text": [
      "Before OverSampling, counts of label '1': 522\n",
      "Before OverSampling, counts of label '0': 54336 \n",
      "\n",
      "After OverSampling, the shape of train_X: (108672, 52)\n",
      "After OverSampling, the shape of train_y: (108672,) \n",
      "\n",
      "After OverSampling, counts of label '1': 54336\n",
      "After OverSampling, counts of label '0': 54336\n"
     ]
    }
   ],
   "source": [
    "print(\"Before OverSampling, counts of label '1': {}\".format(sum(y_train == 1))) \n",
    "print(\"Before OverSampling, counts of label '0': {} \\n\".format(sum(y_train == 0))) \n",
    "  \n",
    "# import SMOTE module from imblearn library \n",
    "# pip install imblearn (if you don't have imblearn in your system) \n",
    "from imblearn.over_sampling import SMOTE \n",
    "sm = SMOTE(random_state = 2) \n",
    "X_train, y_train = sm.fit_sample(X_train, y_train) \n",
    "  \n",
    "print('After OverSampling, the shape of train_X: {}'.format(X_train.shape)) \n",
    "print('After OverSampling, the shape of train_y: {} \\n'.format(y_train.shape)) \n",
    "  \n",
    "print(\"After OverSampling, counts of label '1': {}\".format(sum(y_train == 1))) \n",
    "print(\"After OverSampling, counts of label '0': {}\".format(sum(y_train == 0))) "
   ]
  },
  {
   "cell_type": "code",
   "execution_count": 186,
   "metadata": {
    "scrolled": true
   },
   "outputs": [
    {
     "name": "stdout",
     "output_type": "stream",
     "text": [
      "Confusion Matrix :\n",
      "[[19611  3693]\n",
      " [   63   144]]\n",
      "Accuracy Score : 0.84024499170601\n",
      "Report : \n",
      "              precision    recall  f1-score   support\n",
      "\n",
      "           0       1.00      0.84      0.91     23304\n",
      "           1       0.04      0.70      0.07       207\n",
      "\n",
      "    accuracy                           0.84     23511\n",
      "   macro avg       0.52      0.77      0.49     23511\n",
      "weighted avg       0.99      0.84      0.91     23511\n",
      "\n"
     ]
    }
   ],
   "source": [
    "# logistic regression object\n",
    "lr2 = LogisticRegression()\n",
    "lr2 = LogisticRegression(max_iter=100000)\n",
    "# train the model on train set \n",
    "lr2.fit(X_train, y_train) \n",
    "predictions = lr2.predict(X_test)   \n",
    "# print classification report \n",
    "results=confusion_matrix(y_test,predictions)\n",
    "print ('Confusion Matrix :')\n",
    "print(results) \n",
    "print ('Accuracy Score :',accuracy_score(y_test,predictions) )\n",
    "print ('Report : ')\n",
    "print (classification_report(y_test,predictions))"
   ]
  },
  {
   "cell_type": "markdown",
   "metadata": {},
   "source": [
    "We have reduced the accuracy to 84% as compared to previous model but the recall value of minority class has also improved to 71%. This is a good model compared to the previous one. Recall is great."
   ]
  },
  {
   "cell_type": "markdown",
   "metadata": {},
   "source": [
    "# Near miss Algorithm\n"
   ]
  },
  {
   "cell_type": "markdown",
   "metadata": {},
   "source": [
    "This is for undersample of data"
   ]
  },
  {
   "cell_type": "code",
   "execution_count": 187,
   "metadata": {},
   "outputs": [],
   "source": [
    "#print(\"Before Undersampling, counts of label '1': {}\".format(sum(y_train == 1))) \n",
    "#print(\"Before Undersampling, counts of label '0': {} \\n\".format(sum(y_train == 0))) \n",
    "  \n",
    "# apply near miss \n",
    "#from imblearn.under_sampling import NearMiss \n",
    "#nr = NearMiss() \n",
    "  \n",
    "#X_train_miss, y_train_miss = nr.fit_sample(X_train, y_train.ravel()) \n",
    "  \n",
    "#print('After Undersampling, the shape of train_X: {}'.format(X_train_miss.shape)) \n",
    "#print('After Undersampling, the shape of train_y: {} \\n'.format(y_train_miss.shape)) \n",
    "  \n",
    "#print(\"After Undersampling, counts of label '1': {}\".format(sum(y_train_miss == 1))) \n",
    "#print(\"After Undersampling, counts of label '0': {}\".format(sum(y_train_miss == 0))) "
   ]
  },
  {
   "cell_type": "markdown",
   "metadata": {},
   "source": [
    "If you need this you can uncomment this algorithm"
   ]
  },
  {
   "cell_type": "markdown",
   "metadata": {},
   "source": [
    "# Model Building "
   ]
  },
  {
   "cell_type": "markdown",
   "metadata": {},
   "source": [
    "Recall – What percent of the positive cases did you catch? "
   ]
  },
  {
   "cell_type": "markdown",
   "metadata": {},
   "source": [
    "F1 score – What percent of positive predictions were correct? "
   ]
  },
  {
   "cell_type": "markdown",
   "metadata": {},
   "source": [
    "Precision – What percent of your predictions were correct?"
   ]
  },
  {
   "cell_type": "markdown",
   "metadata": {},
   "source": [
    "# Logistic regression"
   ]
  },
  {
   "cell_type": "markdown",
   "metadata": {},
   "source": [
    "Logistic regression is a statistical model that in its basic form uses a logistic function to model a binary dependent variable, although many more complex extensions exist. In regression analysis, logistic regression[1] (or logit regression) is estimating the parameters of a logistic model (a form of binary regression)."
   ]
  },
  {
   "cell_type": "code",
   "execution_count": 220,
   "metadata": {},
   "outputs": [
    {
     "name": "stdout",
     "output_type": "stream",
     "text": [
      "Confusion Matrix :\n",
      "[[19611  3693]\n",
      " [   63   144]]\n",
      "Accuracy Score : 0.84024499170601\n",
      "Report : \n",
      "              precision    recall  f1-score   support\n",
      "\n",
      "           0       1.00      0.84      0.91     23304\n",
      "           1       0.04      0.70      0.07       207\n",
      "\n",
      "    accuracy                           0.84     23511\n",
      "   macro avg       0.52      0.77      0.49     23511\n",
      "weighted avg       0.99      0.84      0.91     23511\n",
      "\n"
     ]
    }
   ],
   "source": [
    "# logistic regression object\n",
    "logmodel = LogisticRegression()\n",
    "logmodel = LogisticRegression(max_iter=100000)\n",
    "# train the model on train set \n",
    "logmodel.fit(X_train, y_train) \n",
    "predictions = logmodel.predict(X_test)   \n",
    "# print classification report \n",
    "results=confusion_matrix(y_test,predictions)\n",
    "print ('Confusion Matrix :')\n",
    "print(results) \n",
    "print ('Accuracy Score :',accuracy_score(y_test,predictions) )\n",
    "print ('Report : ')\n",
    "print (classification_report(y_test,predictions))"
   ]
  },
  {
   "cell_type": "code",
   "execution_count": 222,
   "metadata": {
    "scrolled": true
   },
   "outputs": [
    {
     "data": {
      "image/png": "[encoded data removed]",
      "text/plain": [
       "<Figure size 432x288 with 2 Axes>"
      ]
     },
     "metadata": {},
     "output_type": "display_data"
    }
   ],
   "source": [
    "conf_mat = confusion_matrix(y_test,predictions)\n",
    "sns.heatmap(conf_mat,annot=True, fmt='d')\n",
    "plt.xlabel('Predicted Values')\n",
    "plt.ylabel('Actual Values')\n",
    "plt.title('Actual vs. Predicted Confusion Matrix')\n",
    "plt.show()"
   ]
  },
  {
   "cell_type": "markdown",
   "metadata": {},
   "source": [
    "The confusion matrix shows 19611+144 = 19755 correct predictions and 63+3693= 3756 incorrect ones.\n",
    "\n",
    "True Positives: 144\n",
    "\n",
    "True Negatives: 19611\n",
    "\n",
    "False Positives: 3693 (Type I error)\n",
    "\n",
    "False Negatives: 63 ( Type II error)"
   ]
  },
  {
   "cell_type": "code",
   "execution_count": 223,
   "metadata": {},
   "outputs": [],
   "source": [
    "TN=conf_mat[0,0]\n",
    "TP=conf_mat[1,1]\n",
    "FN=conf_mat[1,0]\n",
    "FP=conf_mat[0,1]\n",
    "sensitivity=TP/float(TP+FN)\n",
    "specificity=TN/float(TN+FP)"
   ]
  },
  {
   "cell_type": "code",
   "execution_count": 224,
   "metadata": {},
   "outputs": [
    {
     "name": "stdout",
     "output_type": "stream",
     "text": [
      "The acuuracy of the model = TP+TN/(TP+TN+FP+FN) =  0.84024499170601 \n",
      " The Missclassification = 1-Accuracy =  0.15975500829399003 \n",
      " Sensitivity or True Positive Rate = TP/(TP+FN) =  0.6956521739130435 \n",
      " Specificity or True Negative Rate = TN/(TN+FP) =  0.841529351184346 \n",
      " Positive Predictive value = TP/(TP+FP) =  0.03752931978107897 \n",
      " Negative predictive Value = TN/(TN+FN) =  0.9967978042086002 \n",
      " Positive Likelihood Ratio = Sensitivity/(1-Specificity) =  4.389785610850139 \n",
      " Negative likelihood Ratio = (1-Sensitivity)/Specificity =  0.36166038137425094\n"
     ]
    }
   ],
   "source": [
    "print( 'The acuuracy of the model = TP+TN/(TP+TN+FP+FN) = ',(TP+TN)/float(TP+TN+FP+FN),'\\n',\n",
    "\n",
    "      'The Missclassification = 1-Accuracy = ',1-((TP+TN)/float(TP+TN+FP+FN)),'\\n',\n",
    "\n",
    "      'Sensitivity or True Positive Rate = TP/(TP+FN) = ',TP/float(TP+FN),'\\n',\n",
    "\n",
    "      'Specificity or True Negative Rate = TN/(TN+FP) = ',TN/float(TN+FP),'\\n',\n",
    "\n",
    "      'Positive Predictive value = TP/(TP+FP) = ',TP/float(TP+FP),'\\n',\n",
    "\n",
    "      'Negative predictive Value = TN/(TN+FN) = ',TN/float(TN+FN),'\\n',\n",
    "\n",
    "      'Positive Likelihood Ratio = Sensitivity/(1-Specificity) = ',sensitivity/(1-specificity),'\\n',\n",
    "\n",
    "      'Negative likelihood Ratio = (1-Sensitivity)/Specificity = ',(1-sensitivity)/specificity)"
   ]
  },
  {
   "cell_type": "code",
   "execution_count": 225,
   "metadata": {},
   "outputs": [],
   "source": [
    "#Get predicted probabilites\n",
    "target_probailities_log = logmodel.predict_proba(X_test)[:,1]"
   ]
  },
  {
   "cell_type": "code",
   "execution_count": 226,
   "metadata": {},
   "outputs": [],
   "source": [
    "#Create true and false positive rates\n",
    "log_false_positive_rate,log_true_positive_rate,log_threshold = roc_curve(y_test,target_probailities_log)"
   ]
  },
  {
   "cell_type": "code",
   "execution_count": 227,
   "metadata": {},
   "outputs": [
    {
     "data": {
      "image/png": "[encoded data removed]",
      "text/plain": [
       "<Figure size 720x432 with 1 Axes>"
      ]
     },
     "metadata": {},
     "output_type": "display_data"
    }
   ],
   "source": [
    "#Plot ROC Curve\n",
    "sns.set_style('whitegrid')\n",
    "plt.figure(figsize=(10,6))\n",
    "plt.title('Reciver Operating Characterstic Curve')\n",
    "plt.plot(log_false_positive_rate,log_true_positive_rate)\n",
    "plt.plot([0,1],ls='--')\n",
    "plt.plot([0,0],[1,0],c='.5')\n",
    "plt.plot([1,1],c='.5')\n",
    "plt.ylabel('True positive rate(Sensitivity)')\n",
    "plt.xlabel('False positive rate(1-Specificity)')\n",
    "plt.show()"
   ]
  },
  {
   "cell_type": "code",
   "execution_count": null,
   "metadata": {},
   "outputs": [],
   "source": []
  },
  {
   "cell_type": "code",
   "execution_count": null,
   "metadata": {},
   "outputs": [],
   "source": []
  }
 ],
 "metadata": {
  "kernelspec": {
   "display_name": "Python 3",
   "language": "python",
   "name": "python3"
  },
  "language_info": {
   "codemirror_mode": {
    "name": "ipython",
    "version": 3
   },
   "file_extension": ".py",
   "mimetype": "text/x-python",
   "name": "python",
   "nbconvert_exporter": "python",
   "pygments_lexer": "ipython3",
   "version": "3.8.3"
  }
 },
 "nbformat": 4,
 "nbformat_minor": 4
}
